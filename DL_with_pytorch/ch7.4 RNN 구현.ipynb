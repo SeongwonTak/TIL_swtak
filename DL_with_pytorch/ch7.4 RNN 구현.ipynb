{
 "cells": [
  {
   "cell_type": "markdown",
   "id": "2e4879e4",
   "metadata": {},
   "source": [
    "https://github.com/gilbutITbook/080289/blob/main/chap07/python_7%EC%9E%A5.ipynb\n",
    "를 기준으로 실습 진행, 책 내용을 추가로 정리하였다."
   ]
  },
  {
   "cell_type": "code",
   "execution_count": 2,
   "id": "d6cf1443",
   "metadata": {},
   "outputs": [],
   "source": [
    "import torch\n",
    "import torchtext\n",
    "import numpy as np\n",
    "import torch.nn as nn\n",
    "import torch.nn.functional as F\n",
    "import time"
   ]
  },
  {
   "cell_type": "code",
   "execution_count": 4,
   "id": "b6486314",
   "metadata": {},
   "outputs": [],
   "source": [
    "TEXT = torchtext.legacy.data.Field(lower = True, fix_length = 200, batch_first = False)\n",
    "# lower : 대문자를 모두 소문자로 변경해준다. 기본값이 False.\n",
    "# fix_length : 고정된 길이로 맞춘다. (패딩 작업 실시)\n",
    "# batch_first : 신경망 입력의 첫 차원 값이 배치 크기가 되게 한다. \n",
    "  # 기본적으로는 시퀀스 길이 , 배치 크기, 은닉층 뉴런 개수로 들어간다.\n",
    "  # batch_first true일 경우 배치 크기, 시퀀스 길이, 은닉층 뉴런 개수\n",
    "\n",
    "LABEL = torchtext.legacy.data.Field(sequential = False)"
   ]
  },
  {
   "cell_type": "markdown",
   "id": "0bb4859f",
   "metadata": {},
   "source": [
    "예제로는 IMDB를 다시 써본다."
   ]
  },
  {
   "cell_type": "code",
   "execution_count": 5,
   "id": "03f3e9fe",
   "metadata": {},
   "outputs": [
    {
     "name": "stdout",
     "output_type": "stream",
     "text": [
      "downloading aclImdb_v1.tar.gz\n"
     ]
    },
    {
     "name": "stderr",
     "output_type": "stream",
     "text": [
      "100%|██████████| 84.1M/84.1M [00:37<00:00, 2.23MB/s]\n"
     ]
    }
   ],
   "source": [
    "from torchtext.legacy import datasets\n",
    "train_data, test_data = datasets.IMDB.splits(TEXT, LABEL)"
   ]
  },
  {
   "cell_type": "code",
   "execution_count": 6,
   "id": "7a241929",
   "metadata": {},
   "outputs": [
    {
     "name": "stdout",
     "output_type": "stream",
     "text": [
      "{'text': ['bromwell', 'high', 'is', 'a', 'cartoon', 'comedy.', 'it', 'ran', 'at', 'the', 'same', 'time', 'as', 'some', 'other', 'programs', 'about', 'school', 'life,', 'such', 'as', '\"teachers\".', 'my', '35', 'years', 'in', 'the', 'teaching', 'profession', 'lead', 'me', 'to', 'believe', 'that', 'bromwell', \"high's\", 'satire', 'is', 'much', 'closer', 'to', 'reality', 'than', 'is', '\"teachers\".', 'the', 'scramble', 'to', 'survive', 'financially,', 'the', 'insightful', 'students', 'who', 'can', 'see', 'right', 'through', 'their', 'pathetic', \"teachers'\", 'pomp,', 'the', 'pettiness', 'of', 'the', 'whole', 'situation,', 'all', 'remind', 'me', 'of', 'the', 'schools', 'i', 'knew', 'and', 'their', 'students.', 'when', 'i', 'saw', 'the', 'episode', 'in', 'which', 'a', 'student', 'repeatedly', 'tried', 'to', 'burn', 'down', 'the', 'school,', 'i', 'immediately', 'recalled', '.........', 'at', '..........', 'high.', 'a', 'classic', 'line:', 'inspector:', \"i'm\", 'here', 'to', 'sack', 'one', 'of', 'your', 'teachers.', 'student:', 'welcome', 'to', 'bromwell', 'high.', 'i', 'expect', 'that', 'many', 'adults', 'of', 'my', 'age', 'think', 'that', 'bromwell', 'high', 'is', 'far', 'fetched.', 'what', 'a', 'pity', 'that', 'it', \"isn't!\"], 'label': 'pos'}\n"
     ]
    }
   ],
   "source": [
    "print(vars(train_data.examples[0]))"
   ]
  },
  {
   "cell_type": "markdown",
   "id": "b88cc44d",
   "metadata": {},
   "source": [
    "각 데이터는 텍스트와, label(긍정/부정)으로 구성되어 있다."
   ]
  },
  {
   "cell_type": "code",
   "execution_count": 7,
   "id": "28ce3906",
   "metadata": {},
   "outputs": [],
   "source": [
    "# 텍스트 전처리\n",
    "import string\n",
    "\n",
    "for example in train_data.examples:\n",
    "    text = [x.lower() for x in vars(example)['text']] \n",
    "    text = [x.replace(\"<br\",\"\") for x in text] \n",
    "    text = [''.join(c for c in s if c not in string.punctuation) for s in text] \n",
    "    text = [s for s in text if s] \n",
    "    vars(example)['text'] = text\n",
    "    \n",
    "for example in test_data.examples:\n",
    "    text = [x.lower() for x in vars(example)['text']]\n",
    "    text = [x.replace(\"<br\",\"\") for x in text]\n",
    "    text = [''.join(c for c in s if c not in string.punctuation) for s in text]\n",
    "    text = [s for s in text if s]\n",
    "    vars(example)['text'] = text"
   ]
  },
  {
   "cell_type": "code",
   "execution_count": 8,
   "id": "3dfec178",
   "metadata": {},
   "outputs": [],
   "source": [
    "import random\n",
    "train_data, valid_data = train_data.split(random_state = random.seed(0), split_ratio=0.8)"
   ]
  },
  {
   "cell_type": "code",
   "execution_count": 11,
   "id": "4c22cfb0",
   "metadata": {},
   "outputs": [],
   "source": [
    "# 단어 집합 만들기\n",
    "TEXT.build_vocab(train_data, max_size = 10000, min_freq = 10, vectors = None)\n",
    "# max_size : 단어 집합에 포함되는 어휘 수\n",
    "# min_freq : 최소 등장 횟수컷\n",
    "# vectors : 단어를 랜덤한 숫자로 변형하는 벡터화(임베딩)\n",
    "LABEL.build_vocab(train_data)"
   ]
  },
  {
   "cell_type": "markdown",
   "id": "1c68c9c2",
   "metadata": {},
   "source": [
    "전처리 과정이 완료되어, 이제 데이터를 메모리로 불러온다."
   ]
  },
  {
   "cell_type": "code",
   "execution_count": 12,
   "id": "72e4d723",
   "metadata": {},
   "outputs": [],
   "source": [
    "BATCH_SIZE = 64\n",
    "device = torch.device('cuda:0' if torch.cuda.is_available() else 'cpu')\n",
    "\n",
    "embeding_dim = 100  # 은닉층의 유닛 개수를 지정한다.\n",
    "hidden_size = 300\n",
    "\n",
    "# data_loader와 유사한 느낌으로 쓰이는 BucketIterator.\n",
    "# 배치 단위로 데이터를 차례대로 꺼내, 메모리로 가져온다.\n",
    "train_iterator, valid_iterator, test_iterator = torchtext.legacy.data.BucketIterator.splits(\n",
    "    (train_data, valid_data, test_data), \n",
    "    batch_size = BATCH_SIZE,\n",
    "    device = device)"
   ]
  },
  {
   "cell_type": "markdown",
   "id": "0c35585e",
   "metadata": {},
   "source": [
    "## 셀에 대한 처리"
   ]
  },
  {
   "cell_type": "code",
   "execution_count": 13,
   "id": "112d111f",
   "metadata": {},
   "outputs": [],
   "source": [
    "class RNNCell_Encoder(nn.Module):\n",
    "    def __init__(self, input_dim, hidden_size):\n",
    "        super(RNNCell_Encoder, self).__init__()\n",
    "        self.rnn = nn.RNNCell(input_dim, hidden_size)\n",
    "\n",
    "    def forward(self, inputs):   # input : 입력 시퀀스(시퀀스 길이, 배치, 임베딩)\n",
    "        bz = inputs.shape[1] # 배치 하나를 가져온다.\n",
    "        ht = torch.zeros((bz, hidden_size)).to(device) # 뉴런 크기의 초기화.\n",
    "\n",
    "        for word in inputs:\n",
    "            ht = self.rnn(word, ht) # 현재의 입력 상태, 이전 상태\n",
    "        return ht\n",
    "\n",
    "class Net(nn.Module):\n",
    "    def __init__(self):\n",
    "        super(Net, self).__init__()\n",
    "        self.em = nn.Embedding(len(TEXT.vocab.stoi), embeding_dim) # text_embedding 처리.\n",
    "        self.rnn = RNNCell_Encoder(embeding_dim, hidden_size)\n",
    "        self.fc1 = nn.Linear(hidden_size, 256)\n",
    "        self.fc2 = nn.Linear(256, 3)\n",
    "\n",
    "    def forward(self, x):\n",
    "        x = self.em(x)\n",
    "        x = self.rnn(x)\n",
    "        x = F.relu(self.fc1(x))\n",
    "        x = self.fc2(x)\n",
    "        return x"
   ]
  },
  {
   "cell_type": "code",
   "execution_count": 14,
   "id": "d3f68306",
   "metadata": {},
   "outputs": [],
   "source": [
    "model = Net()\n",
    "model.to(device)\n",
    "\n",
    "loss_fn = nn.CrossEntropyLoss() # 다중 분류에 사용된다.\n",
    "optimizer = torch.optim.Adam(model.parameters(), lr=0.0001)"
   ]
  },
  {
   "cell_type": "code",
   "execution_count": 17,
   "id": "09d96f22",
   "metadata": {},
   "outputs": [],
   "source": [
    "def training(epoch, model, trainloader, validloader):\n",
    "    correct = 0\n",
    "    total = 0\n",
    "    running_loss = 0\n",
    "\n",
    "    model.train()\n",
    "    for b in trainloader:\n",
    "        x, y = b.text, b.label  # train_loader에서 text, label 구현.\n",
    "        x, y = x.to(device), y.to(device) # cpu냐, gpu냐 판단하는 과정.\n",
    "        y_pred = model(x)\n",
    "        loss = loss_fn(y_pred, y) # crossentropyloss 손실 함수 이용, 오차 계산.\n",
    "        optimizer.zero_grad()\n",
    "        loss.backward()\n",
    "        optimizer.step()\n",
    "        with torch.no_grad():\n",
    "            y_pred = torch.argmax(y_pred, dim=1)\n",
    "            correct += (y_pred == y).sum().item()\n",
    "            total += y.size(0)\n",
    "            running_loss += loss.item()\n",
    "    epoch_loss = running_loss / len(trainloader.dataset) # 누적된 오차, 전체 데이터셋으로 나눠 오차 계산.\n",
    "    epoch_acc = correct / total\n",
    "\n",
    "    valid_correct = 0\n",
    "    valid_total = 0\n",
    "    valid_running_loss = 0\n",
    "\n",
    "    model.eval()\n",
    "    with torch.no_grad():\n",
    "        for b in validloader:\n",
    "            x, y = b.text, b.label\n",
    "            x, y = x.to(device), y.to(device)\n",
    "            y_pred = model(x)\n",
    "            loss = loss_fn(y_pred, y)\n",
    "            y_pred = torch.argmax(y_pred, dim=1)\n",
    "            valid_correct += (y_pred == y).sum().item()  # 맞은 개수\n",
    "            valid_total += y.size(0)\n",
    "            valid_running_loss += loss.item()\n",
    "\n",
    "    epoch_valid_loss = valid_running_loss / len(validloader.dataset)\n",
    "    epoch_valid_acc = valid_correct / valid_total\n",
    "\n",
    "    print('epoch: ', epoch,\n",
    "          'loss： ', round(epoch_loss, 3),\n",
    "          'accuracy:', round(epoch_acc, 3),\n",
    "          'valid_loss： ', round(epoch_valid_loss, 3),\n",
    "          'valid_accuracy:', round(epoch_valid_acc, 3)\n",
    "          )  # 훈련 진행 단계마다, 오차 출력하게 한다.\n",
    "    return epoch_loss, epoch_acc, epoch_valid_loss, epoch_valid_acc"
   ]
  },
  {
   "cell_type": "code",
   "execution_count": 18,
   "id": "8529a45d",
   "metadata": {},
   "outputs": [
    {
     "name": "stdout",
     "output_type": "stream",
     "text": [
      "epoch:  0 loss：  0.011 accuracy: 0.498 valid_loss：  0.011 valid_accuracy: 0.506\n",
      "epoch:  1 loss：  0.011 accuracy: 0.501 valid_loss：  0.011 valid_accuracy: 0.495\n",
      "epoch:  2 loss：  0.011 accuracy: 0.512 valid_loss：  0.011 valid_accuracy: 0.496\n",
      "epoch:  3 loss：  0.011 accuracy: 0.521 valid_loss：  0.011 valid_accuracy: 0.491\n",
      "epoch:  4 loss：  0.011 accuracy: 0.526 valid_loss：  0.011 valid_accuracy: 0.513\n"
     ]
    },
    {
     "ename": "NameError",
     "evalue": "name 'start' is not defined",
     "output_type": "error",
     "traceback": [
      "\u001b[1;31m---------------------------------------------------------------------------\u001b[0m",
      "\u001b[1;31mNameError\u001b[0m                                 Traceback (most recent call last)",
      "\u001b[1;32m<ipython-input-18-0d520a065ff7>\u001b[0m in \u001b[0;36m<module>\u001b[1;34m\u001b[0m\n\u001b[0;32m     14\u001b[0m \u001b[1;33m\u001b[0m\u001b[0m\n\u001b[0;32m     15\u001b[0m \u001b[0mend\u001b[0m \u001b[1;33m=\u001b[0m \u001b[0mtime\u001b[0m\u001b[1;33m.\u001b[0m\u001b[0mtime\u001b[0m\u001b[1;33m(\u001b[0m\u001b[1;33m)\u001b[0m\u001b[1;33m\u001b[0m\u001b[1;33m\u001b[0m\u001b[0m\n\u001b[1;32m---> 16\u001b[1;33m \u001b[0mprint\u001b[0m\u001b[1;33m(\u001b[0m\u001b[0mend\u001b[0m\u001b[1;33m-\u001b[0m\u001b[0mstart\u001b[0m\u001b[1;33m)\u001b[0m\u001b[1;33m\u001b[0m\u001b[1;33m\u001b[0m\u001b[0m\n\u001b[0m",
      "\u001b[1;31mNameError\u001b[0m: name 'start' is not defined"
     ]
    }
   ],
   "source": [
    "epochs = 5\n",
    "train_loss = []\n",
    "train_acc = []\n",
    "valid_loss = []\n",
    "valid_acc = []\n",
    "\n",
    "for epoch in range(epochs):\n",
    "    epoch_loss, epoch_acc, epoch_valid_loss, epoch_valid_acc = training(epoch, model, train_iterator, valid_iterator)\n",
    "    train_loss.append(epoch_loss)\n",
    "    train_acc.append(epoch_acc)\n",
    "    valid_loss.append(epoch_valid_loss)\n",
    "    valid_acc.append(epoch_valid_acc)"
   ]
  },
  {
   "cell_type": "markdown",
   "id": "3dea15eb",
   "metadata": {},
   "source": [
    "## RNN 계층 학습"
   ]
  },
  {
   "cell_type": "code",
   "execution_count": 19,
   "id": "11116a7b",
   "metadata": {},
   "outputs": [],
   "source": [
    "vocab_size = len(TEXT.vocab)\n",
    "n_classes = 2  "
   ]
  },
  {
   "cell_type": "code",
   "execution_count": 20,
   "id": "0adf0019",
   "metadata": {},
   "outputs": [],
   "source": [
    "class BasicRNN(nn.Module):\n",
    "    def __init__(self, n_layers, hidden_dim, n_vocab, embed_dim, n_classes, dropout_p = 0.2):\n",
    "        super(BasicRNN, self).__init__()\n",
    "        self.n_layers = n_layers   # RNN 계층 개수.\n",
    "        self.embed = nn.Embedding(n_vocab, embed_dim)  # Word, Embedding 적용\n",
    "        self.hidden_dim = hidden_dim\n",
    "        self.dropout = nn.Dropout(dropout_p)  # Dropout.\n",
    "        self.rnn = nn.RNN(embed_dim, self.hidden_dim, num_layers = self.n_layers, batch_first = True) \n",
    "        # 특성 개수, 은닉층 개수, 계층 개수, \n",
    "        self.out = nn.Linear(self.hidden_dim, n_classes) # 최종 출력.\n",
    "\n",
    "    def forward(self, x):\n",
    "        x = self.embed(x) \n",
    "        h_0 = self._init_state(batch_size = x.size(0)) # 최초 은닉층의 초기화\n",
    "        x, _ = self.rnn(x, h_0)  # parameter로 입력과, 이전 층의 은닉을 받는다.\n",
    "        h_t = x[:, -1, :]  # 마지막 은닉.\n",
    "        self.dropout(h_t)\n",
    "        logit = torch.sigmoid(self.out(h_t))\n",
    "        return logit\n",
    "\n",
    "    def _init_state(self, batch_size = 1):\n",
    "        weight = next(self.parameters()).data \n",
    "        return weight.new(self.n_layers, batch_size, self.hidden_dim).zero_()"
   ]
  },
  {
   "cell_type": "code",
   "execution_count": 21,
   "id": "69021851",
   "metadata": {},
   "outputs": [],
   "source": [
    "model = BasicRNN(n_layers = 1, hidden_dim = 256, n_vocab = vocab_size, embed_dim = 128, n_classes = n_classes, dropout_p = 0.5)\n",
    "model.to(device)\n",
    "\n",
    "loss_fn = nn.CrossEntropyLoss()\n",
    "optimizer = torch.optim.Adam(model.parameters(), lr=0.0001)"
   ]
  },
  {
   "cell_type": "code",
   "execution_count": 22,
   "id": "219d568d",
   "metadata": {},
   "outputs": [],
   "source": [
    "def train(model, optimizer, train_iter):\n",
    "    model.train()\n",
    "    for b, batch in enumerate(train_iter):\n",
    "        x, y = batch.text.to(device), batch.label.to(device)\n",
    "        y.data.sub_(1)  # label 값이 0 or 1이 되버린다.\n",
    "        optimizer.zero_grad()\n",
    "\n",
    "        logit = model(x)\n",
    "        loss = F.cross_entropy(logit, y)\n",
    "        loss.backward()\n",
    "        optimizer.step()\n",
    "\n",
    "        if b % 50 == 0:\n",
    "            print(\"Train Epoch: {} [{}/{} ({:.0f}%)]\\tLoss: {:.6f}\".format(e,\n",
    "                                                                           b * len(x),\n",
    "                                                                           len(train_iter.dataset),\n",
    "                                                                           100. * b / len(train_iter),\n",
    "                                                                           loss.item()))"
   ]
  },
  {
   "cell_type": "code",
   "execution_count": 23,
   "id": "729350ee",
   "metadata": {},
   "outputs": [],
   "source": [
    "def evaluate(model, val_iter):\n",
    "    model.eval()\n",
    "    corrects, total, total_loss = 0, 0, 0\n",
    "\n",
    "    for batch in val_iter:\n",
    "        x, y = batch.text.to(device), batch.label.to(device)\n",
    "        y.data.sub_(1) \n",
    "        logit = model(x)\n",
    "        loss = F.cross_entropy(logit, y, reduction = \"sum\")\n",
    "        total += y.size(0)\n",
    "        total_loss += loss.item()\n",
    "        corrects += (logit.max(1)[1].view(y.size()).data == y.data).sum()\n",
    "        \n",
    "    avg_loss = total_loss / len(val_iter.dataset)\n",
    "    avg_accuracy = corrects / total\n",
    "    return avg_loss, avg_accuracy"
   ]
  },
  {
   "cell_type": "code",
   "execution_count": 24,
   "id": "5649e634",
   "metadata": {},
   "outputs": [
    {
     "ename": "ValueError",
     "evalue": "Expected input batch_size (200) to match target batch_size (64).",
     "output_type": "error",
     "traceback": [
      "\u001b[1;31m---------------------------------------------------------------------------\u001b[0m",
      "\u001b[1;31mValueError\u001b[0m                                Traceback (most recent call last)",
      "\u001b[1;32m<ipython-input-24-4dbc0466c101>\u001b[0m in \u001b[0;36m<module>\u001b[1;34m\u001b[0m\n\u001b[0;32m      3\u001b[0m \u001b[0mEPOCHS\u001b[0m \u001b[1;33m=\u001b[0m \u001b[1;36m5\u001b[0m\u001b[1;33m\u001b[0m\u001b[1;33m\u001b[0m\u001b[0m\n\u001b[0;32m      4\u001b[0m \u001b[1;32mfor\u001b[0m \u001b[0me\u001b[0m \u001b[1;32min\u001b[0m \u001b[0mrange\u001b[0m\u001b[1;33m(\u001b[0m\u001b[1;36m1\u001b[0m\u001b[1;33m,\u001b[0m \u001b[0mEPOCHS\u001b[0m \u001b[1;33m+\u001b[0m \u001b[1;36m1\u001b[0m\u001b[1;33m)\u001b[0m\u001b[1;33m:\u001b[0m\u001b[1;33m\u001b[0m\u001b[1;33m\u001b[0m\u001b[0m\n\u001b[1;32m----> 5\u001b[1;33m     \u001b[0mtrain\u001b[0m\u001b[1;33m(\u001b[0m\u001b[0mmodel\u001b[0m\u001b[1;33m,\u001b[0m \u001b[0moptimizer\u001b[0m\u001b[1;33m,\u001b[0m \u001b[0mtrain_iterator\u001b[0m\u001b[1;33m)\u001b[0m\u001b[1;33m\u001b[0m\u001b[1;33m\u001b[0m\u001b[0m\n\u001b[0m\u001b[0;32m      6\u001b[0m     \u001b[0mval_loss\u001b[0m\u001b[1;33m,\u001b[0m \u001b[0mval_accuracy\u001b[0m \u001b[1;33m=\u001b[0m \u001b[0mevaluate\u001b[0m\u001b[1;33m(\u001b[0m\u001b[0mmodel\u001b[0m\u001b[1;33m,\u001b[0m \u001b[0mvalid_iterator\u001b[0m\u001b[1;33m)\u001b[0m\u001b[1;33m\u001b[0m\u001b[1;33m\u001b[0m\u001b[0m\n\u001b[0;32m      7\u001b[0m     \u001b[0mprint\u001b[0m\u001b[1;33m(\u001b[0m\u001b[1;34m\"[EPOCH: %d], Validation Loss: %5.2f | Validation Accuracy: %5.2f\"\u001b[0m \u001b[1;33m%\u001b[0m \u001b[1;33m(\u001b[0m\u001b[0me\u001b[0m\u001b[1;33m,\u001b[0m \u001b[0mval_loss\u001b[0m\u001b[1;33m,\u001b[0m \u001b[0mval_accuracy\u001b[0m\u001b[1;33m)\u001b[0m\u001b[1;33m)\u001b[0m\u001b[1;33m\u001b[0m\u001b[1;33m\u001b[0m\u001b[0m\n",
      "\u001b[1;32m<ipython-input-22-2e412dfda6c0>\u001b[0m in \u001b[0;36mtrain\u001b[1;34m(model, optimizer, train_iter)\u001b[0m\n\u001b[0;32m      7\u001b[0m \u001b[1;33m\u001b[0m\u001b[0m\n\u001b[0;32m      8\u001b[0m         \u001b[0mlogit\u001b[0m \u001b[1;33m=\u001b[0m \u001b[0mmodel\u001b[0m\u001b[1;33m(\u001b[0m\u001b[0mx\u001b[0m\u001b[1;33m)\u001b[0m\u001b[1;33m\u001b[0m\u001b[1;33m\u001b[0m\u001b[0m\n\u001b[1;32m----> 9\u001b[1;33m         \u001b[0mloss\u001b[0m \u001b[1;33m=\u001b[0m \u001b[0mF\u001b[0m\u001b[1;33m.\u001b[0m\u001b[0mcross_entropy\u001b[0m\u001b[1;33m(\u001b[0m\u001b[0mlogit\u001b[0m\u001b[1;33m,\u001b[0m \u001b[0my\u001b[0m\u001b[1;33m)\u001b[0m\u001b[1;33m\u001b[0m\u001b[1;33m\u001b[0m\u001b[0m\n\u001b[0m\u001b[0;32m     10\u001b[0m         \u001b[0mloss\u001b[0m\u001b[1;33m.\u001b[0m\u001b[0mbackward\u001b[0m\u001b[1;33m(\u001b[0m\u001b[1;33m)\u001b[0m\u001b[1;33m\u001b[0m\u001b[1;33m\u001b[0m\u001b[0m\n\u001b[0;32m     11\u001b[0m         \u001b[0moptimizer\u001b[0m\u001b[1;33m.\u001b[0m\u001b[0mstep\u001b[0m\u001b[1;33m(\u001b[0m\u001b[1;33m)\u001b[0m\u001b[1;33m\u001b[0m\u001b[1;33m\u001b[0m\u001b[0m\n",
      "\u001b[1;32m~\\anaconda3\\lib\\site-packages\\torch\\nn\\functional.py\u001b[0m in \u001b[0;36mcross_entropy\u001b[1;34m(input, target, weight, size_average, ignore_index, reduce, reduction, label_smoothing)\u001b[0m\n\u001b[0;32m   2844\u001b[0m     \u001b[1;32mif\u001b[0m \u001b[0msize_average\u001b[0m \u001b[1;32mis\u001b[0m \u001b[1;32mnot\u001b[0m \u001b[1;32mNone\u001b[0m \u001b[1;32mor\u001b[0m \u001b[0mreduce\u001b[0m \u001b[1;32mis\u001b[0m \u001b[1;32mnot\u001b[0m \u001b[1;32mNone\u001b[0m\u001b[1;33m:\u001b[0m\u001b[1;33m\u001b[0m\u001b[1;33m\u001b[0m\u001b[0m\n\u001b[0;32m   2845\u001b[0m         \u001b[0mreduction\u001b[0m \u001b[1;33m=\u001b[0m \u001b[0m_Reduction\u001b[0m\u001b[1;33m.\u001b[0m\u001b[0mlegacy_get_string\u001b[0m\u001b[1;33m(\u001b[0m\u001b[0msize_average\u001b[0m\u001b[1;33m,\u001b[0m \u001b[0mreduce\u001b[0m\u001b[1;33m)\u001b[0m\u001b[1;33m\u001b[0m\u001b[1;33m\u001b[0m\u001b[0m\n\u001b[1;32m-> 2846\u001b[1;33m     \u001b[1;32mreturn\u001b[0m \u001b[0mtorch\u001b[0m\u001b[1;33m.\u001b[0m\u001b[0m_C\u001b[0m\u001b[1;33m.\u001b[0m\u001b[0m_nn\u001b[0m\u001b[1;33m.\u001b[0m\u001b[0mcross_entropy_loss\u001b[0m\u001b[1;33m(\u001b[0m\u001b[0minput\u001b[0m\u001b[1;33m,\u001b[0m \u001b[0mtarget\u001b[0m\u001b[1;33m,\u001b[0m \u001b[0mweight\u001b[0m\u001b[1;33m,\u001b[0m \u001b[0m_Reduction\u001b[0m\u001b[1;33m.\u001b[0m\u001b[0mget_enum\u001b[0m\u001b[1;33m(\u001b[0m\u001b[0mreduction\u001b[0m\u001b[1;33m)\u001b[0m\u001b[1;33m,\u001b[0m \u001b[0mignore_index\u001b[0m\u001b[1;33m,\u001b[0m \u001b[0mlabel_smoothing\u001b[0m\u001b[1;33m)\u001b[0m\u001b[1;33m\u001b[0m\u001b[1;33m\u001b[0m\u001b[0m\n\u001b[0m\u001b[0;32m   2847\u001b[0m \u001b[1;33m\u001b[0m\u001b[0m\n\u001b[0;32m   2848\u001b[0m \u001b[1;33m\u001b[0m\u001b[0m\n",
      "\u001b[1;31mValueError\u001b[0m: Expected input batch_size (200) to match target batch_size (64)."
     ]
    }
   ],
   "source": [
    "BATCH_SIZE = 100\n",
    "LR = 0.001\n",
    "EPOCHS = 5\n",
    "for e in range(1, EPOCHS + 1):\n",
    "    train(model, optimizer, train_iterator)\n",
    "    val_loss, val_accuracy = evaluate(model, valid_iterator)\n",
    "    print(\"[EPOCH: %d], Validation Loss: %5.2f | Validation Accuracy: %5.2f\" % (e, val_loss, val_accuracy))"
   ]
  },
  {
   "cell_type": "markdown",
   "id": "cde999be",
   "metadata": {},
   "source": [
    "RNN의 결정적인 단점은, 기울기가 1보다 작은 값이 계속 곱해진다. 기울기가 사라지는 기울기 소멸 문제 발생.\n",
    "-> LSTM,  GRU와 같은 확장된 RNN 방식을 사용한다."
   ]
  },
  {
   "cell_type": "code",
   "execution_count": null,
   "id": "34defd00",
   "metadata": {},
   "outputs": [],
   "source": []
  }
 ],
 "metadata": {
  "kernelspec": {
   "display_name": "Python 3",
   "language": "python",
   "name": "python3"
  },
  "language_info": {
   "codemirror_mode": {
    "name": "ipython",
    "version": 3
   },
   "file_extension": ".py",
   "mimetype": "text/x-python",
   "name": "python",
   "nbconvert_exporter": "python",
   "pygments_lexer": "ipython3",
   "version": "3.8.8"
  }
 },
 "nbformat": 4,
 "nbformat_minor": 5
}
