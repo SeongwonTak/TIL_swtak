{
 "cells": [
  {
   "cell_type": "markdown",
   "id": "57b24be8",
   "metadata": {},
   "source": [
    "# 7.2 Arima 실습"
   ]
  },
  {
   "cell_type": "code",
   "execution_count": 4,
   "id": "ab354d37",
   "metadata": {},
   "outputs": [],
   "source": [
    "import pandas as pd\n",
    "from statsmodels.tsa.arima_model import ARIMA\n",
    "from datetime import datetime\n",
    "import matplotlib.pyplot as plt"
   ]
  },
  {
   "cell_type": "code",
   "execution_count": 7,
   "id": "6b859826",
   "metadata": {},
   "outputs": [],
   "source": [
    "#SBUX data를 바탕으로, 책에 있는 코드를 실습한다.\n",
    "# 책 데이터가 없어요.\n",
    "\n",
    "data = pd.read_csv('C:/Users/USER/Desktop/dataset/SBUX.csv')"
   ]
  },
  {
   "cell_type": "code",
   "execution_count": 8,
   "id": "eb577134",
   "metadata": {},
   "outputs": [
    {
     "data": {
      "text/html": [
       "<div>\n",
       "<style scoped>\n",
       "    .dataframe tbody tr th:only-of-type {\n",
       "        vertical-align: middle;\n",
       "    }\n",
       "\n",
       "    .dataframe tbody tr th {\n",
       "        vertical-align: top;\n",
       "    }\n",
       "\n",
       "    .dataframe thead th {\n",
       "        text-align: right;\n",
       "    }\n",
       "</style>\n",
       "<table border=\"1\" class=\"dataframe\">\n",
       "  <thead>\n",
       "    <tr style=\"text-align: right;\">\n",
       "      <th></th>\n",
       "      <th>Date</th>\n",
       "      <th>Open</th>\n",
       "      <th>High</th>\n",
       "      <th>Low</th>\n",
       "      <th>Close</th>\n",
       "      <th>Adj Close</th>\n",
       "      <th>Volume</th>\n",
       "    </tr>\n",
       "  </thead>\n",
       "  <tbody>\n",
       "    <tr>\n",
       "      <th>0</th>\n",
       "      <td>2019-12-11</td>\n",
       "      <td>86.260002</td>\n",
       "      <td>86.870003</td>\n",
       "      <td>85.849998</td>\n",
       "      <td>86.589996</td>\n",
       "      <td>84.145752</td>\n",
       "      <td>4921900</td>\n",
       "    </tr>\n",
       "    <tr>\n",
       "      <th>1</th>\n",
       "      <td>2019-12-12</td>\n",
       "      <td>88.000000</td>\n",
       "      <td>88.889999</td>\n",
       "      <td>87.540001</td>\n",
       "      <td>88.209999</td>\n",
       "      <td>85.720032</td>\n",
       "      <td>10282100</td>\n",
       "    </tr>\n",
       "    <tr>\n",
       "      <th>2</th>\n",
       "      <td>2019-12-13</td>\n",
       "      <td>88.019997</td>\n",
       "      <td>88.790001</td>\n",
       "      <td>87.580002</td>\n",
       "      <td>88.669998</td>\n",
       "      <td>86.167046</td>\n",
       "      <td>6714100</td>\n",
       "    </tr>\n",
       "    <tr>\n",
       "      <th>3</th>\n",
       "      <td>2019-12-16</td>\n",
       "      <td>89.139999</td>\n",
       "      <td>89.300003</td>\n",
       "      <td>88.430000</td>\n",
       "      <td>88.779999</td>\n",
       "      <td>86.273941</td>\n",
       "      <td>6705600</td>\n",
       "    </tr>\n",
       "    <tr>\n",
       "      <th>4</th>\n",
       "      <td>2019-12-17</td>\n",
       "      <td>88.870003</td>\n",
       "      <td>88.970001</td>\n",
       "      <td>87.470001</td>\n",
       "      <td>88.129997</td>\n",
       "      <td>85.642288</td>\n",
       "      <td>7296900</td>\n",
       "    </tr>\n",
       "    <tr>\n",
       "      <th>...</th>\n",
       "      <td>...</td>\n",
       "      <td>...</td>\n",
       "      <td>...</td>\n",
       "      <td>...</td>\n",
       "      <td>...</td>\n",
       "      <td>...</td>\n",
       "      <td>...</td>\n",
       "    </tr>\n",
       "    <tr>\n",
       "      <th>248</th>\n",
       "      <td>2020-12-04</td>\n",
       "      <td>101.349998</td>\n",
       "      <td>102.940002</td>\n",
       "      <td>101.070000</td>\n",
       "      <td>102.279999</td>\n",
       "      <td>101.442787</td>\n",
       "      <td>6952700</td>\n",
       "    </tr>\n",
       "    <tr>\n",
       "      <th>249</th>\n",
       "      <td>2020-12-07</td>\n",
       "      <td>102.010002</td>\n",
       "      <td>102.220001</td>\n",
       "      <td>100.690002</td>\n",
       "      <td>101.410004</td>\n",
       "      <td>100.579918</td>\n",
       "      <td>4514800</td>\n",
       "    </tr>\n",
       "    <tr>\n",
       "      <th>250</th>\n",
       "      <td>2020-12-08</td>\n",
       "      <td>100.370003</td>\n",
       "      <td>101.570000</td>\n",
       "      <td>100.010002</td>\n",
       "      <td>101.209999</td>\n",
       "      <td>100.381554</td>\n",
       "      <td>3911300</td>\n",
       "    </tr>\n",
       "    <tr>\n",
       "      <th>251</th>\n",
       "      <td>2020-12-09</td>\n",
       "      <td>101.940002</td>\n",
       "      <td>102.209999</td>\n",
       "      <td>100.099998</td>\n",
       "      <td>100.400002</td>\n",
       "      <td>99.578186</td>\n",
       "      <td>6629900</td>\n",
       "    </tr>\n",
       "    <tr>\n",
       "      <th>252</th>\n",
       "      <td>2020-12-10</td>\n",
       "      <td>103.510002</td>\n",
       "      <td>106.089996</td>\n",
       "      <td>102.750000</td>\n",
       "      <td>105.389999</td>\n",
       "      <td>104.527336</td>\n",
       "      <td>12939200</td>\n",
       "    </tr>\n",
       "  </tbody>\n",
       "</table>\n",
       "<p>253 rows × 7 columns</p>\n",
       "</div>"
      ],
      "text/plain": [
       "           Date        Open        High         Low       Close   Adj Close  \\\n",
       "0    2019-12-11   86.260002   86.870003   85.849998   86.589996   84.145752   \n",
       "1    2019-12-12   88.000000   88.889999   87.540001   88.209999   85.720032   \n",
       "2    2019-12-13   88.019997   88.790001   87.580002   88.669998   86.167046   \n",
       "3    2019-12-16   89.139999   89.300003   88.430000   88.779999   86.273941   \n",
       "4    2019-12-17   88.870003   88.970001   87.470001   88.129997   85.642288   \n",
       "..          ...         ...         ...         ...         ...         ...   \n",
       "248  2020-12-04  101.349998  102.940002  101.070000  102.279999  101.442787   \n",
       "249  2020-12-07  102.010002  102.220001  100.690002  101.410004  100.579918   \n",
       "250  2020-12-08  100.370003  101.570000  100.010002  101.209999  100.381554   \n",
       "251  2020-12-09  101.940002  102.209999  100.099998  100.400002   99.578186   \n",
       "252  2020-12-10  103.510002  106.089996  102.750000  105.389999  104.527336   \n",
       "\n",
       "       Volume  \n",
       "0     4921900  \n",
       "1    10282100  \n",
       "2     6714100  \n",
       "3     6705600  \n",
       "4     7296900  \n",
       "..        ...  \n",
       "248   6952700  \n",
       "249   4514800  \n",
       "250   3911300  \n",
       "251   6629900  \n",
       "252  12939200  \n",
       "\n",
       "[253 rows x 7 columns]"
      ]
     },
     "execution_count": 8,
     "metadata": {},
     "output_type": "execute_result"
    }
   ],
   "source": [
    "data"
   ]
  },
  {
   "cell_type": "code",
   "execution_count": 11,
   "id": "fc1f5165",
   "metadata": {},
   "outputs": [],
   "source": [
    "series_data = data[['Date', 'Open']]"
   ]
  },
  {
   "cell_type": "code",
   "execution_count": 13,
   "id": "ded4b477",
   "metadata": {
    "scrolled": true
   },
   "outputs": [
    {
     "name": "stderr",
     "output_type": "stream",
     "text": [
      "C:\\Users\\USER\\anaconda3\\lib\\site-packages\\pandas\\core\\generic.py:5494: SettingWithCopyWarning: \n",
      "A value is trying to be set on a copy of a slice from a DataFrame.\n",
      "Try using .loc[row_indexer,col_indexer] = value instead\n",
      "\n",
      "See the caveats in the documentation: https://pandas.pydata.org/pandas-docs/stable/user_guide/indexing.html#returning-a-view-versus-a-copy\n",
      "  self[name] = value\n"
     ]
    }
   ],
   "source": [
    "# datetime으로 변경 필요.\n",
    "series_data.Date = pd.to_datetime(series_data.Date)"
   ]
  },
  {
   "cell_type": "code",
   "execution_count": 14,
   "id": "50da7884",
   "metadata": {
    "scrolled": true
   },
   "outputs": [
    {
     "name": "stdout",
     "output_type": "stream",
     "text": [
      "<class 'pandas.core.frame.DataFrame'>\n",
      "RangeIndex: 253 entries, 0 to 252\n",
      "Data columns (total 2 columns):\n",
      " #   Column  Non-Null Count  Dtype         \n",
      "---  ------  --------------  -----         \n",
      " 0   Date    253 non-null    datetime64[ns]\n",
      " 1   Open    253 non-null    float64       \n",
      "dtypes: datetime64[ns](1), float64(1)\n",
      "memory usage: 4.1 KB\n"
     ]
    }
   ],
   "source": [
    "series_data.info()"
   ]
  },
  {
   "cell_type": "code",
   "execution_count": 29,
   "id": "af8951e8",
   "metadata": {
    "scrolled": true
   },
   "outputs": [
    {
     "name": "stderr",
     "output_type": "stream",
     "text": [
      "C:\\Users\\USER\\anaconda3\\lib\\site-packages\\statsmodels\\tsa\\arima_model.py:472: FutureWarning: \n",
      "statsmodels.tsa.arima_model.ARMA and statsmodels.tsa.arima_model.ARIMA have\n",
      "been deprecated in favor of statsmodels.tsa.arima.model.ARIMA (note the .\n",
      "between arima and model) and\n",
      "statsmodels.tsa.SARIMAX. These will be removed after the 0.12 release.\n",
      "\n",
      "statsmodels.tsa.arima.model.ARIMA makes use of the statespace framework and\n",
      "is both well tested and maintained.\n",
      "\n",
      "To silence this warning and continue using ARMA and ARIMA until they are\n",
      "removed, use:\n",
      "\n",
      "import warnings\n",
      "warnings.filterwarnings('ignore', 'statsmodels.tsa.arima_model.ARMA',\n",
      "                        FutureWarning)\n",
      "warnings.filterwarnings('ignore', 'statsmodels.tsa.arima_model.ARIMA',\n",
      "                        FutureWarning)\n",
      "\n",
      "  warnings.warn(ARIMA_DEPRECATION_WARN, FutureWarning)\n",
      "C:\\Users\\USER\\anaconda3\\lib\\site-packages\\statsmodels\\tsa\\base\\tsa_model.py:581: ValueWarning: A date index has been provided, but it has no associated frequency information and so will be ignored when e.g. forecasting.\n",
      "  warnings.warn('A date index has been provided, but it has no'\n",
      "C:\\Users\\USER\\anaconda3\\lib\\site-packages\\statsmodels\\tsa\\base\\tsa_model.py:581: ValueWarning: A date index has been provided, but it has no associated frequency information and so will be ignored when e.g. forecasting.\n",
      "  warnings.warn('A date index has been provided, but it has no'\n"
     ]
    }
   ],
   "source": [
    "#series_data = series_data.set_index('Date')\n",
    "model = ARIMA(series_data, order = (5, 1, 1))"
   ]
  },
  {
   "cell_type": "code",
   "execution_count": 30,
   "id": "1ee1b470",
   "metadata": {},
   "outputs": [
    {
     "name": "stderr",
     "output_type": "stream",
     "text": [
      "C:\\Users\\USER\\anaconda3\\lib\\site-packages\\statsmodels\\tsa\\arima_model.py:472: FutureWarning: \n",
      "statsmodels.tsa.arima_model.ARMA and statsmodels.tsa.arima_model.ARIMA have\n",
      "been deprecated in favor of statsmodels.tsa.arima.model.ARIMA (note the .\n",
      "between arima and model) and\n",
      "statsmodels.tsa.SARIMAX. These will be removed after the 0.12 release.\n",
      "\n",
      "statsmodels.tsa.arima.model.ARIMA makes use of the statespace framework and\n",
      "is both well tested and maintained.\n",
      "\n",
      "To silence this warning and continue using ARMA and ARIMA until they are\n",
      "removed, use:\n",
      "\n",
      "import warnings\n",
      "warnings.filterwarnings('ignore', 'statsmodels.tsa.arima_model.ARMA',\n",
      "                        FutureWarning)\n",
      "warnings.filterwarnings('ignore', 'statsmodels.tsa.arima_model.ARIMA',\n",
      "                        FutureWarning)\n",
      "\n",
      "  warnings.warn(ARIMA_DEPRECATION_WARN, FutureWarning)\n"
     ]
    },
    {
     "name": "stdout",
     "output_type": "stream",
     "text": [
      "                             ARIMA Model Results                              \n",
      "==============================================================================\n",
      "Dep. Variable:                 D.Open   No. Observations:                  252\n",
      "Model:                 ARIMA(5, 1, 1)   Log Likelihood                -517.088\n",
      "Method:                       css-mle   S.D. of innovations              1.883\n",
      "Date:                Thu, 07 Apr 2022   AIC                           1050.176\n",
      "Time:                        00:39:01   BIC                           1078.412\n",
      "Sample:                             1   HQIC                          1061.537\n",
      "                                                                              \n",
      "================================================================================\n",
      "                   coef    std err          z      P>|z|      [0.025      0.975]\n",
      "--------------------------------------------------------------------------------\n",
      "const            0.0685      0.115      0.595      0.552      -0.157       0.294\n",
      "ar.L1.D.Open    -0.7779      0.230     -3.387      0.001      -1.228      -0.328\n",
      "ar.L2.D.Open    -0.0924      0.083     -1.112      0.266      -0.255       0.070\n",
      "ar.L3.D.Open     0.0845      0.080      1.058      0.290      -0.072       0.241\n",
      "ar.L4.D.Open     0.0205      0.082      0.251      0.802      -0.140       0.181\n",
      "ar.L5.D.Open     0.0376      0.070      0.541      0.589      -0.099       0.174\n",
      "ma.L1.D.Open     0.6769      0.222      3.050      0.002       0.242       1.112\n",
      "                                    Roots                                    \n",
      "=============================================================================\n",
      "                  Real          Imaginary           Modulus         Frequency\n",
      "-----------------------------------------------------------------------------\n",
      "AR.1           -1.3062           -0.6579j            1.4625           -0.4257\n",
      "AR.2           -1.3062           +0.6579j            1.4625            0.4257\n",
      "AR.3            2.1689           -0.0000j            2.1689           -0.0000\n",
      "AR.4           -0.0504           -2.3926j            2.3931           -0.2534\n",
      "AR.5           -0.0504           +2.3926j            2.3931            0.2534\n",
      "MA.1           -1.4774           +0.0000j            1.4774            0.5000\n",
      "-----------------------------------------------------------------------------\n"
     ]
    },
    {
     "data": {
      "image/png": "[encoded data removed]",
      "text/plain": [
       "<Figure size 432x288 with 1 Axes>"
      ]
     },
     "metadata": {
      "needs_background": "light"
     },
     "output_type": "display_data"
    }
   ],
   "source": [
    "model_fit = model.fit(disp = 0)\n",
    "print(model_fit.summary()) # 모델에 대한 정보 표시\n",
    "residuals = pd.DataFrame(model_fit.resid)\n",
    "residuals.plot()\n",
    "plt.show()"
   ]
  },
  {
   "cell_type": "markdown",
   "id": "bb870ebc",
   "metadata": {},
   "source": [
    "다음과 같이 모델에 대한 정보와, 오차항을 띄울 수 있다."
   ]
  }
 ],
 "metadata": {
  "kernelspec": {
   "display_name": "Python 3",
   "language": "python",
   "name": "python3"
  },
  "language_info": {
   "codemirror_mode": {
    "name": "ipython",
    "version": 3
   },
   "file_extension": ".py",
   "mimetype": "text/x-python",
   "name": "python",
   "nbconvert_exporter": "python",
   "pygments_lexer": "ipython3",
   "version": "3.8.8"
  }
 },
 "nbformat": 4,
 "nbformat_minor": 5
}
