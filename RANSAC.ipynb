{
  "nbformat": 4,
  "nbformat_minor": 0,
  "metadata": {
    "colab": {
      "name": "RANSAC.ipynb",
      "provenance": [],
      "authorship_tag": "ABX9TyOTdyx322k2SRY8DEiRMbKt",
      "include_colab_link": true
    },
    "kernelspec": {
      "name": "python3",
      "display_name": "Python 3"
    },
    "language_info": {
      "name": "python"
    }
  },
  "cells": [
    {
      "cell_type": "markdown",
      "metadata": {
        "id": "view-in-github",
        "colab_type": "text"
      },
      "source": [
        "<a href=\"https://colab.research.google.com/github/SeongwonTak/TIL_swtak/blob/master/RANSAC.ipynb\" target=\"_parent\"><img src=\"https://colab.research.google.com/assets/colab-badge.svg\" alt=\"Open In Colab\"/></a>"
      ]
    },
    {
      "cell_type": "markdown",
      "metadata": {
        "id": "cZrgHM269DY-"
      },
      "source": [
        "# RANSAC 알고리즘\n",
        "\n",
        "회귀분석에서 이상치가 차지하는 영향에 대한 확인과 함께, RANSAC 알고리즘에 대해 공부해보고자 한다."
      ]
    },
    {
      "cell_type": "markdown",
      "metadata": {
        "id": "-2R_hMKCph1v"
      },
      "source": [
        "## RANSAC이란?\n",
        "선형 회귀에서 이상치는 크게 영향을 주게 된다. 이상치를 제거하기 위해서는 해당분야에 대한 베이스 지식과, 통계적 식견 또한 필요하다.\n",
        "\n",
        "이상치를 제거하는 방식 대신 RANSAC(RANdom SAmple Consensus) 알고리즘에서는 안정된 회귀 모델을 보여주는데, 이는 정상치라는 일부 데이터로 회귀 모델을 훈련한다. 이는 다음의 순서대로 행동하게 된다.\n",
        "\n",
        "1. 랜덤하게 일부 샘플을 훈련하여 모델을 훈련한다.\n",
        "2. 훈련된 모델에서 다른 모든 포인트를 테스트한다.\n",
        "3. 사용자가 입력한 허용 오차 안에 속한 모든 포인트는 정상치가 된다.\n",
        "4. 모든 정상치를 사용하여 다시 모델을 훈련한다.\n",
        "5. 모델과 정상치간의 오차를 추정한다.\n",
        "6. 성능이 사용자가 정한 임계값이 도달하거나, 지정된 반복 회수에 도달하면 종료"
      ]
    },
    {
      "cell_type": "code",
      "metadata": {
        "id": "HX4y2ZEK4jCh"
      },
      "source": [
        "# 기본코드\n",
        "from sklearn.linear_model import LinearRegression, RANSACRegressor\n",
        "ransac = RANSACRegressor(LinearRegression(),\n",
        "                         max_trials = 100,\n",
        "                         min_samples = 50,\n",
        "                         loss = 'absolute_loss',\n",
        "                         residual_threshold = 5.0,\n",
        "                         random_state = 0)"
      ],
      "execution_count": 3,
      "outputs": []
    },
    {
      "cell_type": "markdown",
      "metadata": {
        "id": "dK8OcszyzEn3"
      },
      "source": [
        "각 변수들에 대한 의미를 확인해보자.\n",
        "- max_trials : Maximum num of iters.  defalut = 100\n",
        "- min_samples : Min number of samples chosen randomly from original data.\n",
        "- loss : absolute loss or squared loss.  default = absolute loss.\n",
        "- residual_threshold : Maximum residual for a data sample to be classifed as an inliner. defauld = MAD(median absolute deviation) of y"
      ]
    },
    {
      "cell_type": "markdown",
      "metadata": {
        "id": "omN57PfOz4mH"
      },
      "source": [
        "## 예시\n",
        "scikit-learn에 나온 공식 예제를 통해 실제 사용법을 확인해보자.\n",
        "가상의 데이터를 만들어서 진행하고자 한다."
      ]
    },
    {
      "cell_type": "code",
      "metadata": {
        "colab": {
          "base_uri": "https://localhost:8080/",
          "height": 315
        },
        "id": "V5I6OgUCz36H",
        "outputId": "b653f613-940f-459a-8783-475849e0845c"
      },
      "source": [
        "import numpy as np\n",
        "from matplotlib import pyplot as plt\n",
        "from sklearn import linear_model, datasets\n",
        "\n",
        "n_samples = 1000\n",
        "n_outliers = 50\n",
        "\n",
        "X, y, coef = datasets.make_regression(n_samples = n_samples, n_features = 1,\n",
        "                                      n_informative = 1, noise = 20,\n",
        "                                      coef = True, random_state = 0)\n",
        "\n",
        "# Add outlier data\n",
        "np.random.seed(0)\n",
        "X[:n_outliers] = 3 + 0.5 * np.random.normal(size=(n_outliers, 1))\n",
        "y[:n_outliers] = -3 + 10 * np.random.normal(size=n_outliers)\n",
        "\n",
        "# Fit line using all data\n",
        "lr = linear_model.LinearRegression()\n",
        "lr.fit(X, y)\n",
        "\n",
        "# Robustly fit linear model with RANSAC algorithm\n",
        "ransac = linear_model.RANSACRegressor()\n",
        "ransac.fit(X, y)\n",
        "inlier_mask = ransac.inlier_mask_\n",
        "outlier_mask = np.logical_not(inlier_mask)\n",
        "\n",
        "# Predict data of estimated models\n",
        "line_X = np.arange(X.min(), X.max())[:, np.newaxis]\n",
        "line_y = lr.predict(line_X)\n",
        "line_y_ransac = ransac.predict(line_X)\n",
        "\n",
        "# Compare estimated coefficients\n",
        "print(\"Estimated coefficients (true, linear regression, RANSAC):\")\n",
        "print(coef, lr.coef_, ransac.estimator_.coef_)\n",
        "\n",
        "lw = 2\n",
        "plt.scatter(X[inlier_mask], y[inlier_mask], color='yellowgreen', marker='.',\n",
        "            label='Inliers')\n",
        "plt.scatter(X[outlier_mask], y[outlier_mask], color='gold', marker='.',\n",
        "            label='Outliers')\n",
        "plt.plot(line_X, line_y, color='navy', linewidth=lw, label='Linear regressor')\n",
        "plt.plot(line_X, line_y_ransac, color='cornflowerblue', linewidth=lw,\n",
        "         label='RANSAC regressor')\n",
        "plt.legend(loc='lower right')\n",
        "plt.xlabel(\"Input\")\n",
        "plt.ylabel(\"Response\")\n",
        "plt.show()"
      ],
      "execution_count": 4,
      "outputs": [
        {
          "output_type": "stream",
          "text": [
            "Estimated coefficients (true, linear regression, RANSAC):\n",
            "82.1903908407869 [54.07798986] [82.93978165]\n"
          ],
          "name": "stdout"
        },
        {
          "output_type": "display_data",
          "data": {
            "image/png": "[encoded data removed]",
            "text/plain": [
              "<Figure size 432x288 with 1 Axes>"
            ]
          },
          "metadata": {
            "tags": [],
            "needs_background": "light"
          }
        }
      ]
    },
    {
      "cell_type": "markdown",
      "metadata": {
        "id": "-JoSsw4O087m"
      },
      "source": [
        "상단의 그래프를 확인해 보면, Linear regression의 결과는 Outlier들, 특히 우측에 몰린 부분에 영향을 받아 직선이 Inliers들을 따라가지 못하고 있음을 알 수 있다.\n",
        "\n",
        "그러나, RANSAC에서는 비교적 이를 잘 예측하고 있음을 알 수 있다."
      ]
    },
    {
      "cell_type": "markdown",
      "metadata": {
        "id": "UDSgRbRo7W28"
      },
      "source": [
        "## RANSAC vs  Least Sqare Approximation\n",
        "\n",
        "최소자승법의 경우는 MSE가 최소화가 되도록 데이터를 선택하나, RANSAC의 경우는 가장 많은 수의 데이터를 받는 모델의 지지를 따라간다."
      ]
    }
  ]
}