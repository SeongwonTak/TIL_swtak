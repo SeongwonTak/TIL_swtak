{
  "nbformat": 4,
  "nbformat_minor": 0,
  "metadata": {
    "colab": {
      "name": "210121 Linear Regression 2.ipynb",
      "provenance": [],
      "authorship_tag": "ABX9TyMGNGPoD1egDFpC1E38ncnw",
      "include_colab_link": true
    },
    "kernelspec": {
      "name": "python3",
      "display_name": "Python 3"
    }
  },
  "cells": [
    {
      "cell_type": "markdown",
      "metadata": {
        "id": "view-in-github",
        "colab_type": "text"
      },
      "source": [
        "<a href=\"https://colab.research.google.com/github/SeongwonTak/TIL_swtak/blob/master/210121_Linear_Regression_2.ipynb\" target=\"_parent\"><img src=\"https://colab.research.google.com/assets/colab-badge.svg\" alt=\"Open In Colab\"/></a>"
      ]
    },
    {
      "cell_type": "markdown",
      "metadata": {
        "id": "jc-wx3lFIq5s"
      },
      "source": [
        "# 210121 Linear Regression 2편\r\n",
        "\r\n",
        "어제는 선형회귀의 가장 기본적인 증명과 어떻게 결과를 얻어내는지를 알았다면 오늘 볼 사항은 \r\n",
        "- 범주형 변수가 있는 경우에는?\r\n",
        "- 선형회귀모델에 가정은 없는가?\r\n",
        "- 계수와 모델이 얼마나 의미있는가?\r\n",
        "\r\n",
        "이 3가지에 대해 정리하려고 한다."
      ]
    },
    {
      "cell_type": "markdown",
      "metadata": {
        "id": "liVCxcURNG3P"
      },
      "source": [
        "## 1. 확률론적 선형 회귀모형 및 선형회귀모델의 가정\r\n",
        "\r\n",
        "앞에서 본 결과 모델을 일단 다시 가져와보자.\r\n",
        "조건수 및 스케일링은 고려하지 않으려고 한다."
      ]
    },
    {
      "cell_type": "code",
      "metadata": {
        "colab": {
          "base_uri": "https://localhost:8080/"
        },
        "id": "gB3EZW3mNUIN",
        "outputId": "f318b10e-a229-4269-d961-3660c5ebf223"
      },
      "source": [
        "import numpy as np\r\n",
        "import statsmodels.api as sm\r\n",
        "import pandas as pd\r\n",
        "from sklearn.datasets import load_boston\r\n",
        "\r\n",
        "boston = load_boston()\r\n",
        "\r\n",
        "dfX0 = pd.DataFrame(boston.data, columns=boston.feature_names)\r\n",
        "dfX = sm.add_constant(dfX0)\r\n",
        "dfy = pd.DataFrame(boston.target, columns=[\"MEDV\"])\r\n",
        "\r\n",
        "model_boston2 = sm.OLS(dfy, dfX)\r\n",
        "result_boston2 = model_boston2.fit()\r\n",
        "print(result_boston2.summary())"
      ],
      "execution_count": null,
      "outputs": [
        {
          "output_type": "stream",
          "text": [
            "/usr/local/lib/python3.6/dist-packages/statsmodels/tools/_testing.py:19: FutureWarning: pandas.util.testing is deprecated. Use the functions in the public API at pandas.testing instead.\n",
            "  import pandas.util.testing as tm\n"
          ],
          "name": "stderr"
        },
        {
          "output_type": "stream",
          "text": [
            "                            OLS Regression Results                            \n",
            "==============================================================================\n",
            "Dep. Variable:                   MEDV   R-squared:                       0.741\n",
            "Model:                            OLS   Adj. R-squared:                  0.734\n",
            "Method:                 Least Squares   F-statistic:                     108.1\n",
            "Date:                Wed, 20 Jan 2021   Prob (F-statistic):          6.72e-135\n",
            "Time:                        23:51:22   Log-Likelihood:                -1498.8\n",
            "No. Observations:                 506   AIC:                             3026.\n",
            "Df Residuals:                     492   BIC:                             3085.\n",
            "Df Model:                          13                                         \n",
            "Covariance Type:            nonrobust                                         \n",
            "==============================================================================\n",
            "                 coef    std err          t      P>|t|      [0.025      0.975]\n",
            "------------------------------------------------------------------------------\n",
            "const         36.4595      5.103      7.144      0.000      26.432      46.487\n",
            "CRIM          -0.1080      0.033     -3.287      0.001      -0.173      -0.043\n",
            "ZN             0.0464      0.014      3.382      0.001       0.019       0.073\n",
            "INDUS          0.0206      0.061      0.334      0.738      -0.100       0.141\n",
            "CHAS           2.6867      0.862      3.118      0.002       0.994       4.380\n",
            "NOX          -17.7666      3.820     -4.651      0.000     -25.272     -10.262\n",
            "RM             3.8099      0.418      9.116      0.000       2.989       4.631\n",
            "AGE            0.0007      0.013      0.052      0.958      -0.025       0.027\n",
            "DIS           -1.4756      0.199     -7.398      0.000      -1.867      -1.084\n",
            "RAD            0.3060      0.066      4.613      0.000       0.176       0.436\n",
            "TAX           -0.0123      0.004     -3.280      0.001      -0.020      -0.005\n",
            "PTRATIO       -0.9527      0.131     -7.283      0.000      -1.210      -0.696\n",
            "B              0.0093      0.003      3.467      0.001       0.004       0.015\n",
            "LSTAT         -0.5248      0.051    -10.347      0.000      -0.624      -0.425\n",
            "==============================================================================\n",
            "Omnibus:                      178.041   Durbin-Watson:                   1.078\n",
            "Prob(Omnibus):                  0.000   Jarque-Bera (JB):              783.126\n",
            "Skew:                           1.521   Prob(JB):                    8.84e-171\n",
            "Kurtosis:                       8.281   Cond. No.                     1.51e+04\n",
            "==============================================================================\n",
            "\n",
            "Warnings:\n",
            "[1] Standard Errors assume that the covariance matrix of the errors is correctly specified.\n",
            "[2] The condition number is large, 1.51e+04. This might indicate that there are\n",
            "strong multicollinearity or other numerical problems.\n"
          ],
          "name": "stdout"
        }
      ]
    },
    {
      "cell_type": "markdown",
      "metadata": {
        "id": "iNK2XOCnN7qy"
      },
      "source": [
        "의문이 하나 드는 것은, 계수가 저렇게 딱 결정되고 마는건가? 저 가중치마다 오차 범위가 있을 건데 실질적인 결론이 될 것인가? 이런 의문이 생길 수 있다.\r\n",
        "\r\n",
        "즉, 우리는 **가중치의 오차범위**를 구해야 할 것이다. 하지만 어떻게?\r\n",
        "이것에서 나온 생각이 바로 **확률론적 선형 회귀모형**이다.\r\n",
        "이는 데이터가 확률 변수로 부터 생성된 표본이라고 가정한다.\r\n",
        "\r\n",
        "하지만, 이를 위해서는 몇 가지 가설이 필요하다. 이 가설들을 정리하려고 한다.\r\n",
        "\r\n",
        "- 오차는 정규분포를 띈다. **독립변수나 종속변수 자체가 정규분포일 필요는 없다.**\r\n",
        "\r\n",
        "- 오차는 독립변수의 크기와 상관없이 기댓값이 0이다.\r\n",
        "$$ E(\\epsilon | x) = 0$$\r\n",
        "\r\n",
        "- $i$번째 error와 $j$번째 error는 독립변수와 상관없이 독립이다. 즉,\r\n",
        "$$ Cov[\\epsilon_{i}, \\epsilon_{j} | x] = 0$$\r\n",
        "\r\n",
        "- $i$번째 error와 $j$번째 error는 분산이 동일하다.\r\n",
        "$$ Cov(\\epsilon) = \\sigma^{2}I$$"
      ]
    },
    {
      "cell_type": "markdown",
      "metadata": {
        "id": "GAzp_TyjTaHh"
      },
      "source": [
        "## 2. 계수의 유의미성 검증\r\n",
        "\r\n",
        "우리는 가중치 $w$의 예측치인 $\\hat{w}$ 에 대하여 표준오차, 즉 공분산 행렬에서의 대각성분,\r\n",
        "$$ Var[\\hat{w_{i}}]$$ 을 고려한다.\r\n",
        "\r\n",
        "더 정혹히는, 실제 가중치와 우리가 추정한 가중치 계수의 차이를 표준 오차로 나눈 값인\r\n",
        "$$ \\frac{\\hat{w_{i}}-w_{i}}{se_{i}} $$\r\n",
        "에 대해 고려할 것이다.\r\n",
        "\r\n",
        "결론부터 말하자면, 표본 데이터의 수가 $N$,  $X$행렬의 열의 수가 $K$일때,\r\n",
        "\r\n",
        "$$ \\frac{\\hat{w_{i}}-w_{i}}{se_{i}} \\sim t_{N-K} $$\r\n",
        "\r\n",
        "임을 얻어낼 수 있다. 이에 대한 증명은 추후 첨부하려 한다.\r\n",
        "\r\n",
        "아무튼, 즉 각 계수마다 $t$분포 검정을 통하여 실제로 그 계수가 유의미한지를 얻어낼 수 있다.\r\n",
        "\r\n",
        "이 때, 귀무가설은\r\n",
        "$$H_{0}: w_{i}=0 $$\r\n",
        "\r\n",
        "유의확률이 유의수준 이하일 경우, 귀무가설이 기각되어 $w_{i}$가 0일 가능성이 낮지만 그 반대일 경우 $w_{i}$가 0이 아니라고 할 수 없다.\r\n",
        "\r\n"
      ]
    },
    {
      "cell_type": "code",
      "metadata": {
        "colab": {
          "base_uri": "https://localhost:8080/"
        },
        "id": "e5MIZ6DYXzq1",
        "outputId": "2a6ba136-c577-4fdd-93ff-99f2b43685c7"
      },
      "source": [
        "print(result_boston2.summary())"
      ],
      "execution_count": null,
      "outputs": [
        {
          "output_type": "stream",
          "text": [
            "                            OLS Regression Results                            \n",
            "==============================================================================\n",
            "Dep. Variable:                   MEDV   R-squared:                       0.741\n",
            "Model:                            OLS   Adj. R-squared:                  0.734\n",
            "Method:                 Least Squares   F-statistic:                     108.1\n",
            "Date:                Thu, 21 Jan 2021   Prob (F-statistic):          6.72e-135\n",
            "Time:                        00:36:45   Log-Likelihood:                -1498.8\n",
            "No. Observations:                 506   AIC:                             3026.\n",
            "Df Residuals:                     492   BIC:                             3085.\n",
            "Df Model:                          13                                         \n",
            "Covariance Type:            nonrobust                                         \n",
            "==============================================================================\n",
            "                 coef    std err          t      P>|t|      [0.025      0.975]\n",
            "------------------------------------------------------------------------------\n",
            "const         36.4595      5.103      7.144      0.000      26.432      46.487\n",
            "CRIM          -0.1080      0.033     -3.287      0.001      -0.173      -0.043\n",
            "ZN             0.0464      0.014      3.382      0.001       0.019       0.073\n",
            "INDUS          0.0206      0.061      0.334      0.738      -0.100       0.141\n",
            "CHAS           2.6867      0.862      3.118      0.002       0.994       4.380\n",
            "NOX          -17.7666      3.820     -4.651      0.000     -25.272     -10.262\n",
            "RM             3.8099      0.418      9.116      0.000       2.989       4.631\n",
            "AGE            0.0007      0.013      0.052      0.958      -0.025       0.027\n",
            "DIS           -1.4756      0.199     -7.398      0.000      -1.867      -1.084\n",
            "RAD            0.3060      0.066      4.613      0.000       0.176       0.436\n",
            "TAX           -0.0123      0.004     -3.280      0.001      -0.020      -0.005\n",
            "PTRATIO       -0.9527      0.131     -7.283      0.000      -1.210      -0.696\n",
            "B              0.0093      0.003      3.467      0.001       0.004       0.015\n",
            "LSTAT         -0.5248      0.051    -10.347      0.000      -0.624      -0.425\n",
            "==============================================================================\n",
            "Omnibus:                      178.041   Durbin-Watson:                   1.078\n",
            "Prob(Omnibus):                  0.000   Jarque-Bera (JB):              783.126\n",
            "Skew:                           1.521   Prob(JB):                    8.84e-171\n",
            "Kurtosis:                       8.281   Cond. No.                     1.51e+04\n",
            "==============================================================================\n",
            "\n",
            "Warnings:\n",
            "[1] Standard Errors assume that the covariance matrix of the errors is correctly specified.\n",
            "[2] The condition number is large, 1.51e+04. This might indicate that there are\n",
            "strong multicollinearity or other numerical problems.\n"
          ],
          "name": "stdout"
        }
      ]
    },
    {
      "cell_type": "markdown",
      "metadata": {
        "id": "aMqnx7EwX1c8"
      },
      "source": [
        "이를 바탕으로 다시 boston 문제로 돌아와보면,\r\n",
        "CHAS와 AGE변수는 제하는 것이 합리적임을 알 수 있다."
      ]
    },
    {
      "cell_type": "markdown",
      "metadata": {
        "id": "qbmtBo1teQIb"
      },
      "source": [
        "## 3. 범주형 변수의 처리\r\n",
        "범주형 변수도 회귀분석에 필요한 경우가 있을 법 한데, 이에 대해서는 당연히 전처리를 해줘야 할 것이다. 이 때 쓰이는 것이 바로 **One-hot Encoding.** \r\n",
        "\r\n",
        "즉, 더미 변수를 만들어야 할 것이다.\r\n",
        "\r\n",
        "예를들어, 하나의 특성이 남성/여성 으로 나뉘어있는데 남성이 0, 여성이 1 이렇게 데이터상에 적혀 있다고 생각해보자.\r\n",
        "\r\n",
        "이걸 그대로 회귀분석에 넣는다면 0과 1을 있는 그대로 읽을 것이기에 문제가 될 것이다.\r\n",
        "\r\n",
        "따라서 남성을 (1, 0),  여성을 (0, 1)로 코딩한다면\r\n",
        "문제가 없을 것이다.\r\n",
        "\r\n",
        "조금 더 구체적으로 어떤식으로 식으로 표현하는지 본다면, 범주값이 2가지라고 가정시\r\n",
        "\r\n",
        "$$ x_{1} = A \\rightarrow d_{1A}=1, d_{1B}=0 $$\r\n",
        "$$ x_{1} = B \\rightarrow d_{1A}=0, d_{1B}=1 $$\r\n",
        "\r\n",
        "이 된다.\r\n",
        "\r\n",
        "다시 말해,\r\n",
        "\r\n",
        "$$ x_{1} = A \\rightarrow \\hat{y} = w_{1A}+w{2}x{2}+...+w_{n}x{n} $$\r\n",
        "$$ x_{1} = B \\rightarrow \\hat{y} = w_{1B}+w{2}x{2}+...+w_{n}x{n} $$\r\n",
        "\r\n",
        "즉, 이런 식으로 표기되기에 범주값을 제외하고는 다른 상수항이 있어서는 안 된다."
      ]
    }
  ]
}