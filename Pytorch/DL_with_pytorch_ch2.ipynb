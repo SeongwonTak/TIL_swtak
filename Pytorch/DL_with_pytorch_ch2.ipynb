{
  "nbformat": 4,
  "nbformat_minor": 0,
  "metadata": {
    "colab": {
      "name": "DL_with_pytorch_ch2.ipynb",
      "provenance": [],
      "authorship_tag": "ABX9TyMI3LltRT3kQA95TPr9c/Xd",
      "include_colab_link": true
    },
    "kernelspec": {
      "name": "python3",
      "display_name": "Python 3"
    }
  },
  "cells": [
    {
      "cell_type": "markdown",
      "metadata": {
        "id": "view-in-github",
        "colab_type": "text"
      },
      "source": [
        "<a href=\"https://colab.research.google.com/github/SeongwonTak/TIL_swtak/blob/master/Pytorch/DL_with_pytorch_ch2.ipynb\" target=\"_parent\"><img src=\"https://colab.research.google.com/assets/colab-badge.svg\" alt=\"Open In Colab\"/></a>"
      ]
    },
    {
      "cell_type": "markdown",
      "metadata": {
        "id": "q8-RYdqFzQPq"
      },
      "source": [
        "# DL_with_pytorch ch2\r\n",
        "pytorch 패키지를 공부해본다.\r\n",
        "밑딥과 병행하며 보는 책 내용을 정리.\r\n",
        "\r\n",
        "출처 : Pytorch로 시작하는 딥러닝"
      ]
    },
    {
      "cell_type": "code",
      "metadata": {
        "id": "rq35cm9CyiJU"
      },
      "source": [
        "import torch"
      ],
      "execution_count": 2,
      "outputs": []
    },
    {
      "cell_type": "markdown",
      "metadata": {
        "id": "2zDsxb8s9Zj8"
      },
      "source": [
        "## 기본 구조와 데이터 표현"
      ]
    },
    {
      "cell_type": "markdown",
      "metadata": {
        "id": "5NGey6ebzp-n"
      },
      "source": [
        "추상적 관점에서 신경망 구현 코드의 기본 구조를 살펴보자."
      ]
    },
    {
      "cell_type": "code",
      "metadata": {
        "id": "6_lUHK1lzwJX"
      },
      "source": [
        "x, y = get_data()  # x - 훈련 데이터,  y - 목표변수\r\n",
        "w, b = get_weights()  # w - 가중치,  b - 편향\r\n",
        "for i in range(50000): \r\n",
        "  y_pred = simple_network(x)  # 학습\r\n",
        "  loss = loss_fn(y, y_pred)  # 오차정의 (MSE 등을 사용한다.)\r\n",
        "  if i % 5000 == 0:  # 1에폭당 오차계산.\r\n",
        "    print(loss)  \r\n",
        "  optimize(learning_rate)"
      ],
      "execution_count": null,
      "outputs": []
    },
    {
      "cell_type": "markdown",
      "metadata": {
        "id": "Yo_2NEAS3z8v"
      },
      "source": [
        "Pytorch는 Tensor 형태로 데이터를 표현할 수 있다.\r\n",
        "\r\n",
        "- 0차원 스칼라\r\n",
        "- 1차원 벡터\r\n",
        "- 2차원 행렬\r\n",
        "- 3차원 텐서, 4차원 텐서....\r\n"
      ]
    },
    {
      "cell_type": "code",
      "metadata": {
        "colab": {
          "base_uri": "https://localhost:8080/"
        },
        "id": "a167c82W4ehl",
        "outputId": "4a4c6d8c-91a1-46d3-f176-9303f2b62369"
      },
      "source": [
        "# 스칼라\r\n",
        "x = torch.rand(10)\r\n",
        "print(x)\r\n",
        "print(x.size())"
      ],
      "execution_count": 3,
      "outputs": [
        {
          "output_type": "stream",
          "text": [
            "tensor([0.4026, 0.1699, 0.7372, 0.0516, 0.8817, 0.7806, 0.3172, 0.9404, 0.4037,\n",
            "        0.5913])\n",
            "torch.Size([10])\n"
          ],
          "name": "stdout"
        }
      ]
    },
    {
      "cell_type": "code",
      "metadata": {
        "colab": {
          "base_uri": "https://localhost:8080/"
        },
        "id": "LUX6Qcwj4oz1",
        "outputId": "f422e2ca-2e09-4af2-f507-8c71dba7654f"
      },
      "source": [
        "# 벡터\r\n",
        "vec = torch.FloatTensor([1.1, 2.5, 3.14, 4.0])\r\n",
        "vec.size()"
      ],
      "execution_count": 4,
      "outputs": [
        {
          "output_type": "execute_result",
          "data": {
            "text/plain": [
              "torch.Size([4])"
            ]
          },
          "metadata": {
            "tags": []
          },
          "execution_count": 4
        }
      ]
    },
    {
      "cell_type": "code",
      "metadata": {
        "colab": {
          "base_uri": "https://localhost:8080/",
          "height": 222
        },
        "id": "2jxi09QZ7eH1",
        "outputId": "16212836-4266-475c-80ef-4a17a23f00d7"
      },
      "source": [
        "# 행렬\r\n",
        "boston_tensor = torch.from_numpy(boston.data)\r\n",
        "boston_tensor.size()"
      ],
      "execution_count": 6,
      "outputs": [
        {
          "output_type": "error",
          "ename": "NameError",
          "evalue": "ignored",
          "traceback": [
            "\u001b[0;31m---------------------------------------------------------------------------\u001b[0m",
            "\u001b[0;31mNameError\u001b[0m                                 Traceback (most recent call last)",
            "\u001b[0;32m<ipython-input-6-722e3051d40c>\u001b[0m in \u001b[0;36m<module>\u001b[0;34m()\u001b[0m\n\u001b[1;32m      1\u001b[0m \u001b[0;31m# 행렬\u001b[0m\u001b[0;34m\u001b[0m\u001b[0;34m\u001b[0m\u001b[0;34m\u001b[0m\u001b[0m\n\u001b[1;32m      2\u001b[0m \u001b[0;32mimport\u001b[0m \u001b[0mnumpy\u001b[0m \u001b[0;32mas\u001b[0m \u001b[0mnp\u001b[0m\u001b[0;34m\u001b[0m\u001b[0;34m\u001b[0m\u001b[0m\n\u001b[0;32m----> 3\u001b[0;31m \u001b[0mboston_tensor\u001b[0m \u001b[0;34m=\u001b[0m \u001b[0mtorch\u001b[0m\u001b[0;34m.\u001b[0m\u001b[0mfrom_numpy\u001b[0m\u001b[0;34m(\u001b[0m\u001b[0mboston\u001b[0m\u001b[0;34m.\u001b[0m\u001b[0mdata\u001b[0m\u001b[0;34m)\u001b[0m\u001b[0;34m\u001b[0m\u001b[0;34m\u001b[0m\u001b[0m\n\u001b[0m\u001b[1;32m      4\u001b[0m \u001b[0mboston_tensor\u001b[0m\u001b[0;34m.\u001b[0m\u001b[0msize\u001b[0m\u001b[0;34m(\u001b[0m\u001b[0;34m)\u001b[0m\u001b[0;34m\u001b[0m\u001b[0;34m\u001b[0m\u001b[0m\n",
            "\u001b[0;31mNameError\u001b[0m: name 'boston' is not defined"
          ]
        }
      ]
    },
    {
      "cell_type": "markdown",
      "metadata": {
        "id": "hr2ZgaBu8fDW"
      },
      "source": [
        "3차원 이상도 표현 가능하다.\r\n",
        "3차원의 경우는 (이미지의 높이, 이미지의 폭, RGB)를 나타내는 형태의 이미지 표현으로 많이 쓰인다.\r\n",
        "\r\n",
        "여기서 4차원으로 넘어가는 경우는 batch처리를 진행한다."
      ]
    },
    {
      "cell_type": "markdown",
      "metadata": {
        "id": "1deW6EWn9cnF"
      },
      "source": [
        "## GPU 지원 Tensor"
      ]
    },
    {
      "cell_type": "code",
      "metadata": {
        "colab": {
          "base_uri": "https://localhost:8080/"
        },
        "id": "QccEch8o-PgW",
        "outputId": "da6939ab-124d-4538-ff19-e77e9f9cf22a"
      },
      "source": [
        "a = torch.rand(2, 2)\r\n",
        "b = torch.rand(2, 2)\r\n",
        "c = a + b\r\n",
        "d = torch.add(a, b)\r\n",
        "print(a)\r\n",
        "print(b)\r\n",
        "print(c)\r\n",
        "print(d)"
      ],
      "execution_count": 9,
      "outputs": [
        {
          "output_type": "stream",
          "text": [
            "tensor([[0.6009, 0.8330],\n",
            "        [0.0619, 0.0770]])\n",
            "tensor([[0.4097, 0.6336],\n",
            "        [0.3323, 0.9605]])\n",
            "tensor([[1.0106, 1.4667],\n",
            "        [0.3942, 1.0375]])\n",
            "tensor([[1.0106, 1.4667],\n",
            "        [0.3942, 1.0375]])\n"
          ],
          "name": "stdout"
        }
      ]
    },
    {
      "cell_type": "code",
      "metadata": {
        "id": "AKb1-Rty-VcX"
      },
      "source": [
        "a = torch.rand(10000, 10000)\r\n",
        "b = torch.rand(10000, 10000)\r\n",
        "a.matmul(b)\r\n",
        "\r\n",
        "a = a.cuda()\r\n",
        "b = b.cuda()\r\n",
        "\r\n",
        "a.matmul(b)"
      ],
      "execution_count": null,
      "outputs": []
    },
    {
      "cell_type": "markdown",
      "metadata": {
        "id": "OuH5TeSH_gRU"
      },
      "source": [
        "여기서 cuda란?"
      ]
    },
    {
      "cell_type": "markdown",
      "metadata": {
        "id": "k5GpcxDb_iW9"
      },
      "source": [
        "## Variable\r\n",
        "변수 표현은 '계산 그래프'으로 표현된다.\r\n",
        "즉\r\n",
        "- tensor 객체\r\n",
        "- 기울기 객체\r\n",
        "- 변수를 생성하는 함수의 참조"
      ]
    },
    {
      "cell_type": "code",
      "metadata": {
        "id": "EVJJSeHM_fec"
      },
      "source": [
        "# Variable 객체의 예시\r\n",
        "x = Variable(torch.ones(2,2),requires_grad=True)\r\n",
        "y = x.mean()\r\n",
        "\r\n",
        "y.barkward()\r\n",
        "\r\n",
        "x.grad\r\n",
        "x.data\r\n"
      ],
      "execution_count": null,
      "outputs": []
    },
    {
      "cell_type": "markdown",
      "metadata": {
        "id": "nT7AaGfwBAx0"
      },
      "source": [
        "## 데이터 생성하기\r\n",
        "get_data를 통해 x와 y를 생성한다."
      ]
    },
    {
      "cell_type": "code",
      "metadata": {
        "id": "AH1kKlT3BuDL"
      },
      "source": [
        "def get_data():\r\n",
        "  train_X = np.asarray([1.1, 2.2, 5, 3, 4, 4.8])\r\n",
        "  train_Y = np.assarry([5, 11.3, 106.24, 7.2, 1.88, 10.15])\r\n",
        "  dtype = torch.FloatTensor\r\n",
        "\r\n",
        "  X = Variable(torch.from_numpy(train_X).type(dtype), requires_grad = False).view(6, 1)\r\n",
        "  y = Variable(torch.from_numpy(train_Y).type(dtype), requires_grad = False)\r\n",
        "\r\n",
        "  return X, y"
      ],
      "execution_count": 12,
      "outputs": []
    },
    {
      "cell_type": "markdown",
      "metadata": {
        "id": "Q0Zf8CG2CWPC"
      },
      "source": [
        "가중치 또한 생성 가능하다."
      ]
    },
    {
      "cell_type": "code",
      "metadata": {
        "id": "Eai_3Lt5CVij"
      },
      "source": [
        "def get_weights():\r\n",
        "  w = Variable(torch.randn(1), requires_grad = True)\r\n",
        "  b = Variable(torch.randn(1), requires_grad = True)"
      ],
      "execution_count": 13,
      "outputs": []
    },
    {
      "cell_type": "markdown",
      "metadata": {
        "id": "rJ9jx6K-DL97"
      },
      "source": [
        "위의 두 가지를 바탕으로 네트워크를 구현할 수 있다.\r\n",
        "가중치와 x의 행렬 곱에 편향 b를 합치는 예시를 생각하자."
      ]
    },
    {
      "cell_type": "code",
      "metadata": {
        "id": "V9zaM5O4DS_7"
      },
      "source": [
        "def simple_network(x):\r\n",
        "  y_pred = torch.matmul(x, w) + b\r\n",
        "  return y_pred\r\n",
        "\r\n",
        "# 참고. nn.Linear를 활용하여 간략하게 표현 가능."
      ],
      "execution_count": 14,
      "outputs": []
    },
    {
      "cell_type": "markdown",
      "metadata": {
        "id": "oCrrllqkD3fK"
      },
      "source": [
        "모델 생성의 결과를 오차함수로 확인해보자."
      ]
    },
    {
      "cell_type": "code",
      "metadata": {
        "id": "GmKE3ac2EPfJ"
      },
      "source": [
        "def loss_fn(y, y_pred):\r\n",
        "  loss = (y_pred - y).pow(2).sum()\r\n",
        "  for param in [w, b]:  # w와 b의 변화 정도를 기울기로 계산.\r\n",
        "    if not param.grad is None: param.grad.data.zero_()\r\n",
        "  loss.backward()\r\n",
        "  return loss.data[0]"
      ],
      "execution_count": null,
      "outputs": []
    },
    {
      "cell_type": "markdown",
      "metadata": {
        "id": "c8iWHj3GEqk6"
      },
      "source": [
        "학습 결과를 기반으로 신경망과 편향을 조정하자."
      ]
    },
    {
      "cell_type": "code",
      "metadata": {
        "id": "QqotsUHJEuyh"
      },
      "source": [
        "def optimize(learning_rate):\r\n",
        "  w.data -= learning_rate * w.grad.data\r\n",
        "  b.data -= learning_rate * b.grad.data"
      ],
      "execution_count": null,
      "outputs": []
    }
  ]
}