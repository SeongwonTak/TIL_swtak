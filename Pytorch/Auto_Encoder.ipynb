{
  "nbformat": 4,
  "nbformat_minor": 0,
  "metadata": {
    "colab": {
      "name": "Auto_Encoder.ipynb",
      "provenance": [],
      "authorship_tag": "ABX9TyPaj7XyF+V/oMhllnXwto3u",
      "include_colab_link": true
    },
    "kernelspec": {
      "name": "python3",
      "display_name": "Python 3"
    },
    "language_info": {
      "name": "python"
    },
    "widgets": {
      "application/vnd.jupyter.widget-state+json": {
        "45efe751fcad41ce8ddc39ebceebe484": {
          "model_module": "@jupyter-widgets/controls",
          "model_name": "HBoxModel",
          "state": {
            "_view_name": "HBoxView",
            "_dom_classes": [],
            "_model_name": "HBoxModel",
            "_view_module": "@jupyter-widgets/controls",
            "_model_module_version": "1.5.0",
            "_view_count": null,
            "_view_module_version": "1.5.0",
            "box_style": "",
            "layout": "IPY_MODEL_299f0207f6fe45cfa77ece767156164b",
            "_model_module": "@jupyter-widgets/controls",
            "children": [
              "IPY_MODEL_885b051046434132b2eb2ed66a0a4430",
              "IPY_MODEL_68f0e8d4136b4c52b1791bb3fdbd3c9e"
            ]
          }
        },
        "299f0207f6fe45cfa77ece767156164b": {
          "model_module": "@jupyter-widgets/base",
          "model_name": "LayoutModel",
          "state": {
            "_view_name": "LayoutView",
            "grid_template_rows": null,
            "right": null,
            "justify_content": null,
            "_view_module": "@jupyter-widgets/base",
            "overflow": null,
            "_model_module_version": "1.2.0",
            "_view_count": null,
            "flex_flow": null,
            "width": null,
            "min_width": null,
            "border": null,
            "align_items": null,
            "bottom": null,
            "_model_module": "@jupyter-widgets/base",
            "top": null,
            "grid_column": null,
            "overflow_y": null,
            "overflow_x": null,
            "grid_auto_flow": null,
            "grid_area": null,
            "grid_template_columns": null,
            "flex": null,
            "_model_name": "LayoutModel",
            "justify_items": null,
            "grid_row": null,
            "max_height": null,
            "align_content": null,
            "visibility": null,
            "align_self": null,
            "height": null,
            "min_height": null,
            "padding": null,
            "grid_auto_rows": null,
            "grid_gap": null,
            "max_width": null,
            "order": null,
            "_view_module_version": "1.2.0",
            "grid_template_areas": null,
            "object_position": null,
            "object_fit": null,
            "grid_auto_columns": null,
            "margin": null,
            "display": null,
            "left": null
          }
        },
        "885b051046434132b2eb2ed66a0a4430": {
          "model_module": "@jupyter-widgets/controls",
          "model_name": "FloatProgressModel",
          "state": {
            "_view_name": "ProgressView",
            "style": "IPY_MODEL_1d409b84f32544c4aa96750122607707",
            "_dom_classes": [],
            "description": "",
            "_model_name": "FloatProgressModel",
            "bar_style": "success",
            "max": 26421880,
            "_view_module": "@jupyter-widgets/controls",
            "_model_module_version": "1.5.0",
            "value": 26421880,
            "_view_count": null,
            "_view_module_version": "1.5.0",
            "orientation": "horizontal",
            "min": 0,
            "description_tooltip": null,
            "_model_module": "@jupyter-widgets/controls",
            "layout": "IPY_MODEL_9d228b3b87c647c48be6eca8b6bf44b8"
          }
        },
        "68f0e8d4136b4c52b1791bb3fdbd3c9e": {
          "model_module": "@jupyter-widgets/controls",
          "model_name": "HTMLModel",
          "state": {
            "_view_name": "HTMLView",
            "style": "IPY_MODEL_82b37dbcc8414a4aab79e5ebcf5b6aac",
            "_dom_classes": [],
            "description": "",
            "_model_name": "HTMLModel",
            "placeholder": "​",
            "_view_module": "@jupyter-widgets/controls",
            "_model_module_version": "1.5.0",
            "value": " 26422272/? [00:02&lt;00:00, 10250705.39it/s]",
            "_view_count": null,
            "_view_module_version": "1.5.0",
            "description_tooltip": null,
            "_model_module": "@jupyter-widgets/controls",
            "layout": "IPY_MODEL_ec1d56dc04224f988a0fbbdd2cc1ce14"
          }
        },
        "1d409b84f32544c4aa96750122607707": {
          "model_module": "@jupyter-widgets/controls",
          "model_name": "ProgressStyleModel",
          "state": {
            "_view_name": "StyleView",
            "_model_name": "ProgressStyleModel",
            "description_width": "initial",
            "_view_module": "@jupyter-widgets/base",
            "_model_module_version": "1.5.0",
            "_view_count": null,
            "_view_module_version": "1.2.0",
            "bar_color": null,
            "_model_module": "@jupyter-widgets/controls"
          }
        },
        "9d228b3b87c647c48be6eca8b6bf44b8": {
          "model_module": "@jupyter-widgets/base",
          "model_name": "LayoutModel",
          "state": {
            "_view_name": "LayoutView",
            "grid_template_rows": null,
            "right": null,
            "justify_content": null,
            "_view_module": "@jupyter-widgets/base",
            "overflow": null,
            "_model_module_version": "1.2.0",
            "_view_count": null,
            "flex_flow": null,
            "width": null,
            "min_width": null,
            "border": null,
            "align_items": null,
            "bottom": null,
            "_model_module": "@jupyter-widgets/base",
            "top": null,
            "grid_column": null,
            "overflow_y": null,
            "overflow_x": null,
            "grid_auto_flow": null,
            "grid_area": null,
            "grid_template_columns": null,
            "flex": null,
            "_model_name": "LayoutModel",
            "justify_items": null,
            "grid_row": null,
            "max_height": null,
            "align_content": null,
            "visibility": null,
            "align_self": null,
            "height": null,
            "min_height": null,
            "padding": null,
            "grid_auto_rows": null,
            "grid_gap": null,
            "max_width": null,
            "order": null,
            "_view_module_version": "1.2.0",
            "grid_template_areas": null,
            "object_position": null,
            "object_fit": null,
            "grid_auto_columns": null,
            "margin": null,
            "display": null,
            "left": null
          }
        },
        "82b37dbcc8414a4aab79e5ebcf5b6aac": {
          "model_module": "@jupyter-widgets/controls",
          "model_name": "DescriptionStyleModel",
          "state": {
            "_view_name": "StyleView",
            "_model_name": "DescriptionStyleModel",
            "description_width": "",
            "_view_module": "@jupyter-widgets/base",
            "_model_module_version": "1.5.0",
            "_view_count": null,
            "_view_module_version": "1.2.0",
            "_model_module": "@jupyter-widgets/controls"
          }
        },
        "ec1d56dc04224f988a0fbbdd2cc1ce14": {
          "model_module": "@jupyter-widgets/base",
          "model_name": "LayoutModel",
          "state": {
            "_view_name": "LayoutView",
            "grid_template_rows": null,
            "right": null,
            "justify_content": null,
            "_view_module": "@jupyter-widgets/base",
            "overflow": null,
            "_model_module_version": "1.2.0",
            "_view_count": null,
            "flex_flow": null,
            "width": null,
            "min_width": null,
            "border": null,
            "align_items": null,
            "bottom": null,
            "_model_module": "@jupyter-widgets/base",
            "top": null,
            "grid_column": null,
            "overflow_y": null,
            "overflow_x": null,
            "grid_auto_flow": null,
            "grid_area": null,
            "grid_template_columns": null,
            "flex": null,
            "_model_name": "LayoutModel",
            "justify_items": null,
            "grid_row": null,
            "max_height": null,
            "align_content": null,
            "visibility": null,
            "align_self": null,
            "height": null,
            "min_height": null,
            "padding": null,
            "grid_auto_rows": null,
            "grid_gap": null,
            "max_width": null,
            "order": null,
            "_view_module_version": "1.2.0",
            "grid_template_areas": null,
            "object_position": null,
            "object_fit": null,
            "grid_auto_columns": null,
            "margin": null,
            "display": null,
            "left": null
          }
        },
        "6a8552001631493d83dd205ee3a9cc98": {
          "model_module": "@jupyter-widgets/controls",
          "model_name": "HBoxModel",
          "state": {
            "_view_name": "HBoxView",
            "_dom_classes": [],
            "_model_name": "HBoxModel",
            "_view_module": "@jupyter-widgets/controls",
            "_model_module_version": "1.5.0",
            "_view_count": null,
            "_view_module_version": "1.5.0",
            "box_style": "",
            "layout": "IPY_MODEL_b2ed0fc7596946169956b407608e7607",
            "_model_module": "@jupyter-widgets/controls",
            "children": [
              "IPY_MODEL_57726e6eaac94ae78588b87af9dda2a2",
              "IPY_MODEL_5f169889367043bebe8009f69ecaadae"
            ]
          }
        },
        "b2ed0fc7596946169956b407608e7607": {
          "model_module": "@jupyter-widgets/base",
          "model_name": "LayoutModel",
          "state": {
            "_view_name": "LayoutView",
            "grid_template_rows": null,
            "right": null,
            "justify_content": null,
            "_view_module": "@jupyter-widgets/base",
            "overflow": null,
            "_model_module_version": "1.2.0",
            "_view_count": null,
            "flex_flow": null,
            "width": null,
            "min_width": null,
            "border": null,
            "align_items": null,
            "bottom": null,
            "_model_module": "@jupyter-widgets/base",
            "top": null,
            "grid_column": null,
            "overflow_y": null,
            "overflow_x": null,
            "grid_auto_flow": null,
            "grid_area": null,
            "grid_template_columns": null,
            "flex": null,
            "_model_name": "LayoutModel",
            "justify_items": null,
            "grid_row": null,
            "max_height": null,
            "align_content": null,
            "visibility": null,
            "align_self": null,
            "height": null,
            "min_height": null,
            "padding": null,
            "grid_auto_rows": null,
            "grid_gap": null,
            "max_width": null,
            "order": null,
            "_view_module_version": "1.2.0",
            "grid_template_areas": null,
            "object_position": null,
            "object_fit": null,
            "grid_auto_columns": null,
            "margin": null,
            "display": null,
            "left": null
          }
        },
        "57726e6eaac94ae78588b87af9dda2a2": {
          "model_module": "@jupyter-widgets/controls",
          "model_name": "FloatProgressModel",
          "state": {
            "_view_name": "ProgressView",
            "style": "IPY_MODEL_39a86b3cfe4b450e9f85e31863973946",
            "_dom_classes": [],
            "description": "",
            "_model_name": "FloatProgressModel",
            "bar_style": "success",
            "max": 29515,
            "_view_module": "@jupyter-widgets/controls",
            "_model_module_version": "1.5.0",
            "value": 29515,
            "_view_count": null,
            "_view_module_version": "1.5.0",
            "orientation": "horizontal",
            "min": 0,
            "description_tooltip": null,
            "_model_module": "@jupyter-widgets/controls",
            "layout": "IPY_MODEL_5689fffe660b49629929c98acc4ab986"
          }
        },
        "5f169889367043bebe8009f69ecaadae": {
          "model_module": "@jupyter-widgets/controls",
          "model_name": "HTMLModel",
          "state": {
            "_view_name": "HTMLView",
            "style": "IPY_MODEL_71c46715698e49459ebdc275b5a595be",
            "_dom_classes": [],
            "description": "",
            "_model_name": "HTMLModel",
            "placeholder": "​",
            "_view_module": "@jupyter-widgets/controls",
            "_model_module_version": "1.5.0",
            "value": " 29696/? [00:00&lt;00:00, 219767.01it/s]",
            "_view_count": null,
            "_view_module_version": "1.5.0",
            "description_tooltip": null,
            "_model_module": "@jupyter-widgets/controls",
            "layout": "IPY_MODEL_126eb0ca5ca24e78893bb84f0331cf73"
          }
        },
        "39a86b3cfe4b450e9f85e31863973946": {
          "model_module": "@jupyter-widgets/controls",
          "model_name": "ProgressStyleModel",
          "state": {
            "_view_name": "StyleView",
            "_model_name": "ProgressStyleModel",
            "description_width": "initial",
            "_view_module": "@jupyter-widgets/base",
            "_model_module_version": "1.5.0",
            "_view_count": null,
            "_view_module_version": "1.2.0",
            "bar_color": null,
            "_model_module": "@jupyter-widgets/controls"
          }
        },
        "5689fffe660b49629929c98acc4ab986": {
          "model_module": "@jupyter-widgets/base",
          "model_name": "LayoutModel",
          "state": {
            "_view_name": "LayoutView",
            "grid_template_rows": null,
            "right": null,
            "justify_content": null,
            "_view_module": "@jupyter-widgets/base",
            "overflow": null,
            "_model_module_version": "1.2.0",
            "_view_count": null,
            "flex_flow": null,
            "width": null,
            "min_width": null,
            "border": null,
            "align_items": null,
            "bottom": null,
            "_model_module": "@jupyter-widgets/base",
            "top": null,
            "grid_column": null,
            "overflow_y": null,
            "overflow_x": null,
            "grid_auto_flow": null,
            "grid_area": null,
            "grid_template_columns": null,
            "flex": null,
            "_model_name": "LayoutModel",
            "justify_items": null,
            "grid_row": null,
            "max_height": null,
            "align_content": null,
            "visibility": null,
            "align_self": null,
            "height": null,
            "min_height": null,
            "padding": null,
            "grid_auto_rows": null,
            "grid_gap": null,
            "max_width": null,
            "order": null,
            "_view_module_version": "1.2.0",
            "grid_template_areas": null,
            "object_position": null,
            "object_fit": null,
            "grid_auto_columns": null,
            "margin": null,
            "display": null,
            "left": null
          }
        },
        "71c46715698e49459ebdc275b5a595be": {
          "model_module": "@jupyter-widgets/controls",
          "model_name": "DescriptionStyleModel",
          "state": {
            "_view_name": "StyleView",
            "_model_name": "DescriptionStyleModel",
            "description_width": "",
            "_view_module": "@jupyter-widgets/base",
            "_model_module_version": "1.5.0",
            "_view_count": null,
            "_view_module_version": "1.2.0",
            "_model_module": "@jupyter-widgets/controls"
          }
        },
        "126eb0ca5ca24e78893bb84f0331cf73": {
          "model_module": "@jupyter-widgets/base",
          "model_name": "LayoutModel",
          "state": {
            "_view_name": "LayoutView",
            "grid_template_rows": null,
            "right": null,
            "justify_content": null,
            "_view_module": "@jupyter-widgets/base",
            "overflow": null,
            "_model_module_version": "1.2.0",
            "_view_count": null,
            "flex_flow": null,
            "width": null,
            "min_width": null,
            "border": null,
            "align_items": null,
            "bottom": null,
            "_model_module": "@jupyter-widgets/base",
            "top": null,
            "grid_column": null,
            "overflow_y": null,
            "overflow_x": null,
            "grid_auto_flow": null,
            "grid_area": null,
            "grid_template_columns": null,
            "flex": null,
            "_model_name": "LayoutModel",
            "justify_items": null,
            "grid_row": null,
            "max_height": null,
            "align_content": null,
            "visibility": null,
            "align_self": null,
            "height": null,
            "min_height": null,
            "padding": null,
            "grid_auto_rows": null,
            "grid_gap": null,
            "max_width": null,
            "order": null,
            "_view_module_version": "1.2.0",
            "grid_template_areas": null,
            "object_position": null,
            "object_fit": null,
            "grid_auto_columns": null,
            "margin": null,
            "display": null,
            "left": null
          }
        },
        "c9b09ae5fb4541a6b0f23e1fd714ec21": {
          "model_module": "@jupyter-widgets/controls",
          "model_name": "HBoxModel",
          "state": {
            "_view_name": "HBoxView",
            "_dom_classes": [],
            "_model_name": "HBoxModel",
            "_view_module": "@jupyter-widgets/controls",
            "_model_module_version": "1.5.0",
            "_view_count": null,
            "_view_module_version": "1.5.0",
            "box_style": "",
            "layout": "IPY_MODEL_09e5bdba9fd941a4a4f0e7c447a8fe71",
            "_model_module": "@jupyter-widgets/controls",
            "children": [
              "IPY_MODEL_520fb2bdc15c4fce80e6b29adb51c6a3",
              "IPY_MODEL_9a39b832db6841a1b63dc5a27eec2341"
            ]
          }
        },
        "09e5bdba9fd941a4a4f0e7c447a8fe71": {
          "model_module": "@jupyter-widgets/base",
          "model_name": "LayoutModel",
          "state": {
            "_view_name": "LayoutView",
            "grid_template_rows": null,
            "right": null,
            "justify_content": null,
            "_view_module": "@jupyter-widgets/base",
            "overflow": null,
            "_model_module_version": "1.2.0",
            "_view_count": null,
            "flex_flow": null,
            "width": null,
            "min_width": null,
            "border": null,
            "align_items": null,
            "bottom": null,
            "_model_module": "@jupyter-widgets/base",
            "top": null,
            "grid_column": null,
            "overflow_y": null,
            "overflow_x": null,
            "grid_auto_flow": null,
            "grid_area": null,
            "grid_template_columns": null,
            "flex": null,
            "_model_name": "LayoutModel",
            "justify_items": null,
            "grid_row": null,
            "max_height": null,
            "align_content": null,
            "visibility": null,
            "align_self": null,
            "height": null,
            "min_height": null,
            "padding": null,
            "grid_auto_rows": null,
            "grid_gap": null,
            "max_width": null,
            "order": null,
            "_view_module_version": "1.2.0",
            "grid_template_areas": null,
            "object_position": null,
            "object_fit": null,
            "grid_auto_columns": null,
            "margin": null,
            "display": null,
            "left": null
          }
        },
        "520fb2bdc15c4fce80e6b29adb51c6a3": {
          "model_module": "@jupyter-widgets/controls",
          "model_name": "FloatProgressModel",
          "state": {
            "_view_name": "ProgressView",
            "style": "IPY_MODEL_cf603da85b4e424893a0b37e24fac731",
            "_dom_classes": [],
            "description": "",
            "_model_name": "FloatProgressModel",
            "bar_style": "success",
            "max": 4422102,
            "_view_module": "@jupyter-widgets/controls",
            "_model_module_version": "1.5.0",
            "value": 4422102,
            "_view_count": null,
            "_view_module_version": "1.5.0",
            "orientation": "horizontal",
            "min": 0,
            "description_tooltip": null,
            "_model_module": "@jupyter-widgets/controls",
            "layout": "IPY_MODEL_ef48555cae8840dc83725d6d9a655d5a"
          }
        },
        "9a39b832db6841a1b63dc5a27eec2341": {
          "model_module": "@jupyter-widgets/controls",
          "model_name": "HTMLModel",
          "state": {
            "_view_name": "HTMLView",
            "style": "IPY_MODEL_712386aa941a485a984db638adeabc68",
            "_dom_classes": [],
            "description": "",
            "_model_name": "HTMLModel",
            "placeholder": "​",
            "_view_module": "@jupyter-widgets/controls",
            "_model_module_version": "1.5.0",
            "value": " 4422656/? [02:02&lt;00:00, 36126.42it/s]",
            "_view_count": null,
            "_view_module_version": "1.5.0",
            "description_tooltip": null,
            "_model_module": "@jupyter-widgets/controls",
            "layout": "IPY_MODEL_1587dd2f84694b61897f00bef2832dcf"
          }
        },
        "cf603da85b4e424893a0b37e24fac731": {
          "model_module": "@jupyter-widgets/controls",
          "model_name": "ProgressStyleModel",
          "state": {
            "_view_name": "StyleView",
            "_model_name": "ProgressStyleModel",
            "description_width": "initial",
            "_view_module": "@jupyter-widgets/base",
            "_model_module_version": "1.5.0",
            "_view_count": null,
            "_view_module_version": "1.2.0",
            "bar_color": null,
            "_model_module": "@jupyter-widgets/controls"
          }
        },
        "ef48555cae8840dc83725d6d9a655d5a": {
          "model_module": "@jupyter-widgets/base",
          "model_name": "LayoutModel",
          "state": {
            "_view_name": "LayoutView",
            "grid_template_rows": null,
            "right": null,
            "justify_content": null,
            "_view_module": "@jupyter-widgets/base",
            "overflow": null,
            "_model_module_version": "1.2.0",
            "_view_count": null,
            "flex_flow": null,
            "width": null,
            "min_width": null,
            "border": null,
            "align_items": null,
            "bottom": null,
            "_model_module": "@jupyter-widgets/base",
            "top": null,
            "grid_column": null,
            "overflow_y": null,
            "overflow_x": null,
            "grid_auto_flow": null,
            "grid_area": null,
            "grid_template_columns": null,
            "flex": null,
            "_model_name": "LayoutModel",
            "justify_items": null,
            "grid_row": null,
            "max_height": null,
            "align_content": null,
            "visibility": null,
            "align_self": null,
            "height": null,
            "min_height": null,
            "padding": null,
            "grid_auto_rows": null,
            "grid_gap": null,
            "max_width": null,
            "order": null,
            "_view_module_version": "1.2.0",
            "grid_template_areas": null,
            "object_position": null,
            "object_fit": null,
            "grid_auto_columns": null,
            "margin": null,
            "display": null,
            "left": null
          }
        },
        "712386aa941a485a984db638adeabc68": {
          "model_module": "@jupyter-widgets/controls",
          "model_name": "DescriptionStyleModel",
          "state": {
            "_view_name": "StyleView",
            "_model_name": "DescriptionStyleModel",
            "description_width": "",
            "_view_module": "@jupyter-widgets/base",
            "_model_module_version": "1.5.0",
            "_view_count": null,
            "_view_module_version": "1.2.0",
            "_model_module": "@jupyter-widgets/controls"
          }
        },
        "1587dd2f84694b61897f00bef2832dcf": {
          "model_module": "@jupyter-widgets/base",
          "model_name": "LayoutModel",
          "state": {
            "_view_name": "LayoutView",
            "grid_template_rows": null,
            "right": null,
            "justify_content": null,
            "_view_module": "@jupyter-widgets/base",
            "overflow": null,
            "_model_module_version": "1.2.0",
            "_view_count": null,
            "flex_flow": null,
            "width": null,
            "min_width": null,
            "border": null,
            "align_items": null,
            "bottom": null,
            "_model_module": "@jupyter-widgets/base",
            "top": null,
            "grid_column": null,
            "overflow_y": null,
            "overflow_x": null,
            "grid_auto_flow": null,
            "grid_area": null,
            "grid_template_columns": null,
            "flex": null,
            "_model_name": "LayoutModel",
            "justify_items": null,
            "grid_row": null,
            "max_height": null,
            "align_content": null,
            "visibility": null,
            "align_self": null,
            "height": null,
            "min_height": null,
            "padding": null,
            "grid_auto_rows": null,
            "grid_gap": null,
            "max_width": null,
            "order": null,
            "_view_module_version": "1.2.0",
            "grid_template_areas": null,
            "object_position": null,
            "object_fit": null,
            "grid_auto_columns": null,
            "margin": null,
            "display": null,
            "left": null
          }
        },
        "75ca4a3cb5604b3c9f0bb2108fe5930d": {
          "model_module": "@jupyter-widgets/controls",
          "model_name": "HBoxModel",
          "state": {
            "_view_name": "HBoxView",
            "_dom_classes": [],
            "_model_name": "HBoxModel",
            "_view_module": "@jupyter-widgets/controls",
            "_model_module_version": "1.5.0",
            "_view_count": null,
            "_view_module_version": "1.5.0",
            "box_style": "",
            "layout": "IPY_MODEL_aa2d391b6dbe4f76abb4b9005d663b49",
            "_model_module": "@jupyter-widgets/controls",
            "children": [
              "IPY_MODEL_7bf627ae83264785aa3261e97de4eeaf",
              "IPY_MODEL_29f7d73bd71546fd8087ab9b44c670a3"
            ]
          }
        },
        "aa2d391b6dbe4f76abb4b9005d663b49": {
          "model_module": "@jupyter-widgets/base",
          "model_name": "LayoutModel",
          "state": {
            "_view_name": "LayoutView",
            "grid_template_rows": null,
            "right": null,
            "justify_content": null,
            "_view_module": "@jupyter-widgets/base",
            "overflow": null,
            "_model_module_version": "1.2.0",
            "_view_count": null,
            "flex_flow": null,
            "width": null,
            "min_width": null,
            "border": null,
            "align_items": null,
            "bottom": null,
            "_model_module": "@jupyter-widgets/base",
            "top": null,
            "grid_column": null,
            "overflow_y": null,
            "overflow_x": null,
            "grid_auto_flow": null,
            "grid_area": null,
            "grid_template_columns": null,
            "flex": null,
            "_model_name": "LayoutModel",
            "justify_items": null,
            "grid_row": null,
            "max_height": null,
            "align_content": null,
            "visibility": null,
            "align_self": null,
            "height": null,
            "min_height": null,
            "padding": null,
            "grid_auto_rows": null,
            "grid_gap": null,
            "max_width": null,
            "order": null,
            "_view_module_version": "1.2.0",
            "grid_template_areas": null,
            "object_position": null,
            "object_fit": null,
            "grid_auto_columns": null,
            "margin": null,
            "display": null,
            "left": null
          }
        },
        "7bf627ae83264785aa3261e97de4eeaf": {
          "model_module": "@jupyter-widgets/controls",
          "model_name": "FloatProgressModel",
          "state": {
            "_view_name": "ProgressView",
            "style": "IPY_MODEL_88c84009dbed4e5990c9eacaf8ede4f4",
            "_dom_classes": [],
            "description": "",
            "_model_name": "FloatProgressModel",
            "bar_style": "success",
            "max": 5148,
            "_view_module": "@jupyter-widgets/controls",
            "_model_module_version": "1.5.0",
            "value": 5148,
            "_view_count": null,
            "_view_module_version": "1.5.0",
            "orientation": "horizontal",
            "min": 0,
            "description_tooltip": null,
            "_model_module": "@jupyter-widgets/controls",
            "layout": "IPY_MODEL_8974a89e82a14d7dae88daac3617bc6e"
          }
        },
        "29f7d73bd71546fd8087ab9b44c670a3": {
          "model_module": "@jupyter-widgets/controls",
          "model_name": "HTMLModel",
          "state": {
            "_view_name": "HTMLView",
            "style": "IPY_MODEL_2d422b211743429f88031fdebcb9af0f",
            "_dom_classes": [],
            "description": "",
            "_model_name": "HTMLModel",
            "placeholder": "​",
            "_view_module": "@jupyter-widgets/controls",
            "_model_module_version": "1.5.0",
            "value": " 6144/? [02:01&lt;00:00, 50.70it/s]",
            "_view_count": null,
            "_view_module_version": "1.5.0",
            "description_tooltip": null,
            "_model_module": "@jupyter-widgets/controls",
            "layout": "IPY_MODEL_40990ec667ff46ce84c2bb3abeb01f44"
          }
        },
        "88c84009dbed4e5990c9eacaf8ede4f4": {
          "model_module": "@jupyter-widgets/controls",
          "model_name": "ProgressStyleModel",
          "state": {
            "_view_name": "StyleView",
            "_model_name": "ProgressStyleModel",
            "description_width": "initial",
            "_view_module": "@jupyter-widgets/base",
            "_model_module_version": "1.5.0",
            "_view_count": null,
            "_view_module_version": "1.2.0",
            "bar_color": null,
            "_model_module": "@jupyter-widgets/controls"
          }
        },
        "8974a89e82a14d7dae88daac3617bc6e": {
          "model_module": "@jupyter-widgets/base",
          "model_name": "LayoutModel",
          "state": {
            "_view_name": "LayoutView",
            "grid_template_rows": null,
            "right": null,
            "justify_content": null,
            "_view_module": "@jupyter-widgets/base",
            "overflow": null,
            "_model_module_version": "1.2.0",
            "_view_count": null,
            "flex_flow": null,
            "width": null,
            "min_width": null,
            "border": null,
            "align_items": null,
            "bottom": null,
            "_model_module": "@jupyter-widgets/base",
            "top": null,
            "grid_column": null,
            "overflow_y": null,
            "overflow_x": null,
            "grid_auto_flow": null,
            "grid_area": null,
            "grid_template_columns": null,
            "flex": null,
            "_model_name": "LayoutModel",
            "justify_items": null,
            "grid_row": null,
            "max_height": null,
            "align_content": null,
            "visibility": null,
            "align_self": null,
            "height": null,
            "min_height": null,
            "padding": null,
            "grid_auto_rows": null,
            "grid_gap": null,
            "max_width": null,
            "order": null,
            "_view_module_version": "1.2.0",
            "grid_template_areas": null,
            "object_position": null,
            "object_fit": null,
            "grid_auto_columns": null,
            "margin": null,
            "display": null,
            "left": null
          }
        },
        "2d422b211743429f88031fdebcb9af0f": {
          "model_module": "@jupyter-widgets/controls",
          "model_name": "DescriptionStyleModel",
          "state": {
            "_view_name": "StyleView",
            "_model_name": "DescriptionStyleModel",
            "description_width": "",
            "_view_module": "@jupyter-widgets/base",
            "_model_module_version": "1.5.0",
            "_view_count": null,
            "_view_module_version": "1.2.0",
            "_model_module": "@jupyter-widgets/controls"
          }
        },
        "40990ec667ff46ce84c2bb3abeb01f44": {
          "model_module": "@jupyter-widgets/base",
          "model_name": "LayoutModel",
          "state": {
            "_view_name": "LayoutView",
            "grid_template_rows": null,
            "right": null,
            "justify_content": null,
            "_view_module": "@jupyter-widgets/base",
            "overflow": null,
            "_model_module_version": "1.2.0",
            "_view_count": null,
            "flex_flow": null,
            "width": null,
            "min_width": null,
            "border": null,
            "align_items": null,
            "bottom": null,
            "_model_module": "@jupyter-widgets/base",
            "top": null,
            "grid_column": null,
            "overflow_y": null,
            "overflow_x": null,
            "grid_auto_flow": null,
            "grid_area": null,
            "grid_template_columns": null,
            "flex": null,
            "_model_name": "LayoutModel",
            "justify_items": null,
            "grid_row": null,
            "max_height": null,
            "align_content": null,
            "visibility": null,
            "align_self": null,
            "height": null,
            "min_height": null,
            "padding": null,
            "grid_auto_rows": null,
            "grid_gap": null,
            "max_width": null,
            "order": null,
            "_view_module_version": "1.2.0",
            "grid_template_areas": null,
            "object_position": null,
            "object_fit": null,
            "grid_auto_columns": null,
            "margin": null,
            "display": null,
            "left": null
          }
        }
      }
    }
  },
  "cells": [
    {
      "cell_type": "markdown",
      "metadata": {
        "id": "view-in-github",
        "colab_type": "text"
      },
      "source": [
        "<a href=\"https://colab.research.google.com/github/SeongwonTak/TIL_swtak/blob/master/Auto_Encoder.ipynb\" target=\"_parent\"><img src=\"https://colab.research.google.com/assets/colab-badge.svg\" alt=\"Open In Colab\"/></a>"
      ]
    },
    {
      "cell_type": "markdown",
      "metadata": {
        "id": "SddReUzTs6Bk"
      },
      "source": [
        "# Auto_Encoder\n"
      ]
    },
    {
      "cell_type": "markdown",
      "metadata": {
        "id": "Z0Tj6xnOtIw2"
      },
      "source": [
        "## 개념잡기\n",
        "Auto Encoder란, 큰 데이터가 여러 layer를 거쳐 축소하였다가, 다시 복구하는 과정을 거쳐 데이터를 효율적으로 표현하는 방법이다.\n",
        "\n",
        "기본적인 구조는 다음과 같다.\n"
      ]
    },
    {
      "cell_type": "markdown",
      "metadata": {
        "id": "u0HucBHHt3kV"
      },
      "source": [
        "![image.png](data:image/png;base64,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)"
      ]
    },
    {
      "cell_type": "markdown",
      "metadata": {
        "id": "xfLjGPypt41N"
      },
      "source": [
        "인코더 과정을 통해 데이터를 축소, 주요 특성 벡터만 남기고 이를 복구하는 과정을 통하여 데이터를 '잘' 표현하는  것이다."
      ]
    },
    {
      "cell_type": "markdown",
      "metadata": {
        "id": "KkEHYh4K_Zv1"
      },
      "source": [
        "## Auto_Encoder Example\n",
        "\n",
        "실습은 다음 블로그를 바탕으로 진행한다.  \n",
        "http://www.gisdeveloper.co.kr/?p=8900"
      ]
    },
    {
      "cell_type": "code",
      "metadata": {
        "id": "hMjZmGNN_cYA"
      },
      "source": [
        "import torch\n",
        "import torch.nn as nn\n",
        "import torch.optim as optim\n",
        "from torch.optim import lr_scheduler\n",
        "import torchvision.datasets as dset\n",
        "import torchvision.transforms as transforms\n",
        "import matplotlib.pyplot as plt\n",
        "import random\n",
        "from torch.utils.data import DataLoader"
      ],
      "execution_count": 13,
      "outputs": []
    },
    {
      "cell_type": "markdown",
      "metadata": {
        "id": "Hy0L-BcWAb6d"
      },
      "source": [
        "예제는 Fashion MNIST로 진행한다."
      ]
    },
    {
      "cell_type": "code",
      "metadata": {
        "colab": {
          "base_uri": "https://localhost:8080/",
          "height": 497,
          "referenced_widgets": [
            "45efe751fcad41ce8ddc39ebceebe484",
            "299f0207f6fe45cfa77ece767156164b",
            "885b051046434132b2eb2ed66a0a4430",
            "68f0e8d4136b4c52b1791bb3fdbd3c9e",
            "1d409b84f32544c4aa96750122607707",
            "9d228b3b87c647c48be6eca8b6bf44b8",
            "82b37dbcc8414a4aab79e5ebcf5b6aac",
            "ec1d56dc04224f988a0fbbdd2cc1ce14",
            "6a8552001631493d83dd205ee3a9cc98",
            "b2ed0fc7596946169956b407608e7607",
            "57726e6eaac94ae78588b87af9dda2a2",
            "5f169889367043bebe8009f69ecaadae",
            "39a86b3cfe4b450e9f85e31863973946",
            "5689fffe660b49629929c98acc4ab986",
            "71c46715698e49459ebdc275b5a595be",
            "126eb0ca5ca24e78893bb84f0331cf73",
            "c9b09ae5fb4541a6b0f23e1fd714ec21",
            "09e5bdba9fd941a4a4f0e7c447a8fe71",
            "520fb2bdc15c4fce80e6b29adb51c6a3",
            "9a39b832db6841a1b63dc5a27eec2341",
            "cf603da85b4e424893a0b37e24fac731",
            "ef48555cae8840dc83725d6d9a655d5a",
            "712386aa941a485a984db638adeabc68",
            "1587dd2f84694b61897f00bef2832dcf",
            "75ca4a3cb5604b3c9f0bb2108fe5930d",
            "aa2d391b6dbe4f76abb4b9005d663b49",
            "7bf627ae83264785aa3261e97de4eeaf",
            "29f7d73bd71546fd8087ab9b44c670a3",
            "88c84009dbed4e5990c9eacaf8ede4f4",
            "8974a89e82a14d7dae88daac3617bc6e",
            "2d422b211743429f88031fdebcb9af0f",
            "40990ec667ff46ce84c2bb3abeb01f44"
          ]
        },
        "id": "CfRMbNwdAXOO",
        "outputId": "df6350a0-b1dc-433f-936a-810130a6b25b"
      },
      "source": [
        "batch_size = 1024\n",
        "root = './MNIST_Fashion'\n",
        "transform = transforms.Compose([transforms.ToTensor()])\n",
        "train_data = dset.FashionMNIST(root=root, train=True, transform=transform, download=True)\n",
        "test_data = dset.FashionMNIST(root=root, train=False, transform=transform, download=True)\n",
        "train_loader = DataLoader(train_data, batch_size=batch_size, shuffle=True, drop_last=True)\n",
        "test_loader = DataLoader(test_data, batch_size=batch_size, shuffle=False, drop_last=True)"
      ],
      "execution_count": 14,
      "outputs": [
        {
          "output_type": "stream",
          "text": [
            "Downloading http://fashion-mnist.s3-website.eu-central-1.amazonaws.com/train-images-idx3-ubyte.gz\n",
            "Downloading http://fashion-mnist.s3-website.eu-central-1.amazonaws.com/train-images-idx3-ubyte.gz to ./MNIST_Fashion/FashionMNIST/raw/train-images-idx3-ubyte.gz\n"
          ],
          "name": "stdout"
        },
        {
          "output_type": "display_data",
          "data": {
            "application/vnd.jupyter.widget-view+json": {
              "model_id": "45efe751fcad41ce8ddc39ebceebe484",
              "version_minor": 0,
              "version_major": 2
            },
            "text/plain": [
              "HBox(children=(FloatProgress(value=0.0, max=26421880.0), HTML(value='')))"
            ]
          },
          "metadata": {
            "tags": []
          }
        },
        {
          "output_type": "stream",
          "text": [
            "\n",
            "Extracting ./MNIST_Fashion/FashionMNIST/raw/train-images-idx3-ubyte.gz to ./MNIST_Fashion/FashionMNIST/raw\n",
            "\n",
            "Downloading http://fashion-mnist.s3-website.eu-central-1.amazonaws.com/train-labels-idx1-ubyte.gz\n",
            "Downloading http://fashion-mnist.s3-website.eu-central-1.amazonaws.com/train-labels-idx1-ubyte.gz to ./MNIST_Fashion/FashionMNIST/raw/train-labels-idx1-ubyte.gz\n"
          ],
          "name": "stdout"
        },
        {
          "output_type": "display_data",
          "data": {
            "application/vnd.jupyter.widget-view+json": {
              "model_id": "6a8552001631493d83dd205ee3a9cc98",
              "version_minor": 0,
              "version_major": 2
            },
            "text/plain": [
              "HBox(children=(FloatProgress(value=0.0, max=29515.0), HTML(value='')))"
            ]
          },
          "metadata": {
            "tags": []
          }
        },
        {
          "output_type": "stream",
          "text": [
            "\n",
            "Extracting ./MNIST_Fashion/FashionMNIST/raw/train-labels-idx1-ubyte.gz to ./MNIST_Fashion/FashionMNIST/raw\n",
            "\n",
            "Downloading http://fashion-mnist.s3-website.eu-central-1.amazonaws.com/t10k-images-idx3-ubyte.gz\n",
            "Downloading http://fashion-mnist.s3-website.eu-central-1.amazonaws.com/t10k-images-idx3-ubyte.gz to ./MNIST_Fashion/FashionMNIST/raw/t10k-images-idx3-ubyte.gz\n"
          ],
          "name": "stdout"
        },
        {
          "output_type": "display_data",
          "data": {
            "application/vnd.jupyter.widget-view+json": {
              "model_id": "c9b09ae5fb4541a6b0f23e1fd714ec21",
              "version_minor": 0,
              "version_major": 2
            },
            "text/plain": [
              "HBox(children=(FloatProgress(value=0.0, max=4422102.0), HTML(value='')))"
            ]
          },
          "metadata": {
            "tags": []
          }
        },
        {
          "output_type": "stream",
          "text": [
            "\n",
            "Extracting ./MNIST_Fashion/FashionMNIST/raw/t10k-images-idx3-ubyte.gz to ./MNIST_Fashion/FashionMNIST/raw\n",
            "\n",
            "Downloading http://fashion-mnist.s3-website.eu-central-1.amazonaws.com/t10k-labels-idx1-ubyte.gz\n",
            "Downloading http://fashion-mnist.s3-website.eu-central-1.amazonaws.com/t10k-labels-idx1-ubyte.gz to ./MNIST_Fashion/FashionMNIST/raw/t10k-labels-idx1-ubyte.gz\n"
          ],
          "name": "stdout"
        },
        {
          "output_type": "display_data",
          "data": {
            "application/vnd.jupyter.widget-view+json": {
              "model_id": "75ca4a3cb5604b3c9f0bb2108fe5930d",
              "version_minor": 0,
              "version_major": 2
            },
            "text/plain": [
              "HBox(children=(FloatProgress(value=0.0, max=5148.0), HTML(value='')))"
            ]
          },
          "metadata": {
            "tags": []
          }
        },
        {
          "output_type": "stream",
          "text": [
            "\n",
            "Extracting ./MNIST_Fashion/FashionMNIST/raw/t10k-labels-idx1-ubyte.gz to ./MNIST_Fashion/FashionMNIST/raw\n",
            "\n"
          ],
          "name": "stdout"
        }
      ]
    },
    {
      "cell_type": "markdown",
      "metadata": {
        "id": "l7hrz9yQAvEN"
      },
      "source": [
        "Auto_Encoder에, CNN을 활용하여 이미지를 분류해보고자 한다.\n"
      ]
    },
    {
      "cell_type": "code",
      "metadata": {
        "id": "a765i7zLAm9L"
      },
      "source": [
        "z_size = 200\n",
        "class AutoEncoder(nn.Module):\n",
        "    def __init__(self):\n",
        "        super(AutoEncoder, self).__init__()\n",
        "        self.encoder = nn.Sequential(\n",
        "            # 28 * 28 * 1 -> 14 * 14 * 32\n",
        "            nn.Conv2d(in_channels=1, out_channels=32, kernel_size=2, stride=2, bias=False),\n",
        "            nn.LeakyReLU(),\n",
        "            # 14 * 14 * 32 -> 7 * 7 * 64\n",
        "            nn.Conv2d(in_channels=32, out_channels=64, kernel_size=2, stride=2, bias=False),\n",
        "            nn.LeakyReLU(),\n",
        "            # 7 * 7 * 64 -> 3136\n",
        "            Reshape((-1,7*7*64)),\n",
        "            # 3136 -> 200\n",
        "            nn.Linear(7*7*64, z_size),\n",
        "            nn.LeakyReLU(),\n",
        "        )\n",
        "        self.decoder = nn.Sequential(\n",
        "            # 200 -> 3136\n",
        "            nn.Linear(z_size, 7*7*64),\n",
        "            nn.LeakyReLU(),\n",
        "            # 3136 -> 7 * 7 * 64\n",
        "            Reshape((-1,64,7,7)),\n",
        "            # 7 * 7 * 64 -> 14 * 14 * 32\n",
        "            nn.ConvTranspose2d(in_channels=64, out_channels=32, kernel_size=2, stride=2, bias=False),\n",
        "            nn.LeakyReLU(),\n",
        "            # 14 * 14 * 32 -> 28 * 28 * 1\n",
        "            nn.ConvTranspose2d(in_channels=32, out_channels=1, kernel_size=2, stride=2, bias=False),\n",
        "            nn.Sigmoid()\n",
        "        )\n",
        "    def forward(self, x):\n",
        "        out = self.encoder(x)\n",
        "        out = self.decoder(out)\n",
        "        return out"
      ],
      "execution_count": 15,
      "outputs": []
    },
    {
      "cell_type": "markdown",
      "metadata": {
        "id": "Pns9hHNPBidF"
      },
      "source": [
        "위에서 Reshape는 텐서의 크기를 변형해주는 것으로 이는 다음과 같이 사용된다."
      ]
    },
    {
      "cell_type": "code",
      "metadata": {
        "id": "FKoX5MuQBehI"
      },
      "source": [
        "class Reshape(nn.Module):\n",
        "    def __init__(self, shape):\n",
        "        super(Reshape, self).__init__()\n",
        "        self.shape = shape\n",
        "    def forward(self, x):\n",
        "        return x.view(*self.shape)"
      ],
      "execution_count": 16,
      "outputs": []
    },
    {
      "cell_type": "markdown",
      "metadata": {
        "id": "lo2-xOWIBsfY"
      },
      "source": [
        "학습 결과를 확인해보면 다음과 같다."
      ]
    },
    {
      "cell_type": "code",
      "metadata": {
        "colab": {
          "base_uri": "https://localhost:8080/"
        },
        "id": "VVP-oTa6Blw-",
        "outputId": "70f2f49f-2a22-4899-f83e-b5a04b577045"
      },
      "source": [
        "num_epochs = 15\n",
        "device = torch.device(\"cuda:0\" if torch.cuda.is_available() else \"cpu\")\n",
        "model = AutoEncoder().to(device)\n",
        "loss_func = nn.MSELoss().to(device)\n",
        "optimizer = optim.Adam(model.parameters())\n",
        "scheduler = lr_scheduler.ReduceLROnPlateau(optimizer,threshold=0.1, patience=1, mode='min')    \n",
        "for i in range(num_epochs):\n",
        "    for _, [image, _] in enumerate(train_loader):\n",
        "        x = image.to(device)\n",
        "        y_= image.to(device)\n",
        "        \n",
        "        optimizer.zero_grad()\n",
        "        output = model(x)\n",
        "        loss = loss_func(output, y_)\n",
        "        loss.backward()\n",
        "        optimizer.step()\n",
        " \n",
        "    scheduler.step(loss)      \n",
        "    print('Epoch: {}, Loss: {}, LR: {}'.format(i, loss.item(), scheduler.optimizer.state_dict()['param_groups'][0]['lr']))"
      ],
      "execution_count": 17,
      "outputs": [
        {
          "output_type": "stream",
          "text": [
            "Epoch: 0, Loss: 0.04289799928665161, LR: 0.001\n",
            "Epoch: 1, Loss: 0.02242140658199787, LR: 0.001\n",
            "Epoch: 2, Loss: 0.016558602452278137, LR: 0.001\n",
            "Epoch: 3, Loss: 0.014638549648225307, LR: 0.001\n",
            "Epoch: 4, Loss: 0.013551536947488785, LR: 0.001\n",
            "Epoch: 5, Loss: 0.01199363823980093, LR: 0.001\n",
            "Epoch: 6, Loss: 0.011292779818177223, LR: 0.001\n",
            "Epoch: 7, Loss: 0.010612430982291698, LR: 0.001\n",
            "Epoch: 8, Loss: 0.009382378309965134, LR: 0.001\n",
            "Epoch: 9, Loss: 0.00942946132272482, LR: 0.001\n",
            "Epoch: 10, Loss: 0.008690737187862396, LR: 0.0001\n",
            "Epoch: 11, Loss: 0.008531913161277771, LR: 0.0001\n",
            "Epoch: 12, Loss: 0.00851092766970396, LR: 1e-05\n",
            "Epoch: 13, Loss: 0.008340747095644474, LR: 1e-05\n",
            "Epoch: 14, Loss: 0.00836231280118227, LR: 1e-05\n"
          ],
          "name": "stdout"
        }
      ]
    },
    {
      "cell_type": "markdown",
      "metadata": {
        "id": "75W1RB3uUBfW"
      },
      "source": [
        ""
      ]
    },
    {
      "cell_type": "code",
      "metadata": {
        "id": "5nQaubGwBorf"
      },
      "source": [
        ""
      ],
      "execution_count": null,
      "outputs": []
    }
  ]
}