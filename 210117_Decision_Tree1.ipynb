{
  "nbformat": 4,
  "nbformat_minor": 0,
  "metadata": {
    "colab": {
      "name": "210117_Decision Tree1.ipynb",
      "provenance": [],
      "authorship_tag": "ABX9TyMSdYpXWCP+bh6ntKJlxwyL",
      "include_colab_link": true
    },
    "kernelspec": {
      "name": "python3",
      "display_name": "Python 3"
    }
  },
  "cells": [
    {
      "cell_type": "markdown",
      "metadata": {
        "id": "view-in-github",
        "colab_type": "text"
      },
      "source": [
        "<a href=\"https://colab.research.google.com/github/SeongwonTak/TIL_swtak/blob/master/210117_Decision_Tree1.ipynb\" target=\"_parent\"><img src=\"https://colab.research.google.com/assets/colab-badge.svg\" alt=\"Open In Colab\"/></a>"
      ]
    },
    {
      "cell_type": "markdown",
      "metadata": {
        "id": "LcgpFFX-d2jS"
      },
      "source": [
        "# 210117 Decision Tree(결정트리) 1회차\r\n",
        "\r\n",
        "##1. 결정트리란?\r\n",
        "\r\n",
        "결정트리는 분류 모델의 일종으로, 일련의 질문에 대해 대답하며, 데이터를 분해하는 모델이라고 볼 수 있다.\r\n",
        "\r\n",
        "예를들어, 스무고개를 생각할 수 있다.\r\n",
        "- 동물인가? 식물인가?\r\n",
        "- 동물이면 다리가 2개인가? 4개인가?\r\n",
        "- 식물이면 쌍떡잎식물인가 외떡잎식물인가..?\r\n",
        "\r\n",
        "이렇게 분류를 하다보면, 하나의 특성에 도달하게 되고, 답을 얻게 된다.\r\n",
        "\r\n",
        "이를 위해서는 다음과 같은 방식으로 알고리즘을 짜야 한다.\r\n",
        "\r\n",
        "1. 트리의 루트에서 시작한다.\r\n",
        "2. 분류가 잘 될 수 있는 질문을 한다. (즉, 한 쪽이 잘 걸러지는)\r\n",
        "3. 이를 반복하여, 도착점이 유일한 분류를 가질 수 있도록 만든다.\r\n",
        "\r\n",
        "실제로, 자식 노드측에서 모두 동일한 샘플을 가지게 만들기 위해서는 비용도 많이 들고 과적합의 위험이 있기에, **트리의 최대 깊이를 제한하게 된다.**\r\n",
        "\r\n"
      ]
    },
    {
      "cell_type": "markdown",
      "metadata": {
        "id": "J1PJEDFKgorb"
      },
      "source": [
        "## 2. 일단 코드부터 보자.\r\n",
        "\r\n",
        "일단 모델의 예시를 보는 것이 가장 빠르기에, 어떻게 사용하고 활용하는지를 보려고 한다.\r\n",
        "\r\n",
        "sklearn에는 **DecisionTreeClassifier**라는 메소드가 있다.\r\n",
        "우선 이를 어떻게 쓰는지 알아보고, 모델에 대한 해석을 하려고 한다."
      ]
    },
    {
      "cell_type": "code",
      "metadata": {
        "id": "-s9-gppqiAg4"
      },
      "source": [
        "from sklearn.datasets import load_iris\r\n",
        "from sklearn.tree import DecisionTreeClassifier\r\n",
        "\r\n",
        "iris = load_iris()\r\n",
        "\r\n",
        "X = iris['data']\r\n",
        "y = iris['target']\r\n",
        "decision_tree = DecisionTreeClassifier(random_state = 0, \r\n",
        "                                      max_depth=4, \r\n",
        "                                      criterion='gini')\r\n",
        "decision_tree = decision_tree.fit(X,y)"
      ],
      "execution_count": 3,
      "outputs": []
    },
    {
      "cell_type": "markdown",
      "metadata": {
        "id": "Erj5TxhOoAnI"
      },
      "source": [
        "기본적으로는 위의 방식대로 분류를 한다.\r\n",
        "이에 대한 결과를 확인/시각화 하는 방법이 여러가지가 있는데, 우선은 sklearn의 tree package의 활용법이다."
      ]
    },
    {
      "cell_type": "code",
      "metadata": {
        "colab": {
          "base_uri": "https://localhost:8080/",
          "height": 512
        },
        "id": "M3mP0G2toMvt",
        "outputId": "4fa6e25c-3a0c-4b91-ecb6-37393c1f6740"
      },
      "source": [
        "from sklearn import tree\r\n",
        "tree.plot_tree(decision_tree)"
      ],
      "execution_count": 4,
      "outputs": [
        {
          "output_type": "execute_result",
          "data": {
            "text/plain": [
              "[Text(167.4, 195.696, 'X[3] <= 0.8\\ngini = 0.667\\nsamples = 150\\nvalue = [50, 50, 50]'),\n",
              " Text(141.64615384615385, 152.208, 'gini = 0.0\\nsamples = 50\\nvalue = [50, 0, 0]'),\n",
              " Text(193.15384615384616, 152.208, 'X[3] <= 1.75\\ngini = 0.5\\nsamples = 100\\nvalue = [0, 50, 50]'),\n",
              " Text(103.01538461538462, 108.72, 'X[2] <= 4.95\\ngini = 0.168\\nsamples = 54\\nvalue = [0, 49, 5]'),\n",
              " Text(51.50769230769231, 65.232, 'X[3] <= 1.65\\ngini = 0.041\\nsamples = 48\\nvalue = [0, 47, 1]'),\n",
              " Text(25.753846153846155, 21.744, 'gini = 0.0\\nsamples = 47\\nvalue = [0, 47, 0]'),\n",
              " Text(77.26153846153846, 21.744, 'gini = 0.0\\nsamples = 1\\nvalue = [0, 0, 1]'),\n",
              " Text(154.52307692307693, 65.232, 'X[3] <= 1.55\\ngini = 0.444\\nsamples = 6\\nvalue = [0, 2, 4]'),\n",
              " Text(128.76923076923077, 21.744, 'gini = 0.0\\nsamples = 3\\nvalue = [0, 0, 3]'),\n",
              " Text(180.27692307692308, 21.744, 'gini = 0.444\\nsamples = 3\\nvalue = [0, 2, 1]'),\n",
              " Text(283.2923076923077, 108.72, 'X[2] <= 4.85\\ngini = 0.043\\nsamples = 46\\nvalue = [0, 1, 45]'),\n",
              " Text(257.53846153846155, 65.232, 'X[0] <= 5.95\\ngini = 0.444\\nsamples = 3\\nvalue = [0, 1, 2]'),\n",
              " Text(231.7846153846154, 21.744, 'gini = 0.0\\nsamples = 1\\nvalue = [0, 1, 0]'),\n",
              " Text(283.2923076923077, 21.744, 'gini = 0.0\\nsamples = 2\\nvalue = [0, 0, 2]'),\n",
              " Text(309.04615384615386, 65.232, 'gini = 0.0\\nsamples = 43\\nvalue = [0, 0, 43]')]"
            ]
          },
          "metadata": {
            "tags": []
          },
          "execution_count": 4
        },
        {
          "output_type": "display_data",
          "data": {
            "image/png": "[encoded data removed]",
            "text/plain": [
              "<Figure size 432x288 with 1 Axes>"
            ]
          },
          "metadata": {
            "tags": [],
            "needs_background": "light"
          }
        }
      ]
    },
    {
      "cell_type": "markdown",
      "metadata": {
        "id": "Hx5PevsFocHd"
      },
      "source": [
        "그림이 잘 작아서 안보이지만, 첫번째 노드에서 분기를 통해 하나의 특성을 완벽히 분류했음을 알 수 있고 나머지도 특성을 나누었음을 알 수 있다. 깊이를 제한했기에 일부 노드에서 결국 3개중 2개를 가르지 못했음을 알 수 있지만 150개중에서 3개에 실패한 정도이므로 크게 아쉽지는 않다."
      ]
    },
    {
      "cell_type": "markdown",
      "metadata": {
        "id": "qFNgBf8VorJB"
      },
      "source": [
        "이를 텍스트를 통해 결과를 확인하는 방법도 존재한다."
      ]
    },
    {
      "cell_type": "code",
      "metadata": {
        "colab": {
          "base_uri": "https://localhost:8080/"
        },
        "id": "KnxVk8typI3-",
        "outputId": "af8b1d7c-f0cf-4118-caf2-9a629d0ca308"
      },
      "source": [
        "from sklearn.tree import export_text\r\n",
        "\r\n",
        "r = export_text(decision_tree, \r\n",
        "                feature_names=iris['feature_names'])\r\n",
        "print(r)"
      ],
      "execution_count": 5,
      "outputs": [
        {
          "output_type": "stream",
          "text": [
            "|--- petal width (cm) <= 0.80\n",
            "|   |--- class: 0\n",
            "|--- petal width (cm) >  0.80\n",
            "|   |--- petal width (cm) <= 1.75\n",
            "|   |   |--- petal length (cm) <= 4.95\n",
            "|   |   |   |--- petal width (cm) <= 1.65\n",
            "|   |   |   |   |--- class: 1\n",
            "|   |   |   |--- petal width (cm) >  1.65\n",
            "|   |   |   |   |--- class: 2\n",
            "|   |   |--- petal length (cm) >  4.95\n",
            "|   |   |   |--- petal width (cm) <= 1.55\n",
            "|   |   |   |   |--- class: 2\n",
            "|   |   |   |--- petal width (cm) >  1.55\n",
            "|   |   |   |   |--- class: 1\n",
            "|   |--- petal width (cm) >  1.75\n",
            "|   |   |--- petal length (cm) <= 4.85\n",
            "|   |   |   |--- sepal length (cm) <= 5.95\n",
            "|   |   |   |   |--- class: 1\n",
            "|   |   |   |--- sepal length (cm) >  5.95\n",
            "|   |   |   |   |--- class: 2\n",
            "|   |   |--- petal length (cm) >  4.85\n",
            "|   |   |   |--- class: 2\n",
            "\n"
          ],
          "name": "stdout"
        }
      ]
    },
    {
      "cell_type": "markdown",
      "metadata": {
        "id": "oOzZPW1ftm-n"
      },
      "source": [
        "graphiz 패키지를 사용하면 다음과 같이 디자인도 가능하다."
      ]
    },
    {
      "cell_type": "code",
      "metadata": {
        "colab": {
          "base_uri": "https://localhost:8080/",
          "height": 755
        },
        "id": "4NcLb2BNtDTx",
        "outputId": "bf81330a-1dce-4014-f170-86065d97e1e3"
      },
      "source": [
        "import graphviz\r\n",
        "dot_data = tree.export_graphviz(decision_tree, out_file=None,\r\n",
        "                                feature_names = iris.feature_names,\r\n",
        "                                filled = True,\r\n",
        "                                class_names=iris.target_names)\r\n",
        "graph = graphviz.Source(dot_data)\r\n",
        "graph"
      ],
      "execution_count": 8,
      "outputs": [
        {
          "output_type": "execute_result",
          "data": {
            "text/plain": [
              "<graphviz.files.Source at 0x7f43e4acc7f0>"
            ],
            "image/svg+xml": "<?xml version=\"1.0\" encoding=\"UTF-8\" standalone=\"no\"?>\n<!DOCTYPE svg PUBLIC \"-//W3C//DTD SVG 1.1//EN\"\n \"http://www.w3.org/Graphics/SVG/1.1/DTD/svg11.dtd\">\n<!-- Generated by graphviz version 2.40.1 (20161225.0304)\n -->\n<!-- Title: Tree Pages: 1 -->\n<svg width=\"808pt\" height=\"552pt\"\n viewBox=\"0.00 0.00 808.00 552.00\" xmlns=\"http://www.w3.org/2000/svg\" xmlns:xlink=\"http://www.w3.org/1999/xlink\">\n<g id=\"graph0\" class=\"graph\" transform=\"scale(1 1) rotate(0) translate(4 548)\">\n<title>Tree</title>\n<polygon fill=\"#ffffff\" stroke=\"transparent\" points=\"-4,4 -4,-548 804,-548 804,4 -4,4\"/>\n<!-- 0 -->\n<g id=\"node1\" class=\"node\">\n<title>0</title>\n<polygon fill=\"#ffffff\" stroke=\"#000000\" points=\"481,-544 328,-544 328,-461 481,-461 481,-544\"/>\n<text text-anchor=\"middle\" x=\"404.5\" y=\"-528.8\" font-family=\"Times,serif\" font-size=\"14.00\" fill=\"#000000\">petal width (cm) &lt;= 0.8</text>\n<text text-anchor=\"middle\" x=\"404.5\" y=\"-513.8\" font-family=\"Times,serif\" font-size=\"14.00\" fill=\"#000000\">gini = 0.667</text>\n<text text-anchor=\"middle\" x=\"404.5\" y=\"-498.8\" font-family=\"Times,serif\" font-size=\"14.00\" fill=\"#000000\">samples = 150</text>\n<text text-anchor=\"middle\" x=\"404.5\" y=\"-483.8\" font-family=\"Times,serif\" font-size=\"14.00\" fill=\"#000000\">value = [50, 50, 50]</text>\n<text text-anchor=\"middle\" x=\"404.5\" y=\"-468.8\" font-family=\"Times,serif\" font-size=\"14.00\" fill=\"#000000\">class = setosa</text>\n</g>\n<!-- 1 -->\n<g id=\"node2\" class=\"node\">\n<title>1</title>\n<polygon fill=\"#e58139\" stroke=\"#000000\" points=\"385,-417.5 268,-417.5 268,-349.5 385,-349.5 385,-417.5\"/>\n<text text-anchor=\"middle\" x=\"326.5\" y=\"-402.3\" font-family=\"Times,serif\" font-size=\"14.00\" fill=\"#000000\">gini = 0.0</text>\n<text text-anchor=\"middle\" x=\"326.5\" y=\"-387.3\" font-family=\"Times,serif\" font-size=\"14.00\" fill=\"#000000\">samples = 50</text>\n<text text-anchor=\"middle\" x=\"326.5\" y=\"-372.3\" font-family=\"Times,serif\" font-size=\"14.00\" fill=\"#000000\">value = [50, 0, 0]</text>\n<text text-anchor=\"middle\" x=\"326.5\" y=\"-357.3\" font-family=\"Times,serif\" font-size=\"14.00\" fill=\"#000000\">class = setosa</text>\n</g>\n<!-- 0&#45;&gt;1 -->\n<g id=\"edge1\" class=\"edge\">\n<title>0&#45;&gt;1</title>\n<path fill=\"none\" stroke=\"#000000\" d=\"M377.2194,-460.8796C369.8677,-449.6636 361.9036,-437.5131 354.5126,-426.2372\"/>\n<polygon fill=\"#000000\" stroke=\"#000000\" points=\"357.4014,-424.2598 348.9921,-417.8149 351.5469,-428.0972 357.4014,-424.2598\"/>\n<text text-anchor=\"middle\" x=\"343.8982\" y=\"-438.5905\" font-family=\"Times,serif\" font-size=\"14.00\" fill=\"#000000\">True</text>\n</g>\n<!-- 2 -->\n<g id=\"node3\" class=\"node\">\n<title>2</title>\n<polygon fill=\"#ffffff\" stroke=\"#000000\" points=\"564,-425 403,-425 403,-342 564,-342 564,-425\"/>\n<text text-anchor=\"middle\" x=\"483.5\" y=\"-409.8\" font-family=\"Times,serif\" font-size=\"14.00\" fill=\"#000000\">petal width (cm) &lt;= 1.75</text>\n<text text-anchor=\"middle\" x=\"483.5\" y=\"-394.8\" font-family=\"Times,serif\" font-size=\"14.00\" fill=\"#000000\">gini = 0.5</text>\n<text text-anchor=\"middle\" x=\"483.5\" y=\"-379.8\" font-family=\"Times,serif\" font-size=\"14.00\" fill=\"#000000\">samples = 100</text>\n<text text-anchor=\"middle\" x=\"483.5\" y=\"-364.8\" font-family=\"Times,serif\" font-size=\"14.00\" fill=\"#000000\">value = [0, 50, 50]</text>\n<text text-anchor=\"middle\" x=\"483.5\" y=\"-349.8\" font-family=\"Times,serif\" font-size=\"14.00\" fill=\"#000000\">class = versicolor</text>\n</g>\n<!-- 0&#45;&gt;2 -->\n<g id=\"edge2\" class=\"edge\">\n<title>0&#45;&gt;2</title>\n<path fill=\"none\" stroke=\"#000000\" d=\"M432.1304,-460.8796C437.93,-452.1434 444.1059,-442.8404 450.0908,-433.8253\"/>\n<polygon fill=\"#000000\" stroke=\"#000000\" points=\"453.1368,-435.5652 455.7517,-425.2981 447.3049,-431.6935 453.1368,-435.5652\"/>\n<text text-anchor=\"middle\" x=\"460.7022\" y=\"-446.103\" font-family=\"Times,serif\" font-size=\"14.00\" fill=\"#000000\">False</text>\n</g>\n<!-- 3 -->\n<g id=\"node4\" class=\"node\">\n<title>3</title>\n<polygon fill=\"#4de88e\" stroke=\"#000000\" points=\"466.5,-306 302.5,-306 302.5,-223 466.5,-223 466.5,-306\"/>\n<text text-anchor=\"middle\" x=\"384.5\" y=\"-290.8\" font-family=\"Times,serif\" font-size=\"14.00\" fill=\"#000000\">petal length (cm) &lt;= 4.95</text>\n<text text-anchor=\"middle\" x=\"384.5\" y=\"-275.8\" font-family=\"Times,serif\" font-size=\"14.00\" fill=\"#000000\">gini = 0.168</text>\n<text text-anchor=\"middle\" x=\"384.5\" y=\"-260.8\" font-family=\"Times,serif\" font-size=\"14.00\" fill=\"#000000\">samples = 54</text>\n<text text-anchor=\"middle\" x=\"384.5\" y=\"-245.8\" font-family=\"Times,serif\" font-size=\"14.00\" fill=\"#000000\">value = [0, 49, 5]</text>\n<text text-anchor=\"middle\" x=\"384.5\" y=\"-230.8\" font-family=\"Times,serif\" font-size=\"14.00\" fill=\"#000000\">class = versicolor</text>\n</g>\n<!-- 2&#45;&gt;3 -->\n<g id=\"edge3\" class=\"edge\">\n<title>2&#45;&gt;3</title>\n<path fill=\"none\" stroke=\"#000000\" d=\"M448.8746,-341.8796C441.382,-332.8733 433.3881,-323.2644 425.6721,-313.9897\"/>\n<polygon fill=\"#000000\" stroke=\"#000000\" points=\"428.3593,-311.7472 419.2732,-306.2981 422.9781,-316.224 428.3593,-311.7472\"/>\n</g>\n<!-- 10 -->\n<g id=\"node11\" class=\"node\">\n<title>10</title>\n<polygon fill=\"#843de6\" stroke=\"#000000\" points=\"664.5,-306 500.5,-306 500.5,-223 664.5,-223 664.5,-306\"/>\n<text text-anchor=\"middle\" x=\"582.5\" y=\"-290.8\" font-family=\"Times,serif\" font-size=\"14.00\" fill=\"#000000\">petal length (cm) &lt;= 4.85</text>\n<text text-anchor=\"middle\" x=\"582.5\" y=\"-275.8\" font-family=\"Times,serif\" font-size=\"14.00\" fill=\"#000000\">gini = 0.043</text>\n<text text-anchor=\"middle\" x=\"582.5\" y=\"-260.8\" font-family=\"Times,serif\" font-size=\"14.00\" fill=\"#000000\">samples = 46</text>\n<text text-anchor=\"middle\" x=\"582.5\" y=\"-245.8\" font-family=\"Times,serif\" font-size=\"14.00\" fill=\"#000000\">value = [0, 1, 45]</text>\n<text text-anchor=\"middle\" x=\"582.5\" y=\"-230.8\" font-family=\"Times,serif\" font-size=\"14.00\" fill=\"#000000\">class = virginica</text>\n</g>\n<!-- 2&#45;&gt;10 -->\n<g id=\"edge10\" class=\"edge\">\n<title>2&#45;&gt;10</title>\n<path fill=\"none\" stroke=\"#000000\" d=\"M518.1254,-341.8796C525.618,-332.8733 533.6119,-323.2644 541.3279,-313.9897\"/>\n<polygon fill=\"#000000\" stroke=\"#000000\" points=\"544.0219,-316.224 547.7268,-306.2981 538.6407,-311.7472 544.0219,-316.224\"/>\n</g>\n<!-- 4 -->\n<g id=\"node5\" class=\"node\">\n<title>4</title>\n<polygon fill=\"#3de684\" stroke=\"#000000\" points=\"271,-187 110,-187 110,-104 271,-104 271,-187\"/>\n<text text-anchor=\"middle\" x=\"190.5\" y=\"-171.8\" font-family=\"Times,serif\" font-size=\"14.00\" fill=\"#000000\">petal width (cm) &lt;= 1.65</text>\n<text text-anchor=\"middle\" x=\"190.5\" y=\"-156.8\" font-family=\"Times,serif\" font-size=\"14.00\" fill=\"#000000\">gini = 0.041</text>\n<text text-anchor=\"middle\" x=\"190.5\" y=\"-141.8\" font-family=\"Times,serif\" font-size=\"14.00\" fill=\"#000000\">samples = 48</text>\n<text text-anchor=\"middle\" x=\"190.5\" y=\"-126.8\" font-family=\"Times,serif\" font-size=\"14.00\" fill=\"#000000\">value = [0, 47, 1]</text>\n<text text-anchor=\"middle\" x=\"190.5\" y=\"-111.8\" font-family=\"Times,serif\" font-size=\"14.00\" fill=\"#000000\">class = versicolor</text>\n</g>\n<!-- 3&#45;&gt;4 -->\n<g id=\"edge4\" class=\"edge\">\n<title>3&#45;&gt;4</title>\n<path fill=\"none\" stroke=\"#000000\" d=\"M316.6482,-222.8796C300.6989,-213.0962 283.5904,-202.6019 267.2802,-192.5971\"/>\n<polygon fill=\"#000000\" stroke=\"#000000\" points=\"268.6677,-189.3422 258.3135,-187.0969 265.0075,-195.3091 268.6677,-189.3422\"/>\n</g>\n<!-- 7 -->\n<g id=\"node8\" class=\"node\">\n<title>7</title>\n<polygon fill=\"#c09cf2\" stroke=\"#000000\" points=\"465,-187 304,-187 304,-104 465,-104 465,-187\"/>\n<text text-anchor=\"middle\" x=\"384.5\" y=\"-171.8\" font-family=\"Times,serif\" font-size=\"14.00\" fill=\"#000000\">petal width (cm) &lt;= 1.55</text>\n<text text-anchor=\"middle\" x=\"384.5\" y=\"-156.8\" font-family=\"Times,serif\" font-size=\"14.00\" fill=\"#000000\">gini = 0.444</text>\n<text text-anchor=\"middle\" x=\"384.5\" y=\"-141.8\" font-family=\"Times,serif\" font-size=\"14.00\" fill=\"#000000\">samples = 6</text>\n<text text-anchor=\"middle\" x=\"384.5\" y=\"-126.8\" font-family=\"Times,serif\" font-size=\"14.00\" fill=\"#000000\">value = [0, 2, 4]</text>\n<text text-anchor=\"middle\" x=\"384.5\" y=\"-111.8\" font-family=\"Times,serif\" font-size=\"14.00\" fill=\"#000000\">class = virginica</text>\n</g>\n<!-- 3&#45;&gt;7 -->\n<g id=\"edge7\" class=\"edge\">\n<title>3&#45;&gt;7</title>\n<path fill=\"none\" stroke=\"#000000\" d=\"M384.5,-222.8796C384.5,-214.6838 384.5,-205.9891 384.5,-197.5013\"/>\n<polygon fill=\"#000000\" stroke=\"#000000\" points=\"388.0001,-197.298 384.5,-187.2981 381.0001,-197.2981 388.0001,-197.298\"/>\n</g>\n<!-- 5 -->\n<g id=\"node6\" class=\"node\">\n<title>5</title>\n<polygon fill=\"#39e581\" stroke=\"#000000\" points=\"117,-68 0,-68 0,0 117,0 117,-68\"/>\n<text text-anchor=\"middle\" x=\"58.5\" y=\"-52.8\" font-family=\"Times,serif\" font-size=\"14.00\" fill=\"#000000\">gini = 0.0</text>\n<text text-anchor=\"middle\" x=\"58.5\" y=\"-37.8\" font-family=\"Times,serif\" font-size=\"14.00\" fill=\"#000000\">samples = 47</text>\n<text text-anchor=\"middle\" x=\"58.5\" y=\"-22.8\" font-family=\"Times,serif\" font-size=\"14.00\" fill=\"#000000\">value = [0, 47, 0]</text>\n<text text-anchor=\"middle\" x=\"58.5\" y=\"-7.8\" font-family=\"Times,serif\" font-size=\"14.00\" fill=\"#000000\">class = versicolor</text>\n</g>\n<!-- 4&#45;&gt;5 -->\n<g id=\"edge5\" class=\"edge\">\n<title>4&#45;&gt;5</title>\n<path fill=\"none\" stroke=\"#000000\" d=\"M141.3481,-103.9815C130.0324,-94.4232 118.0087,-84.2668 106.7325,-74.7419\"/>\n<polygon fill=\"#000000\" stroke=\"#000000\" points=\"108.9612,-72.0429 99.0633,-68.2637 104.4441,-77.3904 108.9612,-72.0429\"/>\n</g>\n<!-- 6 -->\n<g id=\"node7\" class=\"node\">\n<title>6</title>\n<polygon fill=\"#8139e5\" stroke=\"#000000\" points=\"245.5,-68 135.5,-68 135.5,0 245.5,0 245.5,-68\"/>\n<text text-anchor=\"middle\" x=\"190.5\" y=\"-52.8\" font-family=\"Times,serif\" font-size=\"14.00\" fill=\"#000000\">gini = 0.0</text>\n<text text-anchor=\"middle\" x=\"190.5\" y=\"-37.8\" font-family=\"Times,serif\" font-size=\"14.00\" fill=\"#000000\">samples = 1</text>\n<text text-anchor=\"middle\" x=\"190.5\" y=\"-22.8\" font-family=\"Times,serif\" font-size=\"14.00\" fill=\"#000000\">value = [0, 0, 1]</text>\n<text text-anchor=\"middle\" x=\"190.5\" y=\"-7.8\" font-family=\"Times,serif\" font-size=\"14.00\" fill=\"#000000\">class = virginica</text>\n</g>\n<!-- 4&#45;&gt;6 -->\n<g id=\"edge6\" class=\"edge\">\n<title>4&#45;&gt;6</title>\n<path fill=\"none\" stroke=\"#000000\" d=\"M190.5,-103.9815C190.5,-95.618 190.5,-86.7965 190.5,-78.3409\"/>\n<polygon fill=\"#000000\" stroke=\"#000000\" points=\"194.0001,-78.2636 190.5,-68.2637 187.0001,-78.2637 194.0001,-78.2636\"/>\n</g>\n<!-- 8 -->\n<g id=\"node9\" class=\"node\">\n<title>8</title>\n<polygon fill=\"#8139e5\" stroke=\"#000000\" points=\"373.5,-68 263.5,-68 263.5,0 373.5,0 373.5,-68\"/>\n<text text-anchor=\"middle\" x=\"318.5\" y=\"-52.8\" font-family=\"Times,serif\" font-size=\"14.00\" fill=\"#000000\">gini = 0.0</text>\n<text text-anchor=\"middle\" x=\"318.5\" y=\"-37.8\" font-family=\"Times,serif\" font-size=\"14.00\" fill=\"#000000\">samples = 3</text>\n<text text-anchor=\"middle\" x=\"318.5\" y=\"-22.8\" font-family=\"Times,serif\" font-size=\"14.00\" fill=\"#000000\">value = [0, 0, 3]</text>\n<text text-anchor=\"middle\" x=\"318.5\" y=\"-7.8\" font-family=\"Times,serif\" font-size=\"14.00\" fill=\"#000000\">class = virginica</text>\n</g>\n<!-- 7&#45;&gt;8 -->\n<g id=\"edge8\" class=\"edge\">\n<title>7&#45;&gt;8</title>\n<path fill=\"none\" stroke=\"#000000\" d=\"M359.924,-103.9815C354.7014,-95.1585 349.1771,-85.8258 343.9237,-76.9506\"/>\n<polygon fill=\"#000000\" stroke=\"#000000\" points=\"346.8874,-75.0863 338.7816,-68.2637 340.8636,-78.652 346.8874,-75.0863\"/>\n</g>\n<!-- 9 -->\n<g id=\"node10\" class=\"node\">\n<title>9</title>\n<polygon fill=\"#9cf2c0\" stroke=\"#000000\" points=\"507,-68 392,-68 392,0 507,0 507,-68\"/>\n<text text-anchor=\"middle\" x=\"449.5\" y=\"-52.8\" font-family=\"Times,serif\" font-size=\"14.00\" fill=\"#000000\">gini = 0.444</text>\n<text text-anchor=\"middle\" x=\"449.5\" y=\"-37.8\" font-family=\"Times,serif\" font-size=\"14.00\" fill=\"#000000\">samples = 3</text>\n<text text-anchor=\"middle\" x=\"449.5\" y=\"-22.8\" font-family=\"Times,serif\" font-size=\"14.00\" fill=\"#000000\">value = [0, 2, 1]</text>\n<text text-anchor=\"middle\" x=\"449.5\" y=\"-7.8\" font-family=\"Times,serif\" font-size=\"14.00\" fill=\"#000000\">class = versicolor</text>\n</g>\n<!-- 7&#45;&gt;9 -->\n<g id=\"edge9\" class=\"edge\">\n<title>7&#45;&gt;9</title>\n<path fill=\"none\" stroke=\"#000000\" d=\"M408.7036,-103.9815C413.8471,-95.1585 419.2877,-85.8258 424.4616,-76.9506\"/>\n<polygon fill=\"#000000\" stroke=\"#000000\" points=\"427.513,-78.6656 429.5257,-68.2637 421.4656,-75.1402 427.513,-78.6656\"/>\n</g>\n<!-- 11 -->\n<g id=\"node12\" class=\"node\">\n<title>11</title>\n<polygon fill=\"#c09cf2\" stroke=\"#000000\" points=\"665,-187 500,-187 500,-104 665,-104 665,-187\"/>\n<text text-anchor=\"middle\" x=\"582.5\" y=\"-171.8\" font-family=\"Times,serif\" font-size=\"14.00\" fill=\"#000000\">sepal length (cm) &lt;= 5.95</text>\n<text text-anchor=\"middle\" x=\"582.5\" y=\"-156.8\" font-family=\"Times,serif\" font-size=\"14.00\" fill=\"#000000\">gini = 0.444</text>\n<text text-anchor=\"middle\" x=\"582.5\" y=\"-141.8\" font-family=\"Times,serif\" font-size=\"14.00\" fill=\"#000000\">samples = 3</text>\n<text text-anchor=\"middle\" x=\"582.5\" y=\"-126.8\" font-family=\"Times,serif\" font-size=\"14.00\" fill=\"#000000\">value = [0, 1, 2]</text>\n<text text-anchor=\"middle\" x=\"582.5\" y=\"-111.8\" font-family=\"Times,serif\" font-size=\"14.00\" fill=\"#000000\">class = virginica</text>\n</g>\n<!-- 10&#45;&gt;11 -->\n<g id=\"edge11\" class=\"edge\">\n<title>10&#45;&gt;11</title>\n<path fill=\"none\" stroke=\"#000000\" d=\"M582.5,-222.8796C582.5,-214.6838 582.5,-205.9891 582.5,-197.5013\"/>\n<polygon fill=\"#000000\" stroke=\"#000000\" points=\"586.0001,-197.298 582.5,-187.2981 579.0001,-197.2981 586.0001,-197.298\"/>\n</g>\n<!-- 14 -->\n<g id=\"node15\" class=\"node\">\n<title>14</title>\n<polygon fill=\"#8139e5\" stroke=\"#000000\" points=\"800,-179.5 683,-179.5 683,-111.5 800,-111.5 800,-179.5\"/>\n<text text-anchor=\"middle\" x=\"741.5\" y=\"-164.3\" font-family=\"Times,serif\" font-size=\"14.00\" fill=\"#000000\">gini = 0.0</text>\n<text text-anchor=\"middle\" x=\"741.5\" y=\"-149.3\" font-family=\"Times,serif\" font-size=\"14.00\" fill=\"#000000\">samples = 43</text>\n<text text-anchor=\"middle\" x=\"741.5\" y=\"-134.3\" font-family=\"Times,serif\" font-size=\"14.00\" fill=\"#000000\">value = [0, 0, 43]</text>\n<text text-anchor=\"middle\" x=\"741.5\" y=\"-119.3\" font-family=\"Times,serif\" font-size=\"14.00\" fill=\"#000000\">class = virginica</text>\n</g>\n<!-- 10&#45;&gt;14 -->\n<g id=\"edge14\" class=\"edge\">\n<title>10&#45;&gt;14</title>\n<path fill=\"none\" stroke=\"#000000\" d=\"M638.1105,-222.8796C654.2013,-210.8368 671.7315,-197.7167 687.7091,-185.7586\"/>\n<polygon fill=\"#000000\" stroke=\"#000000\" points=\"689.9982,-188.4171 695.907,-179.623 685.8038,-182.8129 689.9982,-188.4171\"/>\n</g>\n<!-- 12 -->\n<g id=\"node13\" class=\"node\">\n<title>12</title>\n<polygon fill=\"#39e581\" stroke=\"#000000\" points=\"640,-68 525,-68 525,0 640,0 640,-68\"/>\n<text text-anchor=\"middle\" x=\"582.5\" y=\"-52.8\" font-family=\"Times,serif\" font-size=\"14.00\" fill=\"#000000\">gini = 0.0</text>\n<text text-anchor=\"middle\" x=\"582.5\" y=\"-37.8\" font-family=\"Times,serif\" font-size=\"14.00\" fill=\"#000000\">samples = 1</text>\n<text text-anchor=\"middle\" x=\"582.5\" y=\"-22.8\" font-family=\"Times,serif\" font-size=\"14.00\" fill=\"#000000\">value = [0, 1, 0]</text>\n<text text-anchor=\"middle\" x=\"582.5\" y=\"-7.8\" font-family=\"Times,serif\" font-size=\"14.00\" fill=\"#000000\">class = versicolor</text>\n</g>\n<!-- 11&#45;&gt;12 -->\n<g id=\"edge12\" class=\"edge\">\n<title>11&#45;&gt;12</title>\n<path fill=\"none\" stroke=\"#000000\" d=\"M582.5,-103.9815C582.5,-95.618 582.5,-86.7965 582.5,-78.3409\"/>\n<polygon fill=\"#000000\" stroke=\"#000000\" points=\"586.0001,-78.2636 582.5,-68.2637 579.0001,-78.2637 586.0001,-78.2636\"/>\n</g>\n<!-- 13 -->\n<g id=\"node14\" class=\"node\">\n<title>13</title>\n<polygon fill=\"#8139e5\" stroke=\"#000000\" points=\"768.5,-68 658.5,-68 658.5,0 768.5,0 768.5,-68\"/>\n<text text-anchor=\"middle\" x=\"713.5\" y=\"-52.8\" font-family=\"Times,serif\" font-size=\"14.00\" fill=\"#000000\">gini = 0.0</text>\n<text text-anchor=\"middle\" x=\"713.5\" y=\"-37.8\" font-family=\"Times,serif\" font-size=\"14.00\" fill=\"#000000\">samples = 2</text>\n<text text-anchor=\"middle\" x=\"713.5\" y=\"-22.8\" font-family=\"Times,serif\" font-size=\"14.00\" fill=\"#000000\">value = [0, 0, 2]</text>\n<text text-anchor=\"middle\" x=\"713.5\" y=\"-7.8\" font-family=\"Times,serif\" font-size=\"14.00\" fill=\"#000000\">class = virginica</text>\n</g>\n<!-- 11&#45;&gt;13 -->\n<g id=\"edge13\" class=\"edge\">\n<title>11&#45;&gt;13</title>\n<path fill=\"none\" stroke=\"#000000\" d=\"M631.2796,-103.9815C642.4015,-94.5151 654.2128,-84.462 665.3099,-75.0168\"/>\n<polygon fill=\"#000000\" stroke=\"#000000\" points=\"667.8975,-77.4105 673.244,-68.2637 663.3604,-72.08 667.8975,-77.4105\"/>\n</g>\n</g>\n</svg>\n"
          },
          "metadata": {
            "tags": []
          },
          "execution_count": 8
        }
      ]
    },
    {
      "cell_type": "markdown",
      "metadata": {
        "id": "Xx4S8fMdu4Vn"
      },
      "source": [
        "간단하게 해석해보면 value의 세 성분은\r\n",
        "- setosa\r\n",
        "- versicolor\r\n",
        "- virginica\r\n",
        "\r\n",
        "라는 iris의 3 종류로 구분된다.\r\n",
        "\r\n",
        "맨 처음에 petal width의 값 구분으로 모든 setosa가 분류되고 나머지를 기준으로 또 다른 기준으로 나눈다. 이를 반복하여 하나의 성분만이 0이 아닐때까지 진행시키던가, 높이가 부모 노드를 제외하고 4가 될 경우, 중단한다.\r\n",
        "\r\n",
        "그 결과 최종 3개의 데이터 분류에 실패했다."
      ]
    },
    {
      "cell_type": "markdown",
      "metadata": {
        "id": "xX5Icu5GyXnp"
      },
      "source": [
        "## 3. 정보 이득과 불순도 지표\r\n",
        "\r\n",
        "코드를 보다가 몇 가지 의문점이 생긴다.\r\n",
        "- gini는 무엇인가?\r\n",
        "- 모델을 짤 때 criterion이라는 것이 있는데 그것은 무엇인가?\r\n",
        "- 분류가 잘 된다는 것은 무엇인가?\r\n",
        "\r\n",
        "이를 위해서는 '가장 정보가 풍부한 특성' 즉, 정보의 이익을 최대화시키는 방법에 대해 고민해야 한다. **정보 이득** 함수는 다음과 같이 정의한다.\r\n",
        "\r\n",
        "$$ IG(D_{p},f)=I(D_{p})-\\frac{N_{left}}{N_{p}}I(D_{left})-\\frac{N_{right}}{N_{p}}I(D_{right})$$\r\n",
        "\r\n",
        "\r\n",
        "식이 좀 복잡한데 기호의 의미를 파악할려고 한다.\r\n",
        "- $ f $ : 분할에 사용할 특성\r\n",
        "- $ D_{p}, D_{j}$ : 부모와 j번째 자식 노드의 데이터\r\n",
        "- $ N_{p}$ : 부모노드 전체의 샘플 수\r\n",
        "- $ N_{left}, N_{right} $ : 좌측 자식, 우측 자식의 샘플 수\r\n",
        "\r\n",
        "즉 좌측과 우측에서 얼마나 틀렸는지를 반영하여 부모 값에서 빼는 과정이다.\r\n",
        "이를 최대화 시킨다는 것은, 한 측이 최대한 올바르게 분류되어야 값이 작아질 것이다.\r\n",
        "\r\n",
        "여기서 $I$가 이제 불순도 지표, 즉 '얼마나 틀렸나'를 표현한다고 보면 된다.\r\n",
        "불순도 지표에는 여러 종류가 있는데\r\n",
        "- 엔트로피 (entropy)\r\n",
        "- 지니 불순도(Gini impurity)\r\n",
        "- 분류 오차(classfication error)\r\n",
        "\r\n",
        "등을 예시로 들 수 있다.\r\n",
        "\r\n",
        "\r\n",
        "### 1) 엔트로피\r\n",
        "이제 앞으로, $p(i|t)$는 노드 $t$에서, class $i$에 속한 샘플의 비율이다.\r\n",
        "엔트로피는 다음과 같이 정의한다.\r\n",
        "\r\n",
        "$$I_{H}(t) = - \\sum_{i=1}^{c} p(i|t)log_{2}p(i|t) $$\r\n",
        "\r\n",
        "만일 하나의 노드에서 모든 샘플이 같은 클래스일 경우 엔트로피 값은 0으로 엔트로피를 지표로 쓸 경우 정보 이득이 최대화가 된다. \r\n",
        "\r\n",
        "한편, class가 2개의 샘플에 1:1로 동일하게 분포될 경우 엔트로피가 1이 되다.\r\n",
        "\r\n",
        "\r\n",
        "### 2) 지니 불순도\r\n",
        "\r\n",
        "지니 불순도는 잘못 분류될 확률을 최소화시키기 위한 기준으로 여사건을 활용한다.\r\n",
        "$$I_{G}(t) = - \\sum_{i=1}^{c} p(i|t)(1-p(i|t)) $$\r\n",
        "\r\n",
        "엔트로피와 비슷하게, class가 2개의 샘플에 1 : 1로 동일하게 분포될 경우 지니 불순도가 최대가 된다. (0.5)\r\n",
        "\r\n",
        "### 3) 분류 오차\r\n",
        "이는 단순히 여사건만을 고려한다.\r\n",
        "$$ I_{E} = 1-max \\lbrace  p(i|t) \\rbrace $$\r\n",
        "\r\n",
        "노드의 클래스 확률 변화에 덜 민감하여 나머지 2개를 사용한다.\r\n",
        "\r\n",
        "\r\n",
        "추가 참조 공부자료 : https://scikit-learn.org/stable/modules/tree.html#tips-on-practical-use\r\n",
        "\r\n",
        "이와 추가 공부 이후, Decision_Tree 2를 나중에 올려보려고 한다."
      ]
    }
  ]
}