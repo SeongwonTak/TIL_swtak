{
 "cells": [
  {
   "cell_type": "markdown",
   "id": "2a1d78a4",
   "metadata": {},
   "source": [
    "## datetime 자체 활용"
   ]
  },
  {
   "cell_type": "code",
   "execution_count": 1,
   "id": "f80d19ec",
   "metadata": {},
   "outputs": [],
   "source": [
    "import datetime as dt"
   ]
  },
  {
   "cell_type": "code",
   "execution_count": 3,
   "id": "79328e54",
   "metadata": {},
   "outputs": [
    {
     "data": {
      "text/plain": [
       "datetime.datetime(2021, 11, 2, 22, 14, 41, 570951)"
      ]
     },
     "execution_count": 3,
     "metadata": {},
     "output_type": "execute_result"
    }
   ],
   "source": [
    "# 년, 월, 일, 시, 분, 초 가 나온다.\n",
    "x = dt.datetime.now()\n",
    "x"
   ]
  },
  {
   "cell_type": "code",
   "execution_count": 5,
   "id": "79ac3f8e",
   "metadata": {},
   "outputs": [
    {
     "name": "stdout",
     "output_type": "stream",
     "text": [
      "2021\n",
      "11\n",
      "2\n",
      "22\n",
      "14\n",
      "41\n"
     ]
    }
   ],
   "source": [
    "# 기본 기간 추출\n",
    "print(x.year)\n",
    "print(x.month)\n",
    "print(x.day)\n",
    "print(x.hour)\n",
    "print(x.minute)\n",
    "print(x.second)"
   ]
  },
  {
   "cell_type": "code",
   "execution_count": 8,
   "id": "f334ab9d",
   "metadata": {},
   "outputs": [
    {
     "name": "stdout",
     "output_type": "stream",
     "text": [
      "1\n",
      "2021-11-02\n",
      "22:14:41.570951\n"
     ]
    }
   ],
   "source": [
    "# 추가 추출 방법\n",
    "# 요일에 대한 추출\n",
    "# 0~6 : 월~일\n",
    "print(x.weekday())\n",
    "\n",
    "# 날짜 정보만 추출\n",
    "print(x.date())\n",
    "\n",
    "# 시간 정보만 추출\n",
    "print(x.time())"
   ]
  },
  {
   "cell_type": "code",
   "execution_count": 13,
   "id": "2803d74f",
   "metadata": {},
   "outputs": [
    {
     "name": "stdout",
     "output_type": "stream",
     "text": [
      "2021-11-02 10:23:00\n",
      "2021 Year 11 Month 02 Day 10시 23분\n"
     ]
    }
   ],
   "source": [
    "# 문자열 -> 시간 변환\n",
    "y = dt.datetime.strptime(\"2021-11-02 10:23:00\", \"%Y-%m-%d %H:%M:%S\")\n",
    "print(y)\n",
    "# 시간 -> 문자열 변환\n",
    "z = y.strftime(\"%Y Year %m Month %d Day %H시 %M분\")\n",
    "print(z)"
   ]
  },
  {
   "cell_type": "markdown",
   "id": "1d983c75",
   "metadata": {},
   "source": [
    "## pandas에서 time series 다루기"
   ]
  },
  {
   "cell_type": "code",
   "execution_count": 14,
   "id": "d2e19893",
   "metadata": {},
   "outputs": [],
   "source": [
    "import pandas as pd\n",
    "pd_ts = pd.Timestamp(2021, 11, 2, 10, 23, 0)"
   ]
  },
  {
   "cell_type": "code",
   "execution_count": 15,
   "id": "7f79dadf",
   "metadata": {},
   "outputs": [
    {
     "data": {
      "text/plain": [
       "Timestamp('2021-11-02 10:23:00')"
      ]
     },
     "execution_count": 15,
     "metadata": {},
     "output_type": "execute_result"
    }
   ],
   "source": [
    "pd_ts"
   ]
  },
  {
   "cell_type": "markdown",
   "id": "a6939d2a",
   "metadata": {},
   "source": [
    "Timestamp형으로 pandas에서 다를 수 있다.."
   ]
  },
  {
   "cell_type": "code",
   "execution_count": 20,
   "id": "a6bc5b7e",
   "metadata": {},
   "outputs": [
    {
     "name": "stdout",
     "output_type": "stream",
     "text": [
      "2021\n",
      "11\n",
      "2\n",
      "10\n",
      "23\n",
      "0\n"
     ]
    }
   ],
   "source": [
    "# year, month, day, hour, minute, second로 추출\n",
    "print(pd_ts.year)\n",
    "print(pd_ts.month)\n",
    "print(pd_ts.day)\n",
    "print(pd_ts.hour)\n",
    "print(pd_ts.minute)\n",
    "print(pd_ts.second)"
   ]
  },
  {
   "cell_type": "code",
   "execution_count": 22,
   "id": "57e96410",
   "metadata": {},
   "outputs": [
    {
     "name": "stdout",
     "output_type": "stream",
     "text": [
      "2021-11-02\n",
      "10:23:00\n",
      "2021-11-02 10:23:00\n"
     ]
    }
   ],
   "source": [
    "# date/time 분리 가능 동일하게\n",
    "print(pd_ts.date())\n",
    "print(pd_ts.time())\n",
    "# date와 time은 combine을 통해 결합 가능하다.\n",
    "print(pd.Timestamp.combine(pd_ts.date(), pd_ts.time()))"
   ]
  },
  {
   "cell_type": "code",
   "execution_count": 27,
   "id": "795719b2",
   "metadata": {},
   "outputs": [
    {
     "name": "stdout",
     "output_type": "stream",
     "text": [
      "2021 - 11 - 02, 10 : 11\n",
      "2021-11-02 10:11:00\n"
     ]
    }
   ],
   "source": [
    "# pandas에서도 문자열 <-> timestamp 변환 가능.\n",
    "# timestamp -> string\n",
    "print(pd_ts.strftime('%Y - %m - %d, %H : %m'))\n",
    "# string -> timestamp\n",
    "print(pd.to_datetime('2021-11-02 10:11'))"
   ]
  },
  {
   "cell_type": "code",
   "execution_count": null,
   "id": "c662a12b",
   "metadata": {},
   "outputs": [],
   "source": []
  }
 ],
 "metadata": {
  "kernelspec": {
   "display_name": "Python 3",
   "language": "python",
   "name": "python3"
  },
  "language_info": {
   "codemirror_mode": {
    "name": "ipython",
    "version": 3
   },
   "file_extension": ".py",
   "mimetype": "text/x-python",
   "name": "python",
   "nbconvert_exporter": "python",
   "pygments_lexer": "ipython3",
   "version": "3.8.8"
  }
 },
 "nbformat": 4,
 "nbformat_minor": 5
}
