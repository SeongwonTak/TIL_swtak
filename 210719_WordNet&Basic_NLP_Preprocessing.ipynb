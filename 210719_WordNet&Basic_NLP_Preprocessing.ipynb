{
  "nbformat": 4,
  "nbformat_minor": 0,
  "metadata": {
    "colab": {
      "name": "210719_WordNet&Basic_NLP_Preprocessing.ipynb",
      "provenance": [],
      "authorship_tag": "ABX9TyOte5O9KLILpVMxQFK3OBKr",
      "include_colab_link": true
    },
    "kernelspec": {
      "name": "python3",
      "display_name": "Python 3"
    },
    "language_info": {
      "name": "python"
    }
  },
  "cells": [
    {
      "cell_type": "markdown",
      "metadata": {
        "id": "view-in-github",
        "colab_type": "text"
      },
      "source": [
        "<a href=\"https://colab.research.google.com/github/SeongwonTak/TIL_swtak/blob/master/210719_WordNet%26Basic_NLP_Preprocessing.ipynb\" target=\"_parent\"><img src=\"https://colab.research.google.com/assets/colab-badge.svg\" alt=\"Open In Colab\"/></a>"
      ]
    },
    {
      "cell_type": "markdown",
      "metadata": {
        "id": "qt5tdNo1kCr-"
      },
      "source": [
        "#Word Net과 기본적인 전처리\n",
        "참고자료  \n",
        "[1] 밑바닥부터 시작하는 딥러닝 2  \n",
        "[2] 데이터 사이언스 스쿨"
      ]
    },
    {
      "cell_type": "markdown",
      "metadata": {
        "id": "009Op39llA7V"
      },
      "source": [
        "# Word Net"
      ]
    },
    {
      "cell_type": "code",
      "metadata": {
        "colab": {
          "base_uri": "https://localhost:8080/"
        },
        "id": "YPnQ2HDhkB0G",
        "outputId": "ed706d97-6b00-48e9-f13c-e1af9c6a8188"
      },
      "source": [
        "!pip install nltk\n",
        "import nltk"
      ],
      "execution_count": 3,
      "outputs": [
        {
          "output_type": "stream",
          "text": [
            "Requirement already satisfied: nltk in /usr/local/lib/python3.7/dist-packages (3.2.5)\n",
            "Requirement already satisfied: six in /usr/local/lib/python3.7/dist-packages (from nltk) (1.15.0)\n"
          ],
          "name": "stdout"
        }
      ]
    },
    {
      "cell_type": "code",
      "metadata": {
        "colab": {
          "base_uri": "https://localhost:8080/"
        },
        "id": "hmqtMlhL9WsU",
        "outputId": "608542a8-690a-451e-ae87-c9d0b14cfcd1"
      },
      "source": [
        "nltk.download('wordnet')\n",
        "from nltk.corpus import wordnet"
      ],
      "execution_count": 6,
      "outputs": [
        {
          "output_type": "stream",
          "text": [
            "[nltk_data] Downloading package wordnet to /root/nltk_data...\n",
            "[nltk_data]   Unzipping corpora/wordnet.zip.\n"
          ],
          "name": "stdout"
        }
      ]
    },
    {
      "cell_type": "code",
      "metadata": {
        "colab": {
          "base_uri": "https://localhost:8080/"
        },
        "id": "DwWj4yx49erp",
        "outputId": "c3f12977-dc46-40f5-c036-ae7e9c153bf4"
      },
      "source": [
        "wordnet.synsets('leave')"
      ],
      "execution_count": 8,
      "outputs": [
        {
          "output_type": "execute_result",
          "data": {
            "text/plain": [
              "[Synset('leave.n.01'),\n",
              " Synset('leave.n.02'),\n",
              " Synset('farewell.n.02'),\n",
              " Synset('leave.v.01'),\n",
              " Synset('leave.v.02'),\n",
              " Synset('leave.v.03'),\n",
              " Synset('leave.v.04'),\n",
              " Synset('exit.v.01'),\n",
              " Synset('leave.v.06'),\n",
              " Synset('leave.v.07'),\n",
              " Synset('leave.v.08'),\n",
              " Synset('entrust.v.02'),\n",
              " Synset('bequeath.v.01'),\n",
              " Synset('leave.v.11'),\n",
              " Synset('leave.v.12'),\n",
              " Synset('impart.v.01'),\n",
              " Synset('forget.v.04')]"
            ]
          },
          "metadata": {
            "tags": []
          },
          "execution_count": 8
        }
      ]
    },
    {
      "cell_type": "code",
      "metadata": {
        "id": "sP_1GtUO9joA"
      },
      "source": [
        "# 단어간 유사도 측정\n",
        "love = wordnet.synset('love.v.01')\n",
        "like = wordnet.synset('like.v.01')\n",
        "hate = wordnet.synset('hate.v.01')\n",
        "novel = wordnet.synset('novel.n.01')"
      ],
      "execution_count": 21,
      "outputs": []
    },
    {
      "cell_type": "code",
      "metadata": {
        "colab": {
          "base_uri": "https://localhost:8080/"
        },
        "id": "fAR8R98x95b3",
        "outputId": "8590d086-cb13-46c3-f77b-7a5f732956d4"
      },
      "source": [
        "love.path_similarity(like)"
      ],
      "execution_count": 22,
      "outputs": [
        {
          "output_type": "execute_result",
          "data": {
            "text/plain": [
              "0.25"
            ]
          },
          "metadata": {
            "tags": []
          },
          "execution_count": 22
        }
      ]
    },
    {
      "cell_type": "code",
      "metadata": {
        "colab": {
          "base_uri": "https://localhost:8080/"
        },
        "id": "9Zu30iEf-36d",
        "outputId": "2f830b68-a986-4d5a-a233-eedcda371ccd"
      },
      "source": [
        "love.path_similarity(hate)"
      ],
      "execution_count": 23,
      "outputs": [
        {
          "output_type": "execute_result",
          "data": {
            "text/plain": [
              "0.25"
            ]
          },
          "metadata": {
            "tags": []
          },
          "execution_count": 23
        }
      ]
    },
    {
      "cell_type": "code",
      "metadata": {
        "colab": {
          "base_uri": "https://localhost:8080/"
        },
        "id": "FqsTXLx--7mr",
        "outputId": "209fcd68-4e9c-46e8-b0f2-8e005c04ad5f"
      },
      "source": [
        "love.path_similarity(novel)"
      ],
      "execution_count": 24,
      "outputs": [
        {
          "output_type": "execute_result",
          "data": {
            "text/plain": [
              "0.1"
            ]
          },
          "metadata": {
            "tags": []
          },
          "execution_count": 24
        }
      ]
    },
    {
      "cell_type": "markdown",
      "metadata": {
        "id": "ClYcNE5bBNFX"
      },
      "source": [
        "## 말뭉치의 처리"
      ]
    },
    {
      "cell_type": "code",
      "metadata": {
        "colab": {
          "base_uri": "https://localhost:8080/"
        },
        "id": "07AEq5iM_BZB",
        "outputId": "5c014784-ad76-467f-afb3-96e3b54c6098"
      },
      "source": [
        "# 토큰화 _ 패키지 없이\n",
        "text = 'The quick brown fox jumps over the lazy dog.'\n",
        "text = text.lower()\n",
        "text = text.replace('.',' .')\n",
        "words = text.split(' ')\n",
        "print(words)"
      ],
      "execution_count": 25,
      "outputs": [
        {
          "output_type": "stream",
          "text": [
            "['the', 'quick', 'brown', 'fox', 'jumps', 'over', 'the', 'lazy', 'dog', '.']\n"
          ],
          "name": "stdout"
        }
      ]
    },
    {
      "cell_type": "code",
      "metadata": {
        "id": "udTDZsiLDr3y"
      },
      "source": [
        "# 아이디부여 - 패키지 없이\n",
        "word_to_id = {}\n",
        "id_to_word = {}\n",
        "\n",
        "for word in words:\n",
        "  if word not in word_to_id:\n",
        "    new_id = len(word_to_id)\n",
        "    word_to_id[word] = new_id\n",
        "    id_to_word[new_id] = word"
      ],
      "execution_count": 30,
      "outputs": []
    },
    {
      "cell_type": "code",
      "metadata": {
        "colab": {
          "base_uri": "https://localhost:8080/"
        },
        "id": "iS17aoNpCdaC",
        "outputId": "5b711891-4c0a-4bc5-ce5a-799afa6c5fad"
      },
      "source": [
        "# 토큰화 후 아이디 부여. 패키지 사용\n",
        "\n",
        "nltk.download('punkt')\n",
        "# 이 방법을 사용할 경우 말뭉치를 별도로 리스트화로 저장해야 한다.\n",
        "corpus = ['The quick brown fox jumps over the lazy dog.']\n",
        "\n",
        "from sklearn.feature_extraction.text import CountVectorizer\n",
        "vect = CountVectorizer(tokenizer = nltk.word_tokenize).fit(corpus)\n",
        "vect.vocabulary_"
      ],
      "execution_count": 29,
      "outputs": [
        {
          "output_type": "stream",
          "text": [
            "[nltk_data] Downloading package punkt to /root/nltk_data...\n",
            "[nltk_data]   Unzipping tokenizers/punkt.zip.\n"
          ],
          "name": "stdout"
        },
        {
          "output_type": "stream",
          "text": [
            "/usr/local/lib/python3.7/dist-packages/sklearn/feature_extraction/text.py:507: UserWarning: The parameter 'token_pattern' will not be used since 'tokenizer' is not None'\n",
            "  warnings.warn(\"The parameter 'token_pattern' will not be used\"\n"
          ],
          "name": "stderr"
        },
        {
          "output_type": "execute_result",
          "data": {
            "text/plain": [
              "{'.': 0,\n",
              " 'brown': 1,\n",
              " 'dog': 2,\n",
              " 'fox': 3,\n",
              " 'jumps': 4,\n",
              " 'lazy': 5,\n",
              " 'over': 6,\n",
              " 'quick': 7,\n",
              " 'the': 8}"
            ]
          },
          "metadata": {
            "tags": []
          },
          "execution_count": 29
        }
      ]
    },
    {
      "cell_type": "code",
      "metadata": {
        "colab": {
          "base_uri": "https://localhost:8080/"
        },
        "id": "IAs_HESHDH8i",
        "outputId": "6e161b1b-af50-441e-a920-1f04146f10d7"
      },
      "source": [
        "# n-gram\n",
        "vect = CountVectorizer(ngram_range=(2, 2)).fit(corpus)\n",
        "vect.vocabulary_"
      ],
      "execution_count": 31,
      "outputs": [
        {
          "output_type": "execute_result",
          "data": {
            "text/plain": [
              "{'brown fox': 0,\n",
              " 'fox jumps': 1,\n",
              " 'jumps over': 2,\n",
              " 'lazy dog': 3,\n",
              " 'over the': 4,\n",
              " 'quick brown': 5,\n",
              " 'the lazy': 6,\n",
              " 'the quick': 7}"
            ]
          },
          "metadata": {
            "tags": []
          },
          "execution_count": 31
        }
      ]
    },
    {
      "cell_type": "markdown",
      "metadata": {
        "id": "fKEQkMRTNgt4"
      },
      "source": [
        "## co-occurrence matrix"
      ]
    },
    {
      "cell_type": "code",
      "metadata": {
        "id": "WHH3r5efJsGw"
      },
      "source": [
        "def create_co_matrix(corpus, vocab_size, window_size=1):\n",
        "  corpus_size = len(corpus)\n",
        "  co_matrix = np.zeros((vocab_size, vocab_size), dtype = np.int32)\n",
        "\n",
        "  for idx, word_id in enumerate(corpus):\n",
        "    for i in range(1, window_size+1):\n",
        "      left_idx = idx - 1\n",
        "      right_idx = idx + 1\n",
        "\n",
        "      if left_idx >= 0:  # 좌측에 단어가 있다면\n",
        "        left_word_id = corpus[left_idx]\n",
        "        co_matrix[word_id, left_word_id] += 1\n",
        "      \n",
        "      if right_idx < corpus_size:\n",
        "        right_word_id = corpus[right_idx]\n",
        "        co_matrix[word_id, right_word_id] += 1\n",
        "  \n",
        "  return co_matrix"
      ],
      "execution_count": null,
      "outputs": []
    }
  ]
}