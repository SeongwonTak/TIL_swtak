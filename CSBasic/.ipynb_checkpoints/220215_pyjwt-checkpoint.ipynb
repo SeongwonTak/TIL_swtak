{
 "cells": [
  {
   "cell_type": "markdown",
   "id": "0ba85db6",
   "metadata": {},
   "source": [
    "# pyjwt 실습"
   ]
  },
  {
   "cell_type": "code",
   "execution_count": 1,
   "id": "f34428ff",
   "metadata": {},
   "outputs": [
    {
     "name": "stdout",
     "output_type": "stream",
     "text": [
      "Collecting jwt\n",
      "  Downloading jwt-1.3.1-py3-none-any.whl (18 kB)\n",
      "Requirement already satisfied: cryptography!=3.4.0,>=3.1 in c:\\users\\user\\anaconda3\\lib\\site-packages (from jwt) (3.4.7)\n",
      "Requirement already satisfied: cffi>=1.12 in c:\\users\\user\\anaconda3\\lib\\site-packages (from cryptography!=3.4.0,>=3.1->jwt) (1.14.5)\n",
      "Requirement already satisfied: pycparser in c:\\users\\user\\anaconda3\\lib\\site-packages (from cffi>=1.12->cryptography!=3.4.0,>=3.1->jwt) (2.20)\n",
      "Installing collected packages: jwt\n",
      "Successfully installed jwt-1.3.1\n",
      "Note: you may need to restart the kernel to use updated packages.\n"
     ]
    }
   ],
   "source": [
    "#pip install jwt"
   ]
  },
  {
   "cell_type": "markdown",
   "id": "379ac928",
   "metadata": {},
   "source": [
    "## jwt 기본 구조 복습\n",
    "jwt는 header, payload, signature 3가지로 구성되어 있음을 remind하자."
   ]
  },
  {
   "cell_type": "markdown",
   "id": "96fcb9f4",
   "metadata": {},
   "source": [
    "### header"
   ]
  },
  {
   "cell_type": "code",
   "execution_count": 2,
   "id": "84af8d04",
   "metadata": {},
   "outputs": [
    {
     "data": {
      "text/plain": [
       "{'alg': 'HS256', 'typ': 'JWT'}"
      ]
     },
     "execution_count": 2,
     "metadata": {},
     "output_type": "execute_result"
    }
   ],
   "source": [
    "{\n",
    "    \"alg\":\"HS256\",\n",
    "    \"typ\":\"JWT\"\n",
    "}"
   ]
  },
  {
   "cell_type": "markdown",
   "id": "f3207e5b",
   "metadata": {},
   "source": [
    "### payload"
   ]
  },
  {
   "cell_type": "markdown",
   "id": "1d939735",
   "metadata": {},
   "source": [
    "기본적으로 payload의 경우는 다음과 같은 구조이다."
   ]
  },
  {
   "cell_type": "code",
   "execution_count": 3,
   "id": "1d55f235",
   "metadata": {},
   "outputs": [
    {
     "data": {
      "text/plain": [
       "{'<ClaimName>': '<ClaimValue>'}"
      ]
     },
     "execution_count": 3,
     "metadata": {},
     "output_type": "execute_result"
    }
   ],
   "source": [
    "{\n",
    "    \"<ClaimName>\":\"<ClaimValue>\"\n",
    "}"
   ]
  },
  {
   "cell_type": "markdown",
   "id": "2d029ccc",
   "metadata": {},
   "source": [
    "ClaimName에 mail이나 사용자 정보 혹은 만료 관련 등 공개 정보가 들어가게 된다."
   ]
  },
  {
   "cell_type": "code",
   "execution_count": 4,
   "id": "40700b27",
   "metadata": {},
   "outputs": [
    {
     "data": {
      "text/plain": [
       "{'exp': '16562656', 'email': 'aaa@bbb.com'}"
      ]
     },
     "execution_count": 4,
     "metadata": {},
     "output_type": "execute_result"
    }
   ],
   "source": [
    "{\n",
    "    \"exp\":\"16562656\",\n",
    "    \"email\":\"aaa@bbb.com\"\n",
    "}"
   ]
  },
  {
   "cell_type": "markdown",
   "id": "09d0ca40",
   "metadata": {},
   "source": [
    "## jwt 구현 예시"
   ]
  },
  {
   "cell_type": "code",
   "execution_count": 8,
   "id": "91ef0fa6",
   "metadata": {},
   "outputs": [],
   "source": [
    "import jwt\n",
    "import datetime\n",
    "\n",
    "SECRET_PRE = \"<personal_choose>\"\n",
    "\n",
    "def create_token(token, email):\n",
    "    \n",
    "    encoded = jwt.encode(\n",
    "        payload = {'exp':datetime.dattime.utcnow() + datetime.timeelta(seconds = 300),\n",
    "                   'email': email},\n",
    "        key = SECRET_PRE + token, \n",
    "        algorithm = 'HS256')\n",
    "    return encoded"
   ]
  },
  {
   "cell_type": "markdown",
   "id": "2ab26945",
   "metadata": {},
   "source": [
    "## jwt 검증 예시"
   ]
  },
  {
   "cell_type": "code",
   "execution_count": 9,
   "id": "2e57af86",
   "metadata": {},
   "outputs": [],
   "source": [
    "def validate_token(get_token, token):\n",
    "    try:\n",
    "        jwt.decode(get_token, SECRET_PRE + token, algorithms = 'HS256')\n",
    "    except jwt.ExpiredSignatureError:\n",
    "        return status.HTTP_401_UNAUTHORIZED\n",
    "    except jwt.InvalidTokenError:\n",
    "        return status.HTTP_401_UNAUTOHRIZED\n",
    "    else:\n",
    "        return True"
   ]
  },
  {
   "cell_type": "code",
   "execution_count": null,
   "id": "5a60e976",
   "metadata": {},
   "outputs": [],
   "source": []
  }
 ],
 "metadata": {
  "kernelspec": {
   "display_name": "Python 3",
   "language": "python",
   "name": "python3"
  },
  "language_info": {
   "codemirror_mode": {
    "name": "ipython",
    "version": 3
   },
   "file_extension": ".py",
   "mimetype": "text/x-python",
   "name": "python",
   "nbconvert_exporter": "python",
   "pygments_lexer": "ipython3",
   "version": "3.8.8"
  }
 },
 "nbformat": 4,
 "nbformat_minor": 5
}
