{
 "cells": [
  {
   "cell_type": "markdown",
   "id": "031da187",
   "metadata": {},
   "source": [
    "# GET / POST 익히기"
   ]
  },
  {
   "cell_type": "markdown",
   "id": "c0b49691",
   "metadata": {},
   "source": [
    "## 기본 - requests"
   ]
  },
  {
   "cell_type": "code",
   "execution_count": 6,
   "id": "9a2fcee6",
   "metadata": {},
   "outputs": [
    {
     "name": "stdout",
     "output_type": "stream",
     "text": [
      "<Response [200]>\n"
     ]
    }
   ],
   "source": [
    "import requests \n",
    "\n",
    "url = 'http://www.naver.com'\n",
    "response = requests.get(url = url)\n",
    "print(response)"
   ]
  },
  {
   "cell_type": "markdown",
   "id": "18d651ad",
   "metadata": {},
   "source": [
    "200이 뜬다 : request 성공"
   ]
  },
  {
   "cell_type": "markdown",
   "id": "011bac72",
   "metadata": {},
   "source": [
    "경우에 따라서는, 인증키를 받아야 할 것이다."
   ]
  },
  {
   "cell_type": "markdown",
   "id": "f8285109",
   "metadata": {},
   "source": [
    "## GET의 기본 구조"
   ]
  },
  {
   "cell_type": "code",
   "execution_count": 9,
   "id": "dfd64524",
   "metadata": {},
   "outputs": [],
   "source": [
    "URL = 'url'\n",
    "PARAM = {'param_meter' : 'param'}\n",
    "# r = requests.get(url = URL, params = PARAM)\n",
    "\n",
    "# json 형태로 들어올 경우 다음과 같이 구조.\n",
    "# data = r.json()\n",
    "\n",
    "#이것이 가장 기본형이 된다."
   ]
  },
  {
   "cell_type": "markdown",
   "id": "3eb70245",
   "metadata": {},
   "source": [
    "hearder를 선언해 줘야 하는 경우가 존재한다. header의 경우는 token 사용에 의한 authoriation 설정."
   ]
  },
  {
   "cell_type": "code",
   "execution_count": 10,
   "id": "8d1fec2b",
   "metadata": {},
   "outputs": [],
   "source": [
    "header_Dict = {}\n",
    "header_Dict.setdefault('Authorization', 'TOKEN')\n",
    "\n",
    "param_Dict = {}\n",
    "# request_withheader = requests.get('URL', headers = header_Dict)"
   ]
  },
  {
   "cell_type": "markdown",
   "id": "db07cfb9",
   "metadata": {},
   "source": [
    "## POST의 기본 구조"
   ]
  },
  {
   "cell_type": "markdown",
   "id": "2dda13e6",
   "metadata": {},
   "source": [
    "post는 data를 넘겨준다."
   ]
  },
  {
   "cell_type": "code",
   "execution_count": null,
   "id": "d512133d",
   "metadata": {},
   "outputs": [],
   "source": [
    "import requests\n",
    "\n",
    "URL = 'url'\n",
    "datas =\n",
    "{\n",
    "    'key': 'value'\n",
    "}\n",
    "response = requests.get(url = URL, data = datas)"
   ]
  }
 ],
 "metadata": {
  "kernelspec": {
   "display_name": "Python 3",
   "language": "python",
   "name": "python3"
  },
  "language_info": {
   "codemirror_mode": {
    "name": "ipython",
    "version": 3
   },
   "file_extension": ".py",
   "mimetype": "text/x-python",
   "name": "python",
   "nbconvert_exporter": "python",
   "pygments_lexer": "ipython3",
   "version": "3.8.8"
  }
 },
 "nbformat": 4,
 "nbformat_minor": 5
}
