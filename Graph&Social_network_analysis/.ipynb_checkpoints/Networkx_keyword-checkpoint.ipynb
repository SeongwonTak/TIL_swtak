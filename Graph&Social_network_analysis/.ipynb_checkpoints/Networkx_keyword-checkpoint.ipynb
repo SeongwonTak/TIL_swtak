{
 "cells": [
  {
   "cell_type": "markdown",
   "id": "eab3e45d",
   "metadata": {},
   "source": [
    "# Networkx를 통한 시각화 - 키워드 분석"
   ]
  },
  {
   "cell_type": "code",
   "execution_count": 2,
   "id": "56544e6a",
   "metadata": {},
   "outputs": [],
   "source": [
    "import numpy as np\n",
    "import pandas as pd\n",
    "import networkx as nx"
   ]
  },
  {
   "cell_type": "markdown",
   "id": "c6df9ed2",
   "metadata": {},
   "source": [
    "Networkx의 시각화 작업은 다음과 같이 진행하고자 한다.  \n",
    "(1) 데이터 수집 - 검색어 검색  (twitter)  \n",
    "(2) 자연어 전처리 실시  \n",
    "(3) 연관 분석 실시 (apyori 패키지)  \n",
    "(4) support를 바탕으로 한 연관어 시각화 실시  "
   ]
  },
  {
   "cell_type": "code",
   "execution_count": null,
   "id": "820be83c",
   "metadata": {},
   "outputs": [],
   "source": []
  }
 ],
 "metadata": {
  "kernelspec": {
   "display_name": "Python 3",
   "language": "python",
   "name": "python3"
  },
  "language_info": {
   "codemirror_mode": {
    "name": "ipython",
    "version": 3
   },
   "file_extension": ".py",
   "mimetype": "text/x-python",
   "name": "python",
   "nbconvert_exporter": "python",
   "pygments_lexer": "ipython3",
   "version": "3.8.8"
  }
 },
 "nbformat": 4,
 "nbformat_minor": 5
}
