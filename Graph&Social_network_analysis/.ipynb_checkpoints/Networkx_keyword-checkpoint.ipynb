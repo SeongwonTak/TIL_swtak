{
 "cells": [
  {
   "cell_type": "markdown",
   "id": "b6667a3f",
   "metadata": {},
   "source": [
    "# Networkx를 통한 시각화 - 키워드 분석"
   ]
  },
  {
   "cell_type": "code",
   "execution_count": 2,
   "id": "c2df1420",
   "metadata": {},
   "outputs": [],
   "source": [
    "import numpy as np\n",
    "import pandas as pd\n",
    "import networkx as nx"
   ]
  },
  {
   "cell_type": "markdown",
   "id": "f2a39c9d",
   "metadata": {},
   "source": [
    "Networkx의 시각화 작업은 다음과 같이 진행하고자 한다.  \n",
    "(1) 데이터 수집 - 검색어 검색 (다음)  \n",
    "(2) 자연어 전처리 실시  \n",
    "(3) 연관 분석 실시 (apyori 패키지)  \n",
    "(4) support를 바탕으로 한 연관어 시각화 실시  "
   ]
  },
  {
   "cell_type": "markdown",
   "id": "035dea30",
   "metadata": {},
   "source": [
    "다음 검색어로 연관어를 검색하고 다시 연관어를 검색하여 이를 수집하는 과정을 거치려고 한다."
   ]
  },
  {
   "cell_type": "markdown",
   "id": "827aead3",
   "metadata": {},
   "source": [
    "1단계 작업은 py 파일을 통해 진행했고, 해당 파일을 직접 불러오려고 한다."
   ]
  },
  {
   "cell_type": "code",
   "execution_count": 5,
   "id": "f1938b35",
   "metadata": {},
   "outputs": [],
   "source": [
    "# index_col 0을 통해서 \n",
    "data = pd.read_csv('./keyword_corona.csv', encoding = 'utf-8', index_col = 0)"
   ]
  },
  {
   "cell_type": "code",
   "execution_count": 6,
   "id": "a0058bac",
   "metadata": {},
   "outputs": [
    {
     "data": {
      "text/html": [
       "<div>\n",
       "<style scoped>\n",
       "    .dataframe tbody tr th:only-of-type {\n",
       "        vertical-align: middle;\n",
       "    }\n",
       "\n",
       "    .dataframe tbody tr th {\n",
       "        vertical-align: top;\n",
       "    }\n",
       "\n",
       "    .dataframe thead th {\n",
       "        text-align: right;\n",
       "    }\n",
       "</style>\n",
       "<table border=\"1\" class=\"dataframe\">\n",
       "  <thead>\n",
       "    <tr style=\"text-align: right;\">\n",
       "      <th></th>\n",
       "      <th>first</th>\n",
       "      <th>second</th>\n",
       "      <th>third</th>\n",
       "    </tr>\n",
       "  </thead>\n",
       "  <tbody>\n",
       "    <tr>\n",
       "      <th>0</th>\n",
       "      <td>코로나 거리두기</td>\n",
       "      <td>코로나 거리두기 발표</td>\n",
       "      <td>코로나 거리두기 발표</td>\n",
       "    </tr>\n",
       "    <tr>\n",
       "      <th>1</th>\n",
       "      <td>코로나 거리두기</td>\n",
       "      <td>코로나 거리두기 발표</td>\n",
       "      <td>코로나 거리두기 단계</td>\n",
       "    </tr>\n",
       "    <tr>\n",
       "      <th>2</th>\n",
       "      <td>코로나 거리두기</td>\n",
       "      <td>코로나 거리두기 발표</td>\n",
       "      <td>코로나 거리두기 연장</td>\n",
       "    </tr>\n",
       "    <tr>\n",
       "      <th>3</th>\n",
       "      <td>코로나 거리두기</td>\n",
       "      <td>코로나 거리두기 발표</td>\n",
       "      <td>사회적 거리두기</td>\n",
       "    </tr>\n",
       "    <tr>\n",
       "      <th>4</th>\n",
       "      <td>코로나 거리두기</td>\n",
       "      <td>코로나 거리두기 발표</td>\n",
       "      <td>코로나 거리두기 4단계</td>\n",
       "    </tr>\n",
       "    <tr>\n",
       "      <th>...</th>\n",
       "      <td>...</td>\n",
       "      <td>...</td>\n",
       "      <td>...</td>\n",
       "    </tr>\n",
       "    <tr>\n",
       "      <th>63995</th>\n",
       "      <td>코로나 방역</td>\n",
       "      <td>코로나 의료진</td>\n",
       "      <td>코로나 방역 포스터</td>\n",
       "    </tr>\n",
       "    <tr>\n",
       "      <th>63996</th>\n",
       "      <td>코로나 방역</td>\n",
       "      <td>코로나 의료진</td>\n",
       "      <td>코로나 대책 발표</td>\n",
       "    </tr>\n",
       "    <tr>\n",
       "      <th>63997</th>\n",
       "      <td>코로나 방역</td>\n",
       "      <td>코로나 의료진</td>\n",
       "      <td>코로나 예방</td>\n",
       "    </tr>\n",
       "    <tr>\n",
       "      <th>63998</th>\n",
       "      <td>코로나 방역</td>\n",
       "      <td>코로나 의료진</td>\n",
       "      <td>코로나 방역대책본부</td>\n",
       "    </tr>\n",
       "    <tr>\n",
       "      <th>63999</th>\n",
       "      <td>코로나 방역</td>\n",
       "      <td>코로나 의료진</td>\n",
       "      <td>코로나 의료진</td>\n",
       "    </tr>\n",
       "  </tbody>\n",
       "</table>\n",
       "<p>64000 rows × 3 columns</p>\n",
       "</div>"
      ],
      "text/plain": [
       "          first       second         third\n",
       "0      코로나 거리두기  코로나 거리두기 발표   코로나 거리두기 발표\n",
       "1      코로나 거리두기  코로나 거리두기 발표   코로나 거리두기 단계\n",
       "2      코로나 거리두기  코로나 거리두기 발표   코로나 거리두기 연장\n",
       "3      코로나 거리두기  코로나 거리두기 발표      사회적 거리두기\n",
       "4      코로나 거리두기  코로나 거리두기 발표  코로나 거리두기 4단계\n",
       "...         ...          ...           ...\n",
       "63995    코로나 방역      코로나 의료진    코로나 방역 포스터\n",
       "63996    코로나 방역      코로나 의료진     코로나 대책 발표\n",
       "63997    코로나 방역      코로나 의료진        코로나 예방\n",
       "63998    코로나 방역      코로나 의료진    코로나 방역대책본부\n",
       "63999    코로나 방역      코로나 의료진       코로나 의료진\n",
       "\n",
       "[64000 rows x 3 columns]"
      ]
     },
     "execution_count": 6,
     "metadata": {},
     "output_type": "execute_result"
    }
   ],
   "source": [
    "data"
   ]
  },
  {
   "cell_type": "markdown",
   "id": "106f7c45",
   "metadata": {},
   "source": [
    "## 시각화 방법 1 있는 그대로 전부 다 연관성을 그리기"
   ]
  },
  {
   "cell_type": "markdown",
   "id": "03e30f78",
   "metadata": {},
   "source": [
    "first-second, second-third 순서로 그림을 그리는 것이다."
   ]
  },
  {
   "cell_type": "markdown",
   "id": "61bd6a13",
   "metadata": {},
   "source": [
    "## 시각화 방법 2 연관성 분석을 활용한다.\n",
    "3개의 단어를 한 묶음으로 보고 어떤 연관성이 있는지도 또다른 분석 가능한 세트일 것이다."
   ]
  },
  {
   "cell_type": "code",
   "execution_count": null,
   "id": "2b92e08f",
   "metadata": {},
   "outputs": [],
   "source": []
  }
 ],
 "metadata": {
  "kernelspec": {
   "display_name": "Python 3",
   "language": "python",
   "name": "python3"
  },
  "language_info": {
   "codemirror_mode": {
    "name": "ipython",
    "version": 3
   },
   "file_extension": ".py",
   "mimetype": "text/x-python",
   "name": "python",
   "nbconvert_exporter": "python",
   "pygments_lexer": "ipython3",
   "version": "3.8.8"
  }
 },
 "nbformat": 4,
 "nbformat_minor": 5
}
