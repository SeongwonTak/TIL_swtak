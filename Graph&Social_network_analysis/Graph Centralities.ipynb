{
 "cells": [
  {
   "cell_type": "markdown",
   "id": "8ac464c2",
   "metadata": {},
   "source": [
    "# Graph Centralities"
   ]
  },
  {
   "cell_type": "markdown",
   "id": "8e78fccb",
   "metadata": {},
   "source": [
    "그래프의 중심성에 대해 학습한다."
   ]
  },
  {
   "cell_type": "markdown",
   "id": "c81d4049",
   "metadata": {},
   "source": [
    "## Degree Centrality (Cd)"
   ]
  },
  {
   "cell_type": "markdown",
   "id": "6662be72",
   "metadata": {},
   "source": [
    "차수 그 자체가, Centralitiy가 된다."
   ]
  },
  {
   "cell_type": "markdown",
   "id": "9be59eb7",
   "metadata": {},
   "source": [
    "## Eigenvector Centrality"
   ]
  },
  {
   "cell_type": "markdown",
   "id": "e131bae3",
   "metadata": {},
   "source": [
    "차수만 볼 경우에는 연결만 많이 된 노드를 가장 높게 칠 것이다. 연결된 노드가 얼마나 중요한지에 대해서는 반영되어 있지 않다.\n",
    "각각에 대한 중심성이 모두 필요한데, 이를 계산하기 위해 인접행렬의 eigenvalue를 구한다."
   ]
  },
  {
   "cell_type": "markdown",
   "id": "8a9d055f",
   "metadata": {},
   "source": [
    "### Remark. Katz 중심성\n",
    "Eigenvector Centrality의 가장 큰 단점은, eigenvalue가 원치 않을 때 0이 나올 수 있다는 점이다.\n",
    "이를 막기 위해 노드의 중심성에 특정 상수값을 더한다."
   ]
  },
  {
   "cell_type": "code",
   "execution_count": null,
   "id": "a17d031f",
   "metadata": {},
   "outputs": [],
   "source": []
  }
 ],
 "metadata": {
  "kernelspec": {
   "display_name": "Python 3",
   "language": "python",
   "name": "python3"
  },
  "language_info": {
   "codemirror_mode": {
    "name": "ipython",
    "version": 3
   },
   "file_extension": ".py",
   "mimetype": "text/x-python",
   "name": "python",
   "nbconvert_exporter": "python",
   "pygments_lexer": "ipython3",
   "version": "3.8.8"
  }
 },
 "nbformat": 4,
 "nbformat_minor": 5
}
