{
  "nbformat": 4,
  "nbformat_minor": 0,
  "metadata": {
    "colab": {
      "name": "Intro. Recommender System 1.ipynb",
      "provenance": [],
      "authorship_tag": "ABX9TyOwFnDBMYMdE2GPFsVewqP+",
      "include_colab_link": true
    },
    "kernelspec": {
      "name": "python3",
      "display_name": "Python 3"
    }
  },
  "cells": [
    {
      "cell_type": "markdown",
      "metadata": {
        "id": "view-in-github",
        "colab_type": "text"
      },
      "source": [
        "<a href=\"https://colab.research.google.com/github/SeongwonTak/TIL_swtak/blob/master/Interests/Intro_Recommender_System_1.ipynb\" target=\"_parent\"><img src=\"https://colab.research.google.com/assets/colab-badge.svg\" alt=\"Open In Colab\"/></a>"
      ]
    },
    {
      "cell_type": "markdown",
      "metadata": {
        "id": "U6EpPLFqR5cl"
      },
      "source": [
        "# 추천시스템 개요 공부\r\n",
        "\r\n",
        "공부해보고 싶었던 분야 중 하나인 추천시스템에 대해 영상을 통해 정리하고, 추가 자료를 통해 개요 및 필요요소를 간단하게 공부하려고 한다.\r\n",
        "\r\n",
        "영상출처> https://www.youtube.com/watch?v=6TP51jvjLsE&t=581s\r\n",
        "\r\n",
        "참고자료> https://datascienceschool.net/03%20machine%20learning/07.01%20%EC%B6%94%EC%B2%9C%20%EC%8B%9C%EC%8A%A4%ED%85%9C.html#surprise\r\n",
        "\r\n",
        "\r\n",
        "## 추천시스템의 구분\r\n",
        "- content-based filtering\r\n",
        "  \r\n",
        "  지금까지의 사용자 행동+피드백\r\n",
        "  사용자가 좋아하는 것과 유사한 항목 추천\r\n",
        "- collaborative filtering\r\n",
        "\r\n",
        "  사용자와 항목간 유사성 동시에 추천\r\n"
      ]
    },
    {
      "cell_type": "markdown",
      "metadata": {
        "id": "lzUiRNF7Sc2F"
      },
      "source": [
        "## surprise\r\n",
        "surprise 패키지는 추천 시스템 개발을 위한 라이브러리이다."
      ]
    },
    {
      "cell_type": "code",
      "metadata": {
        "colab": {
          "base_uri": "https://localhost:8080/"
        },
        "id": "BFj08m9jR0SQ",
        "outputId": "813424a8-9a58-43a9-c47c-d48064787eb4"
      },
      "source": [
        "!pip install scikit-surprise"
      ],
      "execution_count": 3,
      "outputs": [
        {
          "output_type": "stream",
          "text": [
            "Collecting scikit-surprise\n",
            "\u001b[?25l  Downloading https://files.pythonhosted.org/packages/97/37/5d334adaf5ddd65da99fc65f6507e0e4599d092ba048f4302fe8775619e8/scikit-surprise-1.1.1.tar.gz (11.8MB)\n",
            "\u001b[K     |████████████████████████████████| 11.8MB 341kB/s \n",
            "\u001b[?25hRequirement already satisfied: joblib>=0.11 in /usr/local/lib/python3.6/dist-packages (from scikit-surprise) (1.0.0)\n",
            "Requirement already satisfied: numpy>=1.11.2 in /usr/local/lib/python3.6/dist-packages (from scikit-surprise) (1.19.5)\n",
            "Requirement already satisfied: scipy>=1.0.0 in /usr/local/lib/python3.6/dist-packages (from scikit-surprise) (1.4.1)\n",
            "Requirement already satisfied: six>=1.10.0 in /usr/local/lib/python3.6/dist-packages (from scikit-surprise) (1.15.0)\n",
            "Building wheels for collected packages: scikit-surprise\n",
            "  Building wheel for scikit-surprise (setup.py) ... \u001b[?25l\u001b[?25hdone\n",
            "  Created wheel for scikit-surprise: filename=scikit_surprise-1.1.1-cp36-cp36m-linux_x86_64.whl size=1618274 sha256=1f73786307f05257c535e7b467e7e653f76f8c50c4513deef60c83e9545fb3f7\n",
            "  Stored in directory: /root/.cache/pip/wheels/78/9c/3d/41b419c9d2aff5b6e2b4c0fc8d25c538202834058f9ed110d0\n",
            "Successfully built scikit-surprise\n",
            "Installing collected packages: scikit-surprise\n",
            "Successfully installed scikit-surprise-1.1.1\n"
          ],
          "name": "stdout"
        }
      ]
    },
    {
      "cell_type": "code",
      "metadata": {
        "id": "lw_w3ZSxSvIT"
      },
      "source": [
        "from surprise import SVD  # 행렬의 분류에 대한 문제\r\n",
        "from surprise import Dataset\r\n",
        "from surprise.model_selection import cross_validate"
      ],
      "execution_count": 4,
      "outputs": []
    },
    {
      "cell_type": "markdown",
      "metadata": {
        "id": "BFVICNWEUJbY"
      },
      "source": [
        "surprise에는 다양한 데이터가 있는데 이 중, 영화 평점 데이터를 불러오려고 한다."
      ]
    },
    {
      "cell_type": "code",
      "metadata": {
        "colab": {
          "base_uri": "https://localhost:8080/"
        },
        "id": "knUuKaLmS4rm",
        "outputId": "3ee8ac91-3c07-4f5d-d90e-133da4525e75"
      },
      "source": [
        "# 예제 data\r\n",
        "data = Dataset.load_builtin('ml-100k', prompt = False)\r\n",
        "data.raw_ratings[:10]\r\n",
        "\r\n",
        "# User / Item / Rating / ID"
      ],
      "execution_count": 22,
      "outputs": [
        {
          "output_type": "execute_result",
          "data": {
            "text/plain": [
              "[('196', '242', 3.0, '881250949'),\n",
              " ('186', '302', 3.0, '891717742'),\n",
              " ('22', '377', 1.0, '878887116'),\n",
              " ('244', '51', 2.0, '880606923'),\n",
              " ('166', '346', 1.0, '886397596'),\n",
              " ('298', '474', 4.0, '884182806'),\n",
              " ('115', '265', 2.0, '881171488'),\n",
              " ('253', '465', 5.0, '891628467'),\n",
              " ('305', '451', 3.0, '886324817'),\n",
              " ('6', '86', 3.0, '883603013')]"
            ]
          },
          "metadata": {
            "tags": []
          },
          "execution_count": 22
        }
      ]
    },
    {
      "cell_type": "markdown",
      "metadata": {
        "id": "4jd9j6B4VB-O"
      },
      "source": [
        "이 데이터를 데이터 프레임으로 바꿔보면 다음과 같다."
      ]
    },
    {
      "cell_type": "code",
      "metadata": {
        "colab": {
          "base_uri": "https://localhost:8080/",
          "height": 343
        },
        "id": "cBKVz8QYVGzJ",
        "outputId": "63cddfbf-24bc-4ee7-a834-a009a9bc6786"
      },
      "source": [
        "import pandas as pd\r\n",
        "df = pd.DataFrame(data.raw_ratings, columns=[\"user\", \"item\", \"rate\", \"id\"])\r\n",
        "del df[\"id\"]\r\n",
        "df.head(10)"
      ],
      "execution_count": 7,
      "outputs": [
        {
          "output_type": "execute_result",
          "data": {
            "text/html": [
              "<div>\n",
              "<style scoped>\n",
              "    .dataframe tbody tr th:only-of-type {\n",
              "        vertical-align: middle;\n",
              "    }\n",
              "\n",
              "    .dataframe tbody tr th {\n",
              "        vertical-align: top;\n",
              "    }\n",
              "\n",
              "    .dataframe thead th {\n",
              "        text-align: right;\n",
              "    }\n",
              "</style>\n",
              "<table border=\"1\" class=\"dataframe\">\n",
              "  <thead>\n",
              "    <tr style=\"text-align: right;\">\n",
              "      <th></th>\n",
              "      <th>user</th>\n",
              "      <th>item</th>\n",
              "      <th>rate</th>\n",
              "    </tr>\n",
              "  </thead>\n",
              "  <tbody>\n",
              "    <tr>\n",
              "      <th>0</th>\n",
              "      <td>196</td>\n",
              "      <td>242</td>\n",
              "      <td>3.0</td>\n",
              "    </tr>\n",
              "    <tr>\n",
              "      <th>1</th>\n",
              "      <td>186</td>\n",
              "      <td>302</td>\n",
              "      <td>3.0</td>\n",
              "    </tr>\n",
              "    <tr>\n",
              "      <th>2</th>\n",
              "      <td>22</td>\n",
              "      <td>377</td>\n",
              "      <td>1.0</td>\n",
              "    </tr>\n",
              "    <tr>\n",
              "      <th>3</th>\n",
              "      <td>244</td>\n",
              "      <td>51</td>\n",
              "      <td>2.0</td>\n",
              "    </tr>\n",
              "    <tr>\n",
              "      <th>4</th>\n",
              "      <td>166</td>\n",
              "      <td>346</td>\n",
              "      <td>1.0</td>\n",
              "    </tr>\n",
              "    <tr>\n",
              "      <th>5</th>\n",
              "      <td>298</td>\n",
              "      <td>474</td>\n",
              "      <td>4.0</td>\n",
              "    </tr>\n",
              "    <tr>\n",
              "      <th>6</th>\n",
              "      <td>115</td>\n",
              "      <td>265</td>\n",
              "      <td>2.0</td>\n",
              "    </tr>\n",
              "    <tr>\n",
              "      <th>7</th>\n",
              "      <td>253</td>\n",
              "      <td>465</td>\n",
              "      <td>5.0</td>\n",
              "    </tr>\n",
              "    <tr>\n",
              "      <th>8</th>\n",
              "      <td>305</td>\n",
              "      <td>451</td>\n",
              "      <td>3.0</td>\n",
              "    </tr>\n",
              "    <tr>\n",
              "      <th>9</th>\n",
              "      <td>6</td>\n",
              "      <td>86</td>\n",
              "      <td>3.0</td>\n",
              "    </tr>\n",
              "  </tbody>\n",
              "</table>\n",
              "</div>"
            ],
            "text/plain": [
              "  user item  rate\n",
              "0  196  242   3.0\n",
              "1  186  302   3.0\n",
              "2   22  377   1.0\n",
              "3  244   51   2.0\n",
              "4  166  346   1.0\n",
              "5  298  474   4.0\n",
              "6  115  265   2.0\n",
              "7  253  465   5.0\n",
              "8  305  451   3.0\n",
              "9    6   86   3.0"
            ]
          },
          "metadata": {
            "tags": []
          },
          "execution_count": 7
        }
      ]
    },
    {
      "cell_type": "markdown",
      "metadata": {
        "id": "x5dQlUU_VPlW"
      },
      "source": [
        "정보를 해석해보면, 196번 user는 242번 아이템에 대해 3.0의 평점을 주었다고 해석할 수 있다.\r\n",
        "\r\n",
        "즉, 추천 시스템이란 user와 item을 바탕으로 rating을 예측하는 시스템이다."
      ]
    },
    {
      "cell_type": "markdown",
      "metadata": {
        "id": "iTXl3vKbT772"
      },
      "source": [
        "## 컨텐츠 기반 필터링 (Content-based Filtering)\r\n",
        "\r\n",
        "* 컨텐츠 기반 필터링은 이전의 행동과 명시적 피드백을 통해 좋아하는 것과 유사한 항목을 추천\r\n",
        "  * ex) 내가 지금 까지 시청한 영화 목록과 **다른 사용자의 시청 목록을 비교**해 나와 비슷한 취향의 사용자가 시청한 영화를 추천\r\n",
        "  혹은 평점 기반으로도 추천이 가능할 것이다.\r\n",
        "\r\n",
        "* **유사도를 기반**으로 추천\r\n",
        "\r\n",
        "* 컨텐츠 기반 필터링은 다음과 같은 장단점이 있다.\r\n",
        "  * 장점\r\n",
        "    * 많은 수의 사용자를 대상으로 쉽게 확장 가능\r\n",
        "    * 사용자가 관심을 갖지 않던 상품 추천 가능\r\n",
        "  * 단점\r\n",
        "    * 입력 특성을 직접 설계해야 하기 때문에 많은 도메인 지식이 필요\r\n",
        "    * **사용자의 기존 관심사항을 기반으로만** 추천 가능하다. 관심사가 바뀌는 것에 대해 반응이 늦다."
      ]
    },
    {
      "cell_type": "code",
      "metadata": {
        "id": "aOE-cy9ZURJC"
      },
      "source": [
        "import numpy as np"
      ],
      "execution_count": 8,
      "outputs": []
    },
    {
      "cell_type": "markdown",
      "metadata": {
        "id": "SMLg7IxAUcx_"
      },
      "source": [
        "* 이진 벡터의 내적을 통해 다른 사용자들과의 유사도 구하기.\r\n",
        "* 이를 위해서는 adjoint matrix를 생성해야 할 것이다.\r\n",
        "* 나와 가장 높은 유사도를 가진 사용자의 시청 목록을 추천\r\n",
        "* 1이 많이 겹칠수록, 높은 유사도일 것이다.\r\n",
        "\r\n",
        "\r\n",
        "행렬을 생성하고, 선정 기준을 만든 뒤, 선택 작업을 어떻게 할 것인지 예시 코드를 살펴보려고 한다."
      ]
    },
    {
      "cell_type": "code",
      "metadata": {
        "id": "dSYyxaVwUljm",
        "colab": {
          "base_uri": "https://localhost:8080/"
        },
        "outputId": "daec57ff-1389-4f14-e9df-98ef4b377f55"
      },
      "source": [
        "raw_data = np.array(data.raw_ratings, dtype=int)\r\n",
        "print(raw_data)"
      ],
      "execution_count": 23,
      "outputs": [
        {
          "output_type": "stream",
          "text": [
            "[[      196       242         3 881250949]\n",
            " [      186       302         3 891717742]\n",
            " [       22       377         1 878887116]\n",
            " ...\n",
            " [      276      1090         1 874795795]\n",
            " [       13       225         2 882399156]\n",
            " [       12       203         3 879959583]]\n"
          ],
          "name": "stdout"
        }
      ]
    },
    {
      "cell_type": "code",
      "metadata": {
        "id": "rhfmkPcgUsch"
      },
      "source": [
        "# 인덱스를 맞추기 위한 작업  (0번부터 시작하게 만들려고 한다.)\r\n",
        "raw_data[:,0] -= 1\r\n",
        "raw_data[:,1] -= 1"
      ],
      "execution_count": 24,
      "outputs": []
    },
    {
      "cell_type": "code",
      "metadata": {
        "id": "J8fL_CUYU0EE"
      },
      "source": [
        "n_users = np.max(raw_data[:, 0])\r\n",
        "n_movies= np.max(raw_data[:, 1])\r\n",
        "shape = (n_users+1, n_movies+1)  # 데이터 개수 구하기.  +1의 이유는  0번부터 시작해서."
      ],
      "execution_count": 25,
      "outputs": []
    },
    {
      "cell_type": "markdown",
      "metadata": {
        "id": "wSaeTUYjVwXy"
      },
      "source": [
        "행렬의 사이즈가 크기에 array대신에 고속 계산에 적합한 ndarry를 사용하려고 한다. ndarray를 위해서는 데이터 타입을 통일시켜야한다."
      ]
    },
    {
      "cell_type": "code",
      "metadata": {
        "colab": {
          "base_uri": "https://localhost:8080/"
        },
        "id": "dgztCS6HVQTA",
        "outputId": "d84f6258-ed17-4e98-d9e1-9a8c1e28c78b"
      },
      "source": [
        "# 인접행렬의 생성\r\n",
        "adj_matrix = np.ndarray(shape, dtype=int)\r\n",
        "for user_id, movie_id, rating, time in raw_data:\r\n",
        "  adj_matrix[user_id][movie_id] = 1\r\n",
        "adj_matrix\r\n",
        "# 1이 있는 위치가 데이터가 있는 위치이다."
      ],
      "execution_count": 26,
      "outputs": [
        {
          "output_type": "execute_result",
          "data": {
            "text/plain": [
              "array([[1, 1, 1, ..., 0, 0, 0],\n",
              "       [1, 0, 0, ..., 0, 0, 0],\n",
              "       [0, 0, 0, ..., 0, 0, 0],\n",
              "       ...,\n",
              "       [1, 0, 0, ..., 0, 0, 0],\n",
              "       [0, 0, 0, ..., 0, 0, 0],\n",
              "       [0, 1, 0, ..., 0, 0, 0]])"
            ]
          },
          "metadata": {
            "tags": []
          },
          "execution_count": 26
        }
      ]
    },
    {
      "cell_type": "code",
      "metadata": {
        "colab": {
          "base_uri": "https://localhost:8080/"
        },
        "id": "TwEe-onFVs_i",
        "outputId": "87ea5dff-c311-4cf0-889a-f769ec03a68b"
      },
      "source": [
        "my_id, my_vector = 0, adj_matrix[0]\r\n",
        "best_match, best_match_id, best_match_vector = -1, -1, []\r\n",
        "\r\n",
        "for user_id, user_vector in enumerate(adj_matrix):\r\n",
        "  if my_id != user_id:  # 나와 유저의 id가 다르다면\r\n",
        "    similarity = np.dot(my_vector, user_vector)  # 이 값이 클수록 1 유사도가..\r\n",
        "    if similarity > best_match:  # 최고 유사도가 갱신되었다면?\r\n",
        "      best_match = similarity\r\n",
        "      best_match_id = user_id\r\n",
        "      best_match_vector = user_vector\r\n",
        "\r\n",
        "print('Best Match: {}, Best Match ID: {}'.format(best_match, best_match_id))"
      ],
      "execution_count": 27,
      "outputs": [
        {
          "output_type": "stream",
          "text": [
            "Best Match: 183, Best Match ID: 275\n"
          ],
          "name": "stdout"
        }
      ]
    },
    {
      "cell_type": "code",
      "metadata": {
        "colab": {
          "base_uri": "https://localhost:8080/"
        },
        "id": "pfH6x8B5WhBq",
        "outputId": "05ff8814-83ab-4f7e-cb4a-b2290ed3b15f"
      },
      "source": [
        "recommend_list = []\r\n",
        "for i, log in enumerate(zip(my_vector, best_match_vector)):\r\n",
        "  log1, log2 = log\r\n",
        "  if log1 == 0 and log2 == 1:  # 내 벡터에서 0, 즉 나는 안보고 상대는 봤다?\r\n",
        "    recommend_list.append(i)\r\n",
        "\r\n",
        "print(recommend_list)"
      ],
      "execution_count": 29,
      "outputs": [
        {
          "output_type": "stream",
          "text": [
            "[272, 273, 275, 280, 281, 283, 287, 288, 289, 290, 292, 293, 297, 299, 300, 301, 302, 306, 312, 314, 315, 316, 317, 321, 322, 323, 324, 327, 330, 331, 332, 333, 339, 342, 345, 346, 353, 354, 355, 356, 357, 363, 364, 365, 366, 372, 374, 378, 379, 381, 382, 383, 384, 385, 386, 387, 390, 391, 392, 394, 395, 396, 398, 400, 401, 402, 403, 404, 405, 406, 407, 408, 409, 410, 412, 414, 416, 417, 418, 419, 420, 422, 424, 425, 426, 427, 428, 430, 431, 432, 435, 442, 446, 447, 448, 449, 450, 451, 452, 454, 455, 457, 460, 461, 462, 468, 469, 470, 471, 472, 473, 474, 478, 495, 500, 507, 517, 522, 525, 530, 539, 540, 543, 545, 546, 548, 549, 550, 551, 553, 557, 558, 560, 561, 562, 563, 565, 566, 567, 568, 570, 571, 574, 575, 576, 577, 580, 581, 582, 585, 587, 589, 590, 594, 596, 602, 623, 626, 627, 630, 633, 635, 639, 646, 648, 651, 652, 654, 657, 664, 668, 671, 677, 678, 681, 683, 684, 685, 690, 691, 692, 695, 696, 708, 709, 714, 718, 719, 720, 724, 726, 727, 731, 733, 734, 736, 738, 741, 742, 745, 746, 747, 749, 750, 754, 758, 762, 764, 767, 768, 769, 770, 771, 772, 773, 778, 779, 782, 785, 788, 789, 793, 795, 796, 799, 800, 801, 802, 805, 806, 808, 815, 819, 822, 824, 830, 839, 842, 843, 844, 852, 853, 870, 875, 878, 880, 889, 901, 914, 915, 918, 921, 927, 929, 930, 938, 940, 941, 942, 948, 950, 958, 968, 973, 974, 976, 992, 999, 1005, 1009, 1010, 1012, 1015, 1018, 1027, 1030, 1034, 1035, 1041, 1043, 1045, 1046, 1051, 1055, 1072, 1073, 1078, 1080, 1082, 1088, 1089, 1090, 1094, 1097, 1108, 1109, 1117, 1128, 1130, 1134, 1139, 1140, 1144, 1156, 1169, 1171, 1179, 1193, 1198, 1207, 1209, 1212, 1217, 1219, 1220, 1227, 1231, 1238, 1239, 1243, 1244, 1252, 1266, 1272, 1273, 1300, 1313, 1406, 1412, 1415, 1470, 1477, 1480, 1481, 1482]\n"
          ],
          "name": "stdout"
        }
      ]
    },
    {
      "cell_type": "markdown",
      "metadata": {
        "id": "tgGcnNwvVsKq"
      },
      "source": [
        "혹은, 유클리드 거리를 사용해  추천가능할 것이다. 거리가 가까울수록 나랑 유사한 사용자다."
      ]
    },
    {
      "cell_type": "code",
      "metadata": {
        "colab": {
          "base_uri": "https://localhost:8080/"
        },
        "id": "mxBoY5r3XFmB",
        "outputId": "78e5d99d-547a-4a3d-cbe6-2d82bb8ef3d2"
      },
      "source": [
        "my_id, my_vector = 0, adj_matrix[0]\r\n",
        "best_match, best_match_id, best_match_vector = 9999, -1, []\r\n",
        "\r\n",
        "for user_id, user_vector in enumerate(adj_matrix):\r\n",
        "  if my_id != user_id:\r\n",
        "    eucliden_dist = np.sqrt(np.sum(np.square(my_vector - user_vector)))\r\n",
        "    if eucliden_dist < best_match:\r\n",
        "      best_match = eucliden_dist\r\n",
        "      best_match_id = user_id\r\n",
        "      best_match_vector = user_vector\r\n",
        "\r\n",
        "print('Best Match: {}, Best Match ID: {}'.format(best_match, best_match_id))"
      ],
      "execution_count": 30,
      "outputs": [
        {
          "output_type": "stream",
          "text": [
            "Best Match: 14.832396974191326, Best Match ID: 737\n"
          ],
          "name": "stdout"
        }
      ]
    },
    {
      "cell_type": "code",
      "metadata": {
        "colab": {
          "base_uri": "https://localhost:8080/"
        },
        "id": "tWn9q5U9XkLJ",
        "outputId": "a6a07e22-5081-449c-923b-5cfcde3d67d1"
      },
      "source": [
        "recommend_list = []\r\n",
        "for i, log in enumerate(zip(my_vector, best_match_vector)):\r\n",
        "  log1, log2 = log\r\n",
        "  if log1 == 0 and log2 == 1:\r\n",
        "    recommend_list.append(i)\r\n",
        "\r\n",
        "print(recommend_list)"
      ],
      "execution_count": 31,
      "outputs": [
        {
          "output_type": "stream",
          "text": [
            "[297, 312, 317, 342, 356, 366, 379, 384, 392, 402, 404, 407, 417, 422, 428, 433, 448, 454, 469, 473, 495, 510, 516, 526, 527, 549, 567, 602, 635, 649, 650, 654, 658, 661, 664, 696, 731, 746, 750, 754, 915, 918, 925, 929, 950, 968, 1015, 1046]\n"
          ],
          "name": "stdout"
        }
      ]
    },
    {
      "cell_type": "markdown",
      "metadata": {
        "id": "T4xC6pjPXtNC"
      },
      "source": [
        "혹은 코사인 유사도를 활용 할 수 있다.\r\n",
        "코사인 값의 경우는 별도로 값을 생성해야 한다.\r\n",
        "코사인 값은 클수록 유사한 방향의 벡터를 보일 것이다.\r\n",
        "(각도가 작아지니까!)"
      ]
    },
    {
      "cell_type": "code",
      "metadata": {
        "id": "OjnKSn3lXyuj"
      },
      "source": [
        "def compute_cos_similarity(v1, v2):\r\n",
        "  norm1 = np.sqrt(np.sum(np.square(v1)))\r\n",
        "  norm2 = np.sqrt(np.sum(np.square(v2)))\r\n",
        "  dot = np.dot(v1, v2)\r\n",
        "\r\n",
        "  return dot / (norm1 * norm2)"
      ],
      "execution_count": 32,
      "outputs": []
    },
    {
      "cell_type": "code",
      "metadata": {
        "colab": {
          "base_uri": "https://localhost:8080/"
        },
        "id": "uZd08Y3UYJER",
        "outputId": "85ff5310-4421-4901-8e7c-974b4b78595e"
      },
      "source": [
        "my_id, my_vector = 0, adj_matrix[0]\r\n",
        "best_match, best_match_id, best_match_vector = -1, -1, []\r\n",
        "\r\n",
        "for user_id, user_vector in enumerate(adj_matrix):\r\n",
        "  if my_id != user_id:\r\n",
        "    cos_similarity = compute_cos_similarity(my_vector, user_vector)\r\n",
        "    if cos_similarity > best_match:\r\n",
        "      best_match = cos_similarity\r\n",
        "      best_match_id = user_id\r\n",
        "      best_match_vector = user_vector\r\n",
        "\r\n",
        "print('Best Match: {}, Best Match ID: {}'.format(best_match, best_match_id))"
      ],
      "execution_count": 33,
      "outputs": [
        {
          "output_type": "stream",
          "text": [
            "Best Match: 0.5278586163659506, Best Match ID: 915\n"
          ],
          "name": "stdout"
        }
      ]
    },
    {
      "cell_type": "code",
      "metadata": {
        "colab": {
          "base_uri": "https://localhost:8080/"
        },
        "id": "bmEV9ul9YhhF",
        "outputId": "7512185b-3079-4214-c67b-d38b696bdbb0"
      },
      "source": [
        "recommend_list = []\r\n",
        "for i, log in enumerate(zip(my_vector, best_match_vector)):\r\n",
        "  log1, log2 = log\r\n",
        "  if log1 == 0 and log2 == 1:\r\n",
        "    recommend_list.append(i)\r\n",
        "\r\n",
        "print(recommend_list)"
      ],
      "execution_count": 34,
      "outputs": [
        {
          "output_type": "stream",
          "text": [
            "[272, 275, 279, 280, 283, 285, 289, 294, 297, 316, 317, 355, 365, 366, 368, 379, 380, 381, 384, 386, 392, 398, 401, 404, 416, 420, 422, 424, 426, 427, 430, 432, 450, 460, 461, 466, 469, 471, 473, 474, 475, 479, 482, 483, 497, 505, 508, 510, 511, 522, 526, 527, 529, 530, 534, 536, 540, 545, 548, 549, 556, 557, 558, 560, 565, 567, 568, 569, 577, 580, 581, 582, 592, 596, 630, 635, 639, 641, 649, 651, 654, 673, 677, 678, 683, 684, 692, 696, 701, 703, 707, 708, 709, 712, 714, 719, 720, 726, 731, 734, 736, 738, 740, 745, 747, 754, 755, 761, 762, 763, 766, 780, 789, 791, 805, 819, 823, 824, 830, 843, 862, 865, 918, 929, 930, 938, 942, 943, 947, 958, 959, 960, 970, 977, 1004, 1008, 1009, 1010, 1013, 1041, 1045, 1069, 1072, 1073, 1078, 1097, 1100, 1108, 1112, 1118, 1134, 1193, 1205, 1207, 1216, 1219, 1267, 1334, 1400, 1427, 1596, 1681]\n"
          ],
          "name": "stdout"
        }
      ]
    },
    {
      "cell_type": "markdown",
      "metadata": {
        "id": "R0rWJwnMaObX"
      },
      "source": [
        "하지만 위의 내용은 사용자의 평가가 반영되어 있지 않다. 오로지 본 경험에 대해서만 평가가 되어있다. 사용자의 평가가 반영된다면? 평점을 반영한 인접행렬을 새로 만들려고 한다."
      ]
    },
    {
      "cell_type": "code",
      "metadata": {
        "colab": {
          "base_uri": "https://localhost:8080/"
        },
        "id": "Bn2oxMh6aNnY",
        "outputId": "be23290f-fa37-4085-966b-d1ce191bbc1d"
      },
      "source": [
        "# 인접행렬의 생성\r\n",
        "adj_matrix = np.ndarray(shape, dtype=int)\r\n",
        "for user_id, movie_id, rating, time in raw_data:\r\n",
        "  adj_matrix[user_id][movie_id] = rating\r\n",
        "adj_matrix\r\n",
        "# 1이 있는 위치가 데이터가 있는 위치이다."
      ],
      "execution_count": 35,
      "outputs": [
        {
          "output_type": "execute_result",
          "data": {
            "text/plain": [
              "array([[5, 3, 4, ..., 0, 0, 0],\n",
              "       [4, 0, 0, ..., 0, 0, 0],\n",
              "       [0, 0, 0, ..., 0, 0, 0],\n",
              "       ...,\n",
              "       [5, 0, 0, ..., 0, 0, 0],\n",
              "       [0, 0, 0, ..., 0, 0, 0],\n",
              "       [0, 5, 0, ..., 0, 0, 0]])"
            ]
          },
          "metadata": {
            "tags": []
          },
          "execution_count": 35
        }
      ]
    },
    {
      "cell_type": "code",
      "metadata": {
        "colab": {
          "base_uri": "https://localhost:8080/"
        },
        "id": "2y0OBPyCaolC",
        "outputId": "7590de78-0373-4970-b9fd-e59b10dfee35"
      },
      "source": [
        "my_id, my_vector = 0, adj_matrix[0]\r\n",
        "best_match, best_match_id, best_match_vector = 9999, -1, []\r\n",
        "\r\n",
        "for user_id, user_vector in enumerate(adj_matrix):\r\n",
        "  if my_id != user_id:\r\n",
        "    eucliden_dist = np.sqrt(np.sum(np.square(my_vector - user_vector)))\r\n",
        "    if eucliden_dist < best_match:\r\n",
        "      best_match = eucliden_dist\r\n",
        "      best_match_id = user_id\r\n",
        "      best_match_vector = user_vector\r\n",
        "\r\n",
        "print('Best Match: {}, Best Match ID: {}'.format(best_match, best_match_id))"
      ],
      "execution_count": 38,
      "outputs": [
        {
          "output_type": "stream",
          "text": [
            "Best Match: 55.06359959174482, Best Match ID: 737\n"
          ],
          "name": "stdout"
        }
      ]
    },
    {
      "cell_type": "code",
      "metadata": {
        "colab": {
          "base_uri": "https://localhost:8080/"
        },
        "id": "qbvJDpzhZJ3L",
        "outputId": "7e7f7b7d-955b-4580-87fc-bbda4984e16c"
      },
      "source": [
        "recommend_list = []\r\n",
        "for i, log in enumerate(zip(my_vector, best_match_vector)):\r\n",
        "  log1, log2 = log\r\n",
        "  if log1 == 0 and log2 > 4:  # 본인이 보지 않은 영화 중 가장 가까운 유저가 5점을 내린 모델을 가져오자.\r\n",
        "    recommend_list.append(i)\r\n",
        "\r\n",
        "print(recommend_list)"
      ],
      "execution_count": 39,
      "outputs": [
        {
          "output_type": "stream",
          "text": [
            "[312, 317, 384, 407, 526, 602]\n"
          ],
          "name": "stdout"
        }
      ]
    },
    {
      "cell_type": "markdown",
      "metadata": {
        "id": "BMnzap5Ha8dp"
      },
      "source": [
        "## 협업 필터링(Collaborative Filtering)\r\n",
        "\r\n",
        "* **사용자와 항목의 유사성을 동시에 고려해 추천**\r\n",
        "* **기존에 내 관심사가 아닌 항목**이라도 추천 가능\r\n",
        "* 자동으로 임베딩 학습 가능\r\n",
        "* 협업 필터링은 다음과 같은 장단점을 갖고 있다.\r\n",
        "  * 장점\r\n",
        "    * 자동으로 임베딩을 학습하기 때문에 도메인 지식이 필요 없다.\r\n",
        "    * 기존의 관심사가 아니더라도 추천 가능\r\n",
        "  * 단점\r\n",
        "    * **학습 과정에 나오지 않은 항목은 임베딩을 만들 수 없음**\r\n",
        "    * 추가 특성을 사용하기 어려움"
      ]
    },
    {
      "cell_type": "code",
      "metadata": {
        "id": "_j-B_fifexBP"
      },
      "source": [
        "from surprise import KNNBasic, SVD, SVDpp, NMF\r\n",
        "from surprise import Dataset\r\n",
        "from surprise.model_selection import cross_validate"
      ],
      "execution_count": null,
      "outputs": []
    },
    {
      "cell_type": "code",
      "metadata": {
        "id": "xlIkwx91fFP6"
      },
      "source": [
        "data = Dataset.load_builtin('ml-100k', prompt=False)"
      ],
      "execution_count": null,
      "outputs": []
    },
    {
      "cell_type": "markdown",
      "metadata": {
        "id": "tbpdGVy3e-Zh"
      },
      "source": [
        "이 외에에도 SVD 등을 통해서도 모델을 줄 수 있다. 즉 기존 모델을 활용하여 추천하게 된다."
      ]
    },
    {
      "cell_type": "markdown",
      "metadata": {
        "id": "v_Gh356ggPwP"
      },
      "source": [
        "## 하이브리드(Hybrid)\r\n",
        "\r\n",
        "* 컨텐츠 기반 필터링과 협업 필터링을 조합한 방식이다.\r\n",
        "* 많은 하이브리드 방식이 존재\r\n",
        "* 실습에서는 협업 필터링으로 임베딩을 학습하고 컨텐츠 기반 필터링으로 유사도 기반 추천을 수행하는 추천 엔진 개발"
      ]
    },
    {
      "cell_type": "code",
      "metadata": {
        "id": "aMLvjXGZgRCK"
      },
      "source": [
        "import numpy as np\r\n",
        "from sklearn.decomposition import randomized_svd, non_negative_factorization\r\n",
        "from surprise import Dataset\r\n"
      ],
      "execution_count": 40,
      "outputs": []
    },
    {
      "cell_type": "code",
      "metadata": {
        "id": "5YwJhfSXg5bp"
      },
      "source": [
        "data = Dataset.load_builtin('ml-100k', prompt = False)\r\n",
        "raw_data = np.array(data.raw_ratings, dtype=int)\r\n",
        "raw_data[:, 0] -= 1\r\n",
        "raw_data[:, 1] -= 1"
      ],
      "execution_count": 41,
      "outputs": []
    },
    {
      "cell_type": "code",
      "metadata": {
        "colab": {
          "base_uri": "https://localhost:8080/"
        },
        "id": "sH_qHlcKhN0b",
        "outputId": "57a224d0-63a8-445d-9b86-909a029bbad0"
      },
      "source": [
        "n_users = np.max(raw_data[:, 0])\r\n",
        "n_movies = np.max(raw_data[:,1])\r\n",
        "shape = (n_users+1, n_movies+1)\r\n",
        "shape"
      ],
      "execution_count": 42,
      "outputs": [
        {
          "output_type": "execute_result",
          "data": {
            "text/plain": [
              "(943, 1682)"
            ]
          },
          "metadata": {
            "tags": []
          },
          "execution_count": 42
        }
      ]
    },
    {
      "cell_type": "code",
      "metadata": {
        "colab": {
          "base_uri": "https://localhost:8080/"
        },
        "id": "igsuniUOhX-e",
        "outputId": "4fd33a30-9057-48e5-f71a-109e0fde5cb9"
      },
      "source": [
        "adj_matrix = np.ndarray(shape, dtype=int)\r\n",
        "for user_id, movie_id, rating, time in raw_data:\r\n",
        "  adj_matrix[user_id][movie_id] = rating\r\n",
        "\r\n",
        "adj_matrix"
      ],
      "execution_count": 43,
      "outputs": [
        {
          "output_type": "execute_result",
          "data": {
            "text/plain": [
              "array([[5, 3, 4, ..., 0, 0, 0],\n",
              "       [4, 0, 0, ..., 0, 0, 0],\n",
              "       [0, 0, 0, ..., 0, 0, 0],\n",
              "       ...,\n",
              "       [5, 0, 0, ..., 0, 0, 0],\n",
              "       [0, 0, 0, ..., 0, 0, 0],\n",
              "       [0, 5, 0, ..., 0, 0, 0]])"
            ]
          },
          "metadata": {
            "tags": []
          },
          "execution_count": 43
        }
      ]
    },
    {
      "cell_type": "markdown",
      "metadata": {
        "id": "o4k8UBR6aXgt"
      },
      "source": [
        "행렬의 분해를 필요한 정보를 필터링 할 수 있을 것이다.\r\n",
        "여기서는 SVD방식 (Singular Value Decomposition) 을 사용해보려고 한다."
      ]
    },
    {
      "cell_type": "code",
      "metadata": {
        "id": "CukZpmh3hzJj"
      },
      "source": [
        "# 사용자, \"특이값\", 항목\r\n",
        "U, S, V = randomized_svd(adj_matrix, n_components = 2)\r\n",
        "S = np.diag(S)\r\n",
        "\r\n",
        "# S가 잠재요인이 되는 특이값 벡터가 될 것이다."
      ],
      "execution_count": 44,
      "outputs": []
    },
    {
      "cell_type": "code",
      "metadata": {
        "colab": {
          "base_uri": "https://localhost:8080/"
        },
        "id": "5QffUccriEqg",
        "outputId": "b9c80c28-6eb4-4ed6-cc98-e52ef12aa087"
      },
      "source": [
        "print(U.shape)\r\n",
        "print(S.shape)\r\n",
        "print(V.shape)"
      ],
      "execution_count": 45,
      "outputs": [
        {
          "output_type": "stream",
          "text": [
            "(943, 2)\n",
            "(2, 2)\n",
            "(2, 1682)\n"
          ],
          "name": "stdout"
        }
      ]
    },
    {
      "cell_type": "code",
      "metadata": {
        "colab": {
          "base_uri": "https://localhost:8080/"
        },
        "id": "0WKMV6eniQ5o",
        "outputId": "fcd5e97d-7f50-4910-dd22-82a5163c708a"
      },
      "source": [
        "np.matmul(np.matmul(U, S), V)"
      ],
      "execution_count": 46,
      "outputs": [
        {
          "output_type": "execute_result",
          "data": {
            "text/plain": [
              "array([[ 3.91732663e+00,  1.47276644e+00,  7.98261988e-01, ...,\n",
              "         6.24907189e-04,  1.41100852e-02,  1.36545878e-02],\n",
              "       [ 1.85777226e+00,  3.96191175e-01,  5.05705740e-01, ...,\n",
              "         5.38862978e-03,  1.77237914e-03,  5.26968095e-04],\n",
              "       [ 8.94989517e-01,  1.71578497e-01,  2.51738682e-01, ...,\n",
              "         2.92094923e-03,  5.39937171e-04, -1.25733753e-04],\n",
              "       ...,\n",
              "       [ 9.92051955e-01,  2.10814957e-01,  2.70363365e-01, ...,\n",
              "         2.89019297e-03,  9.34221962e-04,  2.66612193e-04],\n",
              "       [ 1.30425401e+00,  5.27669941e-01,  2.50080165e-01, ...,\n",
              "        -4.20677765e-04,  5.30525683e-03,  5.28069948e-03],\n",
              "       [ 2.82999397e+00,  9.70812247e-01,  6.15871694e-01, ...,\n",
              "         2.02091492e-03,  8.67740813e-03,  8.03107892e-03]])"
            ]
          },
          "metadata": {
            "tags": []
          },
          "execution_count": 46
        }
      ]
    },
    {
      "cell_type": "markdown",
      "metadata": {
        "id": "TaTIsvxsjOJt"
      },
      "source": [
        "사용자 기반 추천 방식을 사용하기 위해서는 user방식인 U를 가져와야 할 것이다."
      ]
    },
    {
      "cell_type": "code",
      "metadata": {
        "colab": {
          "base_uri": "https://localhost:8080/"
        },
        "id": "lPk4v6LIiqm4",
        "outputId": "d2ee0d1e-3561-4d5e-a9e2-65067e4fd293"
      },
      "source": [
        "my_id, my_vector = 0, U[0]\r\n",
        "best_match, best_match_id, best_match_vector = -1, -1, []\r\n",
        "\r\n",
        "for user_id, user_vector in enumerate(U):\r\n",
        "  if my_id != user_id:\r\n",
        "    cos_similarity = compute_cos_similarity(my_vector, user_vector)\r\n",
        "    if cos_similarity > best_match:\r\n",
        "      best_match = cos_similarity\r\n",
        "      best_match_id = user_id\r\n",
        "      best_match_vector = user_vector\r\n",
        "\r\n",
        "print('Best Match: {}, Best Match ID: {}'.format(best_match, best_match_id))"
      ],
      "execution_count": 47,
      "outputs": [
        {
          "output_type": "stream",
          "text": [
            "Best Match: 0.9999942295956324, Best Match ID: 235\n"
          ],
          "name": "stdout"
        }
      ]
    },
    {
      "cell_type": "code",
      "metadata": {
        "colab": {
          "base_uri": "https://localhost:8080/"
        },
        "id": "cEP9oifyjAlu",
        "outputId": "40e1d971-f11b-4e58-b137-c84af71c4c6d"
      },
      "source": [
        "recommend_list = []\r\n",
        "for i, log in enumerate(zip(adj_matrix[my_id], adj_matrix[best_match_id])):\r\n",
        "  log1, log2 = log\r\n",
        "  if log1 == 0 and log2 > 4:\r\n",
        "    recommend_list.append(i)\r\n",
        "\r\n",
        "print(recommend_list)"
      ],
      "execution_count": 48,
      "outputs": [
        {
          "output_type": "stream",
          "text": [
            "[281, 285, 317, 327, 418, 422, 426, 431, 482, 505, 613, 728, 734, 749]\n"
          ],
          "name": "stdout"
        }
      ]
    },
    {
      "cell_type": "markdown",
      "metadata": {
        "id": "04ElrnIhia0b"
      },
      "source": [
        "항목기반 추천은 V를 가져와야 하는데, 행렬 곱으로 분해했으므로 Transpose를 취해야 할 것이다. SVD에 대한 자세한 내용은 추후 학습하려고 한다. (선형대수학...)"
      ]
    },
    {
      "cell_type": "code",
      "metadata": {
        "colab": {
          "base_uri": "https://localhost:8080/"
        },
        "id": "nIOY1UiKjTMz",
        "outputId": "84fb6f63-26ec-4af3-eed8-9d5fdca50778"
      },
      "source": [
        "my_id, my_vector = 0, V.T[0]\r\n",
        "best_match, best_match_id, best_match_vector = -1, -1, []\r\n",
        "\r\n",
        "for user_id, user_vector in enumerate(V.T):\r\n",
        "  if my_id != user_id:\r\n",
        "    cos_similarity = compute_cos_similarity(my_vector, user_vector)\r\n",
        "    if cos_similarity > best_match:\r\n",
        "      best_match = cos_similarity\r\n",
        "      best_match_id = user_id\r\n",
        "      best_match_vector = user_vector\r\n",
        "\r\n",
        "print('Best Match: {}, Best Match ID: {}'.format(best_match, best_match_id))"
      ],
      "execution_count": 49,
      "outputs": [
        {
          "output_type": "stream",
          "text": [
            "Best Match: 0.9999999951364145, Best Match ID: 1287\n"
          ],
          "name": "stdout"
        }
      ]
    },
    {
      "cell_type": "code",
      "metadata": {
        "colab": {
          "base_uri": "https://localhost:8080/"
        },
        "id": "OvfPHCVRjbfa",
        "outputId": "02c35de1-30c0-4202-c398-773a503878b5"
      },
      "source": [
        "recommend_list = []\r\n",
        "for i, user_vector in enumerate(adj_matrix):\r\n",
        "  if adj_matrix[i][my_id] > 4:\r\n",
        "    recommend_list.append(i)\r\n",
        "\r\n",
        "print(recommend_list)"
      ],
      "execution_count": 51,
      "outputs": [
        {
          "output_type": "stream",
          "text": [
            "[0, 15, 17, 20, 22, 24, 37, 41, 42, 44, 56, 57, 76, 88, 92, 94, 95, 129, 133, 150, 156, 167, 188, 199, 208, 209, 229, 251, 252, 255, 262, 264, 275, 286, 289, 290, 293, 295, 297, 302, 304, 306, 311, 313, 323, 329, 338, 339, 342, 356, 380, 387, 389, 394, 397, 401, 415, 434, 440, 467, 471, 478, 483, 486, 502, 507, 513, 522, 525, 531, 533, 535, 544, 548, 576, 605, 613, 619, 641, 642, 647, 648, 660, 668, 675, 677, 690, 696, 704, 707, 714, 715, 720, 737, 746, 758, 766, 767, 769, 770, 803, 814, 820, 837, 863, 869, 881, 884, 886, 891, 892, 896, 900, 901, 906, 921, 923, 926, 940]\n"
          ],
          "name": "stdout"
        }
      ]
    },
    {
      "cell_type": "markdown",
      "metadata": {
        "id": "uvB4dnNPkSv6"
      },
      "source": [
        "이 이외 비음수 행렬 기법도 사용 가능하다."
      ]
    }
  ]
}