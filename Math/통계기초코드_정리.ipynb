{
  "nbformat": 4,
  "nbformat_minor": 0,
  "metadata": {
    "colab": {
      "name": "통계기초코드 정리.ipynb",
      "provenance": [],
      "authorship_tag": "ABX9TyOMgbdwQl9xxHERucz9BoAk",
      "include_colab_link": true
    },
    "kernelspec": {
      "name": "python3",
      "display_name": "Python 3"
    },
    "language_info": {
      "name": "python"
    }
  },
  "cells": [
    {
      "cell_type": "markdown",
      "metadata": {
        "id": "view-in-github",
        "colab_type": "text"
      },
      "source": [
        "<a href=\"https://colab.research.google.com/github/SeongwonTak/TIL_swtak/blob/master/Math/%ED%86%B5%EA%B3%84%EA%B8%B0%EC%B4%88%EC%BD%94%EB%93%9C_%EC%A0%95%EB%A6%AC.ipynb\" target=\"_parent\"><img src=\"https://colab.research.google.com/assets/colab-badge.svg\" alt=\"Open In Colab\"/></a>"
      ]
    },
    {
      "cell_type": "markdown",
      "metadata": {
        "id": "E2QrVcmaIqMY"
      },
      "source": [
        "# 통계 기초 코드 정리"
      ]
    },
    {
      "cell_type": "code",
      "metadata": {
        "colab": {
          "base_uri": "https://localhost:8080/"
        },
        "id": "UVnbqcXsHddR",
        "outputId": "941ecfc2-ed21-4934-bfde-505264d7a022"
      },
      "source": [
        "# 가장 기본\n",
        "import numpy as np\n",
        "import scipy as sp\n",
        "import statsmodels.api as sm"
      ],
      "execution_count": 9,
      "outputs": [
        {
          "output_type": "stream",
          "text": [
            "/usr/local/lib/python3.7/dist-packages/statsmodels/tools/_testing.py:19: FutureWarning: pandas.util.testing is deprecated. Use the functions in the public API at pandas.testing instead.\n",
            "  import pandas.util.testing as tm\n"
          ],
          "name": "stderr"
        }
      ]
    },
    {
      "cell_type": "markdown",
      "metadata": {
        "id": "kh2tdXdkIvwH"
      },
      "source": [
        "## 대표값 계산"
      ]
    },
    {
      "cell_type": "code",
      "metadata": {
        "colab": {
          "base_uri": "https://localhost:8080/"
        },
        "id": "QgQFFaaGIu_9",
        "outputId": "acdeb4c9-0f90-4f47-f605-77f14d2e8264"
      },
      "source": [
        "a = np.array([13, 20, 15, 30, 22, 13, 15, 20, 24, 30, 35, 19, 24, 22, 26, 30])\n",
        "print(\"평균 : %.2f\" %(np.mean(a)))\n",
        "print(\"표본중앙 : %.2f\" %(np.median(a)))\n",
        "print(\"argmax : %.2f\" %(np.argmax(a))) # 최댓값 위치\n",
        "# 최빈값의 경우는 조금 다름\n",
        "print(sp.stats.mode(a))\n",
        "# 다음과 같이 최빈값과, 그 개수가 나온다."
      ],
      "execution_count": 12,
      "outputs": [
        {
          "output_type": "stream",
          "text": [
            "평균 : 22.38\n",
            "표본중앙 : 22.00\n",
            "argmax : 10.00\n",
            "ModeResult(mode=array([30]), count=array([3]))\n"
          ],
          "name": "stdout"
        }
      ]
    },
    {
      "cell_type": "markdown",
      "metadata": {
        "id": "MPwOxw2jKwRY"
      },
      "source": [
        "## 표분편차, 분산, 사분위수"
      ]
    },
    {
      "cell_type": "code",
      "metadata": {
        "colab": {
          "base_uri": "https://localhost:8080/"
        },
        "id": "nnwiVBRHJJYP",
        "outputId": "aa0d105d-7f70-4238-b75f-e8c1ef7ab6a6"
      },
      "source": [
        "print(\"분산 : %.2f\" %(np.var(a)))\n",
        "print(\"표준편차 : %.2f\" %(np.std(a)))\n",
        "# 사분위수 : 제1사분위 25, 제2 중간, 제3 75\n",
        "print(\"제1사분위수 : %.2f\" %(np.quantile(a, 0.25)))\n",
        "print(\"제2사분위수 : %.2f\" %(np.quantile(a, 0.5)))\n",
        "print(\"제3사분위수 : %.2f\" %(np.quantile(a, 0.75)))\n",
        "# 사분위간 범위 : 제3사분위수 - 제1사분위수"
      ],
      "execution_count": 13,
      "outputs": [
        {
          "output_type": "stream",
          "text": [
            "분산 : 41.23\n",
            "표준편차 : 6.42\n",
            "제1사분위수 : 18.00\n",
            "제2사분위수 : 22.00\n",
            "제3사분위수 : 27.00\n"
          ],
          "name": "stdout"
        }
      ]
    },
    {
      "cell_type": "code",
      "metadata": {
        "id": "vORIPvzrL2G2"
      },
      "source": [
        ""
      ],
      "execution_count": null,
      "outputs": []
    },
    {
      "cell_type": "markdown",
      "metadata": {
        "id": "mZrd5SApMIYP"
      },
      "source": [
        "## 비대칭도(왜도), 첨도\n",
        "\n",
        "왜도는 분포의 비대칭도를 나타내는 통계량.  \n",
        "- 왜도가 0보다 작으면, 좌측으로 쏠린 데이터\n",
        "  오른쪽으로 긴 꼬리\n",
        "- 왜도가 0보다 크면, 우측으로 쏠린 데이터  \n",
        "  좌측으로 긴 꼬리  \n",
        "\n",
        "첨도는 중앙부분의 뾰족함에 대한 정보를 제공  \n",
        "- 첨도가 0보다 크면, 정규분포보다 꼬리가 더 김\n",
        "- 첨도가 0보다 작으면, 중앙분포에 더 집중"
      ]
    },
    {
      "cell_type": "code",
      "metadata": {
        "colab": {
          "base_uri": "https://localhost:8080/"
        },
        "id": "yJ_oIf1OMPu3",
        "outputId": "4326f103-a0b1-4ea2-e808-e96e0855baae"
      },
      "source": [
        "print(\"왜도 : %.2f\" %(sp.stats.skew(a)))\n",
        "print(\"첨도 : %.2f\" %(sp.stats.kurtosis(a)))"
      ],
      "execution_count": 15,
      "outputs": [
        {
          "output_type": "stream",
          "text": [
            "왜도 : 0.21\n",
            "첨도 : -0.89\n"
          ],
          "name": "stdout"
        }
      ]
    },
    {
      "cell_type": "markdown",
      "metadata": {
        "id": "rSNJVkmFNaOE"
      },
      "source": [
        "## 공분산, 상관계수"
      ]
    },
    {
      "cell_type": "markdown",
      "metadata": {
        "id": "HsJjahLQNhSv"
      },
      "source": [
        "공분산은, 두 변수가 함께 변화하는 정도를 나타내는 지표, 선형성을 측정하는 지표이다."
      ]
    },
    {
      "cell_type": "code",
      "metadata": {
        "colab": {
          "base_uri": "https://localhost:8080/"
        },
        "id": "RbyVqpqFMdet",
        "outputId": "395cac74-deb9-48fa-f512-71d9e0c2c25d"
      },
      "source": [
        "x = [-5, -2, -1, 0, 1, 2, 4]\n",
        "y = [-7, -4, -3, 0, 2, 4, 5]\n",
        "np.cov(x, y)\n",
        "#  정확히는 공분산 행렬을 얻게 된다.\n",
        "# 따라서, np.cov(x, y)[0, 1]로."
      ],
      "execution_count": 20,
      "outputs": [
        {
          "output_type": "execute_result",
          "data": {
            "text/plain": [
              "array([[ 8.47619048, 12.5952381 ],\n",
              "       [12.5952381 , 19.61904762]])"
            ]
          },
          "metadata": {
            "tags": []
          },
          "execution_count": 20
        }
      ]
    },
    {
      "cell_type": "code",
      "metadata": {
        "colab": {
          "base_uri": "https://localhost:8080/"
        },
        "id": "5nEGx0gBNupv",
        "outputId": "a4670f7c-8a3d-492d-fe86-779545f17bb4"
      },
      "source": [
        "# 상관계수 출력\n",
        "print(np.corrcoef(x, y)[0, 1])\n",
        "\n",
        "cov = np.cov(x, y)[0, 1]\n",
        "xsd = np.std(x, ddof = 1)\n",
        "ysd = np.std(y, ddof = 1)\n",
        "print(cov / (xsd * ysd))"
      ],
      "execution_count": 24,
      "outputs": [
        {
          "output_type": "stream",
          "text": [
            "0.9767132226602123\n",
            "0.9767132226602123\n"
          ],
          "name": "stdout"
        }
      ]
    },
    {
      "cell_type": "code",
      "metadata": {
        "colab": {
          "base_uri": "https://localhost:8080/"
        },
        "id": "MxcB0A-pOG83",
        "outputId": "9c80054f-1cde-4880-a426-20e060553500"
      },
      "source": [
        "# 상관계수 검증법\n",
        "sp.stats.pearsonr(x, y)"
      ],
      "execution_count": 25,
      "outputs": [
        {
          "output_type": "execute_result",
          "data": {
            "text/plain": [
              "(0.9767132226602123, 0.00015695958076209803)"
            ]
          },
          "metadata": {
            "tags": []
          },
          "execution_count": 25
        }
      ]
    },
    {
      "cell_type": "markdown",
      "metadata": {
        "id": "0xSgqw-WP07s"
      },
      "source": [
        "## 여러가지 확률 분포"
      ]
    },
    {
      "cell_type": "code",
      "metadata": {
        "colab": {
          "base_uri": "https://localhost:8080/"
        },
        "id": "6pnlr15nOxE8",
        "outputId": "34a77d87-d5fb-427b-dc1f-68ce4fa34b9d"
      },
      "source": [
        "# 이항분포\n",
        "N = 10  # 시행횟수\n",
        "mu = 0.6  # 성공 확률\n",
        "rv = sp.stats.binom(N, mu)\n",
        "rv"
      ],
      "execution_count": 27,
      "outputs": [
        {
          "output_type": "execute_result",
          "data": {
            "text/plain": [
              "<scipy.stats._distn_infrastructure.rv_frozen at 0x7f9e0b855710>"
            ]
          },
          "metadata": {
            "tags": []
          },
          "execution_count": 27
        }
      ]
    },
    {
      "cell_type": "code",
      "metadata": {
        "colab": {
          "base_uri": "https://localhost:8080/"
        },
        "id": "BnLrutdUS3ZL",
        "outputId": "d0e8b514-a916-4a3b-a3c1-8a7c3ba1604e"
      },
      "source": [
        "# 정규분포\n",
        "mu = 0\n",
        "std = 1\n",
        "rv = sp.stats.norm(mu, std)\n",
        "rv"
      ],
      "execution_count": 28,
      "outputs": [
        {
          "output_type": "execute_result",
          "data": {
            "text/plain": [
              "<scipy.stats._distn_infrastructure.rv_frozen at 0x7f9e0b8fce10>"
            ]
          },
          "metadata": {
            "tags": []
          },
          "execution_count": 28
        }
      ]
    },
    {
      "cell_type": "markdown",
      "metadata": {
        "id": "8JKVRZ0BWNoW"
      },
      "source": [
        "### student t-분포\n",
        "정규분포에 비해 양 끝단의 비중이 더 큰 데이터인 경우(fat- tail)  \n",
        "정규분포에서 계산한 표본평균을 표본표준편차로 정규화할 경우 t-통계량"
      ]
    },
    {
      "cell_type": "markdown",
      "metadata": {
        "id": "W_L0UGJAWVgG"
      },
      "source": [
        "### 카이제곱분포\n",
        "확률변수 X를 N개의 표본(x1, ... xN)의 합을 표본 분산으로 정규화 할 경우, 스튜던트 k-분포다.\n",
        "\n",
        "그런데, N개의 표본들을 단순히 더하는 것이 아니라 제곱을 하며 더하면, chi-squared라고 한다."
      ]
    },
    {
      "cell_type": "code",
      "metadata": {
        "id": "jpIY-SwzWlt8"
      },
      "source": [
        "# 자유도에 따라 카이제곱분포를 주게됨.\n",
        "rv = sp.stats.chi2( df = 2)"
      ],
      "execution_count": null,
      "outputs": []
    },
    {
      "cell_type": "markdown",
      "metadata": {
        "id": "xety9mUwW6A2"
      },
      "source": [
        "### F 분포\n",
        "카이제곱 분포를 따르는 부 확률변수가 있으면, 확률 변수의 비율을 구하면 F분포가 된다."
      ]
    },
    {
      "cell_type": "code",
      "metadata": {
        "id": "6Jz9wpnlXF4I"
      },
      "source": [
        "# 이것의 경우는 일단 직접 구현\n",
        "rv = sp.stats.norm()\n",
        "M = 10000\n",
        "\n",
        "N1 = 10\n",
        "x1 = rv.rvs((N1, M))\n",
        "t1 = (x1 ** 2).sum(axis=0)\n",
        "\n",
        "N2 = 10\n",
        "x2 = rv.rvs((N2, M))\n",
        "t2 = (x2 ** 2).sum(axis=0)\n",
        "\n",
        "t = t2 / t1"
      ],
      "execution_count": 30,
      "outputs": []
    },
    {
      "cell_type": "markdown",
      "metadata": {
        "id": "KNAp8jDWEeDa"
      },
      "source": [
        "## 통계 검정"
      ]
    },
    {
      "cell_type": "markdown",
      "metadata": {
        "id": "D4_ADQ5HEhDI"
      },
      "source": [
        "### 카이제곱 검정(Chi-squared Test)\n",
        "카이제곱 검정이란, 범주형 확률 분포의 모수가 예측한 것과 일치하는지 보려는 검정이다. 즉 적합도 검정이다.\n",
        "\n",
        "검정통계량\n",
        "$$ \\sum_{k=1}^{K}\\frac{(x_{k}-m_{k})^{2}}{m_{k}}$$\n"
      ]
    },
    {
      "cell_type": "markdown",
      "metadata": {
        "id": "jncwYroMG9PZ"
      },
      "source": [
        "- 귀무가설 : 변수들은 주어진 확률 분포를 따른다.\n",
        "- 대립가설 : 변수들은 주어진 확률 분포를 따른다고 볼 수 없다."
      ]
    },
    {
      "cell_type": "code",
      "metadata": {
        "colab": {
          "base_uri": "https://localhost:8080/"
        },
        "id": "A_QTz1w6EgrA",
        "outputId": "06603ba7-5d64-4835-e61e-c699d5636f93"
      },
      "source": [
        "# scipy.stats.chisquare(f_obs, f_exp=None)\n",
        "N = 10\n",
        "K = 4\n",
        "mu_0 = np.ones(K)/K\n",
        "np.random.seed(9)\n",
        "x = np.random.choice(K, N, p=mu_0)\n",
        "print(x)\n",
        "n = np.bincount(x, minlength=K)\n",
        "print(n)"
      ],
      "execution_count": 31,
      "outputs": [
        {
          "output_type": "stream",
          "text": [
            "[0 2 1 0 0 0 1 0 0 1]\n",
            "[6 3 1 0]\n"
          ],
          "name": "stdout"
        }
      ]
    },
    {
      "cell_type": "code",
      "metadata": {
        "colab": {
          "base_uri": "https://localhost:8080/"
        },
        "id": "4eamYr30uJte",
        "outputId": "7e87bcd9-90e8-4992-b4f9-59e20a8ea565"
      },
      "source": [
        "sp.stats.chisquare(n)"
      ],
      "execution_count": 32,
      "outputs": [
        {
          "output_type": "execute_result",
          "data": {
            "text/plain": [
              "Power_divergenceResult(statistic=8.4, pvalue=0.03842931885788852)"
            ]
          },
          "metadata": {
            "tags": []
          },
          "execution_count": 32
        }
      ]
    },
    {
      "cell_type": "markdown",
      "metadata": {
        "id": "VFsI--l5FU18"
      },
      "source": [
        "유의확률 5% 하에, p-val 값이 더 작으므로, 귀무가설이 기각된다.\n",
        "즉, 현재 나온 x의 분포는 (0.25, 0.25, 0.25, 0.25)를 따른다고 볼 수 없다."
      ]
    },
    {
      "cell_type": "markdown",
      "metadata": {
        "id": "dU04equkGGQ5"
      },
      "source": [
        "### 카이제곱 독립검정\n",
        "이 검정은, 두 확률변수 X, Y에 대해 두 확률 변수가 독립인지 상관관계를 가지는지 검증할 수 있다.  \n",
        "X와 Y가 독립이라면, 결합 확률질량함수 $P(X, Y)$는 각 확률변수 X, Y의 주변확률밀도 함수 $P(X)$, $P(Y)$의 곱이다.\n",
        "\n",
        "그런데, 분할표가 조금 다르게  나온다면, 이것이 표본 오차에 의해서 생긴 것인지, 원래 독립이 아닌것인지 확인해봐야 한다.\n",
        "\n",
        "- 귀무가설 : 두 변수는 독립이다.\n",
        "- 대립가설 : 두 변수는 독립이 아니다.\n"
      ]
    },
    {
      "cell_type": "markdown",
      "metadata": {
        "id": "DOJy6u7mHPJm"
      },
      "source": [
        "### 단일표본 t-검정"
      ]
    },
    {
      "cell_type": "markdown",
      "metadata": {
        "id": "Sf-_fe3nKKLY"
      },
      "source": [
        "모집단의 표준편차를 모르는 경우가 많다. 표본의 표준편차를 이용하는 경우에는, 변환된 변수는 t-분포를 따르게 된다. 이때는 t-검증을 사용하게 된다."
      ]
    },
    {
      "cell_type": "markdown",
      "metadata": {
        "id": "uS5Ein8gKqeQ"
      },
      "source": [
        "전제조건 : t-검정을 하는 변수는 정규분포를 따른다.\n",
        "정규성 검정은 선행되어야 한다.\n"
      ]
    },
    {
      "cell_type": "markdown",
      "metadata": {
        "id": "nizqnZWNLAPI"
      },
      "source": [
        "t-test의 가설\n",
        "- 귀무가설 : 평균은 주어진 값이 맞다.\n",
        "- 대립가설 : 평균은 주어진 값이 아니다."
      ]
    },
    {
      "cell_type": "code",
      "metadata": {
        "colab": {
          "base_uri": "https://localhost:8080/"
        },
        "id": "RqLf2mp7K8b9",
        "outputId": "2860aecd-1b4e-42b0-c604-83a8fb834d5e"
      },
      "source": [
        "# 알려진 평균\n",
        "mu = 25\n",
        "\n",
        "# 수집된 표본\n",
        "data = [35,40,12,15,21,14,46,10,28,48,16,30,32,48,31,22,12,39,19,25]\n",
        "\n",
        "sp.stats.ttest_1samp(data, mu)"
      ],
      "execution_count": 33,
      "outputs": [
        {
          "output_type": "execute_result",
          "data": {
            "text/plain": [
              "Ttest_1sampResult(statistic=0.7687155636314738, pvalue=0.4515123595472501)"
            ]
          },
          "metadata": {
            "tags": []
          },
          "execution_count": 33
        }
      ]
    },
    {
      "cell_type": "markdown",
      "metadata": {
        "id": "AgR1J4InLYTf"
      },
      "source": [
        "p-value값이 0.45로 유의수준 5% 하에서 p-val값이 더 높다. 즉 귀무가설을 기각할 수 없다."
      ]
    },
    {
      "cell_type": "code",
      "metadata": {
        "colab": {
          "base_uri": "https://localhost:8080/"
        },
        "id": "jPLv6USPFS0A",
        "outputId": "d4a22bc5-80e0-4783-c265-1696a8c38850"
      },
      "source": [
        "np.mean(data)"
      ],
      "execution_count": 34,
      "outputs": [
        {
          "output_type": "execute_result",
          "data": {
            "text/plain": [
              "27.15"
            ]
          },
          "metadata": {
            "tags": []
          },
          "execution_count": 34
        }
      ]
    },
    {
      "cell_type": "markdown",
      "metadata": {
        "id": "Uk_mOp25J1BI"
      },
      "source": [
        "### 독립표본 t-검정, 대응표본 t-검정\n",
        "\n",
        "독립표본 t-검정 : 서로 독립적인 두 집단의 평균 비교\n",
        "대응표본 t-검정 : 사전사후 비교."
      ]
    },
    {
      "cell_type": "markdown",
      "metadata": {
        "id": "NrCB_QYdJ_Wg"
      },
      "source": [
        "독립표본 t-검정이란, 두 \"독립표본\"의 평균을 통계적으로 비교하는 기법이다. \n",
        "\n"
      ]
    },
    {
      "cell_type": "markdown",
      "metadata": {
        "id": "vhn3VtILOnpz"
      },
      "source": [
        "- 귀무가설 : 두 집단의 평균은 같다.\n",
        "- 대립가설 : 두 집단의 평균은 다르다.\n"
      ]
    },
    {
      "cell_type": "markdown",
      "metadata": {
        "id": "aD-lHPZ-Pizx"
      },
      "source": [
        "대응표본 t-검정은 서로 쌍으로 주어진 데이터에 대한 두 값의 차이를 보는 검정으로 특정 사건에 대한 효과가 있는지에 대해 중점적으로 본다.\n",
        "\n",
        "- 귀무가설 : 효과가 없다.(평균의 차이는 0이다.)\n",
        "- 대립가설 : 효과가 있다.(평균의 차이는 0이 아니다.)\n",
        "\n",
        "귀무가설이 기각되면 두 집단 간의 차이가 유의미해질 것이다."
      ]
    },
    {
      "cell_type": "code",
      "metadata": {
        "colab": {
          "base_uri": "https://localhost:8080/"
        },
        "id": "BXw9xO20J3DW",
        "outputId": "81b852ee-f120-417b-a147-a120fb175cc3"
      },
      "source": [
        "# ex - 독립표본 t검정\n",
        "dat_M = [117, 108, 105, 89, 101, 93, 96, 108, 108, 94, 93, 112, 92, 91, 100, 96, 120, 86, 96, 95]\n",
        "dat_F = [121, 101, 102, 114, 103, 105, 101, 131, 96, 109, 109, 113, 115, 94, 108, 96, 110, 112, 120, 100]\n",
        "sp.stats.ttest_ind(dat_M, dat_F, equal_var = False)"
      ],
      "execution_count": 37,
      "outputs": [
        {
          "output_type": "execute_result",
          "data": {
            "text/plain": [
              "Ttest_indResult(statistic=-2.670573872669349, pvalue=0.01108318824471652)"
            ]
          },
          "metadata": {
            "tags": []
          },
          "execution_count": 37
        }
      ]
    },
    {
      "cell_type": "markdown",
      "metadata": {
        "id": "emFCJVxVO0ak"
      },
      "source": [
        "p-val 값이 유의수준 5% 하에서 더 작으므로, 두 집단의 평균 차이는 유의수준 5% 하에서 통계적으로 유의미하다."
      ]
    },
    {
      "cell_type": "markdown",
      "metadata": {
        "id": "tctpPUICJ3mP"
      },
      "source": [
        "### 분산분석(ANOVA)"
      ]
    },
    {
      "cell_type": "markdown",
      "metadata": {
        "id": "zlgGAAGPRrhR"
      },
      "source": [
        "분산분석이랑, 두 개 이상의 집단에 대해 1개의 변수에 대해 평균비교를 하는 방법이다. 분산분석의 경우는, 그룹의 수가 여러개일 때 사용한다.\n",
        "\n",
        "분산분석의 조건\n",
        "- 각 표본의 정규성\n",
        "- 분산이 동일한가?\n",
        "- 각 표본이 독립적으로 표집되었는가?"
      ]
    },
    {
      "cell_type": "markdown",
      "metadata": {
        "id": "6_tqSG5wSluZ"
      },
      "source": [
        "분산분석의 귀무가설, 대립가설\n",
        "- 귀무가설 : 각 집단간의 평균은 동일하다.\n",
        "- 대립가설 : 하나의 집단은 평균이 다르다."
      ]
    },
    {
      "cell_type": "markdown",
      "metadata": {
        "id": "hR4BHQqBWpGt"
      },
      "source": [
        "총 제곱합 = 처리제곱합 + 오차제곱합으로 나눌 수 있다.\n",
        "- 처리제곱합 : 처리 평균값, 전체평균값 차이 제곱의 합  \n",
        "- 오차제곱합 : 자료값, 처리 평균값 차이 제곱합\n"
      ]
    },
    {
      "cell_type": "markdown",
      "metadata": {
        "id": "msu9KJNSS0bv"
      },
      "source": [
        "#### Remark. 사후분석 : Tukey HSD\n",
        "분산분석의 결과에 따라 어떤 집단이 유의미한 차이를 가지고 있는지 보는 분석법이다."
      ]
    }
  ]
}