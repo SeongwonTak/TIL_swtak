{
  "nbformat": 4,
  "nbformat_minor": 0,
  "metadata": {
    "colab": {
      "name": "0826_tfidf_with_similarity.ipynb",
      "provenance": [],
      "authorship_tag": "ABX9TyNeJ4a5S+kMCG9EIMkhxFid",
      "include_colab_link": true
    },
    "kernelspec": {
      "name": "python3",
      "display_name": "Python 3"
    },
    "language_info": {
      "name": "python"
    }
  },
  "cells": [
    {
      "cell_type": "markdown",
      "metadata": {
        "id": "view-in-github",
        "colab_type": "text"
      },
      "source": [
        "<a href=\"https://colab.research.google.com/github/SeongwonTak/TIL_swtak/blob/master/0826_tfidf_with_similarity.ipynb\" target=\"_parent\"><img src=\"https://colab.research.google.com/assets/colab-badge.svg\" alt=\"Open In Colab\"/></a>"
      ]
    },
    {
      "cell_type": "markdown",
      "metadata": {
        "id": "OSEVfTOASt1w"
      },
      "source": [
        "# TF-IDF를 통한 문장 유사도 확인"
      ]
    },
    {
      "cell_type": "code",
      "metadata": {
        "id": "1lyWG0AvR2p9"
      },
      "source": [
        "# 유사도는 코사인 유사도를 활용하고자 한다.\n",
        "import numpy as np\n",
        "\n",
        "def cos_similarity(x1, x2):\n",
        "    dot_prod = np.dot(x1, x2)\n",
        "    x1_norm = np.sqrt(sum(np.square(x1)))\n",
        "    x2_norm = np.sqrt(sum(np.square(x2)))\n",
        "    sim = dot_prod / (x1_norm * x2_norm)\n",
        "\n",
        "    return sim"
      ],
      "execution_count": 1,
      "outputs": []
    },
    {
      "cell_type": "code",
      "metadata": {
        "id": "fG9_vU0wTWE_"
      },
      "source": [
        "# 유사도 분석에 활용할 문장 리스트를 정리한다.\n",
        "sentence_list = ['I hope that my dreams come true',\n",
        "                 'I hope that you can dream happy life',\n",
        "                 'Unless you fail, there may be dream',\n",
        "                 'That makes me disappointed after you fail that',\n",
        "                 'Take some red pills from there to be cured']"
      ],
      "execution_count": 2,
      "outputs": []
    },
    {
      "cell_type": "code",
      "metadata": {
        "colab": {
          "base_uri": "https://localhost:8080/"
        },
        "id": "N-QmwCoQUP3k",
        "outputId": "6e1a3126-6b15-4dd4-fb86-e95da447bada"
      },
      "source": [
        "# stop words를 고려하지 않은 tfidf\n",
        "from sklearn.feature_extraction.text import TfidfVectorizer\n",
        "\n",
        "tfidf = TfidfVectorizer()\n",
        "word_vector = tfidf.fit_transform(sentence_list)\n",
        "print(word_vector.todense())"
      ],
      "execution_count": 7,
      "outputs": [
        {
          "output_type": "stream",
          "text": [
            "[[0.         0.         0.         0.4428322  0.         0.\n",
            "  0.         0.4428322  0.         0.         0.         0.35727423\n",
            "  0.         0.         0.         0.         0.4428322  0.\n",
            "  0.         0.         0.         0.29656989 0.         0.\n",
            "  0.4428322  0.         0.        ]\n",
            " [0.         0.         0.43857711 0.         0.         0.\n",
            "  0.35384125 0.         0.         0.         0.43857711 0.35384125\n",
            "  0.43857711 0.         0.         0.         0.         0.\n",
            "  0.         0.         0.         0.2937202  0.         0.\n",
            "  0.         0.         0.2937202 ]\n",
            " [0.         0.35894109 0.         0.         0.         0.\n",
            "  0.35894109 0.         0.35894109 0.         0.         0.\n",
            "  0.         0.         0.44489823 0.         0.         0.\n",
            "  0.         0.         0.         0.         0.35894109 0.\n",
            "  0.         0.44489823 0.29795353]\n",
            " [0.38087336 0.         0.         0.         0.         0.38087336\n",
            "  0.         0.         0.30728623 0.         0.         0.\n",
            "  0.         0.38087336 0.         0.38087336 0.         0.\n",
            "  0.         0.         0.         0.51015065 0.         0.\n",
            "  0.         0.         0.25507533]\n",
            " [0.         0.28001128 0.         0.         0.34706676 0.\n",
            "  0.         0.         0.         0.34706676 0.         0.\n",
            "  0.         0.         0.         0.         0.         0.34706676\n",
            "  0.34706676 0.34706676 0.34706676 0.         0.28001128 0.34706676\n",
            "  0.         0.         0.        ]]\n"
          ],
          "name": "stdout"
        }
      ]
    },
    {
      "cell_type": "code",
      "metadata": {
        "id": "6MG3owDQUgBC"
      },
      "source": [
        "word_matrix = word_vector.todense()\n",
        "vect1 = np.array(word_matrix[0]).reshape(-1, )\n",
        "vect2 = np.array(word_matrix[1]).reshape(-1, )\n",
        "vect3 = np.array(word_matrix[2]).reshape(-1, )\n",
        "vect4 = np.array(word_matrix[3]).reshape(-1, )\n",
        "vect5 = np.array(word_matrix[4]).reshape(-1, )"
      ],
      "execution_count": 8,
      "outputs": []
    },
    {
      "cell_type": "code",
      "metadata": {
        "colab": {
          "base_uri": "https://localhost:8080/"
        },
        "id": "yCBZHVRnVMq7",
        "outputId": "43b33d70-1bb4-407d-9da4-221288469669"
      },
      "source": [
        "# 유사 문장\n",
        "print(cos_similarity(vect1, vect2))\n",
        "# 유사이나, 반의어 포함\n",
        "print(cos_similarity(vect1, vect3))\n",
        "# 반대 문장\n",
        "print(cos_similarity(vect1, vect4))\n",
        "# 무관 문장\n",
        "print(cos_similarity(vect1, vect5))"
      ],
      "execution_count": 13,
      "outputs": [
        {
          "output_type": "stream",
          "text": [
            "0.21352692493230035\n",
            "0.0\n",
            "0.151295320939704\n",
            "0.0\n"
          ],
          "name": "stdout"
        }
      ]
    },
    {
      "cell_type": "code",
      "metadata": {
        "colab": {
          "base_uri": "https://localhost:8080/"
        },
        "id": "reOlNzEgVk8q",
        "outputId": "c8c0fa93-9b4b-4423-87ae-88a4058c0c69"
      },
      "source": [
        "# stopwords 고려\n",
        "tfidf = TfidfVectorizer(stop_words = 'english')\n",
        "word_vector = tfidf.fit_transform(sentence_list)\n",
        "print(word_vector.todense())\n",
        "\n",
        "word_matrix = word_vector.todense()\n",
        "vect1 = np.array(word_matrix[0]).reshape(-1, )\n",
        "vect2 = np.array(word_matrix[1]).reshape(-1, )\n",
        "vect3 = np.array(word_matrix[2]).reshape(-1, )\n",
        "vect4 = np.array(word_matrix[3]).reshape(-1, )\n",
        "vect5 = np.array(word_matrix[4]).reshape(-1, )"
      ],
      "execution_count": 14,
      "outputs": [
        {
          "output_type": "stream",
          "text": [
            "[[0.52335825 0.         0.         0.         0.52335825 0.\n",
            "  0.         0.42224214 0.         0.         0.         0.\n",
            "  0.52335825 0.        ]\n",
            " [0.         0.         0.         0.44400208 0.         0.\n",
            "  0.55032913 0.44400208 0.55032913 0.         0.         0.\n",
            "  0.         0.        ]\n",
            " [0.         0.         0.         0.53177225 0.         0.53177225\n",
            "  0.         0.         0.         0.         0.         0.\n",
            "  0.         0.659118  ]\n",
            " [0.         0.         0.61418897 0.         0.         0.49552379\n",
            "  0.         0.         0.         0.61418897 0.         0.\n",
            "  0.         0.        ]\n",
            " [0.         0.57735027 0.         0.         0.         0.\n",
            "  0.         0.         0.         0.         0.57735027 0.57735027\n",
            "  0.         0.        ]]\n"
          ],
          "name": "stdout"
        }
      ]
    },
    {
      "cell_type": "code",
      "metadata": {
        "colab": {
          "base_uri": "https://localhost:8080/"
        },
        "id": "lI_OQrLnWAe3",
        "outputId": "ce9a35d6-29a7-4244-f368-2f0fbcccebd7"
      },
      "source": [
        "# 유사 문장\n",
        "print(cos_similarity(vect1, vect2))\n",
        "# 유사이나, 반의어 포함\n",
        "print(cos_similarity(vect1, vect3))\n",
        "# 반대 문장\n",
        "print(cos_similarity(vect1, vect4))\n",
        "# 무관 문장\n",
        "print(cos_similarity(vect1, vect5))"
      ],
      "execution_count": 15,
      "outputs": [
        {
          "output_type": "stream",
          "text": [
            "0.18747638838165476\n",
            "0.0\n",
            "0.0\n",
            "0.0\n"
          ],
          "name": "stdout"
        }
      ]
    },
    {
      "cell_type": "code",
      "metadata": {
        "colab": {
          "base_uri": "https://localhost:8080/"
        },
        "id": "9hq4r4lDWDAw",
        "outputId": "ce952b3e-4056-40ee-a373-44639f259094"
      },
      "source": [
        "#Count_Vectorizer을 활용, stop_words 고려\n",
        "from sklearn.feature_extraction.text import CountVectorizer\n",
        "\n",
        "cnt_vect = CountVectorizer(stop_words = 'english')\n",
        "word_vector = cnt_vect.fit_transform(sentence_list)\n",
        "print(word_vector.todense())"
      ],
      "execution_count": 16,
      "outputs": [
        {
          "output_type": "stream",
          "text": [
            "[[1 0 0 0 1 0 0 1 0 0 0 0 1 0]\n",
            " [0 0 0 1 0 0 1 1 1 0 0 0 0 0]\n",
            " [0 0 0 1 0 1 0 0 0 0 0 0 0 1]\n",
            " [0 0 1 0 0 1 0 0 0 1 0 0 0 0]\n",
            " [0 1 0 0 0 0 0 0 0 0 1 1 0 0]]\n"
          ],
          "name": "stdout"
        }
      ]
    },
    {
      "cell_type": "code",
      "metadata": {
        "colab": {
          "base_uri": "https://localhost:8080/"
        },
        "id": "77GhUYzAWb-6",
        "outputId": "61969c50-c9ec-47ac-8f28-5dbe289269af"
      },
      "source": [
        "word_matrix = word_vector.todense()\n",
        "vect1 = np.array(word_matrix[0]).reshape(-1, )\n",
        "vect2 = np.array(word_matrix[1]).reshape(-1, )\n",
        "vect3 = np.array(word_matrix[2]).reshape(-1, )\n",
        "vect4 = np.array(word_matrix[3]).reshape(-1, )\n",
        "vect5 = np.array(word_matrix[4]).reshape(-1, )\n",
        "\n",
        "# 유사 문장\n",
        "print(cos_similarity(vect1, vect2))\n",
        "# 유사이나, 반의어 포함\n",
        "print(cos_similarity(vect1, vect3))\n",
        "# 반대 문장\n",
        "print(cos_similarity(vect1, vect4))\n",
        "# 무관 문장\n",
        "print(cos_similarity(vect1, vect5))"
      ],
      "execution_count": 18,
      "outputs": [
        {
          "output_type": "stream",
          "text": [
            "0.25\n",
            "0.0\n",
            "0.0\n",
            "0.0\n"
          ],
          "name": "stdout"
        }
      ]
    },
    {
      "cell_type": "code",
      "metadata": {
        "id": "iYWlczolWiBk"
      },
      "source": [
        ""
      ],
      "execution_count": null,
      "outputs": []
    }
  ]
}