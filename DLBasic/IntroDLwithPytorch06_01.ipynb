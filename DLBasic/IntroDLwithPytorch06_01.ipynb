{
  "nbformat": 4,
  "nbformat_minor": 0,
  "metadata": {
    "colab": {
      "name": "IntroDLwithPytorch06_01.ipynb",
      "provenance": [],
      "toc_visible": true,
      "authorship_tag": "ABX9TyO3WPgv1jMstFb+z0OIBr25",
      "include_colab_link": true
    },
    "kernelspec": {
      "name": "python3",
      "display_name": "Python 3"
    },
    "language_info": {
      "name": "python"
    }
  },
  "cells": [
    {
      "cell_type": "markdown",
      "metadata": {
        "id": "view-in-github",
        "colab_type": "text"
      },
      "source": [
        "<a href=\"https://colab.research.google.com/github/SeongwonTak/TIL_swtak/blob/master/DLBasic/IntroDLwithPytorch06_01.ipynb\" target=\"_parent\"><img src=\"https://colab.research.google.com/assets/colab-badge.svg\" alt=\"Open In Colab\"/></a>"
      ]
    },
    {
      "cell_type": "markdown",
      "metadata": {
        "id": "ZM1rMrzUtf3Q"
      },
      "source": [
        "# 인공신경망(Artificial Neural Network)"
      ]
    },
    {
      "cell_type": "markdown",
      "metadata": {
        "id": "qwfhdrTGtpuO"
      },
      "source": [
        "## 초기 인공신경망, 퍼셉트론\n",
        "퍼셉트론의 경우는 초기 형태의 인공신경말 모델로 다수의 입력에서 나온 결과가 특정 값 이상일 경우 1의 출력값을, 아닐 경우 0을 출력한다.\n",
        "\n",
        "이 특정값을 임계치라고 한다. (임계치를 좌변으로 넘겨 편항으로 표현 가능)  \n",
        "![image.png](data:image/png;base64,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)"
      ]
    },
    {
      "cell_type": "markdown",
      "metadata": {
        "id": "AskJ5T_8uH4H"
      },
      "source": [
        "### 단층 퍼셉트론의 구현"
      ]
    },
    {
      "cell_type": "code",
      "metadata": {
        "id": "p8jVbLSstcNj"
      },
      "source": [
        "def AND_gate(x1, x2):\n",
        "    w1=0.5\n",
        "    w2=0.5\n",
        "    b=-0.7\n",
        "    result = x1*w1 + x2*w2 + b\n",
        "    if result <= 0:\n",
        "        return 0\n",
        "    else:\n",
        "        return 1"
      ],
      "execution_count": null,
      "outputs": []
    },
    {
      "cell_type": "code",
      "metadata": {
        "id": "RToFwOFXuPFg"
      },
      "source": [
        "def NAND_gate(x1, x2):\n",
        "    w1=-0.5\n",
        "    w2=-0.5\n",
        "    b=0.7\n",
        "    result = x1*w1 + x2*w2 + b\n",
        "    if result <= 0:\n",
        "        return 0\n",
        "    else:\n",
        "        return 1"
      ],
      "execution_count": null,
      "outputs": []
    },
    {
      "cell_type": "code",
      "metadata": {
        "id": "kYFi0iT5uUBu"
      },
      "source": [
        "def OR_gate(x1, x2):\n",
        "    w1=0.6\n",
        "    w2=0.6\n",
        "    b=-0.5\n",
        "    result = x1*w1 + x2*w2 + b\n",
        "    if result <= 0:\n",
        "        return 0\n",
        "    else:\n",
        "        return 1"
      ],
      "execution_count": null,
      "outputs": []
    },
    {
      "cell_type": "markdown",
      "metadata": {
        "id": "1jvMGbM1uYIV"
      },
      "source": [
        "AND, NAND, OR은 쉽게 구현이 가능하나 XOR은 그렇지가 않다. 그 이유는 직선 하나로 두 영역을 나눌 수 없는 문제이기 때문이다. 선으로는 나눌 수 없고, 곡선일때만 가능하기에, 선으로 분리하는 단층 퍼셉트론으로는 XOR 문제를 해결할 수 없다"
      ]
    },
    {
      "cell_type": "markdown",
      "metadata": {
        "id": "GleNFywOvdKc"
      },
      "source": [
        "### 다층 퍼셉트론으로 XOR 구현하기"
      ]
    },
    {
      "cell_type": "markdown",
      "metadata": {
        "id": "PWZNlW_6vMpj"
      },
      "source": [
        "하지만, 다층 퍼셉트론의 경우에는 XOR 게이트의 구현이 가능하다."
      ]
    },
    {
      "cell_type": "code",
      "metadata": {
        "id": "El1VABi7vQwk"
      },
      "source": [
        "def XOR_gate(x1, x2):\n",
        "  s1 = NAND_gate(x1, x2)\n",
        "  s2 = OR_gate(x1, x2)\n",
        "  y = AND_gate(s1, s2)\n",
        "  return y"
      ],
      "execution_count": null,
      "outputs": []
    },
    {
      "cell_type": "markdown",
      "metadata": {
        "id": "1ORYNqklvgk0"
      },
      "source": [
        "이렇게 층을 쌓아서 우리가 원하는 모델을 만들 수 있는 것이, 가장 기본적인 퍼셉트론 모델이다."
      ]
    },
    {
      "cell_type": "markdown",
      "metadata": {
        "id": "3auNk2IavBr0"
      },
      "source": [
        "## 순전파와 역전파"
      ]
    },
    {
      "cell_type": "code",
      "metadata": {
        "id": "FPHzHCSquVZV"
      },
      "source": [
        ""
      ],
      "execution_count": null,
      "outputs": []
    },
    {
      "cell_type": "markdown",
      "metadata": {
        "id": "OTZh6NQWb-XV"
      },
      "source": [
        "### 역전파를 통한 XOR문제 구현"
      ]
    },
    {
      "cell_type": "code",
      "metadata": {
        "id": "ZOlpeRvEb9wK"
      },
      "source": [
        "import torch\n",
        "import torch.nn as nn"
      ],
      "execution_count": null,
      "outputs": []
    },
    {
      "cell_type": "code",
      "metadata": {
        "id": "QXWNNlQucEFH"
      },
      "source": [
        "X = torch.FloatTensor([[0, 0], [0, 1], [1, 0], [1, 1]])\n",
        "Y = torch.FloatTensor([[0], [1], [1], [0]])"
      ],
      "execution_count": null,
      "outputs": []
    },
    {
      "cell_type": "code",
      "metadata": {
        "id": "8GiUD8E6cHtN"
      },
      "source": [
        "# 3개의 입력층, 은닉층1, 은닉층2, 은닉층3, 출력층\n",
        "model = nn.Sequential(\n",
        "          nn.Linear(2, 10, bias=True), # input_layer = 2, hidden_layer1 = 10\n",
        "          nn.Sigmoid(),\n",
        "          nn.Linear(10, 10, bias=True), # hidden_layer1 = 10, hidden_layer2 = 10\n",
        "          nn.Sigmoid(),\n",
        "          nn.Linear(10, 10, bias=True), # hidden_layer2 = 10, hidden_layer3 = 10\n",
        "          nn.Sigmoid(),\n",
        "          nn.Linear(10, 1, bias=True), # hidden_layer3 = 10, output_layer = 1\n",
        "          nn.Sigmoid()\n",
        "          )"
      ],
      "execution_count": null,
      "outputs": []
    },
    {
      "cell_type": "code",
      "metadata": {
        "id": "iKS4cVzjdhyc"
      },
      "source": [
        "criterion = torch.nn.BCELoss() # 이진분류에서 사용하는 cross entropy\n",
        "optimizer = torch.optim.SGD(model.parameters(), lr=1) "
      ],
      "execution_count": null,
      "outputs": []
    },
    {
      "cell_type": "code",
      "metadata": {
        "colab": {
          "base_uri": "https://localhost:8080/"
        },
        "id": "JCQcAAIXdnKI",
        "outputId": "1a842760-4266-4ac8-a4de-cef27155ad71"
      },
      "source": [
        "for epoch in range(10001):\n",
        "    optimizer.zero_grad()\n",
        "    # forward 연산\n",
        "    hypothesis = model(X)\n",
        "\n",
        "    # 비용 함수\n",
        "    cost = criterion(hypothesis, Y)\n",
        "    cost.backward()\n",
        "    optimizer.step()\n",
        "\n",
        "    # 100의 배수에 해당되는 에포크마다 비용을 출력\n",
        "    if epoch % 100 == 0:\n",
        "        print(epoch, cost.item())"
      ],
      "execution_count": null,
      "outputs": [
        {
          "output_type": "stream",
          "text": [
            "0 0.6943894028663635\n",
            "100 0.6931676864624023\n",
            "200 0.6931647062301636\n",
            "300 0.6931619644165039\n",
            "400 0.693159282207489\n",
            "500 0.6931567192077637\n",
            "600 0.6931542754173279\n",
            "700 0.6931518316268921\n",
            "800 0.6931494474411011\n",
            "900 0.6931470632553101\n",
            "1000 0.693144679069519\n",
            "1100 0.6931422352790833\n",
            "1200 0.6931397914886475\n",
            "1300 0.6931374073028564\n",
            "1400 0.6931347846984863\n",
            "1500 0.6931320428848267\n",
            "1600 0.6931291818618774\n",
            "1700 0.6931262612342834\n",
            "1800 0.6931230425834656\n",
            "1900 0.6931195259094238\n",
            "2000 0.6931158900260925\n",
            "2100 0.693111777305603\n",
            "2200 0.6931073069572449\n",
            "2300 0.6931023001670837\n",
            "2400 0.6930967569351196\n",
            "2500 0.6930906176567078\n",
            "2600 0.6930835843086243\n",
            "2700 0.6930755376815796\n",
            "2800 0.6930663585662842\n",
            "2900 0.6930555701255798\n",
            "3000 0.6930431127548218\n",
            "3100 0.6930282711982727\n",
            "3200 0.6930104494094849\n",
            "3300 0.692988932132721\n",
            "3400 0.6929623484611511\n",
            "3500 0.692929208278656\n",
            "3600 0.6928867697715759\n",
            "3700 0.6928315162658691\n",
            "3800 0.6927576065063477\n",
            "3900 0.6926552057266235\n",
            "4000 0.6925076246261597\n",
            "4100 0.6922839879989624\n",
            "4200 0.6919213533401489\n",
            "4300 0.6912760734558105\n",
            "4400 0.6899616718292236\n",
            "4500 0.6866369247436523\n",
            "4600 0.6743459701538086\n",
            "4700 0.6028997898101807\n",
            "4800 0.4206341803073883\n",
            "4900 0.017355691641569138\n",
            "5000 0.006642469204962254\n",
            "5100 0.003884399076923728\n",
            "5200 0.0026841857470571995\n",
            "5300 0.002026754431426525\n",
            "5400 0.0016165730776265264\n",
            "5500 0.001338212052360177\n",
            "5600 0.0011378186754882336\n",
            "5700 0.0009872413938865066\n",
            "5800 0.0008702297927811742\n",
            "5900 0.0007768842624500394\n",
            "6000 0.0007007857784628868\n",
            "6100 0.0006376358214765787\n",
            "6200 0.0005844648694619536\n",
            "6300 0.0005391242448240519\n",
            "6400 0.00049997289897874\n",
            "6500 0.00046592173748649657\n",
            "6600 0.00043601615470834076\n",
            "6700 0.0004095550684724003\n",
            "6800 0.000385986699257046\n",
            "6900 0.00036490833736024797\n",
            "7000 0.0003458874998614192\n",
            "7100 0.00032867069239728153\n",
            "7200 0.0003130044206045568\n",
            "7300 0.0002986948238685727\n",
            "7400 0.0002856374776456505\n",
            "7500 0.0002736087772063911\n",
            "7600 0.00026250435621477664\n",
            "7700 0.0002522198483347893\n",
            "7800 0.0002426657738396898\n",
            "7900 0.0002338123449590057\n",
            "8000 0.00022554023598786443\n",
            "8100 0.00021781967370770872\n",
            "8200 0.0002105612074956298\n",
            "8300 0.00020379465422593057\n",
            "8400 0.000197415633010678\n",
            "8500 0.00019139435607939959\n",
            "8600 0.00018571593682281673\n",
            "8700 0.00018039521819446236\n",
            "8800 0.00017532790661789477\n",
            "8900 0.00017049905727617443\n",
            "9000 0.0001659534318605438\n",
            "9100 0.0001616760710021481\n",
            "9200 0.00015754776541143656\n",
            "9300 0.00015361324767582119\n",
            "9400 0.0001498724741395563\n",
            "9500 0.00014631055819336325\n",
            "9600 0.000142912584124133\n",
            "9700 0.00013964876416139305\n",
            "9800 0.00013651906920131296\n",
            "9900 0.00013353842950891703\n",
            "10000 0.00013072171714156866\n"
          ],
          "name": "stdout"
        }
      ]
    },
    {
      "cell_type": "code",
      "metadata": {
        "colab": {
          "base_uri": "https://localhost:8080/"
        },
        "id": "wo1z82EUdv4N",
        "outputId": "54271944-3546-4ca8-99ba-0990cf9c3d72"
      },
      "source": [
        "with torch.no_grad():\n",
        "    hypothesis = model(X)\n",
        "    predicted = (hypothesis > 0.5).float()\n",
        "    accuracy = (predicted == Y).float().mean()\n",
        "    print('모델의 출력값(Hypothesis): ', hypothesis.detach().cpu().numpy())\n",
        "    print('모델의 예측값(Predicted): ', predicted.detach().cpu().numpy())\n",
        "    print('실제값(Y): ', Y.cpu().numpy())\n",
        "    print('정확도(Accuracy): ', accuracy.item())"
      ],
      "execution_count": null,
      "outputs": [
        {
          "output_type": "stream",
          "text": [
            "모델의 출력값(Hypothesis):  [[1.03005324e-04]\n",
            " [9.99875903e-01]\n",
            " [9.99862194e-01]\n",
            " [1.57592018e-04]]\n",
            "모델의 예측값(Predicted):  [[0.]\n",
            " [1.]\n",
            " [1.]\n",
            " [0.]]\n",
            "실제값(Y):  [[0.]\n",
            " [1.]\n",
            " [1.]\n",
            " [0.]]\n",
            "정확도(Accuracy):  1.0\n"
          ],
          "name": "stdout"
        }
      ]
    },
    {
      "cell_type": "markdown",
      "metadata": {
        "id": "KTjwf6rxyFWy"
      },
      "source": [
        "## 비선형 활성화 함수"
      ]
    },
    {
      "cell_type": "markdown",
      "metadata": {
        "id": "SPid_A1cyIMh"
      },
      "source": [
        "선형함수로는 은닉층을 추가해도 합성함수 형태는  선형이므로 의미가 없다.\n",
        "따라서, 비선형함수로 활성화 함수를 써야한다."
      ]
    },
    {
      "cell_type": "markdown",
      "metadata": {
        "id": "e43eB_NGyhgJ"
      },
      "source": [
        "### Sigmoid"
      ]
    },
    {
      "cell_type": "code",
      "metadata": {
        "colab": {
          "base_uri": "https://localhost:8080/",
          "height": 281
        },
        "id": "3ijNlqQSyVBB",
        "outputId": "89d0ad0f-2a78-40ae-e7a7-7cc9ad38d1c9"
      },
      "source": [
        "# 시그모이드 함수 그래프를 그리는 코드\n",
        "import numpy as np\n",
        "import matplotlib.pyplot as plt\n",
        "\n",
        "def sigmoid(x):\n",
        "    return 1/(1+np.exp(-x))\n",
        "x = np.arange(-5.0, 5.0, 0.1)\n",
        "y = sigmoid(x)\n",
        "\n",
        "plt.plot(x, y)\n",
        "plt.plot([0,0],[1.0,0.0], ':') # 가운데 점선 추가\n",
        "plt.title('Sigmoid Function')\n",
        "plt.show()"
      ],
      "execution_count": 3,
      "outputs": [
        {
          "output_type": "display_data",
          "data": {
            "image/png": "[encoded data removed]",
            "text/plain": [
              "<Figure size 432x288 with 1 Axes>"
            ]
          },
          "metadata": {
            "tags": [],
            "needs_background": "light"
          }
        }
      ]
    },
    {
      "cell_type": "markdown",
      "metadata": {
        "id": "4UJnZNSUyjMR"
      },
      "source": [
        "###ReLU\n",
        "양수면 입력값을 그대로, 음수면 0을 돌려주는 함수이다.\n",
        "음수로 간 값은 다시 회생하기가 매우 어렵다는 문제가 있다.\n"
      ]
    },
    {
      "cell_type": "code",
      "metadata": {
        "colab": {
          "base_uri": "https://localhost:8080/",
          "height": 281
        },
        "id": "tQbWYiqRyXEJ",
        "outputId": "642b38bf-fee1-4d2b-b7b5-ff318912276b"
      },
      "source": [
        "def relu(x):\n",
        "    return np.maximum(0, x)\n",
        "\n",
        "x = np.arange(-5.0, 5.0, 0.1)\n",
        "y = relu(x)\n",
        "\n",
        "plt.plot(x, y)\n",
        "plt.plot([0,0],[5.0,0.0], ':')\n",
        "plt.title('Relu Function')\n",
        "plt.show()"
      ],
      "execution_count": 4,
      "outputs": [
        {
          "output_type": "display_data",
          "data": {
            "image/png": "[encoded data removed]",
            "text/plain": [
              "<Figure size 432x288 with 1 Axes>"
            ]
          },
          "metadata": {
            "tags": [],
            "needs_background": "light"
          }
        }
      ]
    },
    {
      "cell_type": "markdown",
      "metadata": {
        "id": "TWsljTHpyzYx"
      },
      "source": [
        "### Softmax"
      ]
    },
    {
      "cell_type": "code",
      "metadata": {
        "colab": {
          "base_uri": "https://localhost:8080/",
          "height": 281
        },
        "id": "4o0Z-6b9yxTl",
        "outputId": "7ca9af0a-7b2f-4c7d-f7c4-0669ee017bbc"
      },
      "source": [
        "x = np.arange(-5.0, 5.0, 0.1) # -5.0부터 5.0까지 0.1 간격 생성\n",
        "y = np.exp(x) / np.sum(np.exp(x))\n",
        "\n",
        "plt.plot(x, y)\n",
        "plt.title('Softmax Function')\n",
        "plt.show()"
      ],
      "execution_count": 5,
      "outputs": [
        {
          "output_type": "display_data",
          "data": {
            "image/png": "[encoded data removed]",
            "text/plain": [
              "<Figure size 432x288 with 1 Axes>"
            ]
          },
          "metadata": {
            "tags": [],
            "needs_background": "light"
          }
        }
      ]
    },
    {
      "cell_type": "code",
      "metadata": {
        "id": "qgYi__I5y27u"
      },
      "source": [
        ""
      ],
      "execution_count": null,
      "outputs": []
    }
  ]
}