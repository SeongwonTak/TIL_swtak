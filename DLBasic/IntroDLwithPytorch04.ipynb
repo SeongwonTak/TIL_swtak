{
  "nbformat": 4,
  "nbformat_minor": 0,
  "metadata": {
    "colab": {
      "name": "IntroDLwithPytorch04.ipynb",
      "provenance": [],
      "authorship_tag": "ABX9TyMzikCo59urQ5baXNVkH0od",
      "include_colab_link": true
    },
    "kernelspec": {
      "name": "python3",
      "display_name": "Python 3"
    },
    "language_info": {
      "name": "python"
    }
  },
  "cells": [
    {
      "cell_type": "markdown",
      "metadata": {
        "id": "view-in-github",
        "colab_type": "text"
      },
      "source": [
        "<a href=\"https://colab.research.google.com/github/SeongwonTak/TIL_swtak/blob/master/DLBasic/IntroDLwithPytorch04.ipynb\" target=\"_parent\"><img src=\"https://colab.research.google.com/assets/colab-badge.svg\" alt=\"Open In Colab\"/></a>"
      ]
    },
    {
      "cell_type": "markdown",
      "metadata": {
        "id": "jq8bTdXJ1EjK"
      },
      "source": [
        "# 로지스틱 회귀 구현하기"
      ]
    },
    {
      "cell_type": "markdown",
      "metadata": {
        "id": "TfkYNrx71Hrh"
      },
      "source": [
        "## 로지스틱 회귀\n",
        "binary classification 풀기\n",
        "이를 위해서는 선형 함수가 아닌, S자 형태의 함수가 필요. 대표적인 예시는 sigmoid."
      ]
    },
    {
      "cell_type": "markdown",
      "metadata": {
        "id": "vu9PZML112v6"
      },
      "source": [
        "### Sigmoid\n",
        "$$H(x) = sigmoid(Wx+b) = \\frac{1}{1+e^{-(Wx+b)}} $$"
      ]
    },
    {
      "cell_type": "markdown",
      "metadata": {
        "id": "x8A2y5oT2I6T"
      },
      "source": [
        "### Cost fun of sigmoid\n",
        "근데, 이를 MSE를 쓰면 local minimum나옴. 안됨.\n",
        "\n"
      ]
    },
    {
      "cell_type": "markdown",
      "metadata": {
        "id": "rZKWnMek2ai9"
      },
      "source": [
        "![image.png](data:image/png;base64,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)"
      ]
    },
    {
      "cell_type": "code",
      "metadata": {
        "id": "lbK0vDm_12Ww"
      },
      "source": [
        "import torch\n",
        "import torch.nn as nn\n",
        "import torch.nn.functional as F\n",
        "import torch.optim as optim"
      ],
      "execution_count": 1,
      "outputs": []
    },
    {
      "cell_type": "code",
      "metadata": {
        "id": "ZD1RC9Pm0_VU"
      },
      "source": [
        "x_data = [[1, 2], [2, 3], [3, 1], [4, 3], [5, 3], [6, 2]]\n",
        "y_data = [[0], [0], [0], [1], [1], [1]]\n",
        "x_train = torch.FloatTensor(x_data)\n",
        "y_train = torch.FloatTensor(y_data)"
      ],
      "execution_count": 2,
      "outputs": []
    },
    {
      "cell_type": "code",
      "metadata": {
        "id": "ajZYhU-t2l1g"
      },
      "source": [
        "# 바로 행렬 현태로 가설을 세우자.\n",
        "W = torch.zeros((2, 1), requires_grad=True) # 크기는 2 x 1\n",
        "b = torch.zeros(1, requires_grad=True)"
      ],
      "execution_count": 4,
      "outputs": []
    },
    {
      "cell_type": "code",
      "metadata": {
        "id": "EHzBcAec2p9G"
      },
      "source": [
        "hypothesis = torch.sigmoid(x_train.matmul(W) + b)"
      ],
      "execution_count": 6,
      "outputs": []
    },
    {
      "cell_type": "code",
      "metadata": {
        "colab": {
          "base_uri": "https://localhost:8080/"
        },
        "id": "YqtLhRb52upn",
        "outputId": "b8589c7c-4c0f-4552-e2b0-1421edc9753e"
      },
      "source": [
        "F.binary_cross_entropy(hypothesis, y_train)"
      ],
      "execution_count": 7,
      "outputs": [
        {
          "output_type": "execute_result",
          "data": {
            "text/plain": [
              "tensor(0.6931, grad_fn=<BinaryCrossEntropyBackward>)"
            ]
          },
          "metadata": {
            "tags": []
          },
          "execution_count": 7
        }
      ]
    },
    {
      "cell_type": "code",
      "metadata": {
        "colab": {
          "base_uri": "https://localhost:8080/"
        },
        "id": "GNJbQmNx25gC",
        "outputId": "a782f561-6c21-45fd-ad7e-5264b06d181d"
      },
      "source": [
        "# 모델 초기화\n",
        "W = torch.zeros((2, 1), requires_grad=True)\n",
        "b = torch.zeros(1, requires_grad=True)\n",
        "# optimizer 설정\n",
        "optimizer = optim.SGD([W, b], lr=1)\n",
        "\n",
        "nb_epochs = 1000\n",
        "for epoch in range(nb_epochs + 1):\n",
        "\n",
        "    # Cost 계산\n",
        "    hypothesis = torch.sigmoid(x_train.matmul(W) + b)\n",
        "    cost = -(y_train * torch.log(hypothesis) + \n",
        "             (1 - y_train) * torch.log(1 - hypothesis)).mean()\n",
        "\n",
        "    # cost로 H(x) 개선\n",
        "    optimizer.zero_grad()\n",
        "    cost.backward()\n",
        "    optimizer.step()\n",
        "\n",
        "    # 100번마다 로그 출력\n",
        "    if epoch % 100 == 0:\n",
        "        print('Epoch {:4d}/{} Cost: {:.6f}'.format(\n",
        "            epoch, nb_epochs, cost.item()\n",
        "        ))"
      ],
      "execution_count": 8,
      "outputs": [
        {
          "output_type": "stream",
          "text": [
            "Epoch    0/1000 Cost: 0.693147\n",
            "Epoch  100/1000 Cost: 0.134722\n",
            "Epoch  200/1000 Cost: 0.080643\n",
            "Epoch  300/1000 Cost: 0.057900\n",
            "Epoch  400/1000 Cost: 0.045300\n",
            "Epoch  500/1000 Cost: 0.037261\n",
            "Epoch  600/1000 Cost: 0.031673\n",
            "Epoch  700/1000 Cost: 0.027556\n",
            "Epoch  800/1000 Cost: 0.024394\n",
            "Epoch  900/1000 Cost: 0.021888\n",
            "Epoch 1000/1000 Cost: 0.019852\n"
          ],
          "name": "stdout"
        }
      ]
    },
    {
      "cell_type": "markdown",
      "metadata": {
        "id": "CV2YFx_b4VIa"
      },
      "source": [
        "## nn.Module로 구현하기"
      ]
    },
    {
      "cell_type": "code",
      "metadata": {
        "id": "LqWkkA3S4dsF"
      },
      "source": [
        "x_data = [[1, 2], [2, 3], [3, 1], [4, 3], [5, 3], [6, 2]]\n",
        "y_data = [[0], [0], [0], [1], [1], [1]]\n",
        "x_train = torch.FloatTensor(x_data)\n",
        "y_train = torch.FloatTensor(y_data)"
      ],
      "execution_count": 18,
      "outputs": []
    },
    {
      "cell_type": "code",
      "metadata": {
        "id": "NC9u1jUv3AEW"
      },
      "source": [
        "## nn.Sequeitnal\n",
        "model = nn.Sequential(\n",
        "   nn.Linear(2, 1), # input_dim = 2, output_dim = 1\n",
        "   nn.Sigmoid() # 출력은 시그모이드 함수를 거친다\n",
        ")"
      ],
      "execution_count": 19,
      "outputs": []
    },
    {
      "cell_type": "code",
      "metadata": {
        "colab": {
          "base_uri": "https://localhost:8080/"
        },
        "id": "SCdY9Hr94aqc",
        "outputId": "4de3fd89-908b-485b-9b78-a48b41538f2d"
      },
      "source": [
        "model(x_train)"
      ],
      "execution_count": 20,
      "outputs": [
        {
          "output_type": "execute_result",
          "data": {
            "text/plain": [
              "tensor([[0.6906],\n",
              "        [0.7602],\n",
              "        [0.7841],\n",
              "        [0.8471],\n",
              "        [0.8799],\n",
              "        [0.9002]], grad_fn=<SigmoidBackward>)"
            ]
          },
          "metadata": {
            "tags": []
          },
          "execution_count": 20
        }
      ]
    },
    {
      "cell_type": "code",
      "metadata": {
        "id": "oIC1j1L-4hYY"
      },
      "source": [
        ""
      ],
      "execution_count": null,
      "outputs": []
    },
    {
      "cell_type": "code",
      "metadata": {
        "colab": {
          "base_uri": "https://localhost:8080/"
        },
        "id": "HHH6n9Qx4k4j",
        "outputId": "f02b3a80-9111-4000-86d8-46ced7ebfd24"
      },
      "source": [
        "# optimizer 설정\n",
        "optimizer = optim.SGD(model.parameters(), lr=1)\n",
        "\n",
        "nb_epochs = 1000\n",
        "for epoch in range(nb_epochs + 1):\n",
        "\n",
        "    # H(x) 계산\n",
        "    hypothesis = model(x_train)\n",
        "\n",
        "    # cost 계산\n",
        "    cost = F.binary_cross_entropy(hypothesis, y_train)\n",
        "\n",
        "    # cost로 H(x) 개선\n",
        "    optimizer.zero_grad()\n",
        "    cost.backward()\n",
        "    optimizer.step()\n",
        "\n",
        "    # 20번마다 로그 출력\n",
        "    if epoch % 10 == 0:\n",
        "        prediction = hypothesis >= torch.FloatTensor([0.5]) # 예측값이 0.5를 넘으면 True로 간주\n",
        "        correct_prediction = prediction.float() == y_train # 실제값과 일치하는 경우만 True로 간주\n",
        "        accuracy = correct_prediction.sum().item() / len(correct_prediction) # 정확도를 계산\n",
        "        print('Epoch {:4d}/{} Cost: {:.6f} Accuracy {:2.2f}%'.format( # 각 에포크마다 정확도를 출력\n",
        "            epoch, nb_epochs, cost.item(), accuracy * 100,\n",
        "        ))"
      ],
      "execution_count": 21,
      "outputs": [
        {
          "output_type": "stream",
          "text": [
            "Epoch    0/1000 Cost: 0.755548 Accuracy 50.00%\n",
            "Epoch   10/1000 Cost: 0.460449 Accuracy 66.67%\n",
            "Epoch   20/1000 Cost: 0.477890 Accuracy 66.67%\n",
            "Epoch   30/1000 Cost: 0.398028 Accuracy 83.33%\n",
            "Epoch   40/1000 Cost: 0.337632 Accuracy 83.33%\n",
            "Epoch   50/1000 Cost: 0.285184 Accuracy 83.33%\n",
            "Epoch   60/1000 Cost: 0.237767 Accuracy 100.00%\n",
            "Epoch   70/1000 Cost: 0.195865 Accuracy 100.00%\n",
            "Epoch   80/1000 Cost: 0.165161 Accuracy 100.00%\n",
            "Epoch   90/1000 Cost: 0.148542 Accuracy 100.00%\n",
            "Epoch  100/1000 Cost: 0.137933 Accuracy 100.00%\n",
            "Epoch  110/1000 Cost: 0.128964 Accuracy 100.00%\n",
            "Epoch  120/1000 Cost: 0.121113 Accuracy 100.00%\n",
            "Epoch  130/1000 Cost: 0.114179 Accuracy 100.00%\n",
            "Epoch  140/1000 Cost: 0.108012 Accuracy 100.00%\n",
            "Epoch  150/1000 Cost: 0.102491 Accuracy 100.00%\n",
            "Epoch  160/1000 Cost: 0.097519 Accuracy 100.00%\n",
            "Epoch  170/1000 Cost: 0.093018 Accuracy 100.00%\n",
            "Epoch  180/1000 Cost: 0.088924 Accuracy 100.00%\n",
            "Epoch  190/1000 Cost: 0.085184 Accuracy 100.00%\n",
            "Epoch  200/1000 Cost: 0.081753 Accuracy 100.00%\n",
            "Epoch  210/1000 Cost: 0.078595 Accuracy 100.00%\n",
            "Epoch  220/1000 Cost: 0.075678 Accuracy 100.00%\n",
            "Epoch  230/1000 Cost: 0.072974 Accuracy 100.00%\n",
            "Epoch  240/1000 Cost: 0.070462 Accuracy 100.00%\n",
            "Epoch  250/1000 Cost: 0.068122 Accuracy 100.00%\n",
            "Epoch  260/1000 Cost: 0.065935 Accuracy 100.00%\n",
            "Epoch  270/1000 Cost: 0.063888 Accuracy 100.00%\n",
            "Epoch  280/1000 Cost: 0.061967 Accuracy 100.00%\n",
            "Epoch  290/1000 Cost: 0.060161 Accuracy 100.00%\n",
            "Epoch  300/1000 Cost: 0.058460 Accuracy 100.00%\n",
            "Epoch  310/1000 Cost: 0.056854 Accuracy 100.00%\n",
            "Epoch  320/1000 Cost: 0.055336 Accuracy 100.00%\n",
            "Epoch  330/1000 Cost: 0.053899 Accuracy 100.00%\n",
            "Epoch  340/1000 Cost: 0.052536 Accuracy 100.00%\n",
            "Epoch  350/1000 Cost: 0.051242 Accuracy 100.00%\n",
            "Epoch  360/1000 Cost: 0.050012 Accuracy 100.00%\n",
            "Epoch  370/1000 Cost: 0.048840 Accuracy 100.00%\n",
            "Epoch  380/1000 Cost: 0.047723 Accuracy 100.00%\n",
            "Epoch  390/1000 Cost: 0.046657 Accuracy 100.00%\n",
            "Epoch  400/1000 Cost: 0.045638 Accuracy 100.00%\n",
            "Epoch  410/1000 Cost: 0.044664 Accuracy 100.00%\n",
            "Epoch  420/1000 Cost: 0.043731 Accuracy 100.00%\n",
            "Epoch  430/1000 Cost: 0.042837 Accuracy 100.00%\n",
            "Epoch  440/1000 Cost: 0.041980 Accuracy 100.00%\n",
            "Epoch  450/1000 Cost: 0.041156 Accuracy 100.00%\n",
            "Epoch  460/1000 Cost: 0.040365 Accuracy 100.00%\n",
            "Epoch  470/1000 Cost: 0.039605 Accuracy 100.00%\n",
            "Epoch  480/1000 Cost: 0.038873 Accuracy 100.00%\n",
            "Epoch  490/1000 Cost: 0.038168 Accuracy 100.00%\n",
            "Epoch  500/1000 Cost: 0.037488 Accuracy 100.00%\n",
            "Epoch  510/1000 Cost: 0.036833 Accuracy 100.00%\n",
            "Epoch  520/1000 Cost: 0.036200 Accuracy 100.00%\n",
            "Epoch  530/1000 Cost: 0.035589 Accuracy 100.00%\n",
            "Epoch  540/1000 Cost: 0.034999 Accuracy 100.00%\n",
            "Epoch  550/1000 Cost: 0.034428 Accuracy 100.00%\n",
            "Epoch  560/1000 Cost: 0.033876 Accuracy 100.00%\n",
            "Epoch  570/1000 Cost: 0.033341 Accuracy 100.00%\n",
            "Epoch  580/1000 Cost: 0.032824 Accuracy 100.00%\n",
            "Epoch  590/1000 Cost: 0.032322 Accuracy 100.00%\n",
            "Epoch  600/1000 Cost: 0.031836 Accuracy 100.00%\n",
            "Epoch  610/1000 Cost: 0.031364 Accuracy 100.00%\n",
            "Epoch  620/1000 Cost: 0.030906 Accuracy 100.00%\n",
            "Epoch  630/1000 Cost: 0.030462 Accuracy 100.00%\n",
            "Epoch  640/1000 Cost: 0.030030 Accuracy 100.00%\n",
            "Epoch  650/1000 Cost: 0.029610 Accuracy 100.00%\n",
            "Epoch  660/1000 Cost: 0.029203 Accuracy 100.00%\n",
            "Epoch  670/1000 Cost: 0.028806 Accuracy 100.00%\n",
            "Epoch  680/1000 Cost: 0.028420 Accuracy 100.00%\n",
            "Epoch  690/1000 Cost: 0.028045 Accuracy 100.00%\n",
            "Epoch  700/1000 Cost: 0.027679 Accuracy 100.00%\n",
            "Epoch  710/1000 Cost: 0.027323 Accuracy 100.00%\n",
            "Epoch  720/1000 Cost: 0.026976 Accuracy 100.00%\n",
            "Epoch  730/1000 Cost: 0.026638 Accuracy 100.00%\n",
            "Epoch  740/1000 Cost: 0.026308 Accuracy 100.00%\n",
            "Epoch  750/1000 Cost: 0.025986 Accuracy 100.00%\n",
            "Epoch  760/1000 Cost: 0.025672 Accuracy 100.00%\n",
            "Epoch  770/1000 Cost: 0.025366 Accuracy 100.00%\n",
            "Epoch  780/1000 Cost: 0.025067 Accuracy 100.00%\n",
            "Epoch  790/1000 Cost: 0.024776 Accuracy 100.00%\n",
            "Epoch  800/1000 Cost: 0.024490 Accuracy 100.00%\n",
            "Epoch  810/1000 Cost: 0.024212 Accuracy 100.00%\n",
            "Epoch  820/1000 Cost: 0.023940 Accuracy 100.00%\n",
            "Epoch  830/1000 Cost: 0.023674 Accuracy 100.00%\n",
            "Epoch  840/1000 Cost: 0.023413 Accuracy 100.00%\n",
            "Epoch  850/1000 Cost: 0.023159 Accuracy 100.00%\n",
            "Epoch  860/1000 Cost: 0.022910 Accuracy 100.00%\n",
            "Epoch  870/1000 Cost: 0.022666 Accuracy 100.00%\n",
            "Epoch  880/1000 Cost: 0.022428 Accuracy 100.00%\n",
            "Epoch  890/1000 Cost: 0.022194 Accuracy 100.00%\n",
            "Epoch  900/1000 Cost: 0.021965 Accuracy 100.00%\n",
            "Epoch  910/1000 Cost: 0.021742 Accuracy 100.00%\n",
            "Epoch  920/1000 Cost: 0.021522 Accuracy 100.00%\n",
            "Epoch  930/1000 Cost: 0.021307 Accuracy 100.00%\n",
            "Epoch  940/1000 Cost: 0.021096 Accuracy 100.00%\n",
            "Epoch  950/1000 Cost: 0.020890 Accuracy 100.00%\n",
            "Epoch  960/1000 Cost: 0.020687 Accuracy 100.00%\n",
            "Epoch  970/1000 Cost: 0.020489 Accuracy 100.00%\n",
            "Epoch  980/1000 Cost: 0.020294 Accuracy 100.00%\n",
            "Epoch  990/1000 Cost: 0.020103 Accuracy 100.00%\n",
            "Epoch 1000/1000 Cost: 0.019916 Accuracy 100.00%\n"
          ],
          "name": "stdout"
        }
      ]
    },
    {
      "cell_type": "code",
      "metadata": {
        "colab": {
          "base_uri": "https://localhost:8080/"
        },
        "id": "GhUZSGf44wqY",
        "outputId": "3572d120-8c67-4cf4-e2cc-4c03b50dd3ad"
      },
      "source": [
        "print(list(model.parameters()))"
      ],
      "execution_count": 22,
      "outputs": [
        {
          "output_type": "stream",
          "text": [
            "[Parameter containing:\n",
            "tensor([[3.2499, 1.5162]], requires_grad=True), Parameter containing:\n",
            "tensor([-14.4676], requires_grad=True)]\n"
          ],
          "name": "stdout"
        }
      ]
    },
    {
      "cell_type": "code",
      "metadata": {
        "id": "eIkZk-vA4693"
      },
      "source": [
        ""
      ],
      "execution_count": null,
      "outputs": []
    }
  ]
}