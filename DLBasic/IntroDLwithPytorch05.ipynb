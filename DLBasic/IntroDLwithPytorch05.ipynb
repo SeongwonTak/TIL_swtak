{
  "nbformat": 4,
  "nbformat_minor": 0,
  "metadata": {
    "colab": {
      "name": "IntroDLwithPytorch05.ipynb",
      "provenance": [],
      "toc_visible": true,
      "authorship_tag": "ABX9TyOc3N8HButVi39AOO8p4CUG",
      "include_colab_link": true
    },
    "kernelspec": {
      "name": "python3",
      "display_name": "Python 3"
    },
    "language_info": {
      "name": "python"
    },
    "widgets": {
      "application/vnd.jupyter.widget-state+json": {
        "417d86f6903940ffb870ff39571b5e5b": {
          "model_module": "@jupyter-widgets/controls",
          "model_name": "HBoxModel",
          "state": {
            "_view_name": "HBoxView",
            "_dom_classes": [],
            "_model_name": "HBoxModel",
            "_view_module": "@jupyter-widgets/controls",
            "_model_module_version": "1.5.0",
            "_view_count": null,
            "_view_module_version": "1.5.0",
            "box_style": "",
            "layout": "IPY_MODEL_a929a92ede0042e38d4f3d4f0f4c7b6d",
            "_model_module": "@jupyter-widgets/controls",
            "children": [
              "IPY_MODEL_615bd56d69174803a5a3636773dc3918",
              "IPY_MODEL_7378641228cf4648a48b6f999e71b0b7"
            ]
          }
        },
        "a929a92ede0042e38d4f3d4f0f4c7b6d": {
          "model_module": "@jupyter-widgets/base",
          "model_name": "LayoutModel",
          "state": {
            "_view_name": "LayoutView",
            "grid_template_rows": null,
            "right": null,
            "justify_content": null,
            "_view_module": "@jupyter-widgets/base",
            "overflow": null,
            "_model_module_version": "1.2.0",
            "_view_count": null,
            "flex_flow": null,
            "width": null,
            "min_width": null,
            "border": null,
            "align_items": null,
            "bottom": null,
            "_model_module": "@jupyter-widgets/base",
            "top": null,
            "grid_column": null,
            "overflow_y": null,
            "overflow_x": null,
            "grid_auto_flow": null,
            "grid_area": null,
            "grid_template_columns": null,
            "flex": null,
            "_model_name": "LayoutModel",
            "justify_items": null,
            "grid_row": null,
            "max_height": null,
            "align_content": null,
            "visibility": null,
            "align_self": null,
            "height": null,
            "min_height": null,
            "padding": null,
            "grid_auto_rows": null,
            "grid_gap": null,
            "max_width": null,
            "order": null,
            "_view_module_version": "1.2.0",
            "grid_template_areas": null,
            "object_position": null,
            "object_fit": null,
            "grid_auto_columns": null,
            "margin": null,
            "display": null,
            "left": null
          }
        },
        "615bd56d69174803a5a3636773dc3918": {
          "model_module": "@jupyter-widgets/controls",
          "model_name": "FloatProgressModel",
          "state": {
            "_view_name": "ProgressView",
            "style": "IPY_MODEL_1fb2c45c40b84db9a22a83bcb4d27ead",
            "_dom_classes": [],
            "description": "",
            "_model_name": "FloatProgressModel",
            "bar_style": "success",
            "max": 9912422,
            "_view_module": "@jupyter-widgets/controls",
            "_model_module_version": "1.5.0",
            "value": 9912422,
            "_view_count": null,
            "_view_module_version": "1.5.0",
            "orientation": "horizontal",
            "min": 0,
            "description_tooltip": null,
            "_model_module": "@jupyter-widgets/controls",
            "layout": "IPY_MODEL_5de7653019cd4cfda64a7a320e293119"
          }
        },
        "7378641228cf4648a48b6f999e71b0b7": {
          "model_module": "@jupyter-widgets/controls",
          "model_name": "HTMLModel",
          "state": {
            "_view_name": "HTMLView",
            "style": "IPY_MODEL_a1433cfca57f4417a2cf35ddf6aabf56",
            "_dom_classes": [],
            "description": "",
            "_model_name": "HTMLModel",
            "placeholder": "​",
            "_view_module": "@jupyter-widgets/controls",
            "_model_module_version": "1.5.0",
            "value": " 9913344/? [00:00&lt;00:00, 25149643.34it/s]",
            "_view_count": null,
            "_view_module_version": "1.5.0",
            "description_tooltip": null,
            "_model_module": "@jupyter-widgets/controls",
            "layout": "IPY_MODEL_880104eca840411c88af5aad3618d557"
          }
        },
        "1fb2c45c40b84db9a22a83bcb4d27ead": {
          "model_module": "@jupyter-widgets/controls",
          "model_name": "ProgressStyleModel",
          "state": {
            "_view_name": "StyleView",
            "_model_name": "ProgressStyleModel",
            "description_width": "initial",
            "_view_module": "@jupyter-widgets/base",
            "_model_module_version": "1.5.0",
            "_view_count": null,
            "_view_module_version": "1.2.0",
            "bar_color": null,
            "_model_module": "@jupyter-widgets/controls"
          }
        },
        "5de7653019cd4cfda64a7a320e293119": {
          "model_module": "@jupyter-widgets/base",
          "model_name": "LayoutModel",
          "state": {
            "_view_name": "LayoutView",
            "grid_template_rows": null,
            "right": null,
            "justify_content": null,
            "_view_module": "@jupyter-widgets/base",
            "overflow": null,
            "_model_module_version": "1.2.0",
            "_view_count": null,
            "flex_flow": null,
            "width": null,
            "min_width": null,
            "border": null,
            "align_items": null,
            "bottom": null,
            "_model_module": "@jupyter-widgets/base",
            "top": null,
            "grid_column": null,
            "overflow_y": null,
            "overflow_x": null,
            "grid_auto_flow": null,
            "grid_area": null,
            "grid_template_columns": null,
            "flex": null,
            "_model_name": "LayoutModel",
            "justify_items": null,
            "grid_row": null,
            "max_height": null,
            "align_content": null,
            "visibility": null,
            "align_self": null,
            "height": null,
            "min_height": null,
            "padding": null,
            "grid_auto_rows": null,
            "grid_gap": null,
            "max_width": null,
            "order": null,
            "_view_module_version": "1.2.0",
            "grid_template_areas": null,
            "object_position": null,
            "object_fit": null,
            "grid_auto_columns": null,
            "margin": null,
            "display": null,
            "left": null
          }
        },
        "a1433cfca57f4417a2cf35ddf6aabf56": {
          "model_module": "@jupyter-widgets/controls",
          "model_name": "DescriptionStyleModel",
          "state": {
            "_view_name": "StyleView",
            "_model_name": "DescriptionStyleModel",
            "description_width": "",
            "_view_module": "@jupyter-widgets/base",
            "_model_module_version": "1.5.0",
            "_view_count": null,
            "_view_module_version": "1.2.0",
            "_model_module": "@jupyter-widgets/controls"
          }
        },
        "880104eca840411c88af5aad3618d557": {
          "model_module": "@jupyter-widgets/base",
          "model_name": "LayoutModel",
          "state": {
            "_view_name": "LayoutView",
            "grid_template_rows": null,
            "right": null,
            "justify_content": null,
            "_view_module": "@jupyter-widgets/base",
            "overflow": null,
            "_model_module_version": "1.2.0",
            "_view_count": null,
            "flex_flow": null,
            "width": null,
            "min_width": null,
            "border": null,
            "align_items": null,
            "bottom": null,
            "_model_module": "@jupyter-widgets/base",
            "top": null,
            "grid_column": null,
            "overflow_y": null,
            "overflow_x": null,
            "grid_auto_flow": null,
            "grid_area": null,
            "grid_template_columns": null,
            "flex": null,
            "_model_name": "LayoutModel",
            "justify_items": null,
            "grid_row": null,
            "max_height": null,
            "align_content": null,
            "visibility": null,
            "align_self": null,
            "height": null,
            "min_height": null,
            "padding": null,
            "grid_auto_rows": null,
            "grid_gap": null,
            "max_width": null,
            "order": null,
            "_view_module_version": "1.2.0",
            "grid_template_areas": null,
            "object_position": null,
            "object_fit": null,
            "grid_auto_columns": null,
            "margin": null,
            "display": null,
            "left": null
          }
        },
        "eff8c5f3d69741c1a8a94ea3f2b3ec8d": {
          "model_module": "@jupyter-widgets/controls",
          "model_name": "HBoxModel",
          "state": {
            "_view_name": "HBoxView",
            "_dom_classes": [],
            "_model_name": "HBoxModel",
            "_view_module": "@jupyter-widgets/controls",
            "_model_module_version": "1.5.0",
            "_view_count": null,
            "_view_module_version": "1.5.0",
            "box_style": "",
            "layout": "IPY_MODEL_7150d2ab8af14842868a55193f027dcf",
            "_model_module": "@jupyter-widgets/controls",
            "children": [
              "IPY_MODEL_6245993ff3964dc4ab8f047186467177",
              "IPY_MODEL_88081ad27bb644a2a49717040d7c4dbf"
            ]
          }
        },
        "7150d2ab8af14842868a55193f027dcf": {
          "model_module": "@jupyter-widgets/base",
          "model_name": "LayoutModel",
          "state": {
            "_view_name": "LayoutView",
            "grid_template_rows": null,
            "right": null,
            "justify_content": null,
            "_view_module": "@jupyter-widgets/base",
            "overflow": null,
            "_model_module_version": "1.2.0",
            "_view_count": null,
            "flex_flow": null,
            "width": null,
            "min_width": null,
            "border": null,
            "align_items": null,
            "bottom": null,
            "_model_module": "@jupyter-widgets/base",
            "top": null,
            "grid_column": null,
            "overflow_y": null,
            "overflow_x": null,
            "grid_auto_flow": null,
            "grid_area": null,
            "grid_template_columns": null,
            "flex": null,
            "_model_name": "LayoutModel",
            "justify_items": null,
            "grid_row": null,
            "max_height": null,
            "align_content": null,
            "visibility": null,
            "align_self": null,
            "height": null,
            "min_height": null,
            "padding": null,
            "grid_auto_rows": null,
            "grid_gap": null,
            "max_width": null,
            "order": null,
            "_view_module_version": "1.2.0",
            "grid_template_areas": null,
            "object_position": null,
            "object_fit": null,
            "grid_auto_columns": null,
            "margin": null,
            "display": null,
            "left": null
          }
        },
        "6245993ff3964dc4ab8f047186467177": {
          "model_module": "@jupyter-widgets/controls",
          "model_name": "FloatProgressModel",
          "state": {
            "_view_name": "ProgressView",
            "style": "IPY_MODEL_023f5dfd545f4eeab8b6df519a52f76c",
            "_dom_classes": [],
            "description": "",
            "_model_name": "FloatProgressModel",
            "bar_style": "success",
            "max": 28881,
            "_view_module": "@jupyter-widgets/controls",
            "_model_module_version": "1.5.0",
            "value": 28881,
            "_view_count": null,
            "_view_module_version": "1.5.0",
            "orientation": "horizontal",
            "min": 0,
            "description_tooltip": null,
            "_model_module": "@jupyter-widgets/controls",
            "layout": "IPY_MODEL_05ab93868dff46ff9a9b3173a254510d"
          }
        },
        "88081ad27bb644a2a49717040d7c4dbf": {
          "model_module": "@jupyter-widgets/controls",
          "model_name": "HTMLModel",
          "state": {
            "_view_name": "HTMLView",
            "style": "IPY_MODEL_aadaea86d1cf4cc684aa2ccddfef9b5d",
            "_dom_classes": [],
            "description": "",
            "_model_name": "HTMLModel",
            "placeholder": "​",
            "_view_module": "@jupyter-widgets/controls",
            "_model_module_version": "1.5.0",
            "value": " 29696/? [00:01&lt;00:00, 25427.51it/s]",
            "_view_count": null,
            "_view_module_version": "1.5.0",
            "description_tooltip": null,
            "_model_module": "@jupyter-widgets/controls",
            "layout": "IPY_MODEL_0771012dd22b48398785c1845e264d56"
          }
        },
        "023f5dfd545f4eeab8b6df519a52f76c": {
          "model_module": "@jupyter-widgets/controls",
          "model_name": "ProgressStyleModel",
          "state": {
            "_view_name": "StyleView",
            "_model_name": "ProgressStyleModel",
            "description_width": "initial",
            "_view_module": "@jupyter-widgets/base",
            "_model_module_version": "1.5.0",
            "_view_count": null,
            "_view_module_version": "1.2.0",
            "bar_color": null,
            "_model_module": "@jupyter-widgets/controls"
          }
        },
        "05ab93868dff46ff9a9b3173a254510d": {
          "model_module": "@jupyter-widgets/base",
          "model_name": "LayoutModel",
          "state": {
            "_view_name": "LayoutView",
            "grid_template_rows": null,
            "right": null,
            "justify_content": null,
            "_view_module": "@jupyter-widgets/base",
            "overflow": null,
            "_model_module_version": "1.2.0",
            "_view_count": null,
            "flex_flow": null,
            "width": null,
            "min_width": null,
            "border": null,
            "align_items": null,
            "bottom": null,
            "_model_module": "@jupyter-widgets/base",
            "top": null,
            "grid_column": null,
            "overflow_y": null,
            "overflow_x": null,
            "grid_auto_flow": null,
            "grid_area": null,
            "grid_template_columns": null,
            "flex": null,
            "_model_name": "LayoutModel",
            "justify_items": null,
            "grid_row": null,
            "max_height": null,
            "align_content": null,
            "visibility": null,
            "align_self": null,
            "height": null,
            "min_height": null,
            "padding": null,
            "grid_auto_rows": null,
            "grid_gap": null,
            "max_width": null,
            "order": null,
            "_view_module_version": "1.2.0",
            "grid_template_areas": null,
            "object_position": null,
            "object_fit": null,
            "grid_auto_columns": null,
            "margin": null,
            "display": null,
            "left": null
          }
        },
        "aadaea86d1cf4cc684aa2ccddfef9b5d": {
          "model_module": "@jupyter-widgets/controls",
          "model_name": "DescriptionStyleModel",
          "state": {
            "_view_name": "StyleView",
            "_model_name": "DescriptionStyleModel",
            "description_width": "",
            "_view_module": "@jupyter-widgets/base",
            "_model_module_version": "1.5.0",
            "_view_count": null,
            "_view_module_version": "1.2.0",
            "_model_module": "@jupyter-widgets/controls"
          }
        },
        "0771012dd22b48398785c1845e264d56": {
          "model_module": "@jupyter-widgets/base",
          "model_name": "LayoutModel",
          "state": {
            "_view_name": "LayoutView",
            "grid_template_rows": null,
            "right": null,
            "justify_content": null,
            "_view_module": "@jupyter-widgets/base",
            "overflow": null,
            "_model_module_version": "1.2.0",
            "_view_count": null,
            "flex_flow": null,
            "width": null,
            "min_width": null,
            "border": null,
            "align_items": null,
            "bottom": null,
            "_model_module": "@jupyter-widgets/base",
            "top": null,
            "grid_column": null,
            "overflow_y": null,
            "overflow_x": null,
            "grid_auto_flow": null,
            "grid_area": null,
            "grid_template_columns": null,
            "flex": null,
            "_model_name": "LayoutModel",
            "justify_items": null,
            "grid_row": null,
            "max_height": null,
            "align_content": null,
            "visibility": null,
            "align_self": null,
            "height": null,
            "min_height": null,
            "padding": null,
            "grid_auto_rows": null,
            "grid_gap": null,
            "max_width": null,
            "order": null,
            "_view_module_version": "1.2.0",
            "grid_template_areas": null,
            "object_position": null,
            "object_fit": null,
            "grid_auto_columns": null,
            "margin": null,
            "display": null,
            "left": null
          }
        },
        "93cf2946099347618520ffbd8244193f": {
          "model_module": "@jupyter-widgets/controls",
          "model_name": "HBoxModel",
          "state": {
            "_view_name": "HBoxView",
            "_dom_classes": [],
            "_model_name": "HBoxModel",
            "_view_module": "@jupyter-widgets/controls",
            "_model_module_version": "1.5.0",
            "_view_count": null,
            "_view_module_version": "1.5.0",
            "box_style": "",
            "layout": "IPY_MODEL_995bc9fbf0824fc7a6bf3a20b1288c42",
            "_model_module": "@jupyter-widgets/controls",
            "children": [
              "IPY_MODEL_a87f0c33ab184d83b5ebcae6f1f3bfc0",
              "IPY_MODEL_a4e6c34a64354107ab129985a82cc0f9"
            ]
          }
        },
        "995bc9fbf0824fc7a6bf3a20b1288c42": {
          "model_module": "@jupyter-widgets/base",
          "model_name": "LayoutModel",
          "state": {
            "_view_name": "LayoutView",
            "grid_template_rows": null,
            "right": null,
            "justify_content": null,
            "_view_module": "@jupyter-widgets/base",
            "overflow": null,
            "_model_module_version": "1.2.0",
            "_view_count": null,
            "flex_flow": null,
            "width": null,
            "min_width": null,
            "border": null,
            "align_items": null,
            "bottom": null,
            "_model_module": "@jupyter-widgets/base",
            "top": null,
            "grid_column": null,
            "overflow_y": null,
            "overflow_x": null,
            "grid_auto_flow": null,
            "grid_area": null,
            "grid_template_columns": null,
            "flex": null,
            "_model_name": "LayoutModel",
            "justify_items": null,
            "grid_row": null,
            "max_height": null,
            "align_content": null,
            "visibility": null,
            "align_self": null,
            "height": null,
            "min_height": null,
            "padding": null,
            "grid_auto_rows": null,
            "grid_gap": null,
            "max_width": null,
            "order": null,
            "_view_module_version": "1.2.0",
            "grid_template_areas": null,
            "object_position": null,
            "object_fit": null,
            "grid_auto_columns": null,
            "margin": null,
            "display": null,
            "left": null
          }
        },
        "a87f0c33ab184d83b5ebcae6f1f3bfc0": {
          "model_module": "@jupyter-widgets/controls",
          "model_name": "FloatProgressModel",
          "state": {
            "_view_name": "ProgressView",
            "style": "IPY_MODEL_321a1a446e0d496d98a1e0ae35aa2ca1",
            "_dom_classes": [],
            "description": "",
            "_model_name": "FloatProgressModel",
            "bar_style": "success",
            "max": 1648877,
            "_view_module": "@jupyter-widgets/controls",
            "_model_module_version": "1.5.0",
            "value": 1648877,
            "_view_count": null,
            "_view_module_version": "1.5.0",
            "orientation": "horizontal",
            "min": 0,
            "description_tooltip": null,
            "_model_module": "@jupyter-widgets/controls",
            "layout": "IPY_MODEL_b750ce1b1db24d34b68dc802913e38d2"
          }
        },
        "a4e6c34a64354107ab129985a82cc0f9": {
          "model_module": "@jupyter-widgets/controls",
          "model_name": "HTMLModel",
          "state": {
            "_view_name": "HTMLView",
            "style": "IPY_MODEL_5237c70397cf46f6b7e52724a2174dd9",
            "_dom_classes": [],
            "description": "",
            "_model_name": "HTMLModel",
            "placeholder": "​",
            "_view_module": "@jupyter-widgets/controls",
            "_model_module_version": "1.5.0",
            "value": " 1649664/? [00:00&lt;00:00, 2332665.59it/s]",
            "_view_count": null,
            "_view_module_version": "1.5.0",
            "description_tooltip": null,
            "_model_module": "@jupyter-widgets/controls",
            "layout": "IPY_MODEL_5b73c397fcae404d8f0d127d781d6423"
          }
        },
        "321a1a446e0d496d98a1e0ae35aa2ca1": {
          "model_module": "@jupyter-widgets/controls",
          "model_name": "ProgressStyleModel",
          "state": {
            "_view_name": "StyleView",
            "_model_name": "ProgressStyleModel",
            "description_width": "initial",
            "_view_module": "@jupyter-widgets/base",
            "_model_module_version": "1.5.0",
            "_view_count": null,
            "_view_module_version": "1.2.0",
            "bar_color": null,
            "_model_module": "@jupyter-widgets/controls"
          }
        },
        "b750ce1b1db24d34b68dc802913e38d2": {
          "model_module": "@jupyter-widgets/base",
          "model_name": "LayoutModel",
          "state": {
            "_view_name": "LayoutView",
            "grid_template_rows": null,
            "right": null,
            "justify_content": null,
            "_view_module": "@jupyter-widgets/base",
            "overflow": null,
            "_model_module_version": "1.2.0",
            "_view_count": null,
            "flex_flow": null,
            "width": null,
            "min_width": null,
            "border": null,
            "align_items": null,
            "bottom": null,
            "_model_module": "@jupyter-widgets/base",
            "top": null,
            "grid_column": null,
            "overflow_y": null,
            "overflow_x": null,
            "grid_auto_flow": null,
            "grid_area": null,
            "grid_template_columns": null,
            "flex": null,
            "_model_name": "LayoutModel",
            "justify_items": null,
            "grid_row": null,
            "max_height": null,
            "align_content": null,
            "visibility": null,
            "align_self": null,
            "height": null,
            "min_height": null,
            "padding": null,
            "grid_auto_rows": null,
            "grid_gap": null,
            "max_width": null,
            "order": null,
            "_view_module_version": "1.2.0",
            "grid_template_areas": null,
            "object_position": null,
            "object_fit": null,
            "grid_auto_columns": null,
            "margin": null,
            "display": null,
            "left": null
          }
        },
        "5237c70397cf46f6b7e52724a2174dd9": {
          "model_module": "@jupyter-widgets/controls",
          "model_name": "DescriptionStyleModel",
          "state": {
            "_view_name": "StyleView",
            "_model_name": "DescriptionStyleModel",
            "description_width": "",
            "_view_module": "@jupyter-widgets/base",
            "_model_module_version": "1.5.0",
            "_view_count": null,
            "_view_module_version": "1.2.0",
            "_model_module": "@jupyter-widgets/controls"
          }
        },
        "5b73c397fcae404d8f0d127d781d6423": {
          "model_module": "@jupyter-widgets/base",
          "model_name": "LayoutModel",
          "state": {
            "_view_name": "LayoutView",
            "grid_template_rows": null,
            "right": null,
            "justify_content": null,
            "_view_module": "@jupyter-widgets/base",
            "overflow": null,
            "_model_module_version": "1.2.0",
            "_view_count": null,
            "flex_flow": null,
            "width": null,
            "min_width": null,
            "border": null,
            "align_items": null,
            "bottom": null,
            "_model_module": "@jupyter-widgets/base",
            "top": null,
            "grid_column": null,
            "overflow_y": null,
            "overflow_x": null,
            "grid_auto_flow": null,
            "grid_area": null,
            "grid_template_columns": null,
            "flex": null,
            "_model_name": "LayoutModel",
            "justify_items": null,
            "grid_row": null,
            "max_height": null,
            "align_content": null,
            "visibility": null,
            "align_self": null,
            "height": null,
            "min_height": null,
            "padding": null,
            "grid_auto_rows": null,
            "grid_gap": null,
            "max_width": null,
            "order": null,
            "_view_module_version": "1.2.0",
            "grid_template_areas": null,
            "object_position": null,
            "object_fit": null,
            "grid_auto_columns": null,
            "margin": null,
            "display": null,
            "left": null
          }
        },
        "14e4ac2fc12a471aa8bf8ac291c9f820": {
          "model_module": "@jupyter-widgets/controls",
          "model_name": "HBoxModel",
          "state": {
            "_view_name": "HBoxView",
            "_dom_classes": [],
            "_model_name": "HBoxModel",
            "_view_module": "@jupyter-widgets/controls",
            "_model_module_version": "1.5.0",
            "_view_count": null,
            "_view_module_version": "1.5.0",
            "box_style": "",
            "layout": "IPY_MODEL_15e5bb25fade4884bd0a46f34aa00b5b",
            "_model_module": "@jupyter-widgets/controls",
            "children": [
              "IPY_MODEL_fded166294364e818d46c520d368a745",
              "IPY_MODEL_399eb7c70b7549f6be8cf1026660cb29"
            ]
          }
        },
        "15e5bb25fade4884bd0a46f34aa00b5b": {
          "model_module": "@jupyter-widgets/base",
          "model_name": "LayoutModel",
          "state": {
            "_view_name": "LayoutView",
            "grid_template_rows": null,
            "right": null,
            "justify_content": null,
            "_view_module": "@jupyter-widgets/base",
            "overflow": null,
            "_model_module_version": "1.2.0",
            "_view_count": null,
            "flex_flow": null,
            "width": null,
            "min_width": null,
            "border": null,
            "align_items": null,
            "bottom": null,
            "_model_module": "@jupyter-widgets/base",
            "top": null,
            "grid_column": null,
            "overflow_y": null,
            "overflow_x": null,
            "grid_auto_flow": null,
            "grid_area": null,
            "grid_template_columns": null,
            "flex": null,
            "_model_name": "LayoutModel",
            "justify_items": null,
            "grid_row": null,
            "max_height": null,
            "align_content": null,
            "visibility": null,
            "align_self": null,
            "height": null,
            "min_height": null,
            "padding": null,
            "grid_auto_rows": null,
            "grid_gap": null,
            "max_width": null,
            "order": null,
            "_view_module_version": "1.2.0",
            "grid_template_areas": null,
            "object_position": null,
            "object_fit": null,
            "grid_auto_columns": null,
            "margin": null,
            "display": null,
            "left": null
          }
        },
        "fded166294364e818d46c520d368a745": {
          "model_module": "@jupyter-widgets/controls",
          "model_name": "FloatProgressModel",
          "state": {
            "_view_name": "ProgressView",
            "style": "IPY_MODEL_244ce8d9fd4a48a2ae63cc5fc619391a",
            "_dom_classes": [],
            "description": "",
            "_model_name": "FloatProgressModel",
            "bar_style": "success",
            "max": 4542,
            "_view_module": "@jupyter-widgets/controls",
            "_model_module_version": "1.5.0",
            "value": 4542,
            "_view_count": null,
            "_view_module_version": "1.5.0",
            "orientation": "horizontal",
            "min": 0,
            "description_tooltip": null,
            "_model_module": "@jupyter-widgets/controls",
            "layout": "IPY_MODEL_4dc873c3a87c4a2f98f2bdd8a9ec7486"
          }
        },
        "399eb7c70b7549f6be8cf1026660cb29": {
          "model_module": "@jupyter-widgets/controls",
          "model_name": "HTMLModel",
          "state": {
            "_view_name": "HTMLView",
            "style": "IPY_MODEL_ea42a8e4c58e40d6be46c9a41d5fa74a",
            "_dom_classes": [],
            "description": "",
            "_model_name": "HTMLModel",
            "placeholder": "​",
            "_view_module": "@jupyter-widgets/controls",
            "_model_module_version": "1.5.0",
            "value": " 5120/? [00:00&lt;00:00, 119892.12it/s]",
            "_view_count": null,
            "_view_module_version": "1.5.0",
            "description_tooltip": null,
            "_model_module": "@jupyter-widgets/controls",
            "layout": "IPY_MODEL_4da966b7f5294a9fa1661c465383b926"
          }
        },
        "244ce8d9fd4a48a2ae63cc5fc619391a": {
          "model_module": "@jupyter-widgets/controls",
          "model_name": "ProgressStyleModel",
          "state": {
            "_view_name": "StyleView",
            "_model_name": "ProgressStyleModel",
            "description_width": "initial",
            "_view_module": "@jupyter-widgets/base",
            "_model_module_version": "1.5.0",
            "_view_count": null,
            "_view_module_version": "1.2.0",
            "bar_color": null,
            "_model_module": "@jupyter-widgets/controls"
          }
        },
        "4dc873c3a87c4a2f98f2bdd8a9ec7486": {
          "model_module": "@jupyter-widgets/base",
          "model_name": "LayoutModel",
          "state": {
            "_view_name": "LayoutView",
            "grid_template_rows": null,
            "right": null,
            "justify_content": null,
            "_view_module": "@jupyter-widgets/base",
            "overflow": null,
            "_model_module_version": "1.2.0",
            "_view_count": null,
            "flex_flow": null,
            "width": null,
            "min_width": null,
            "border": null,
            "align_items": null,
            "bottom": null,
            "_model_module": "@jupyter-widgets/base",
            "top": null,
            "grid_column": null,
            "overflow_y": null,
            "overflow_x": null,
            "grid_auto_flow": null,
            "grid_area": null,
            "grid_template_columns": null,
            "flex": null,
            "_model_name": "LayoutModel",
            "justify_items": null,
            "grid_row": null,
            "max_height": null,
            "align_content": null,
            "visibility": null,
            "align_self": null,
            "height": null,
            "min_height": null,
            "padding": null,
            "grid_auto_rows": null,
            "grid_gap": null,
            "max_width": null,
            "order": null,
            "_view_module_version": "1.2.0",
            "grid_template_areas": null,
            "object_position": null,
            "object_fit": null,
            "grid_auto_columns": null,
            "margin": null,
            "display": null,
            "left": null
          }
        },
        "ea42a8e4c58e40d6be46c9a41d5fa74a": {
          "model_module": "@jupyter-widgets/controls",
          "model_name": "DescriptionStyleModel",
          "state": {
            "_view_name": "StyleView",
            "_model_name": "DescriptionStyleModel",
            "description_width": "",
            "_view_module": "@jupyter-widgets/base",
            "_model_module_version": "1.5.0",
            "_view_count": null,
            "_view_module_version": "1.2.0",
            "_model_module": "@jupyter-widgets/controls"
          }
        },
        "4da966b7f5294a9fa1661c465383b926": {
          "model_module": "@jupyter-widgets/base",
          "model_name": "LayoutModel",
          "state": {
            "_view_name": "LayoutView",
            "grid_template_rows": null,
            "right": null,
            "justify_content": null,
            "_view_module": "@jupyter-widgets/base",
            "overflow": null,
            "_model_module_version": "1.2.0",
            "_view_count": null,
            "flex_flow": null,
            "width": null,
            "min_width": null,
            "border": null,
            "align_items": null,
            "bottom": null,
            "_model_module": "@jupyter-widgets/base",
            "top": null,
            "grid_column": null,
            "overflow_y": null,
            "overflow_x": null,
            "grid_auto_flow": null,
            "grid_area": null,
            "grid_template_columns": null,
            "flex": null,
            "_model_name": "LayoutModel",
            "justify_items": null,
            "grid_row": null,
            "max_height": null,
            "align_content": null,
            "visibility": null,
            "align_self": null,
            "height": null,
            "min_height": null,
            "padding": null,
            "grid_auto_rows": null,
            "grid_gap": null,
            "max_width": null,
            "order": null,
            "_view_module_version": "1.2.0",
            "grid_template_areas": null,
            "object_position": null,
            "object_fit": null,
            "grid_auto_columns": null,
            "margin": null,
            "display": null,
            "left": null
          }
        }
      }
    }
  },
  "cells": [
    {
      "cell_type": "markdown",
      "metadata": {
        "id": "view-in-github",
        "colab_type": "text"
      },
      "source": [
        "<a href=\"https://colab.research.google.com/github/SeongwonTak/TIL_swtak/blob/master/DLBasic/IntroDLwithPytorch05.ipynb\" target=\"_parent\"><img src=\"https://colab.research.google.com/assets/colab-badge.svg\" alt=\"Open In Colab\"/></a>"
      ]
    },
    {
      "cell_type": "markdown",
      "metadata": {
        "id": "CEt6Wf6o5jlv"
      },
      "source": [
        "# SoftMax 회귀\n",
        "SoftMax Regression이란, 3개 이상의 선택지로부터 1개를 선택하는 다중 클래스 분류 문제를 푸는 방법이다.  \n",
        "출처 : https://wikidocs.net/59425\n"
      ]
    },
    {
      "cell_type": "markdown",
      "metadata": {
        "id": "OB_JqLoF6vTY"
      },
      "source": [
        "## One-Hot Encoding\n",
        "원-핫 인코딩은 선택해야 하는 선택지의 개수만큼 차원을 가진다.  \n",
        "각 선택지의 인덱스에 해당되는 원소에는 1, 나머지는 0의 값을 가지게 한다.  \n",
        "\n",
        "ex) 강아지, 고양이, 냉장고  \n",
        "강아지 = [1, 0, 0]  \n",
        "고양이 = [0, 1, 0]  \n",
        "냉장고 = [0, 0, 1]  \n",
        "\n",
        "대부분의 다중 클래스 분류 문제는 **각 클래스간의 관계가 균등하다는 점에 있어 One-Hot Encoding이 적절한 방법**이다.\n",
        "\n",
        "즉, 일반적으로 정수형 label을 부여할 경우, 각 선택지간의 유클리드 거리가 달라질 수 있으나, **One-Hot Encoding을 실시할 경우, 오차는 균등**하다.\n",
        "\n"
      ]
    },
    {
      "cell_type": "markdown",
      "metadata": {
        "id": "wE6Onwjs-iue"
      },
      "source": [
        "## 소프트맥스 회귀 vs 로지스틱 회귀\n",
        "로지스틱 회귀의 경우는 2개중 1개의 경우를 나누는 상황으로, Yes / No의 확률의 합이 1이 된다. Point는, 확률의 합이 1이 된다라는 의미이다.\n",
        "\n",
        "소프트맥스 회귀의 경우에도 여전히 **확률의 총합이 1이 되어야 한다.**  즉, 각 선택지가 정답일 확률이 표현된다.![image.png](data:image/png;base64,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)"
      ]
    },
    {
      "cell_type": "markdown",
      "metadata": {
        "id": "7KZxbRksA4Fm"
      },
      "source": [
        "다음과 같은 방식으로 구현을 하게 된다.\n",
        "- c : number of class\n",
        "- f : number of features\n",
        "\n",
        "가중치 벡터 W랑, 편향 b를 학습시켜야 하는 것이 목표다.\n"
      ]
    },
    {
      "cell_type": "markdown",
      "metadata": {
        "id": "dRrvB1stB7eN"
      },
      "source": [
        "여기서 softmax는 확률의 값을 돌려줘야 하는데,\n",
        "k차원의 벡터에서 i번째 원소가 zi, i번째가 정답일 확률이 pi일 경우,\n",
        "$$p_{i} = \\frac{e^{z_{i}}}{\\sum_{j=1}^{k}e^{z_{j}}} $$"
      ]
    },
    {
      "cell_type": "markdown",
      "metadata": {
        "id": "n9vB-0clCoq9"
      },
      "source": [
        "### 소프트맥스 회귀의 비용함수\n",
        "소프트맥스의 회귀는 비용함수로 Cross Entropy 함수를 사용한다. 우선 데이터가 1개일 때의 비용함수는 다음과 같이 정의한다.\n",
        "\n",
        "$$ cost(W) = -\\sum_{j=1}^{k} y_{j}log(p_{j}) $$\n",
        "\n",
        "여기서 $y_{j}$는 one-hot의 실제 값, p_j는 sample벡터가 j번째 class일 확률이다.  \n",
        "이진분류의 cross entropy와 본질적으로 동일하다.\n",
        "\n",
        "여기서, sample 개수 만큼 더해 평균을 낸것이 최종 비용함수가 된다."
      ]
    },
    {
      "cell_type": "code",
      "metadata": {
        "id": "Xh26BR9v5hpk"
      },
      "source": [
        "# 구현\n",
        "import torch\n",
        "import torch.nn.functional as F"
      ],
      "execution_count": null,
      "outputs": []
    },
    {
      "cell_type": "code",
      "metadata": {
        "colab": {
          "base_uri": "https://localhost:8080/"
        },
        "id": "2149PBwUFDao",
        "outputId": "5b849e9e-cc09-43b2-b774-050a83f376eb"
      },
      "source": [
        "z = torch.FloatTensor([1, 2, 3])\n",
        "hypo = F.softmax(z, dim = 0)\n",
        "print(hypo)"
      ],
      "execution_count": null,
      "outputs": [
        {
          "output_type": "stream",
          "text": [
            "tensor([0.0900, 0.2447, 0.6652])\n"
          ],
          "name": "stdout"
        }
      ]
    },
    {
      "cell_type": "markdown",
      "metadata": {
        "id": "PsXikoX5FOUs"
      },
      "source": [
        "비용함수를 위해 임의의 텐서를 만들어 소프트맥스 함수를 적용해보려고 한다."
      ]
    },
    {
      "cell_type": "code",
      "metadata": {
        "colab": {
          "base_uri": "https://localhost:8080/"
        },
        "id": "UL7pPGdQFKlQ",
        "outputId": "e14bb16f-929b-42e8-f96f-4e24f97222a9"
      },
      "source": [
        "z = torch.rand(3, 5, requires_grad=True)\n",
        "hypo = F.softmax(z, dim = 1)  # 각 행별로 softmax를 적용해야 해서, dim = 1이라 표기한다.\n",
        "print(hypo)"
      ],
      "execution_count": null,
      "outputs": [
        {
          "output_type": "stream",
          "text": [
            "tensor([[0.1888, 0.1745, 0.2073, 0.2480, 0.1814],\n",
            "        [0.1891, 0.1301, 0.3468, 0.1531, 0.1809],\n",
            "        [0.1449, 0.2409, 0.1794, 0.1563, 0.2785]], grad_fn=<SoftmaxBackward>)\n"
          ],
          "name": "stdout"
        }
      ]
    },
    {
      "cell_type": "markdown",
      "metadata": {
        "id": "3OkSfiFJG9w_"
      },
      "source": [
        "각 sample에 대해서 label을 만들어야 한다."
      ]
    },
    {
      "cell_type": "code",
      "metadata": {
        "colab": {
          "base_uri": "https://localhost:8080/"
        },
        "id": "9Umz9HV4GDlO",
        "outputId": "4784c11d-2dc7-4a23-e38d-05bf36687278"
      },
      "source": [
        "y = torch.randint(5,(3,)).long()\n",
        "print(y)"
      ],
      "execution_count": null,
      "outputs": [
        {
          "output_type": "stream",
          "text": [
            "tensor([0, 2, 4])\n"
          ],
          "name": "stdout"
        }
      ]
    },
    {
      "cell_type": "code",
      "metadata": {
        "colab": {
          "base_uri": "https://localhost:8080/"
        },
        "id": "IGOOsSkLHHhi",
        "outputId": "8be2f5fa-dcd7-47ac-dec8-e066cee835bf"
      },
      "source": [
        "# one-hot  실시\n",
        "y_one_hot = torch.zeros_like(hypo)\n",
        "y_one_hot.scatter_(1, y.unsqueeze(1), 1)"
      ],
      "execution_count": null,
      "outputs": [
        {
          "output_type": "execute_result",
          "data": {
            "text/plain": [
              "tensor([[1., 0., 0., 0., 0.],\n",
              "        [0., 0., 1., 0., 0.],\n",
              "        [0., 0., 0., 0., 1.]])"
            ]
          },
          "metadata": {
            "tags": []
          },
          "execution_count": 5
        }
      ]
    },
    {
      "cell_type": "code",
      "metadata": {
        "colab": {
          "base_uri": "https://localhost:8080/"
        },
        "id": "oMKj6DCbHTfd",
        "outputId": "52cebae9-841d-4399-d32b-64470bffcd26"
      },
      "source": [
        "cost = (y_one_hot * -torch.log(hypo)).sum(dim=1).mean()\n",
        "print(cost)"
      ],
      "execution_count": null,
      "outputs": [
        {
          "output_type": "stream",
          "text": [
            "tensor(1.3349, grad_fn=<MeanBackward0>)\n"
          ],
          "name": "stdout"
        }
      ]
    },
    {
      "cell_type": "markdown",
      "metadata": {
        "id": "3tyeLeqAHnxG"
      },
      "source": [
        "조금 더 내장함수(?)를 사용한 방법을 알아보자.\n",
        "먼저, Pytorch에는 F.log_softmax()라는 함수가 존재한다."
      ]
    },
    {
      "cell_type": "code",
      "metadata": {
        "colab": {
          "base_uri": "https://localhost:8080/"
        },
        "id": "awOk3xIHHZhn",
        "outputId": "f964eb47-5654-42d7-d80e-c8f17fc5f863"
      },
      "source": [
        "F.log_softmax(z, dim=1)"
      ],
      "execution_count": null,
      "outputs": [
        {
          "output_type": "execute_result",
          "data": {
            "text/plain": [
              "tensor([[-1.6673, -1.7459, -1.5735, -1.3943, -1.7069],\n",
              "        [-1.6654, -2.0392, -1.0590, -1.8766, -1.7100],\n",
              "        [-1.9314, -1.4234, -1.7180, -1.8563, -1.2784]],\n",
              "       grad_fn=<LogSoftmaxBackward>)"
            ]
          },
          "metadata": {
            "tags": []
          },
          "execution_count": 8
        }
      ]
    },
    {
      "cell_type": "markdown",
      "metadata": {
        "id": "bpF4uYHLHza0"
      },
      "source": [
        "또한 비용함수또한 구현되어 있다. **One-hot을 할거 없이 바로 실제 값을 인자로 사용한다.**"
      ]
    },
    {
      "cell_type": "code",
      "metadata": {
        "colab": {
          "base_uri": "https://localhost:8080/"
        },
        "id": "lDF3WP8qHuvJ",
        "outputId": "d27b5c77-b4e6-4fce-dfc1-8dee79f9cfc8"
      },
      "source": [
        "F.nll_loss(F.log_softmax(z, dim=1), y)"
      ],
      "execution_count": null,
      "outputs": [
        {
          "output_type": "execute_result",
          "data": {
            "text/plain": [
              "tensor(1.3349, grad_fn=<NllLossBackward>)"
            ]
          },
          "metadata": {
            "tags": []
          },
          "execution_count": 9
        }
      ]
    },
    {
      "cell_type": "markdown",
      "metadata": {
        "id": "on7V-oTtH8zt"
      },
      "source": [
        "그런데, 더 극단적으로 F.Cross_entropy를 사용하여 한번에 오차값을 확인 가능하다.\n",
        "여기서 이 함수의 경우는 softmax와 nll_loss를 한번에 포함하고 있다. 즉, 그냥 바로 하면 된다.  softmax를 포함함을 잊지 말자."
      ]
    },
    {
      "cell_type": "code",
      "metadata": {
        "colab": {
          "base_uri": "https://localhost:8080/"
        },
        "id": "GNhNMresH5Cs",
        "outputId": "56af1a4b-efec-4049-e958-32d3320a64e7"
      },
      "source": [
        "F.cross_entropy(z, y)"
      ],
      "execution_count": null,
      "outputs": [
        {
          "output_type": "execute_result",
          "data": {
            "text/plain": [
              "tensor(1.3349, grad_fn=<NllLossBackward>)"
            ]
          },
          "metadata": {
            "tags": []
          },
          "execution_count": 10
        }
      ]
    },
    {
      "cell_type": "markdown",
      "metadata": {
        "id": "lr_4BgCBIUaU"
      },
      "source": [
        "## 소프트맥스 회귀의 구현"
      ]
    },
    {
      "cell_type": "code",
      "metadata": {
        "id": "c8EsdwdbM_NO"
      },
      "source": [
        "import torch\n",
        "import torch.nn as nn\n",
        "import torch.nn.functional as F\n",
        "import torch.optim as optim"
      ],
      "execution_count": null,
      "outputs": []
    },
    {
      "cell_type": "code",
      "metadata": {
        "id": "ARTxZMdIM_u5"
      },
      "source": [
        "# 훈련 데이터 선언\n",
        "x_train = [[1, 2, 1, 1],\n",
        "           [2, 1, 3, 2],\n",
        "           [3, 1, 3, 4],\n",
        "           [4, 1, 5, 5],\n",
        "           [1, 7, 5, 5],\n",
        "           [1, 2, 5, 6],\n",
        "           [1, 6, 6, 6],\n",
        "           [1, 7, 7, 7]]\n",
        "y_train = [2, 2, 2, 1, 1, 1, 0, 0]\n",
        "x_train = torch.FloatTensor(x_train)\n",
        "y_train = torch.LongTensor(y_train)"
      ],
      "execution_count": null,
      "outputs": []
    },
    {
      "cell_type": "markdown",
      "metadata": {
        "id": "IbmSTSXHOF9t"
      },
      "source": [
        "### F.cross_entropy 사용\n",
        "즉, 소프트맥스 함수를 사용할 이유가 없다"
      ]
    },
    {
      "cell_type": "code",
      "metadata": {
        "colab": {
          "base_uri": "https://localhost:8080/"
        },
        "id": "c87HU1PjNT2x",
        "outputId": "d1d64d98-a1e8-4508-d881-029cd11d97c4"
      },
      "source": [
        "# 모델 초기화\n",
        "W = torch.zeros((4, 3), requires_grad=True)\n",
        "b = torch.zeros(1, requires_grad=True)\n",
        "# optimizer 설정\n",
        "optimizer = optim.SGD([W, b], lr=0.1)\n",
        "\n",
        "nb_epochs = 1000\n",
        "for epoch in range(nb_epochs + 1):\n",
        "\n",
        "    # Cost 계산\n",
        "    z = x_train.matmul(W) + b\n",
        "    cost = F.cross_entropy(z, y_train)\n",
        "\n",
        "    # cost로 H(x) 개선\n",
        "    optimizer.zero_grad()\n",
        "    cost.backward()\n",
        "    optimizer.step()\n",
        "\n",
        "    # 100번마다 로그 출력\n",
        "    if epoch % 100 == 0:\n",
        "        print('Epoch {:4d}/{} Cost: {:.6f}'.format(\n",
        "            epoch, nb_epochs, cost.item()\n",
        "        ))"
      ],
      "execution_count": null,
      "outputs": [
        {
          "output_type": "stream",
          "text": [
            "Epoch    0/1000 Cost: 1.098612\n",
            "Epoch  100/1000 Cost: 0.761050\n",
            "Epoch  200/1000 Cost: 0.689991\n",
            "Epoch  300/1000 Cost: 0.643229\n",
            "Epoch  400/1000 Cost: 0.604117\n",
            "Epoch  500/1000 Cost: 0.568256\n",
            "Epoch  600/1000 Cost: 0.533922\n",
            "Epoch  700/1000 Cost: 0.500291\n",
            "Epoch  800/1000 Cost: 0.466908\n",
            "Epoch  900/1000 Cost: 0.433507\n",
            "Epoch 1000/1000 Cost: 0.399962\n"
          ],
          "name": "stdout"
        }
      ]
    },
    {
      "cell_type": "markdown",
      "metadata": {
        "id": "ss5NMjzwOmwT"
      },
      "source": [
        "### nn.Module로 SoftMax 함수 구현"
      ]
    },
    {
      "cell_type": "code",
      "metadata": {
        "id": "hAbnI5UsOcqL"
      },
      "source": [
        "# 4개의 특성, 3개의 클래스로 분류한다.\n",
        "model = nn.Linear(4, 3)"
      ],
      "execution_count": null,
      "outputs": []
    },
    {
      "cell_type": "code",
      "metadata": {
        "colab": {
          "base_uri": "https://localhost:8080/"
        },
        "id": "m1Ug_oALPHmY",
        "outputId": "445d3799-00e8-427c-f3ec-6ccf77cbb923"
      },
      "source": [
        "# optimizer 설정\n",
        "optimizer = optim.SGD(model.parameters(), lr=0.1)\n",
        "\n",
        "nb_epochs = 1000\n",
        "for epoch in range(nb_epochs + 1):\n",
        "\n",
        "    # H(x) 계산\n",
        "    prediction = model(x_train)\n",
        "\n",
        "    # cost 계산\n",
        "    cost = F.cross_entropy(prediction, y_train)\n",
        "\n",
        "    # cost로 H(x) 개선\n",
        "    optimizer.zero_grad()\n",
        "    cost.backward()\n",
        "    optimizer.step()\n",
        "\n",
        "    # 20번마다 로그 출력\n",
        "    if epoch % 100 == 0:\n",
        "        print('Epoch {:4d}/{} Cost: {:.6f}'.format(\n",
        "            epoch, nb_epochs, cost.item()\n",
        "        ))"
      ],
      "execution_count": null,
      "outputs": [
        {
          "output_type": "stream",
          "text": [
            "Epoch    0/1000 Cost: 3.013958\n",
            "Epoch  100/1000 Cost: 0.630261\n",
            "Epoch  200/1000 Cost: 0.552049\n",
            "Epoch  300/1000 Cost: 0.499650\n",
            "Epoch  400/1000 Cost: 0.456268\n",
            "Epoch  500/1000 Cost: 0.417340\n",
            "Epoch  600/1000 Cost: 0.380705\n",
            "Epoch  700/1000 Cost: 0.344925\n",
            "Epoch  800/1000 Cost: 0.308894\n",
            "Epoch  900/1000 Cost: 0.272352\n",
            "Epoch 1000/1000 Cost: 0.242887\n"
          ],
          "name": "stdout"
        }
      ]
    },
    {
      "cell_type": "markdown",
      "metadata": {
        "id": "qlItSt0IPmYE"
      },
      "source": [
        "## Example : MNIST 손글씨 분류문제"
      ]
    },
    {
      "cell_type": "markdown",
      "metadata": {
        "id": "amdq-X_zQm0l"
      },
      "source": [
        "### 문제의 개요\n",
        "이 데이터셋은 0~9까지의 이미지로 구성된 손글씨 데이터이다. 손글씨로 적힌 이미지가 들어오면 그 이미지가 무슨 숫자인지 맞혀야 한다. \n",
        "\n",
        "데이터는 28 * 28 픽셀의 이미지로 구성되어있다. 즉, 각 이미지는 784개의 원소를 가진 벡터로 구성 가능하다. 즉, 784개의 특성을 가진 sample이 된다.\n",
        "\n",
        "우선 2차원 그림을 1차원 벡터로 만드는 법은 다음과 같다."
      ]
    },
    {
      "cell_type": "code",
      "metadata": {
        "id": "IMvA68yRPP5g"
      },
      "source": [
        "for X, Y in data_loader:\n",
        "  # 입력 이미지를 [batch_size × 784]의 크기로 reshape\n",
        "  # 레이블은 원-핫 인코딩\n",
        "  X = X.view(-1, 28*28)"
      ],
      "execution_count": null,
      "outputs": []
    },
    {
      "cell_type": "markdown",
      "metadata": {
        "id": "WO0UkJogROLc"
      },
      "source": [
        "### 사전 설정"
      ]
    },
    {
      "cell_type": "code",
      "metadata": {
        "id": "YDXKH4ixRI2E"
      },
      "source": [
        "# 필요한 패키지 import\n",
        "import torch\n",
        "import torchvision.datasets as dsets\n",
        "import torchvision.transforms as transforms\n",
        "from torch.utils.data import DataLoader\n",
        "import torch.nn as nn\n",
        "import matplotlib.pyplot as plt\n",
        "import random"
      ],
      "execution_count": null,
      "outputs": []
    },
    {
      "cell_type": "code",
      "metadata": {
        "id": "vxsOurtoRVVe"
      },
      "source": [
        "# hyperparameters\n",
        "training_epochs = 15\n",
        "batch_size = 100"
      ],
      "execution_count": null,
      "outputs": []
    },
    {
      "cell_type": "code",
      "metadata": {
        "colab": {
          "base_uri": "https://localhost:8080/",
          "height": 885,
          "referenced_widgets": [
            "417d86f6903940ffb870ff39571b5e5b",
            "a929a92ede0042e38d4f3d4f0f4c7b6d",
            "615bd56d69174803a5a3636773dc3918",
            "7378641228cf4648a48b6f999e71b0b7",
            "1fb2c45c40b84db9a22a83bcb4d27ead",
            "5de7653019cd4cfda64a7a320e293119",
            "a1433cfca57f4417a2cf35ddf6aabf56",
            "880104eca840411c88af5aad3618d557",
            "eff8c5f3d69741c1a8a94ea3f2b3ec8d",
            "7150d2ab8af14842868a55193f027dcf",
            "6245993ff3964dc4ab8f047186467177",
            "88081ad27bb644a2a49717040d7c4dbf",
            "023f5dfd545f4eeab8b6df519a52f76c",
            "05ab93868dff46ff9a9b3173a254510d",
            "aadaea86d1cf4cc684aa2ccddfef9b5d",
            "0771012dd22b48398785c1845e264d56",
            "93cf2946099347618520ffbd8244193f",
            "995bc9fbf0824fc7a6bf3a20b1288c42",
            "a87f0c33ab184d83b5ebcae6f1f3bfc0",
            "a4e6c34a64354107ab129985a82cc0f9",
            "321a1a446e0d496d98a1e0ae35aa2ca1",
            "b750ce1b1db24d34b68dc802913e38d2",
            "5237c70397cf46f6b7e52724a2174dd9",
            "5b73c397fcae404d8f0d127d781d6423",
            "14e4ac2fc12a471aa8bf8ac291c9f820",
            "15e5bb25fade4884bd0a46f34aa00b5b",
            "fded166294364e818d46c520d368a745",
            "399eb7c70b7549f6be8cf1026660cb29",
            "244ce8d9fd4a48a2ae63cc5fc619391a",
            "4dc873c3a87c4a2f98f2bdd8a9ec7486",
            "ea42a8e4c58e40d6be46c9a41d5fa74a",
            "4da966b7f5294a9fa1661c465383b926"
          ]
        },
        "id": "1900vIJ3R4b5",
        "outputId": "9213b427-ea46-4463-86eb-8d658e3d6c96"
      },
      "source": [
        "# MNIST dataset\n",
        "mnist_train = dsets.MNIST(root='MNIST_data/',\n",
        "                          train=True,\n",
        "                          transform=transforms.ToTensor(),\n",
        "                          download=True)\n",
        "\n",
        "mnist_test = dsets.MNIST(root='MNIST_data/',\n",
        "                         train=False,\n",
        "                         transform=transforms.ToTensor(),\n",
        "                         download=True)"
      ],
      "execution_count": null,
      "outputs": [
        {
          "output_type": "stream",
          "text": [
            "Downloading http://yann.lecun.com/exdb/mnist/train-images-idx3-ubyte.gz\n",
            "Failed to download (trying next):\n",
            "HTTP Error 503: Service Unavailable\n",
            "\n",
            "Downloading https://ossci-datasets.s3.amazonaws.com/mnist/train-images-idx3-ubyte.gz\n",
            "Downloading https://ossci-datasets.s3.amazonaws.com/mnist/train-images-idx3-ubyte.gz to MNIST_data/MNIST/raw/train-images-idx3-ubyte.gz\n"
          ],
          "name": "stdout"
        },
        {
          "output_type": "display_data",
          "data": {
            "application/vnd.jupyter.widget-view+json": {
              "model_id": "417d86f6903940ffb870ff39571b5e5b",
              "version_minor": 0,
              "version_major": 2
            },
            "text/plain": [
              "HBox(children=(FloatProgress(value=0.0, max=9912422.0), HTML(value='')))"
            ]
          },
          "metadata": {
            "tags": []
          }
        },
        {
          "output_type": "stream",
          "text": [
            "\n",
            "Extracting MNIST_data/MNIST/raw/train-images-idx3-ubyte.gz to MNIST_data/MNIST/raw\n",
            "\n",
            "Downloading http://yann.lecun.com/exdb/mnist/train-labels-idx1-ubyte.gz\n",
            "Failed to download (trying next):\n",
            "HTTP Error 503: Service Unavailable\n",
            "\n",
            "Downloading https://ossci-datasets.s3.amazonaws.com/mnist/train-labels-idx1-ubyte.gz\n",
            "Downloading https://ossci-datasets.s3.amazonaws.com/mnist/train-labels-idx1-ubyte.gz to MNIST_data/MNIST/raw/train-labels-idx1-ubyte.gz\n"
          ],
          "name": "stdout"
        },
        {
          "output_type": "display_data",
          "data": {
            "application/vnd.jupyter.widget-view+json": {
              "model_id": "eff8c5f3d69741c1a8a94ea3f2b3ec8d",
              "version_minor": 0,
              "version_major": 2
            },
            "text/plain": [
              "HBox(children=(FloatProgress(value=0.0, max=28881.0), HTML(value='')))"
            ]
          },
          "metadata": {
            "tags": []
          }
        },
        {
          "output_type": "stream",
          "text": [
            "\n",
            "Extracting MNIST_data/MNIST/raw/train-labels-idx1-ubyte.gz to MNIST_data/MNIST/raw\n",
            "\n",
            "Downloading http://yann.lecun.com/exdb/mnist/t10k-images-idx3-ubyte.gz\n",
            "Failed to download (trying next):\n",
            "HTTP Error 503: Service Unavailable\n",
            "\n",
            "Downloading https://ossci-datasets.s3.amazonaws.com/mnist/t10k-images-idx3-ubyte.gz\n",
            "Downloading https://ossci-datasets.s3.amazonaws.com/mnist/t10k-images-idx3-ubyte.gz to MNIST_data/MNIST/raw/t10k-images-idx3-ubyte.gz\n"
          ],
          "name": "stdout"
        },
        {
          "output_type": "display_data",
          "data": {
            "application/vnd.jupyter.widget-view+json": {
              "model_id": "93cf2946099347618520ffbd8244193f",
              "version_minor": 0,
              "version_major": 2
            },
            "text/plain": [
              "HBox(children=(FloatProgress(value=0.0, max=1648877.0), HTML(value='')))"
            ]
          },
          "metadata": {
            "tags": []
          }
        },
        {
          "output_type": "stream",
          "text": [
            "\n",
            "Extracting MNIST_data/MNIST/raw/t10k-images-idx3-ubyte.gz to MNIST_data/MNIST/raw\n",
            "\n",
            "Downloading http://yann.lecun.com/exdb/mnist/t10k-labels-idx1-ubyte.gz\n",
            "Failed to download (trying next):\n",
            "HTTP Error 503: Service Unavailable\n",
            "\n",
            "Downloading https://ossci-datasets.s3.amazonaws.com/mnist/t10k-labels-idx1-ubyte.gz\n",
            "Downloading https://ossci-datasets.s3.amazonaws.com/mnist/t10k-labels-idx1-ubyte.gz to MNIST_data/MNIST/raw/t10k-labels-idx1-ubyte.gz\n"
          ],
          "name": "stdout"
        },
        {
          "output_type": "display_data",
          "data": {
            "application/vnd.jupyter.widget-view+json": {
              "model_id": "14e4ac2fc12a471aa8bf8ac291c9f820",
              "version_minor": 0,
              "version_major": 2
            },
            "text/plain": [
              "HBox(children=(FloatProgress(value=0.0, max=4542.0), HTML(value='')))"
            ]
          },
          "metadata": {
            "tags": []
          }
        },
        {
          "output_type": "stream",
          "text": [
            "\n",
            "Extracting MNIST_data/MNIST/raw/t10k-labels-idx1-ubyte.gz to MNIST_data/MNIST/raw\n",
            "\n",
            "Processing...\n",
            "Done!\n"
          ],
          "name": "stdout"
        },
        {
          "output_type": "stream",
          "text": [
            "/usr/local/lib/python3.7/dist-packages/torchvision/datasets/mnist.py:502: UserWarning: The given NumPy array is not writeable, and PyTorch does not support non-writeable tensors. This means you can write to the underlying (supposedly non-writeable) NumPy array using the tensor. You may want to copy the array to protect its data or make it writeable before converting it to a tensor. This type of warning will be suppressed for the rest of this program. (Triggered internally at  /pytorch/torch/csrc/utils/tensor_numpy.cpp:143.)\n",
            "  return torch.from_numpy(parsed.astype(m[2], copy=False)).view(*s)\n"
          ],
          "name": "stderr"
        }
      ]
    },
    {
      "cell_type": "code",
      "metadata": {
        "id": "SVN3BWw-Uxjk"
      },
      "source": [
        "# dataset loader\n",
        "data_loader = DataLoader(dataset=mnist_train,\n",
        "                                          batch_size=batch_size, # 배치 크기는 100\n",
        "                                          shuffle=True,\n",
        "                                          drop_last=True)"
      ],
      "execution_count": null,
      "outputs": []
    },
    {
      "cell_type": "markdown",
      "metadata": {
        "id": "CLGxUTfrU9vT"
      },
      "source": [
        "Remark. Drop last는 Batch 후 나머지 개수에 대해서 나머지를 버리는 방법이다..."
      ]
    },
    {
      "cell_type": "code",
      "metadata": {
        "id": "Fb8sgXvWU6pQ"
      },
      "source": [
        "# MNIST data image of shape 28 * 28 = 784\n",
        "linear = nn.Linear(784, 10, bias=True)"
      ],
      "execution_count": null,
      "outputs": []
    },
    {
      "cell_type": "markdown",
      "metadata": {
        "id": "D0bdmpsNl_ir"
      },
      "source": [
        "### 모델"
      ]
    },
    {
      "cell_type": "code",
      "metadata": {
        "id": "hYvGLKoqVbFC"
      },
      "source": [
        "# 비용 함수와 옵티마이저 정의\n",
        "criterion = nn.CrossEntropyLoss() # 내부적으로 소프트맥스 함수를 포함하고 있음.\n",
        "optimizer = torch.optim.SGD(linear.parameters(), lr=0.1)"
      ],
      "execution_count": null,
      "outputs": []
    },
    {
      "cell_type": "code",
      "metadata": {
        "colab": {
          "base_uri": "https://localhost:8080/"
        },
        "id": "WsVPwKtnVe72",
        "outputId": "8f63bcf0-15ef-4a0b-927b-f3f003ca74dc"
      },
      "source": [
        "for epoch in range(training_epochs): # 앞서 training_epochs의 값은 15로 지정함.\n",
        "    avg_cost = 0\n",
        "    total_batch = len(data_loader)\n",
        "\n",
        "    for X, Y in data_loader:\n",
        "        # 배치 크기가 100이므로 아래의 연산에서 X는 (100, 784)의 텐서가 된다.\n",
        "        X = X.view(-1, 28 * 28)\n",
        "        # 레이블은 원-핫 인코딩이 된 상태가 아니라 0 ~ 9의 정수.\n",
        "        Y = Y\n",
        "\n",
        "        optimizer.zero_grad()\n",
        "        hypothesis = linear(X)\n",
        "        cost = criterion(hypothesis, Y)\n",
        "        cost.backward()\n",
        "        optimizer.step()\n",
        "\n",
        "        avg_cost += cost / total_batch\n",
        "\n",
        "    print('Epoch:', '%04d' % (epoch + 1), 'cost =', '{:.9f}'.format(avg_cost))\n",
        "\n",
        "print('Learning finished')"
      ],
      "execution_count": null,
      "outputs": [
        {
          "output_type": "stream",
          "text": [
            "Epoch: 0001 cost = 0.534868240\n",
            "Epoch: 0002 cost = 0.359385937\n",
            "Epoch: 0003 cost = 0.331310660\n",
            "Epoch: 0004 cost = 0.316333860\n",
            "Epoch: 0005 cost = 0.307023048\n",
            "Epoch: 0006 cost = 0.300178707\n",
            "Epoch: 0007 cost = 0.294964015\n",
            "Epoch: 0008 cost = 0.290768027\n",
            "Epoch: 0009 cost = 0.287354171\n",
            "Epoch: 0010 cost = 0.284431577\n",
            "Epoch: 0011 cost = 0.282011002\n",
            "Epoch: 0012 cost = 0.279439688\n",
            "Epoch: 0013 cost = 0.277816802\n",
            "Epoch: 0014 cost = 0.276116490\n",
            "Epoch: 0015 cost = 0.274442345\n",
            "Learning finished\n"
          ],
          "name": "stdout"
        }
      ]
    },
    {
      "cell_type": "code",
      "metadata": {
        "id": "IbGEcVwPVlcW"
      },
      "source": [
        ""
      ],
      "execution_count": null,
      "outputs": []
    }
  ]
}