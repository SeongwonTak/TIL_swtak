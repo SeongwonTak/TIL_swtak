{
  "nbformat": 4,
  "nbformat_minor": 0,
  "metadata": {
    "colab": {
      "name": "IntroDLwithPytorch07.ipynb",
      "provenance": [],
      "collapsed_sections": [],
      "authorship_tag": "ABX9TyO6Mh2DOsQG7P/jWPqcKdNt",
      "include_colab_link": true
    },
    "kernelspec": {
      "name": "python3",
      "display_name": "Python 3"
    },
    "language_info": {
      "name": "python"
    },
    "widgets": {
      "application/vnd.jupyter.widget-state+json": {
        "4b1ae5b6d8bb42afba3607a13c308f4f": {
          "model_module": "@jupyter-widgets/controls",
          "model_name": "HBoxModel",
          "state": {
            "_view_name": "HBoxView",
            "_dom_classes": [],
            "_model_name": "HBoxModel",
            "_view_module": "@jupyter-widgets/controls",
            "_model_module_version": "1.5.0",
            "_view_count": null,
            "_view_module_version": "1.5.0",
            "box_style": "",
            "layout": "IPY_MODEL_9e7a289002ec4d928f9ec2d8bb34cd36",
            "_model_module": "@jupyter-widgets/controls",
            "children": [
              "IPY_MODEL_dc0335a37efc4caaba0c35de7f53509b",
              "IPY_MODEL_64f24e6351c344feb213155e676e38e3"
            ]
          }
        },
        "9e7a289002ec4d928f9ec2d8bb34cd36": {
          "model_module": "@jupyter-widgets/base",
          "model_name": "LayoutModel",
          "state": {
            "_view_name": "LayoutView",
            "grid_template_rows": null,
            "right": null,
            "justify_content": null,
            "_view_module": "@jupyter-widgets/base",
            "overflow": null,
            "_model_module_version": "1.2.0",
            "_view_count": null,
            "flex_flow": null,
            "width": null,
            "min_width": null,
            "border": null,
            "align_items": null,
            "bottom": null,
            "_model_module": "@jupyter-widgets/base",
            "top": null,
            "grid_column": null,
            "overflow_y": null,
            "overflow_x": null,
            "grid_auto_flow": null,
            "grid_area": null,
            "grid_template_columns": null,
            "flex": null,
            "_model_name": "LayoutModel",
            "justify_items": null,
            "grid_row": null,
            "max_height": null,
            "align_content": null,
            "visibility": null,
            "align_self": null,
            "height": null,
            "min_height": null,
            "padding": null,
            "grid_auto_rows": null,
            "grid_gap": null,
            "max_width": null,
            "order": null,
            "_view_module_version": "1.2.0",
            "grid_template_areas": null,
            "object_position": null,
            "object_fit": null,
            "grid_auto_columns": null,
            "margin": null,
            "display": null,
            "left": null
          }
        },
        "dc0335a37efc4caaba0c35de7f53509b": {
          "model_module": "@jupyter-widgets/controls",
          "model_name": "FloatProgressModel",
          "state": {
            "_view_name": "ProgressView",
            "style": "IPY_MODEL_c5a584a0efb841d8a22e73d5f2ae19e4",
            "_dom_classes": [],
            "description": "",
            "_model_name": "FloatProgressModel",
            "bar_style": "success",
            "max": 9912422,
            "_view_module": "@jupyter-widgets/controls",
            "_model_module_version": "1.5.0",
            "value": 9912422,
            "_view_count": null,
            "_view_module_version": "1.5.0",
            "orientation": "horizontal",
            "min": 0,
            "description_tooltip": null,
            "_model_module": "@jupyter-widgets/controls",
            "layout": "IPY_MODEL_d7fbb848286942e6ade3880b013cd5e2"
          }
        },
        "64f24e6351c344feb213155e676e38e3": {
          "model_module": "@jupyter-widgets/controls",
          "model_name": "HTMLModel",
          "state": {
            "_view_name": "HTMLView",
            "style": "IPY_MODEL_4788abc82590495cba6373cf048401d4",
            "_dom_classes": [],
            "description": "",
            "_model_name": "HTMLModel",
            "placeholder": "​",
            "_view_module": "@jupyter-widgets/controls",
            "_model_module_version": "1.5.0",
            "value": " 9913344/? [00:00&lt;00:00, 14424716.96it/s]",
            "_view_count": null,
            "_view_module_version": "1.5.0",
            "description_tooltip": null,
            "_model_module": "@jupyter-widgets/controls",
            "layout": "IPY_MODEL_546d741f051f48d98a5e72697ddc5aa6"
          }
        },
        "c5a584a0efb841d8a22e73d5f2ae19e4": {
          "model_module": "@jupyter-widgets/controls",
          "model_name": "ProgressStyleModel",
          "state": {
            "_view_name": "StyleView",
            "_model_name": "ProgressStyleModel",
            "description_width": "initial",
            "_view_module": "@jupyter-widgets/base",
            "_model_module_version": "1.5.0",
            "_view_count": null,
            "_view_module_version": "1.2.0",
            "bar_color": null,
            "_model_module": "@jupyter-widgets/controls"
          }
        },
        "d7fbb848286942e6ade3880b013cd5e2": {
          "model_module": "@jupyter-widgets/base",
          "model_name": "LayoutModel",
          "state": {
            "_view_name": "LayoutView",
            "grid_template_rows": null,
            "right": null,
            "justify_content": null,
            "_view_module": "@jupyter-widgets/base",
            "overflow": null,
            "_model_module_version": "1.2.0",
            "_view_count": null,
            "flex_flow": null,
            "width": null,
            "min_width": null,
            "border": null,
            "align_items": null,
            "bottom": null,
            "_model_module": "@jupyter-widgets/base",
            "top": null,
            "grid_column": null,
            "overflow_y": null,
            "overflow_x": null,
            "grid_auto_flow": null,
            "grid_area": null,
            "grid_template_columns": null,
            "flex": null,
            "_model_name": "LayoutModel",
            "justify_items": null,
            "grid_row": null,
            "max_height": null,
            "align_content": null,
            "visibility": null,
            "align_self": null,
            "height": null,
            "min_height": null,
            "padding": null,
            "grid_auto_rows": null,
            "grid_gap": null,
            "max_width": null,
            "order": null,
            "_view_module_version": "1.2.0",
            "grid_template_areas": null,
            "object_position": null,
            "object_fit": null,
            "grid_auto_columns": null,
            "margin": null,
            "display": null,
            "left": null
          }
        },
        "4788abc82590495cba6373cf048401d4": {
          "model_module": "@jupyter-widgets/controls",
          "model_name": "DescriptionStyleModel",
          "state": {
            "_view_name": "StyleView",
            "_model_name": "DescriptionStyleModel",
            "description_width": "",
            "_view_module": "@jupyter-widgets/base",
            "_model_module_version": "1.5.0",
            "_view_count": null,
            "_view_module_version": "1.2.0",
            "_model_module": "@jupyter-widgets/controls"
          }
        },
        "546d741f051f48d98a5e72697ddc5aa6": {
          "model_module": "@jupyter-widgets/base",
          "model_name": "LayoutModel",
          "state": {
            "_view_name": "LayoutView",
            "grid_template_rows": null,
            "right": null,
            "justify_content": null,
            "_view_module": "@jupyter-widgets/base",
            "overflow": null,
            "_model_module_version": "1.2.0",
            "_view_count": null,
            "flex_flow": null,
            "width": null,
            "min_width": null,
            "border": null,
            "align_items": null,
            "bottom": null,
            "_model_module": "@jupyter-widgets/base",
            "top": null,
            "grid_column": null,
            "overflow_y": null,
            "overflow_x": null,
            "grid_auto_flow": null,
            "grid_area": null,
            "grid_template_columns": null,
            "flex": null,
            "_model_name": "LayoutModel",
            "justify_items": null,
            "grid_row": null,
            "max_height": null,
            "align_content": null,
            "visibility": null,
            "align_self": null,
            "height": null,
            "min_height": null,
            "padding": null,
            "grid_auto_rows": null,
            "grid_gap": null,
            "max_width": null,
            "order": null,
            "_view_module_version": "1.2.0",
            "grid_template_areas": null,
            "object_position": null,
            "object_fit": null,
            "grid_auto_columns": null,
            "margin": null,
            "display": null,
            "left": null
          }
        },
        "184e3161887842b18a4074ec0be98b5e": {
          "model_module": "@jupyter-widgets/controls",
          "model_name": "HBoxModel",
          "state": {
            "_view_name": "HBoxView",
            "_dom_classes": [],
            "_model_name": "HBoxModel",
            "_view_module": "@jupyter-widgets/controls",
            "_model_module_version": "1.5.0",
            "_view_count": null,
            "_view_module_version": "1.5.0",
            "box_style": "",
            "layout": "IPY_MODEL_d90567a4010945bb944408636267e7a6",
            "_model_module": "@jupyter-widgets/controls",
            "children": [
              "IPY_MODEL_aab94a0096724fd9932f03791e162e55",
              "IPY_MODEL_5e40602a563c4ef1a41bcf406ff6c2fb"
            ]
          }
        },
        "d90567a4010945bb944408636267e7a6": {
          "model_module": "@jupyter-widgets/base",
          "model_name": "LayoutModel",
          "state": {
            "_view_name": "LayoutView",
            "grid_template_rows": null,
            "right": null,
            "justify_content": null,
            "_view_module": "@jupyter-widgets/base",
            "overflow": null,
            "_model_module_version": "1.2.0",
            "_view_count": null,
            "flex_flow": null,
            "width": null,
            "min_width": null,
            "border": null,
            "align_items": null,
            "bottom": null,
            "_model_module": "@jupyter-widgets/base",
            "top": null,
            "grid_column": null,
            "overflow_y": null,
            "overflow_x": null,
            "grid_auto_flow": null,
            "grid_area": null,
            "grid_template_columns": null,
            "flex": null,
            "_model_name": "LayoutModel",
            "justify_items": null,
            "grid_row": null,
            "max_height": null,
            "align_content": null,
            "visibility": null,
            "align_self": null,
            "height": null,
            "min_height": null,
            "padding": null,
            "grid_auto_rows": null,
            "grid_gap": null,
            "max_width": null,
            "order": null,
            "_view_module_version": "1.2.0",
            "grid_template_areas": null,
            "object_position": null,
            "object_fit": null,
            "grid_auto_columns": null,
            "margin": null,
            "display": null,
            "left": null
          }
        },
        "aab94a0096724fd9932f03791e162e55": {
          "model_module": "@jupyter-widgets/controls",
          "model_name": "FloatProgressModel",
          "state": {
            "_view_name": "ProgressView",
            "style": "IPY_MODEL_16676025f5e74818aa4738ab44aab721",
            "_dom_classes": [],
            "description": "",
            "_model_name": "FloatProgressModel",
            "bar_style": "success",
            "max": 28881,
            "_view_module": "@jupyter-widgets/controls",
            "_model_module_version": "1.5.0",
            "value": 28881,
            "_view_count": null,
            "_view_module_version": "1.5.0",
            "orientation": "horizontal",
            "min": 0,
            "description_tooltip": null,
            "_model_module": "@jupyter-widgets/controls",
            "layout": "IPY_MODEL_637878f8911447f6aea022bfe1593624"
          }
        },
        "5e40602a563c4ef1a41bcf406ff6c2fb": {
          "model_module": "@jupyter-widgets/controls",
          "model_name": "HTMLModel",
          "state": {
            "_view_name": "HTMLView",
            "style": "IPY_MODEL_a2677b9f11c9493ea5f84053668d99a3",
            "_dom_classes": [],
            "description": "",
            "_model_name": "HTMLModel",
            "placeholder": "​",
            "_view_module": "@jupyter-widgets/controls",
            "_model_module_version": "1.5.0",
            "value": " 29696/? [00:00&lt;00:00, 473789.51it/s]",
            "_view_count": null,
            "_view_module_version": "1.5.0",
            "description_tooltip": null,
            "_model_module": "@jupyter-widgets/controls",
            "layout": "IPY_MODEL_6e5ff576662d4e3393549ee28ed248af"
          }
        },
        "16676025f5e74818aa4738ab44aab721": {
          "model_module": "@jupyter-widgets/controls",
          "model_name": "ProgressStyleModel",
          "state": {
            "_view_name": "StyleView",
            "_model_name": "ProgressStyleModel",
            "description_width": "initial",
            "_view_module": "@jupyter-widgets/base",
            "_model_module_version": "1.5.0",
            "_view_count": null,
            "_view_module_version": "1.2.0",
            "bar_color": null,
            "_model_module": "@jupyter-widgets/controls"
          }
        },
        "637878f8911447f6aea022bfe1593624": {
          "model_module": "@jupyter-widgets/base",
          "model_name": "LayoutModel",
          "state": {
            "_view_name": "LayoutView",
            "grid_template_rows": null,
            "right": null,
            "justify_content": null,
            "_view_module": "@jupyter-widgets/base",
            "overflow": null,
            "_model_module_version": "1.2.0",
            "_view_count": null,
            "flex_flow": null,
            "width": null,
            "min_width": null,
            "border": null,
            "align_items": null,
            "bottom": null,
            "_model_module": "@jupyter-widgets/base",
            "top": null,
            "grid_column": null,
            "overflow_y": null,
            "overflow_x": null,
            "grid_auto_flow": null,
            "grid_area": null,
            "grid_template_columns": null,
            "flex": null,
            "_model_name": "LayoutModel",
            "justify_items": null,
            "grid_row": null,
            "max_height": null,
            "align_content": null,
            "visibility": null,
            "align_self": null,
            "height": null,
            "min_height": null,
            "padding": null,
            "grid_auto_rows": null,
            "grid_gap": null,
            "max_width": null,
            "order": null,
            "_view_module_version": "1.2.0",
            "grid_template_areas": null,
            "object_position": null,
            "object_fit": null,
            "grid_auto_columns": null,
            "margin": null,
            "display": null,
            "left": null
          }
        },
        "a2677b9f11c9493ea5f84053668d99a3": {
          "model_module": "@jupyter-widgets/controls",
          "model_name": "DescriptionStyleModel",
          "state": {
            "_view_name": "StyleView",
            "_model_name": "DescriptionStyleModel",
            "description_width": "",
            "_view_module": "@jupyter-widgets/base",
            "_model_module_version": "1.5.0",
            "_view_count": null,
            "_view_module_version": "1.2.0",
            "_model_module": "@jupyter-widgets/controls"
          }
        },
        "6e5ff576662d4e3393549ee28ed248af": {
          "model_module": "@jupyter-widgets/base",
          "model_name": "LayoutModel",
          "state": {
            "_view_name": "LayoutView",
            "grid_template_rows": null,
            "right": null,
            "justify_content": null,
            "_view_module": "@jupyter-widgets/base",
            "overflow": null,
            "_model_module_version": "1.2.0",
            "_view_count": null,
            "flex_flow": null,
            "width": null,
            "min_width": null,
            "border": null,
            "align_items": null,
            "bottom": null,
            "_model_module": "@jupyter-widgets/base",
            "top": null,
            "grid_column": null,
            "overflow_y": null,
            "overflow_x": null,
            "grid_auto_flow": null,
            "grid_area": null,
            "grid_template_columns": null,
            "flex": null,
            "_model_name": "LayoutModel",
            "justify_items": null,
            "grid_row": null,
            "max_height": null,
            "align_content": null,
            "visibility": null,
            "align_self": null,
            "height": null,
            "min_height": null,
            "padding": null,
            "grid_auto_rows": null,
            "grid_gap": null,
            "max_width": null,
            "order": null,
            "_view_module_version": "1.2.0",
            "grid_template_areas": null,
            "object_position": null,
            "object_fit": null,
            "grid_auto_columns": null,
            "margin": null,
            "display": null,
            "left": null
          }
        },
        "14d651966b8b4d47a80b0d885470d770": {
          "model_module": "@jupyter-widgets/controls",
          "model_name": "HBoxModel",
          "state": {
            "_view_name": "HBoxView",
            "_dom_classes": [],
            "_model_name": "HBoxModel",
            "_view_module": "@jupyter-widgets/controls",
            "_model_module_version": "1.5.0",
            "_view_count": null,
            "_view_module_version": "1.5.0",
            "box_style": "",
            "layout": "IPY_MODEL_f68315f8f39f47569d15e99eb756dba6",
            "_model_module": "@jupyter-widgets/controls",
            "children": [
              "IPY_MODEL_dc48cafa86fa47e3ae78937ae6548a65",
              "IPY_MODEL_3062a104b6d7468ea5d37b6d71b9b172"
            ]
          }
        },
        "f68315f8f39f47569d15e99eb756dba6": {
          "model_module": "@jupyter-widgets/base",
          "model_name": "LayoutModel",
          "state": {
            "_view_name": "LayoutView",
            "grid_template_rows": null,
            "right": null,
            "justify_content": null,
            "_view_module": "@jupyter-widgets/base",
            "overflow": null,
            "_model_module_version": "1.2.0",
            "_view_count": null,
            "flex_flow": null,
            "width": null,
            "min_width": null,
            "border": null,
            "align_items": null,
            "bottom": null,
            "_model_module": "@jupyter-widgets/base",
            "top": null,
            "grid_column": null,
            "overflow_y": null,
            "overflow_x": null,
            "grid_auto_flow": null,
            "grid_area": null,
            "grid_template_columns": null,
            "flex": null,
            "_model_name": "LayoutModel",
            "justify_items": null,
            "grid_row": null,
            "max_height": null,
            "align_content": null,
            "visibility": null,
            "align_self": null,
            "height": null,
            "min_height": null,
            "padding": null,
            "grid_auto_rows": null,
            "grid_gap": null,
            "max_width": null,
            "order": null,
            "_view_module_version": "1.2.0",
            "grid_template_areas": null,
            "object_position": null,
            "object_fit": null,
            "grid_auto_columns": null,
            "margin": null,
            "display": null,
            "left": null
          }
        },
        "dc48cafa86fa47e3ae78937ae6548a65": {
          "model_module": "@jupyter-widgets/controls",
          "model_name": "FloatProgressModel",
          "state": {
            "_view_name": "ProgressView",
            "style": "IPY_MODEL_328965c4df82447c96adee36f0695092",
            "_dom_classes": [],
            "description": "",
            "_model_name": "FloatProgressModel",
            "bar_style": "success",
            "max": 1648877,
            "_view_module": "@jupyter-widgets/controls",
            "_model_module_version": "1.5.0",
            "value": 1648877,
            "_view_count": null,
            "_view_module_version": "1.5.0",
            "orientation": "horizontal",
            "min": 0,
            "description_tooltip": null,
            "_model_module": "@jupyter-widgets/controls",
            "layout": "IPY_MODEL_b5055bd14af94dd59820428b2bb07ffd"
          }
        },
        "3062a104b6d7468ea5d37b6d71b9b172": {
          "model_module": "@jupyter-widgets/controls",
          "model_name": "HTMLModel",
          "state": {
            "_view_name": "HTMLView",
            "style": "IPY_MODEL_7e9c8268253c41d4ab65dec41bdcb165",
            "_dom_classes": [],
            "description": "",
            "_model_name": "HTMLModel",
            "placeholder": "​",
            "_view_module": "@jupyter-widgets/controls",
            "_model_module_version": "1.5.0",
            "value": " 1649664/? [00:13&lt;00:00, 123870.38it/s]",
            "_view_count": null,
            "_view_module_version": "1.5.0",
            "description_tooltip": null,
            "_model_module": "@jupyter-widgets/controls",
            "layout": "IPY_MODEL_6dcb81dcdcc14c78a2c14881393bfcf1"
          }
        },
        "328965c4df82447c96adee36f0695092": {
          "model_module": "@jupyter-widgets/controls",
          "model_name": "ProgressStyleModel",
          "state": {
            "_view_name": "StyleView",
            "_model_name": "ProgressStyleModel",
            "description_width": "initial",
            "_view_module": "@jupyter-widgets/base",
            "_model_module_version": "1.5.0",
            "_view_count": null,
            "_view_module_version": "1.2.0",
            "bar_color": null,
            "_model_module": "@jupyter-widgets/controls"
          }
        },
        "b5055bd14af94dd59820428b2bb07ffd": {
          "model_module": "@jupyter-widgets/base",
          "model_name": "LayoutModel",
          "state": {
            "_view_name": "LayoutView",
            "grid_template_rows": null,
            "right": null,
            "justify_content": null,
            "_view_module": "@jupyter-widgets/base",
            "overflow": null,
            "_model_module_version": "1.2.0",
            "_view_count": null,
            "flex_flow": null,
            "width": null,
            "min_width": null,
            "border": null,
            "align_items": null,
            "bottom": null,
            "_model_module": "@jupyter-widgets/base",
            "top": null,
            "grid_column": null,
            "overflow_y": null,
            "overflow_x": null,
            "grid_auto_flow": null,
            "grid_area": null,
            "grid_template_columns": null,
            "flex": null,
            "_model_name": "LayoutModel",
            "justify_items": null,
            "grid_row": null,
            "max_height": null,
            "align_content": null,
            "visibility": null,
            "align_self": null,
            "height": null,
            "min_height": null,
            "padding": null,
            "grid_auto_rows": null,
            "grid_gap": null,
            "max_width": null,
            "order": null,
            "_view_module_version": "1.2.0",
            "grid_template_areas": null,
            "object_position": null,
            "object_fit": null,
            "grid_auto_columns": null,
            "margin": null,
            "display": null,
            "left": null
          }
        },
        "7e9c8268253c41d4ab65dec41bdcb165": {
          "model_module": "@jupyter-widgets/controls",
          "model_name": "DescriptionStyleModel",
          "state": {
            "_view_name": "StyleView",
            "_model_name": "DescriptionStyleModel",
            "description_width": "",
            "_view_module": "@jupyter-widgets/base",
            "_model_module_version": "1.5.0",
            "_view_count": null,
            "_view_module_version": "1.2.0",
            "_model_module": "@jupyter-widgets/controls"
          }
        },
        "6dcb81dcdcc14c78a2c14881393bfcf1": {
          "model_module": "@jupyter-widgets/base",
          "model_name": "LayoutModel",
          "state": {
            "_view_name": "LayoutView",
            "grid_template_rows": null,
            "right": null,
            "justify_content": null,
            "_view_module": "@jupyter-widgets/base",
            "overflow": null,
            "_model_module_version": "1.2.0",
            "_view_count": null,
            "flex_flow": null,
            "width": null,
            "min_width": null,
            "border": null,
            "align_items": null,
            "bottom": null,
            "_model_module": "@jupyter-widgets/base",
            "top": null,
            "grid_column": null,
            "overflow_y": null,
            "overflow_x": null,
            "grid_auto_flow": null,
            "grid_area": null,
            "grid_template_columns": null,
            "flex": null,
            "_model_name": "LayoutModel",
            "justify_items": null,
            "grid_row": null,
            "max_height": null,
            "align_content": null,
            "visibility": null,
            "align_self": null,
            "height": null,
            "min_height": null,
            "padding": null,
            "grid_auto_rows": null,
            "grid_gap": null,
            "max_width": null,
            "order": null,
            "_view_module_version": "1.2.0",
            "grid_template_areas": null,
            "object_position": null,
            "object_fit": null,
            "grid_auto_columns": null,
            "margin": null,
            "display": null,
            "left": null
          }
        },
        "07d393b6ae4e4c85ba2a2e6729e95890": {
          "model_module": "@jupyter-widgets/controls",
          "model_name": "HBoxModel",
          "state": {
            "_view_name": "HBoxView",
            "_dom_classes": [],
            "_model_name": "HBoxModel",
            "_view_module": "@jupyter-widgets/controls",
            "_model_module_version": "1.5.0",
            "_view_count": null,
            "_view_module_version": "1.5.0",
            "box_style": "",
            "layout": "IPY_MODEL_f8e06c8393164097978bcb36799cd19a",
            "_model_module": "@jupyter-widgets/controls",
            "children": [
              "IPY_MODEL_b8305232325e45b5b24a6b91626c1aa6",
              "IPY_MODEL_c43b70d7f3c540af887c0ef4fae979ba"
            ]
          }
        },
        "f8e06c8393164097978bcb36799cd19a": {
          "model_module": "@jupyter-widgets/base",
          "model_name": "LayoutModel",
          "state": {
            "_view_name": "LayoutView",
            "grid_template_rows": null,
            "right": null,
            "justify_content": null,
            "_view_module": "@jupyter-widgets/base",
            "overflow": null,
            "_model_module_version": "1.2.0",
            "_view_count": null,
            "flex_flow": null,
            "width": null,
            "min_width": null,
            "border": null,
            "align_items": null,
            "bottom": null,
            "_model_module": "@jupyter-widgets/base",
            "top": null,
            "grid_column": null,
            "overflow_y": null,
            "overflow_x": null,
            "grid_auto_flow": null,
            "grid_area": null,
            "grid_template_columns": null,
            "flex": null,
            "_model_name": "LayoutModel",
            "justify_items": null,
            "grid_row": null,
            "max_height": null,
            "align_content": null,
            "visibility": null,
            "align_self": null,
            "height": null,
            "min_height": null,
            "padding": null,
            "grid_auto_rows": null,
            "grid_gap": null,
            "max_width": null,
            "order": null,
            "_view_module_version": "1.2.0",
            "grid_template_areas": null,
            "object_position": null,
            "object_fit": null,
            "grid_auto_columns": null,
            "margin": null,
            "display": null,
            "left": null
          }
        },
        "b8305232325e45b5b24a6b91626c1aa6": {
          "model_module": "@jupyter-widgets/controls",
          "model_name": "FloatProgressModel",
          "state": {
            "_view_name": "ProgressView",
            "style": "IPY_MODEL_e2671510918a4c1bbc6a5d64058cced6",
            "_dom_classes": [],
            "description": "",
            "_model_name": "FloatProgressModel",
            "bar_style": "success",
            "max": 4542,
            "_view_module": "@jupyter-widgets/controls",
            "_model_module_version": "1.5.0",
            "value": 4542,
            "_view_count": null,
            "_view_module_version": "1.5.0",
            "orientation": "horizontal",
            "min": 0,
            "description_tooltip": null,
            "_model_module": "@jupyter-widgets/controls",
            "layout": "IPY_MODEL_32093cbb09c24818a28d6b566cf1cb0c"
          }
        },
        "c43b70d7f3c540af887c0ef4fae979ba": {
          "model_module": "@jupyter-widgets/controls",
          "model_name": "HTMLModel",
          "state": {
            "_view_name": "HTMLView",
            "style": "IPY_MODEL_239b7a0e1a6e4cf1ab3c144914109b91",
            "_dom_classes": [],
            "description": "",
            "_model_name": "HTMLModel",
            "placeholder": "​",
            "_view_module": "@jupyter-widgets/controls",
            "_model_module_version": "1.5.0",
            "value": " 5120/? [00:12&lt;00:00, 412.16it/s]",
            "_view_count": null,
            "_view_module_version": "1.5.0",
            "description_tooltip": null,
            "_model_module": "@jupyter-widgets/controls",
            "layout": "IPY_MODEL_c9c4c1db3c2f47a9ae8da8929d071cc0"
          }
        },
        "e2671510918a4c1bbc6a5d64058cced6": {
          "model_module": "@jupyter-widgets/controls",
          "model_name": "ProgressStyleModel",
          "state": {
            "_view_name": "StyleView",
            "_model_name": "ProgressStyleModel",
            "description_width": "initial",
            "_view_module": "@jupyter-widgets/base",
            "_model_module_version": "1.5.0",
            "_view_count": null,
            "_view_module_version": "1.2.0",
            "bar_color": null,
            "_model_module": "@jupyter-widgets/controls"
          }
        },
        "32093cbb09c24818a28d6b566cf1cb0c": {
          "model_module": "@jupyter-widgets/base",
          "model_name": "LayoutModel",
          "state": {
            "_view_name": "LayoutView",
            "grid_template_rows": null,
            "right": null,
            "justify_content": null,
            "_view_module": "@jupyter-widgets/base",
            "overflow": null,
            "_model_module_version": "1.2.0",
            "_view_count": null,
            "flex_flow": null,
            "width": null,
            "min_width": null,
            "border": null,
            "align_items": null,
            "bottom": null,
            "_model_module": "@jupyter-widgets/base",
            "top": null,
            "grid_column": null,
            "overflow_y": null,
            "overflow_x": null,
            "grid_auto_flow": null,
            "grid_area": null,
            "grid_template_columns": null,
            "flex": null,
            "_model_name": "LayoutModel",
            "justify_items": null,
            "grid_row": null,
            "max_height": null,
            "align_content": null,
            "visibility": null,
            "align_self": null,
            "height": null,
            "min_height": null,
            "padding": null,
            "grid_auto_rows": null,
            "grid_gap": null,
            "max_width": null,
            "order": null,
            "_view_module_version": "1.2.0",
            "grid_template_areas": null,
            "object_position": null,
            "object_fit": null,
            "grid_auto_columns": null,
            "margin": null,
            "display": null,
            "left": null
          }
        },
        "239b7a0e1a6e4cf1ab3c144914109b91": {
          "model_module": "@jupyter-widgets/controls",
          "model_name": "DescriptionStyleModel",
          "state": {
            "_view_name": "StyleView",
            "_model_name": "DescriptionStyleModel",
            "description_width": "",
            "_view_module": "@jupyter-widgets/base",
            "_model_module_version": "1.5.0",
            "_view_count": null,
            "_view_module_version": "1.2.0",
            "_model_module": "@jupyter-widgets/controls"
          }
        },
        "c9c4c1db3c2f47a9ae8da8929d071cc0": {
          "model_module": "@jupyter-widgets/base",
          "model_name": "LayoutModel",
          "state": {
            "_view_name": "LayoutView",
            "grid_template_rows": null,
            "right": null,
            "justify_content": null,
            "_view_module": "@jupyter-widgets/base",
            "overflow": null,
            "_model_module_version": "1.2.0",
            "_view_count": null,
            "flex_flow": null,
            "width": null,
            "min_width": null,
            "border": null,
            "align_items": null,
            "bottom": null,
            "_model_module": "@jupyter-widgets/base",
            "top": null,
            "grid_column": null,
            "overflow_y": null,
            "overflow_x": null,
            "grid_auto_flow": null,
            "grid_area": null,
            "grid_template_columns": null,
            "flex": null,
            "_model_name": "LayoutModel",
            "justify_items": null,
            "grid_row": null,
            "max_height": null,
            "align_content": null,
            "visibility": null,
            "align_self": null,
            "height": null,
            "min_height": null,
            "padding": null,
            "grid_auto_rows": null,
            "grid_gap": null,
            "max_width": null,
            "order": null,
            "_view_module_version": "1.2.0",
            "grid_template_areas": null,
            "object_position": null,
            "object_fit": null,
            "grid_auto_columns": null,
            "margin": null,
            "display": null,
            "left": null
          }
        }
      }
    }
  },
  "cells": [
    {
      "cell_type": "markdown",
      "metadata": {
        "id": "view-in-github",
        "colab_type": "text"
      },
      "source": [
        "<a href=\"https://colab.research.google.com/github/SeongwonTak/TIL_swtak/blob/master/DLBasic/IntroDLwithPytorch07.ipynb\" target=\"_parent\"><img src=\"https://colab.research.google.com/assets/colab-badge.svg\" alt=\"Open In Colab\"/></a>"
      ]
    },
    {
      "cell_type": "markdown",
      "metadata": {
        "id": "qoqZuzbnzspy"
      },
      "source": [
        "# Convolution Neural Network \n",
        "합성곱 신경망에 대하여."
      ]
    },
    {
      "cell_type": "markdown",
      "metadata": {
        "id": "G84HYlZxz0tb"
      },
      "source": [
        "## CNN의 개요\n",
        "CNN은 이미지 처리에서 탁월한 성능을 보여주는 방식의 신경망이다."
      ]
    },
    {
      "cell_type": "markdown",
      "metadata": {
        "id": "ttmHLNx7z4_q"
      },
      "source": [
        "### CNN의 구조\n",
        "CNN은 크게\n",
        "- 합성곱 신경망 (Convolution Layer)\n",
        "- ReLU\n",
        "- 풀링층 (Pooling Layer)\n",
        "\n",
        "3개의  구조로 구성되어 있다. 각각에 대해 알아보자."
      ]
    },
    {
      "cell_type": "markdown",
      "metadata": {
        "id": "BGlVF2Y-0HiR"
      },
      "source": [
        "### 합성곱 신경망의 목적\n",
        "\n",
        "이미지 분류 처리에서, 컴퓨터는 픽셀로 그림을 인식한다. 사람이 보기엔 글자가 유사, 구분이 되겠으나 픽셀 위치가 아예 틀리면 컴퓨터는 그걸 아예 다르다고 인식할 것이다.\n",
        "\n",
        "![image.png](data:image/png;base64,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)"
      ]
    },
    {
      "cell_type": "markdown",
      "metadata": {
        "id": "a9Bzhnap0SnS"
      },
      "source": [
        "따라서 공간적인 구조 정보를 보존하면서 학습할 방법이 필요하고, 이를 위해 사용하는 것이 합성곱 신경망이다."
      ]
    },
    {
      "cell_type": "markdown",
      "metadata": {
        "id": "aOlU6PSa0fqz"
      },
      "source": [
        "### 채널\n",
        "\n",
        "이미지는 (높이, 너비, 채널)의 3차원 텐서로 구성된다.\n",
        "- 높이 : 세로 방향 픽셀 수\n",
        "- 너비 : 가로 방향 픽셀 수\n",
        "- 채널 : 색 정보.\n",
        "\n",
        "흑백일 경우 채널이 1개,  색상이 있을 경우 RGB의 조합이므로 3개의 채널을 가진다."
      ]
    },
    {
      "cell_type": "markdown",
      "metadata": {
        "id": "Rw-lozKX1OUC"
      },
      "source": [
        "### 합성곱 연산의 방법\n",
        "합성곱 연산을 통해 이미지의 특성을 추출하게 된다.   \n",
        "Kernel(Filter)라고 불리는 행렬을 사용하여 이미지와 커널을 겹쳐보며, 원소의 값을 곱해 모두 더한 값을 출력으로 가지게 된다. \n",
        "\n",
        "![image.png](data:image/png;base64,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)"
      ]
    },
    {
      "cell_type": "markdown",
      "metadata": {
        "id": "Zcl4Vpli1jAR"
      },
      "source": [
        "커널을 가장 왼쪽 상단부터, 오른쪽 하단까지 차례로 훑으며 계산하면 된다.  \n",
        "이 과정을 통해 출력층에서 얻게 되는 것은 **특성 맵(feature map)이 된다.**\n",
        "\n",
        "또한, 위의 예제에서는 커널을 한칸식만 움직였지만, 실제로는 커널을 움직일 수 있는 칸수도 지정이 가능하며, 이를 **stride**라고 한다.\n",
        "\n"
      ]
    },
    {
      "cell_type": "markdown",
      "metadata": {
        "id": "YsDS_wLs3UaZ"
      },
      "source": [
        "### 패딩, 풀링\n",
        "\n",
        "한편, 위의 연산과정 특성상 출력층의 크기는 계속 작아지는데, 만일 특성 맵의 크기를 유지하고 싶을 경우, **입력층 테두리를 0으로 둘러쌀 수 있다. 이를 패딩**(Padding) 이라고 한다.\n",
        "\n",
        "특성 맵의 크기를 유지하는 방법이 있다면, 특성 맵의 크기를 더 줄여 버리느 방법도 존재하는데 이는 Pooling에 해당된다. 풀링의 경우는 커널과 stride의 개념이 동일하게 적용되는데 stride마다, 최댓값이나 평균값을 적용하여 다운샘플링을 실시하게 된다."
      ]
    },
    {
      "cell_type": "markdown",
      "metadata": {
        "id": "_Sey0MI02uPB"
      },
      "source": [
        "### 가중치, 편항, 채널\n",
        "CNN에서 가중치의 역할은 Kernel이 하게 된다.  \n",
        "즉, 다층 퍼셉트론보다 더 적은 가중치를 바탕으로 공간적 구조를 보존할 수 있게 된다.\n",
        "\n",
        "최종적으로 얻은 출력층에  편향을 더하여 특성 맵을 만들어도 무방하다. 이 경우 커널을 적용한 결과의 모든 원소마다 편향값을  동등하게 더하게 된다.\n",
        "\n",
        "한편, 채널이 여러개(RGB 상황 등)인 경우, 채널 개수 만큼의 커널이 필요하다. 각 채널마다 합성곱을 계산하고 합성곱 계산을 모두 더한 것이 최종 특성 맵이 된다."
      ]
    },
    {
      "cell_type": "markdown",
      "metadata": {
        "id": "rK7gRxTe3uAd"
      },
      "source": [
        "## Example - CNN으로 MNIST 분류하기"
      ]
    },
    {
      "cell_type": "markdown",
      "metadata": {
        "id": "NiFoXlW44Wqn"
      },
      "source": [
        "### Architecture of Model\n",
        "- 1번 레이어 : 합성곱층(Convolutional layer)\n",
        "합성곱(in_channel = 1, out_channel = 32, kernel_size=3, stride=1, padding=1) + 활성화 함수 ReLU\n",
        "맥스풀링(kernel_size=2, stride=2))\n",
        "\n",
        "- 2번 레이어 : 합성곱층(Convolutional layer)\n",
        "합성곱(in_channel = 32, out_channel = 64, kernel_size=3, stride=1, padding=1) + 활성화 함수 ReLU\n",
        "맥스풀링(kernel_size=2, stride=2))\n",
        "\n",
        "- 3번 레이어 : 전결합층(Fully-Connected layer)\n",
        "특성맵을 펼친다. # batch_size × 7 × 7 × 64 → batch_size × 3136\n",
        "전결합층(뉴런 10개) + 활성화 함수 Softmax"
      ]
    },
    {
      "cell_type": "code",
      "metadata": {
        "id": "JNoXlRZ6zpVT"
      },
      "source": [
        "# 필요한 패키지 init\n",
        "import torch\n",
        "import torch.nn as nn\n",
        "import torchvision.datasets as dsets\n",
        "import torchvision.transforms as transforms\n",
        "import torch.nn.init"
      ],
      "execution_count": 1,
      "outputs": []
    },
    {
      "cell_type": "code",
      "metadata": {
        "id": "k5a3UgAv4LhB"
      },
      "source": [
        "# 필요한 도구 설정\n",
        "\n",
        "# 입력층 설정\n",
        "# 배치 크기 × 채널 × 높이(height) × 너비(widht)의 크기의 텐서를 선언\n",
        "inputs = torch.Tensor(1, 1, 28, 28)\n",
        "\n",
        "# 첫 번째 합성곱층\n",
        "# 1채널을 입력받아, 32채널을 뽑아내는데 커널은 3, 패딩은 1\n",
        "conv1 = nn.Conv2d(1, 32, 3, padding = 1)\n",
        "\n",
        "# 두 번째 합성곱층\n",
        "# 32채널을 입력받아, 64 채널을 뽑아내는데 커널은 3, 패딩은 1\n",
        "conv2 = nn.Conv2d(32, 64, 3, padding = 1)\n",
        "\n",
        "# 맥스풀링, 숫자 하나만 인자로 넣으면  커널, 스트라이드 모두 해당 값으로 지정됨\n",
        "pool = nn.MaxPool2d(2)"
      ],
      "execution_count": null,
      "outputs": []
    },
    {
      "cell_type": "markdown",
      "metadata": {
        "id": "zO-rRFxS5EfO"
      },
      "source": [
        "이를 다음과 같은 순서로 연결하려고 한다.  \n",
        "입력층 -> 첫번째 합성곱층 -> 맥스풀링 -> 두번째 합성곱층 -> 맥스풀링 -> 전결합층으로 10개 차원의 텐서로 변환"
      ]
    },
    {
      "cell_type": "markdown",
      "metadata": {
        "id": "O47dsGk36eFA"
      },
      "source": [
        "### MNIST 분류 문제 코드"
      ]
    },
    {
      "cell_type": "code",
      "metadata": {
        "id": "PS9d3ZCV6g-g"
      },
      "source": [
        "# 1단계. 학습 파라미터 설정\n",
        "learning_rate = 0.001\n",
        "training_epochs = 15\n",
        "batch_size = 100"
      ],
      "execution_count": 2,
      "outputs": []
    },
    {
      "cell_type": "code",
      "metadata": {
        "colab": {
          "base_uri": "https://localhost:8080/",
          "height": 777,
          "referenced_widgets": [
            "4b1ae5b6d8bb42afba3607a13c308f4f",
            "9e7a289002ec4d928f9ec2d8bb34cd36",
            "dc0335a37efc4caaba0c35de7f53509b",
            "64f24e6351c344feb213155e676e38e3",
            "c5a584a0efb841d8a22e73d5f2ae19e4",
            "d7fbb848286942e6ade3880b013cd5e2",
            "4788abc82590495cba6373cf048401d4",
            "546d741f051f48d98a5e72697ddc5aa6",
            "184e3161887842b18a4074ec0be98b5e",
            "d90567a4010945bb944408636267e7a6",
            "aab94a0096724fd9932f03791e162e55",
            "5e40602a563c4ef1a41bcf406ff6c2fb",
            "16676025f5e74818aa4738ab44aab721",
            "637878f8911447f6aea022bfe1593624",
            "a2677b9f11c9493ea5f84053668d99a3",
            "6e5ff576662d4e3393549ee28ed248af",
            "14d651966b8b4d47a80b0d885470d770",
            "f68315f8f39f47569d15e99eb756dba6",
            "dc48cafa86fa47e3ae78937ae6548a65",
            "3062a104b6d7468ea5d37b6d71b9b172",
            "328965c4df82447c96adee36f0695092",
            "b5055bd14af94dd59820428b2bb07ffd",
            "7e9c8268253c41d4ab65dec41bdcb165",
            "6dcb81dcdcc14c78a2c14881393bfcf1",
            "07d393b6ae4e4c85ba2a2e6729e95890",
            "f8e06c8393164097978bcb36799cd19a",
            "b8305232325e45b5b24a6b91626c1aa6",
            "c43b70d7f3c540af887c0ef4fae979ba",
            "e2671510918a4c1bbc6a5d64058cced6",
            "32093cbb09c24818a28d6b566cf1cb0c",
            "239b7a0e1a6e4cf1ab3c144914109b91",
            "c9c4c1db3c2f47a9ae8da8929d071cc0"
          ]
        },
        "id": "E1IRL4RD6k1v",
        "outputId": "ea4a3999-6846-4e57-d9cf-831eb72d5c4b"
      },
      "source": [
        "# 2단계. 데이터셋 설정 train/test 도 미리 분류\n",
        "mnist_train = dsets.MNIST(root='MNIST_data/', # 다운로드 경로 지정\n",
        "                          train=True, # True를 지정하면 훈련 데이터로 다운로드\n",
        "                          transform=transforms.ToTensor(), # 텐서로 변환\n",
        "                          download=True)\n",
        "\n",
        "mnist_test = dsets.MNIST(root='MNIST_data/', # 다운로드 경로 지정\n",
        "                         train=False, # False를 지정하면 테스트 데이터로 다운로드\n",
        "                         transform=transforms.ToTensor(), # 텐서로 변환\n",
        "                         download=True)"
      ],
      "execution_count": 3,
      "outputs": [
        {
          "output_type": "stream",
          "text": [
            "Downloading http://yann.lecun.com/exdb/mnist/train-images-idx3-ubyte.gz\n",
            "Downloading http://yann.lecun.com/exdb/mnist/train-images-idx3-ubyte.gz to MNIST_data/MNIST/raw/train-images-idx3-ubyte.gz\n",
            "Failed to download (trying next):\n",
            "HTTP Error 503: Service Unavailable\n",
            "\n",
            "Downloading https://ossci-datasets.s3.amazonaws.com/mnist/train-images-idx3-ubyte.gz\n",
            "Downloading https://ossci-datasets.s3.amazonaws.com/mnist/train-images-idx3-ubyte.gz to MNIST_data/MNIST/raw/train-images-idx3-ubyte.gz\n"
          ],
          "name": "stdout"
        },
        {
          "output_type": "display_data",
          "data": {
            "application/vnd.jupyter.widget-view+json": {
              "model_id": "4b1ae5b6d8bb42afba3607a13c308f4f",
              "version_minor": 0,
              "version_major": 2
            },
            "text/plain": [
              "HBox(children=(FloatProgress(value=0.0, max=9912422.0), HTML(value='')))"
            ]
          },
          "metadata": {
            "tags": []
          }
        },
        {
          "output_type": "stream",
          "text": [
            "\n",
            "Extracting MNIST_data/MNIST/raw/train-images-idx3-ubyte.gz to MNIST_data/MNIST/raw\n",
            "\n",
            "Downloading http://yann.lecun.com/exdb/mnist/train-labels-idx1-ubyte.gz\n",
            "Downloading http://yann.lecun.com/exdb/mnist/train-labels-idx1-ubyte.gz to MNIST_data/MNIST/raw/train-labels-idx1-ubyte.gz\n"
          ],
          "name": "stdout"
        },
        {
          "output_type": "display_data",
          "data": {
            "application/vnd.jupyter.widget-view+json": {
              "model_id": "184e3161887842b18a4074ec0be98b5e",
              "version_minor": 0,
              "version_major": 2
            },
            "text/plain": [
              "HBox(children=(FloatProgress(value=0.0, max=28881.0), HTML(value='')))"
            ]
          },
          "metadata": {
            "tags": []
          }
        },
        {
          "output_type": "stream",
          "text": [
            "\n",
            "Extracting MNIST_data/MNIST/raw/train-labels-idx1-ubyte.gz to MNIST_data/MNIST/raw\n",
            "\n",
            "Downloading http://yann.lecun.com/exdb/mnist/t10k-images-idx3-ubyte.gz\n",
            "Downloading http://yann.lecun.com/exdb/mnist/t10k-images-idx3-ubyte.gz to MNIST_data/MNIST/raw/t10k-images-idx3-ubyte.gz\n",
            "Failed to download (trying next):\n",
            "HTTP Error 503: Service Unavailable\n",
            "\n",
            "Downloading https://ossci-datasets.s3.amazonaws.com/mnist/t10k-images-idx3-ubyte.gz\n",
            "Downloading https://ossci-datasets.s3.amazonaws.com/mnist/t10k-images-idx3-ubyte.gz to MNIST_data/MNIST/raw/t10k-images-idx3-ubyte.gz\n"
          ],
          "name": "stdout"
        },
        {
          "output_type": "display_data",
          "data": {
            "application/vnd.jupyter.widget-view+json": {
              "model_id": "14d651966b8b4d47a80b0d885470d770",
              "version_minor": 0,
              "version_major": 2
            },
            "text/plain": [
              "HBox(children=(FloatProgress(value=0.0, max=1648877.0), HTML(value='')))"
            ]
          },
          "metadata": {
            "tags": []
          }
        },
        {
          "output_type": "stream",
          "text": [
            "\n",
            "Extracting MNIST_data/MNIST/raw/t10k-images-idx3-ubyte.gz to MNIST_data/MNIST/raw\n",
            "\n",
            "Downloading http://yann.lecun.com/exdb/mnist/t10k-labels-idx1-ubyte.gz\n",
            "Downloading http://yann.lecun.com/exdb/mnist/t10k-labels-idx1-ubyte.gz to MNIST_data/MNIST/raw/t10k-labels-idx1-ubyte.gz\n"
          ],
          "name": "stdout"
        },
        {
          "output_type": "display_data",
          "data": {
            "application/vnd.jupyter.widget-view+json": {
              "model_id": "07d393b6ae4e4c85ba2a2e6729e95890",
              "version_minor": 0,
              "version_major": 2
            },
            "text/plain": [
              "HBox(children=(FloatProgress(value=0.0, max=4542.0), HTML(value='')))"
            ]
          },
          "metadata": {
            "tags": []
          }
        },
        {
          "output_type": "stream",
          "text": [
            "\n",
            "Extracting MNIST_data/MNIST/raw/t10k-labels-idx1-ubyte.gz to MNIST_data/MNIST/raw\n",
            "\n",
            "Processing...\n"
          ],
          "name": "stdout"
        },
        {
          "output_type": "stream",
          "text": [
            "/usr/local/lib/python3.7/dist-packages/torchvision/datasets/mnist.py:502: UserWarning: The given NumPy array is not writeable, and PyTorch does not support non-writeable tensors. This means you can write to the underlying (supposedly non-writeable) NumPy array using the tensor. You may want to copy the array to protect its data or make it writeable before converting it to a tensor. This type of warning will be suppressed for the rest of this program. (Triggered internally at  /pytorch/torch/csrc/utils/tensor_numpy.cpp:143.)\n",
            "  return torch.from_numpy(parsed.astype(m[2], copy=False)).view(*s)\n"
          ],
          "name": "stderr"
        },
        {
          "output_type": "stream",
          "text": [
            "Done!\n"
          ],
          "name": "stdout"
        }
      ]
    },
    {
      "cell_type": "code",
      "metadata": {
        "id": "z3v-sMtI65OW"
      },
      "source": [
        "# 2-1. 여기서 배치 크기도 지정해야 한다.\n",
        "data_loader = torch.utils.data.DataLoader(dataset=mnist_train,\n",
        "                                          batch_size=batch_size,\n",
        "                                          shuffle=True,\n",
        "                                          drop_last=True)"
      ],
      "execution_count": 4,
      "outputs": []
    },
    {
      "cell_type": "code",
      "metadata": {
        "id": "I8SnZxJf7Qj0"
      },
      "source": [
        "# 3단계. class로 구현하기!\n",
        "\n",
        "class CNN(torch.nn.Module):\n",
        "\n",
        "    def __init__(self):\n",
        "        super(CNN, self).__init__()\n",
        "        # 첫번째층\n",
        "        self.layer1 = torch.nn.Sequential(\n",
        "            torch.nn.Conv2d(1, 32, kernel_size=3, stride=1, padding=1),\n",
        "            torch.nn.ReLU(),\n",
        "            torch.nn.MaxPool2d(kernel_size=2, stride=2))\n",
        "\n",
        "        # 두번째층\n",
        "        self.layer2 = torch.nn.Sequential(\n",
        "            torch.nn.Conv2d(32, 64, kernel_size=3, stride=1, padding=1),\n",
        "            torch.nn.ReLU(),\n",
        "            torch.nn.MaxPool2d(kernel_size=2, stride=2))\n",
        "\n",
        "        # 전결합층 7x7x64 inputs -> 10 outputs\n",
        "        self.fc = torch.nn.Linear(7 * 7 * 64, 10, bias=True)\n",
        "\n",
        "        # 전결합층 한정으로 가중치 초기화 (Linear...)\n",
        "        torch.nn.init.xavier_uniform_(self.fc.weight)\n",
        "\n",
        "    def forward(self, x):\n",
        "        out = self.layer1(x)\n",
        "        out = self.layer2(out)\n",
        "        out = out.view(out.size(0), -1)   # 전결합층을 위해서 Flatten # 2차원을 1차원으로 해야한다.\n",
        "        out = self.fc(out)\n",
        "        return out"
      ],
      "execution_count": null,
      "outputs": []
    },
    {
      "cell_type": "code",
      "metadata": {
        "id": "KJJpUA5I7133"
      },
      "source": [
        "model = CNN()"
      ],
      "execution_count": null,
      "outputs": []
    },
    {
      "cell_type": "code",
      "metadata": {
        "id": "GTGd8Q4n730s"
      },
      "source": [
        "criterion = torch.nn.CrossEntropyLoss()  # 이미 비용함수에 소프트맥스 포함\n",
        "optimizer = torch.optim.Adam(model.parameters(), lr = learning_rate)"
      ],
      "execution_count": 10,
      "outputs": []
    },
    {
      "cell_type": "markdown",
      "metadata": {
        "id": "k-6IqtrL8JJe"
      },
      "source": [
        "### 훈련 실행"
      ]
    },
    {
      "cell_type": "code",
      "metadata": {
        "colab": {
          "base_uri": "https://localhost:8080/"
        },
        "id": "eJvUh5r-8Etq",
        "outputId": "4930507a-9835-4dd4-d080-ddbd9160abc5"
      },
      "source": [
        "total_batch = len(data_loader)\n",
        "for epoch in range(training_epochs):\n",
        "  avg_cost = 0\n",
        "\n",
        "  for X, Y in data_loader:\n",
        "    optimizer.zero_grad() #  매 시기마다 미분계수 초기화\n",
        "    hypo = model(X)\n",
        "    cost = criterion(hypo, Y)\n",
        "    cost.backward()\n",
        "    optimizer.step()\n",
        "\n",
        "    avg_cost += cost / total_batch\n",
        "\n",
        "  print('[Epoch: {:>4}] cost = {:>.9}'.format(epoch + 1, avg_cost))"
      ],
      "execution_count": null,
      "outputs": [
        {
          "output_type": "stream",
          "text": [
            "[Epoch:    1] cost = 0.241804257\n",
            "[Epoch:    2] cost = 0.0649393871\n",
            "[Epoch:    3] cost = 0.0479050912\n",
            "[Epoch:    4] cost = 0.0389764011\n",
            "[Epoch:    5] cost = 0.0324103311\n",
            "[Epoch:    6] cost = 0.0267148949\n",
            "[Epoch:    7] cost = 0.0231101848\n",
            "[Epoch:    8] cost = 0.0189635921\n",
            "[Epoch:    9] cost = 0.016485434\n",
            "[Epoch:   10] cost = 0.0139167132\n",
            "[Epoch:   11] cost = 0.0114422506\n",
            "[Epoch:   12] cost = 0.0106035313\n",
            "[Epoch:   13] cost = 0.00883744191\n",
            "[Epoch:   14] cost = 0.00752303982\n",
            "[Epoch:   15] cost = 0.00755542237\n"
          ],
          "name": "stdout"
        }
      ]
    },
    {
      "cell_type": "code",
      "metadata": {
        "colab": {
          "base_uri": "https://localhost:8080/"
        },
        "id": "cZp1yca98j-i",
        "outputId": "b2b6b8e0-d8a9-42f1-d6bb-b9e63780b88e"
      },
      "source": [
        "# Test\n",
        "# 학습을 진행하지 않을 것이므로 torch.no_grad()\n",
        "with torch.no_grad():\n",
        "    X_test = mnist_test.test_data.view(len(mnist_test), 1, 28, 28).float()\n",
        "    Y_test = mnist_test.test_labels\n",
        "\n",
        "    prediction = model(X_test)\n",
        "    correct_prediction = torch.argmax(prediction, 1) == Y_test\n",
        "    accuracy = correct_prediction.float().mean()\n",
        "    print('Accuracy:', accuracy.item())"
      ],
      "execution_count": null,
      "outputs": [
        {
          "output_type": "stream",
          "text": [
            "/usr/local/lib/python3.7/dist-packages/torchvision/datasets/mnist.py:69: UserWarning: test_data has been renamed data\n",
            "  warnings.warn(\"test_data has been renamed data\")\n",
            "/usr/local/lib/python3.7/dist-packages/torchvision/datasets/mnist.py:59: UserWarning: test_labels has been renamed targets\n",
            "  warnings.warn(\"test_labels has been renamed targets\")\n"
          ],
          "name": "stderr"
        },
        {
          "output_type": "stream",
          "text": [
            "Accuracy: 0.9807999730110168\n"
          ],
          "name": "stdout"
        }
      ]
    },
    {
      "cell_type": "markdown",
      "metadata": {
        "id": "yzjyoHSKEJn9"
      },
      "source": [
        "### Remark. 만일, 층이 더 깊어진다면 더 좋을까?\n"
      ]
    },
    {
      "cell_type": "code",
      "metadata": {
        "id": "KGKEi9FlEQ9N"
      },
      "source": [
        "class CNN(torch.nn.Module):\n",
        "\n",
        "    def __init__(self):\n",
        "        super(CNN, self).__init__()\n",
        "        self.keep_prob = 0.5\n",
        "        self.layer1 = torch.nn.Sequential(\n",
        "            torch.nn.Conv2d(1, 32, kernel_size=3, stride=1, padding=1),\n",
        "            torch.nn.ReLU(),\n",
        "            torch.nn.MaxPool2d(kernel_size=2, stride=2))\n",
        "\n",
        "        self.layer2 = torch.nn.Sequential(\n",
        "            torch.nn.Conv2d(32, 64, kernel_size=3, stride=1, padding=1),\n",
        "            torch.nn.ReLU(),\n",
        "            torch.nn.MaxPool2d(kernel_size=2, stride=2))\n",
        "\n",
        "        self.layer3 = torch.nn.Sequential(\n",
        "            torch.nn.Conv2d(64, 128, kernel_size=3, stride=1, padding=1),\n",
        "            torch.nn.ReLU(),\n",
        "            torch.nn.MaxPool2d(kernel_size=2, stride=2, padding=1))\n",
        "\n",
        "        self.fc1 = torch.nn.Linear(4 * 4 * 128, 625, bias=True)\n",
        "        torch.nn.init.xavier_uniform_(self.fc1.weight)\n",
        "        self.layer4 = torch.nn.Sequential(\n",
        "            self.fc1,\n",
        "            torch.nn.ReLU(),\n",
        "            torch.nn.Dropout(p=1 - self.keep_prob))\n",
        "\n",
        "        self.fc2 = torch.nn.Linear(625, 10, bias=True)\n",
        "        torch.nn.init.xavier_uniform_(self.fc2.weight)\n",
        "\n",
        "    def forward(self, x):\n",
        "        out = self.layer1(x)\n",
        "        out = self.layer2(out)\n",
        "        out = self.layer3(out)\n",
        "        out = out.view(out.size(0), -1)   # Flatten them for FC\n",
        "        out = self.layer4(out)\n",
        "        out = self.fc2(out)\n",
        "        return out"
      ],
      "execution_count": 5,
      "outputs": []
    },
    {
      "cell_type": "code",
      "metadata": {
        "id": "w7WbKpxOKg1i"
      },
      "source": [
        "model = CNN()"
      ],
      "execution_count": 8,
      "outputs": []
    },
    {
      "cell_type": "code",
      "metadata": {
        "id": "VLu_6meBEWsK",
        "colab": {
          "base_uri": "https://localhost:8080/"
        },
        "outputId": "9ee98e05-4881-4aae-85da-c91005a1d571"
      },
      "source": [
        "total_batch = len(data_loader)\n",
        "for epoch in range(training_epochs):\n",
        "    avg_cost = 0\n",
        "\n",
        "    for X, Y in data_loader:\n",
        "\n",
        "        optimizer.zero_grad()\n",
        "        hypothesis = model(X)\n",
        "        cost = criterion(hypothesis, Y)\n",
        "        cost.backward()\n",
        "        optimizer.step()\n",
        "\n",
        "        avg_cost += cost / total_batch\n",
        "\n",
        "    print('[Epoch: {:>4}] cost = {:>.9}'.format(epoch + 1, avg_cost))"
      ],
      "execution_count": 12,
      "outputs": [
        {
          "output_type": "stream",
          "text": [
            "[Epoch:    1] cost = 0.174030244\n",
            "[Epoch:    2] cost = 0.0506435446\n",
            "[Epoch:    3] cost = 0.0348914564\n",
            "[Epoch:    4] cost = 0.0270264074\n",
            "[Epoch:    5] cost = 0.0237279683\n",
            "[Epoch:    6] cost = 0.0177109856\n",
            "[Epoch:    7] cost = 0.0169440508\n",
            "[Epoch:    8] cost = 0.0133793326\n",
            "[Epoch:    9] cost = 0.0120607363\n",
            "[Epoch:   10] cost = 0.0118897445\n",
            "[Epoch:   11] cost = 0.00896919519\n",
            "[Epoch:   12] cost = 0.0108754234\n",
            "[Epoch:   13] cost = 0.00781325437\n",
            "[Epoch:   14] cost = 0.00713085011\n",
            "[Epoch:   15] cost = 0.00742920395\n"
          ],
          "name": "stdout"
        }
      ]
    },
    {
      "cell_type": "code",
      "metadata": {
        "id": "YGUqy6zrEay5",
        "colab": {
          "base_uri": "https://localhost:8080/"
        },
        "outputId": "75cd7fa6-3503-4059-ff77-8024ddd42473"
      },
      "source": [
        "# 학습을 진행하지 않을 것이므로 torch.no_grad()\n",
        "with torch.no_grad():\n",
        "    X_test = mnist_test.test_data.view(len(mnist_test), 1, 28, 28).float()\n",
        "    Y_test = mnist_test.test_labels\n",
        "\n",
        "    prediction = model(X_test)\n",
        "    correct_prediction = torch.argmax(prediction, 1) == Y_test\n",
        "    accuracy = correct_prediction.float().mean()\n",
        "    print('Accuracy:', accuracy.item())"
      ],
      "execution_count": 13,
      "outputs": [
        {
          "output_type": "stream",
          "text": [
            "/usr/local/lib/python3.7/dist-packages/torchvision/datasets/mnist.py:69: UserWarning: test_data has been renamed data\n",
            "  warnings.warn(\"test_data has been renamed data\")\n",
            "/usr/local/lib/python3.7/dist-packages/torchvision/datasets/mnist.py:59: UserWarning: test_labels has been renamed targets\n",
            "  warnings.warn(\"test_labels has been renamed targets\")\n"
          ],
          "name": "stderr"
        },
        {
          "output_type": "stream",
          "text": [
            "Accuracy: 0.9884999990463257\n"
          ],
          "name": "stdout"
        }
      ]
    },
    {
      "cell_type": "markdown",
      "metadata": {
        "id": "Oi2ynBciKKT8"
      },
      "source": [
        "Remark. 그러나 층을 더 깊게 쌓는다고, 무조건 더 좋은 결과를 얻는다는 보장이 없다."
      ]
    }
  ]
}