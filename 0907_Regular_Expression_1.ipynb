{
  "nbformat": 4,
  "nbformat_minor": 0,
  "metadata": {
    "colab": {
      "name": "0907_Regular_Expression_1.ipynb",
      "provenance": [],
      "authorship_tag": "ABX9TyNfAY/SdYt9IEufr2Dr/RBh",
      "include_colab_link": true
    },
    "kernelspec": {
      "name": "python3",
      "display_name": "Python 3"
    },
    "language_info": {
      "name": "python"
    }
  },
  "cells": [
    {
      "cell_type": "markdown",
      "metadata": {
        "id": "view-in-github",
        "colab_type": "text"
      },
      "source": [
        "<a href=\"https://colab.research.google.com/github/SeongwonTak/TIL_swtak/blob/master/0907_Regular_Expression_1.ipynb\" target=\"_parent\"><img src=\"https://colab.research.google.com/assets/colab-badge.svg\" alt=\"Open In Colab\"/></a>"
      ]
    },
    {
      "cell_type": "markdown",
      "metadata": {
        "id": "V5bMJIjVR6QS"
      },
      "source": [
        "# 정규 표현식 이해하기 1편\n",
        "[참고]  \n",
        "1. https://nachwon.github.io/regular-expressions/  \n",
        "2. https://wikidocs.net/4308"
      ]
    },
    {
      "cell_type": "markdown",
      "metadata": {
        "id": "nWWyZktAaQsN"
      },
      "source": [
        "## 정규 표현식의 기본 문법"
      ]
    },
    {
      "cell_type": "markdown",
      "metadata": {
        "id": "VAOS78mwSeia"
      },
      "source": [
        "### 메타 문자\n",
        ". ^ $ * + ? { } [ ] \\ | ( )  \n",
        "이들은 메타 문자에 해당되는데, 정규 표현식에서는 이들을 사용할 경우 특별한 용도로 사용된다. "
      ]
    },
    {
      "cell_type": "markdown",
      "metadata": {
        "id": "LZJOMYU6TVeU"
      },
      "source": [
        "### [] 클래스\n",
        "[]는 대괄호 안에 포함된 문자 중 하나랑 매치했는가를 뜻한다.\n"
      ]
    },
    {
      "cell_type": "code",
      "metadata": {
        "id": "jXPvQ-Y-TNqM"
      },
      "source": [
        "[abc] # abc 중 하나와 매치했는가?"
      ],
      "execution_count": null,
      "outputs": []
    },
    {
      "cell_type": "markdown",
      "metadata": {
        "id": "x8ewg7MwTeC8"
      },
      "source": [
        "[]안에 -를 사용할 경우 범위를 뜻한다."
      ]
    },
    {
      "cell_type": "code",
      "metadata": {
        "id": "GaP1flIBThIP"
      },
      "source": [
        "[a-zA-Z] # 모든 알파벳\n",
        "[0-9] # 모든 숫자"
      ],
      "execution_count": null,
      "outputs": []
    },
    {
      "cell_type": "markdown",
      "metadata": {
        "id": "gd-7weP4Tllt"
      },
      "source": [
        "[]안에서 ^이 쓰일 경우 반대를 뜻한다."
      ]
    },
    {
      "cell_type": "code",
      "metadata": {
        "id": "DpyFR47sTtEc"
      },
      "source": [
        "[^0-9] # 숫자를 제외한 모든 문자\n",
        "[^jkl] # j, k, l을 제외한 모든 문자와 매치"
      ],
      "execution_count": null,
      "outputs": []
    },
    {
      "cell_type": "markdown",
      "metadata": {
        "id": "TsJsoRUoT1pv"
      },
      "source": [
        "### 문자와 문자 사이 판단\n"
      ]
    },
    {
      "cell_type": "code",
      "metadata": {
        "id": "UE03oHsRUcBQ"
      },
      "source": [
        "a.b # a + 모든 문자 + b\n",
        "a[.]b # a + 마침표 + b\n",
        "ab*a  # a + (0개 이상의 b)+ a  # * 앞의 문자가 0 포함 몇개가 오든 매치\n",
        "ab+a  # a + (1개 이상의 b)+ a  # + 앞의 문자가 1개 이상일 경우 매치\n",
        "lo?l # ? 앞에 있는 문자가 없거나 하나인 경우에만 매치  2개 이상은 매치 안됨\n",
        "ab{4, 7}a  #  a + (b가 4~7번) + a  # {m, n} 앞의 문자가 m번 이상 n번 반복 시 매치"
      ],
      "execution_count": null,
      "outputs": []
    },
    {
      "cell_type": "markdown",
      "metadata": {
        "id": "qPe1Q9-uXjii"
      },
      "source": [
        "### 문자의 시작과 끝 판단"
      ]
    },
    {
      "cell_type": "code",
      "metadata": {
        "id": "DUTUUGTbXlCL"
      },
      "source": [
        "^a # a로 시작하는 문자열일 경우 매치\n",
        "$a # a로 끝나는 문자열일 경우 매치"
      ],
      "execution_count": null,
      "outputs": []
    },
    {
      "cell_type": "markdown",
      "metadata": {
        "id": "NAiaA0bwYPo5"
      },
      "source": [
        "### 조건이 있는 표현식 (앞 뒤 고려하기)"
      ]
    },
    {
      "cell_type": "code",
      "metadata": {
        "id": "pQPf_sgvaG59"
      },
      "source": [
        "# 표현식1(?=표현식2) 형태는 표현식 1 뒤의 문자열이 표현식2일 경우 표현식 1이 매치됨\n",
        "hello(?=world)  # hello 뒤에 world가 올 경우 hello가 매치된다.\n",
        "\n",
        "# 표현식1(?!표현식2) 형태는 위와 반대로 표현식 1 뒤 문자열이 표현식2가 아닐경우 표현식1이 매치됨\n",
        "hello(?!world) # hello 뒤에 world가 아닐 경우에 hello가 매치된다.\n",
        "\n",
        "# (?<=표현식1)표현식2 형태는 표현식2 앞의 문자열이 표현식1일 경우 표현식2가 매치됨\n",
        "(?<=hello)world # world 앞에 hello가 있으면 world를 매치\n",
        "\n",
        "# (?<!표현식1)표현식2 형태는 표현식2 앞의 문자열이 표현식1이 아닐경우 표현식2가 매치됨\n",
        "(?<!hello)world # world 앞에 hello가 아닐 경우 world를 매치"
      ],
      "execution_count": null,
      "outputs": []
    },
    {
      "cell_type": "markdown",
      "metadata": {
        "id": "CI_f9oyHaKGG"
      },
      "source": [
        "## Python 정규 표현식 모듈 - re\n",
        "파이썬에서는 re 모듈을 통해 정규표현식을 사용한다."
      ]
    },
    {
      "cell_type": "code",
      "metadata": {
        "id": "ORYv5hvLae7z"
      },
      "source": [
        "import re"
      ],
      "execution_count": 4,
      "outputs": []
    },
    {
      "cell_type": "markdown",
      "metadata": {
        "id": "-bie5vyjbEKR"
      },
      "source": [
        "### 정규식을 활용한 문자열 검색 _ 기본\n",
        "- match : 문자열의 처음부터 정규식과 매치되는지 조사\n",
        "- search : 문자열 전체를 검색하여 정규식과 매치되는지 조사\n",
        "- findall : 정규식과 매치되는 모든 문자열을 리스트로 반환\n",
        "- finditer : 정규식과 매치되는 모든 문자열을 반복 가능한 개체로 반환"
      ]
    },
    {
      "cell_type": "code",
      "metadata": {
        "colab": {
          "base_uri": "https://localhost:8080/"
        },
        "id": "HtjkgpHaba_4",
        "outputId": "c71d823e-d966-4c11-e027-977634fb86a5"
      },
      "source": [
        "# match 사용\n",
        "p = re.compile('[a-z]+')\n",
        "\n",
        "a = p.match(\"python\")\n",
        "b = p.match(\"Python\")  # 대문자가 있어서 실패\n",
        "c = p.match(\"3python\")  # 숫자가 있어서 실패\n",
        "\n",
        "print(a)\n",
        "print(b)\n",
        "print(c)\n",
        "\n",
        "# match의 메서드들\n",
        "print(a.group())\n",
        "print(a.start())\n",
        "print(a.end())\n",
        "print(a.span())"
      ],
      "execution_count": 10,
      "outputs": [
        {
          "output_type": "stream",
          "name": "stdout",
          "text": [
            "<re.Match object; span=(0, 6), match='python'>\n",
            "None\n",
            "None\n",
            "python\n",
            "0\n",
            "6\n",
            "(0, 6)\n"
          ]
        }
      ]
    },
    {
      "cell_type": "code",
      "metadata": {
        "colab": {
          "base_uri": "https://localhost:8080/"
        },
        "id": "JBYavSLTboqJ",
        "outputId": "f24b209f-fa43-4b28-df08-26f2b76d1501"
      },
      "source": [
        "# findall 사용\n",
        "result = p.findall(\"life is too short to code it\")\n",
        "print(result)"
      ],
      "execution_count": 6,
      "outputs": [
        {
          "output_type": "stream",
          "name": "stdout",
          "text": [
            "['life', 'is', 'too', 'short', 'to', 'code', 'it']\n"
          ]
        }
      ]
    },
    {
      "cell_type": "code",
      "metadata": {
        "colab": {
          "base_uri": "https://localhost:8080/"
        },
        "id": "tXrWJtjKcmnN",
        "outputId": "f29ca303-1e24-46e3-a4a7-add27017417b"
      },
      "source": [
        "# search 사용\n",
        "# search는 어떤 문자열이 매치되었는지, 어디서부터 어디가 매칭되었는지를 볼 수 있다.\n",
        "m = p.search('9 darams')\n",
        "print(m.group()) # 해당 단어 찾기\n",
        "print(m.start()) # 문자열 시작 위치\n",
        "print(m.end()) # 문자열 끝 위치\n",
        "print(m.span()) # 시작 ~ 끝\n"
      ],
      "execution_count": 9,
      "outputs": [
        {
          "output_type": "stream",
          "name": "stdout",
          "text": [
            "darams\n",
            "2\n",
            "8\n",
            "(2, 8)\n"
          ]
        }
      ]
    },
    {
      "cell_type": "markdown",
      "metadata": {
        "id": "bRA9z9I5kyx9"
      },
      "source": [
        "## ( ) 그룹화"
      ]
    },
    {
      "cell_type": "markdown",
      "metadata": {
        "id": "Zi1V5n3uk26M"
      },
      "source": [
        "정규표현식을 ( ) 안에 넣을 경우 해당 부분만 그룹화 된다. groups 메서드를 통해 그룹들을 튜플 형태로 리턴한다."
      ]
    },
    {
      "cell_type": "code",
      "metadata": {
        "colab": {
          "base_uri": "https://localhost:8080/"
        },
        "id": "Xk8X0kj6lAUI",
        "outputId": "f9e517d6-aef3-4092-b339-ed501e94eea1"
      },
      "source": [
        "p = re.search('(hey)(yaho)', 'heyyaho')\n",
        "grouping = p.groups()\n",
        "\n",
        "print(p.group())\n",
        "print(p.group(0)) # 전체\n",
        "print(p.group(1)) # 1번째 그룹 매치 결과\n",
        "print(p.group(2)) # 2번째 그룹 매치 결과"
      ],
      "execution_count": 14,
      "outputs": [
        {
          "output_type": "stream",
          "name": "stdout",
          "text": [
            "heyyaho\n",
            "heyyaho\n",
            "hey\n",
            "yaho\n"
          ]
        }
      ]
    },
    {
      "cell_type": "code",
      "metadata": {
        "colab": {
          "base_uri": "https://localhost:8080/"
        },
        "id": "d7hsLjGWlbZ9",
        "outputId": "cd06c5b1-06f4-4925-c249-8e23b351ca2b"
      },
      "source": [
        "# 특정 문자열의 반복을 검사하기 위해서도 사용 가능하다.\n",
        "p = re.compile('(AB)+')\n",
        "m = p.search('CCABABAACABABC')\n",
        "print(m)\n",
        "print(m.group())"
      ],
      "execution_count": 19,
      "outputs": [
        {
          "output_type": "stream",
          "name": "stdout",
          "text": [
            "<re.Match object; span=(2, 6), match='ABAB'>\n",
            "ABAB\n"
          ]
        }
      ]
    },
    {
      "cell_type": "markdown",
      "metadata": {
        "id": "ujQ-FVNWeNCi"
      },
      "source": [
        "## 정규식 컴파일 옵션"
      ]
    },
    {
      "cell_type": "markdown",
      "metadata": {
        "id": "EPi1AmCfeZw2"
      },
      "source": [
        "### 줄바꿈 문자 고려하기 - DOTALL, S\n",
        "기본적으로 메타 문자들은 줄바꿈 문자인 \\n을 제외한 모든 문자와 매치된다.  \n",
        "그러나, \\n도 포함하여 매치하고 싶다면, re.DOTALL 혹은 re.S를 사용한다.  "
      ]
    },
    {
      "cell_type": "code",
      "metadata": {
        "colab": {
          "base_uri": "https://localhost:8080/"
        },
        "id": "-SFwC5JmdJ9N",
        "outputId": "9e58e252-3cd5-4e0f-a6a6-a578df6c57b4"
      },
      "source": [
        "p1 = re.compile('a.b')\n",
        "p2 = re.compile('a.b', re.DOTALL)\n",
        "\n",
        "print(p1.match('a\\nb'))  # 줄바꿈 문자는 매칭이 불가능.\n",
        "print(p2.match('a\\nb'))  # 그러나 DOTALL을 사용하여 매칭한다."
      ],
      "execution_count": 12,
      "outputs": [
        {
          "output_type": "stream",
          "name": "stdout",
          "text": [
            "None\n",
            "<re.Match object; span=(0, 3), match='a\\nb'>\n"
          ]
        }
      ]
    },
    {
      "cell_type": "markdown",
      "metadata": {
        "id": "AJ7hP4_ehE_K"
      },
      "source": [
        "### 대소문자 구별하지 않기 - IGNORECASE, I\n",
        "IGNOREASE, I 옵션은 대소문자를 구별하지 않고 매치를 사용할 때 쓰는 옵션이다."
      ]
    },
    {
      "cell_type": "code",
      "metadata": {
        "colab": {
          "base_uri": "https://localhost:8080/"
        },
        "id": "ICRQW98xe0Q_",
        "outputId": "b76f1eb6-53d5-4448-c4d6-2e456344efc4"
      },
      "source": [
        "p = re.compile('[a-z]', re.I)\n",
        "print(p.match('python'))\n",
        "print(p.match('pyThon'))\n",
        "print(p.match('PYTHON'))"
      ],
      "execution_count": 13,
      "outputs": [
        {
          "output_type": "stream",
          "name": "stdout",
          "text": [
            "<re.Match object; span=(0, 1), match='p'>\n",
            "<re.Match object; span=(0, 1), match='p'>\n",
            "<re.Match object; span=(0, 1), match='P'>\n"
          ]
        }
      ]
    },
    {
      "cell_type": "markdown",
      "metadata": {
        "id": "uKKgxEpsmoaE"
      },
      "source": [
        "## 문자열 바꾸기, sub"
      ]
    },
    {
      "cell_type": "code",
      "metadata": {
        "colab": {
          "base_uri": "https://localhost:8080/",
          "height": 35
        },
        "id": "fQ7JnEECiHtz",
        "outputId": "accea188-0954-451d-9115-1822007e4e10"
      },
      "source": [
        "p = re.compile('[0-9]')\n",
        "p.sub('Num', '3.14 is pi')"
      ],
      "execution_count": 21,
      "outputs": [
        {
          "output_type": "execute_result",
          "data": {
            "application/vnd.google.colaboratory.intrinsic+json": {
              "type": "string"
            },
            "text/plain": [
              "'Num.NumNum is pi'"
            ]
          },
          "metadata": {},
          "execution_count": 21
        }
      ]
    }
  ]
}