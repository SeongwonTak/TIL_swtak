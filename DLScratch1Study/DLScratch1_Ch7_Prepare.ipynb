{
  "nbformat": 4,
  "nbformat_minor": 0,
  "metadata": {
    "colab": {
      "name": "DLScratch1_Ch7_Prepare.ipynb",
      "provenance": [],
      "toc_visible": true,
      "authorship_tag": "ABX9TyOUMAMbnPXDLU/s9nu/baaH",
      "include_colab_link": true
    },
    "kernelspec": {
      "name": "python3",
      "display_name": "Python 3"
    }
  },
  "cells": [
    {
      "cell_type": "markdown",
      "metadata": {
        "id": "view-in-github",
        "colab_type": "text"
      },
      "source": [
        "<a href=\"https://colab.research.google.com/github/SeongwonTak/TIL_swtak/blob/master/DLScratch1Study/DLScratch1_Ch7_Prepare.ipynb\" target=\"_parent\"><img src=\"https://colab.research.google.com/assets/colab-badge.svg\" alt=\"Open In Colab\"/></a>"
      ]
    },
    {
      "cell_type": "markdown",
      "metadata": {
        "id": "Q_Ny6fHW69om"
      },
      "source": [
        "# 밑바닥부터 시작하는 딥러닝 7장, 8장 - CNN\r\n",
        "\r\n",
        "합성곱 신경망의 기본 내용 및 구현에 대해 알아보자.\r\n",
        "8장은 발전방향 관련 내용이므로, 통합해서 정리하는게 낫지 않을까 싶다."
      ]
    },
    {
      "cell_type": "markdown",
      "metadata": {
        "id": "wByTzton7nk6"
      },
      "source": [
        "## CNN의 전체 구조 및 용어\r\n",
        "CNN에서는\r\n",
        "- convolution layer(합성곱 계층)\r\n",
        "- pooling layer(풀링 계층)\r\n",
        "이 새로 등장한다."
      ]
    },
    {
      "cell_type": "markdown",
      "metadata": {
        "id": "xIYlBFFj75ow"
      },
      "source": [
        "### 합성곱 계층\r\n",
        "앞에서 보았던 Affine 계층 같은 경우에는 모든 인접하는 계층의 뉴런이 서로 연결되어 있는 상태이다. 이 경우, 데이터의 형상이 무시된다.\r\n",
        "\r\n",
        "**데이터의 형상을 유지하는 전달법이 바로 CNN**이다.\r\n",
        "\r\n",
        "CNN에서는 입출력 데이터를 feature map(특징 맵) 이라고 부른다."
      ]
    },
    {
      "cell_type": "markdown",
      "metadata": {
        "id": "0FaSW3RG8Z8h"
      },
      "source": [
        "####합성 곱 연산\r\n",
        "합성 곱 연산은 이미지 처리에서의 필터 연산으로, \r\n",
        "\r\n",
        "**입력 데이터  필터 -> 출력 데이터 **\r\n",
        "\r\n",
        "의 흐름을 따라가게 된다. 필터를 일정 간격으로 이동하여, 입력데이터에 내적과 동일한 연산 방식을 적용한다.\r\n",
        "\r\n",
        "(실전에서는 여기에 편향을 더하기도 하다)"
      ]
    },
    {
      "cell_type": "markdown",
      "metadata": {
        "id": "10bv1Osf8-zZ"
      },
      "source": [
        "#### 패딩(padding)\r\n",
        "패딩은 입력 데이터 주변을 0으로 채우는 행위이다. 폭의 값에 따라 채워지는 0의 두께가 결정된다.\r\n",
        "\r\n",
        "패딩을 통해서 출력 크기를 조정할 수 있다. 패딩이 없을 경우 합성 곱 연산을 통해 출력층의 크기가 계속 줄어들어 더 이상 합성 곱 연산을 할 수 없을 때가 생기게 된다. 이를 막기 위해 패딩을 적용한다."
      ]
    },
    {
      "cell_type": "markdown",
      "metadata": {
        "id": "gkCLy_8SJPKg"
      },
      "source": [
        "#### 스트라이드(stride)\r\n",
        "보폭이라는 뜻으로, 스트라이드 값 만큼 필터를 이동하게 된다.\r\n",
        "즉, 이 경우 출력은 작아지게 된다.\r\n",
        "\r\n",
        "입력크기, 필터크기, 출력크기, 패딩, 스프라이드에 대한 관계식은 다음과 같다.\r\n",
        "\r\n",
        "- 입력크기 (H, W)\r\n",
        "- 필터크기 (FH, FW)\r\n",
        "- 출력크기 (OH, OW)\r\n",
        "- 패딩 P\r\n",
        "- 스트라이드 S\r\n",
        "\r\n",
        "$$ OH = \\frac{H+2P-FH}{S}+1$$\r\n",
        "\r\n",
        "$$ OW = \\frac{W+2P-FW}{S}+1$$\r\n"
      ]
    },
    {
      "cell_type": "markdown",
      "metadata": {
        "id": "3qBGjgLQPyGL"
      },
      "source": [
        "### 3차원 데이터의 합성곱 연산 및 정의\r\n",
        "\r\n",
        "- 입력 데이터가 길이 방향으로 특징 맵이 확장된다.\r\n",
        "- 채널마다 수행해서 결과를 더한다.\r\n",
        "\r\n",
        "이를 고려하기 위해 블록으로 생각해본다.\r\n",
        "\r\n",
        "채널수 $C$ * 높이 $H$ * 너비 $W$ 를 필터로 잘라 출력 데이터를 만든다.\r\n",
        "\r\n",
        "여기서 필터 또한, 이 경우에는 채널수가 $C$가 된다. 이 경우, 출력 데이터는 한 장이 된다. 따라서 출력데이터를 다수 채널로 만들기 위해서는 필터의 개수를 늘려야 하며 이 필터의 개수를 $FN$으로 표현하려 한다.\r\n",
        "\r\n",
        "따라서, 최종 얻게되는 출력 데이터의 형상은 $(FN, OH, OW)$가 된다."
      ]
    },
    {
      "cell_type": "markdown",
      "metadata": {
        "id": "lt-hHMwDRvZL"
      },
      "source": [
        "### Batch 처리\r\n",
        "배치 처리의 경우에는 데이터 개수를 정해야 하므로 이젠 3차원이 아니라 4차원이 된다.\r\n",
        "\r\n",
        "- 입력데이터 : (N(데이터 수), C(채널), H, W)\r\n",
        "- 필터 : (FN(필터개수), C(채널), FH, FW)\r\n",
        "- 출력데이터 : (N(데이터 수), FN(필터개수 만큼의 채널), OH, OW)\r\n",
        "- 편향 : (FN(필터개수), 1, 1)"
      ]
    },
    {
      "cell_type": "markdown",
      "metadata": {
        "id": "8MTOO9SNTmVq"
      },
      "source": [
        "## Pooling 계층\r\n",
        "풀링은 가로/세로 방향의 공간을 줄인다.\r\n",
        "영역의 원소를 하나로 집약하여 공간 크기를 줄인다.\r\n",
        "\r\n",
        "- Max Pooling : M * M 대상 원소 중 하나를 꺼낸다.\r\n",
        "- Average Pooling : M * M 대상 원소 중 평균을 꺼낸다.\r\n",
        "\r\n",
        "풀링 계층은 다음과 같은 특징을 가진다.\r\n",
        "- 학습해야 할 매개변수가 없다.\r\n",
        "- 채널 수가 변하지 않는다. (채널마다 독립적으로 계산함)\r\n",
        "- 입력의 변화에 영향을 적게 받는다."
      ]
    },
    {
      "cell_type": "markdown",
      "metadata": {
        "id": "bx9xac_HU_dJ"
      },
      "source": [
        "## 합성곱 / 풀링 계층의 구현"
      ]
    },
    {
      "cell_type": "code",
      "metadata": {
        "colab": {
          "base_uri": "https://localhost:8080/"
        },
        "id": "YOjGPIR-Vlnp",
        "outputId": "f9f9cd8b-3409-4dab-e79b-6e1d2ceac988"
      },
      "source": [
        "# 4차원 배열 (데이터개수, 채널, 높이, 너비)\r\n",
        "import numpy as np\r\n",
        "\r\n",
        "x = np.random.rand(10, 1, 28, 28)\r\n",
        "x.shape"
      ],
      "execution_count": 3,
      "outputs": [
        {
          "output_type": "execute_result",
          "data": {
            "text/plain": [
              "(10, 1, 28, 28)"
            ]
          },
          "metadata": {
            "tags": []
          },
          "execution_count": 3
        }
      ]
    },
    {
      "cell_type": "markdown",
      "metadata": {
        "id": "cLFeaeYlV9Xj"
      },
      "source": [
        "for으로 4차원을 구현한다? 매우 유감!\r\n",
        "이 책에서는 im2col이라는 편의함수를 사용한다.\r\n",
        "\r\n",
        "im2col의 주요 역할은  **4차원 데이터를 2차원으로 변환**한다.\r\n"
      ]
    },
    {
      "cell_type": "code",
      "metadata": {
        "id": "wid9AZl_fZT1"
      },
      "source": [
        "# im2col 구성들.\r\n",
        "def smooth_curve(x):\r\n",
        "    \"\"\"손실 함수의 그래프를 매끄럽게 하기 위해 사용\r\n",
        "    \r\n",
        "    참고：http://glowingpython.blogspot.jp/2012/02/convolution-with-numpy.html\r\n",
        "    \"\"\"\r\n",
        "    window_len = 11\r\n",
        "    s = np.r_[x[window_len-1:0:-1], x, x[-1:-window_len:-1]]\r\n",
        "    w = np.kaiser(window_len, 2)\r\n",
        "    y = np.convolve(w/w.sum(), s, mode='valid')\r\n",
        "    return y[5:len(y)-5]\r\n",
        "\r\n",
        "\r\n",
        "def shuffle_dataset(x, t):\r\n",
        "    \"\"\"데이터셋을 뒤섞는다.\r\n",
        "\r\n",
        "    Parameters\r\n",
        "    ----------\r\n",
        "    x : 훈련 데이터\r\n",
        "    t : 정답 레이블\r\n",
        "    \r\n",
        "    Returns\r\n",
        "    -------\r\n",
        "    x, t : 뒤섞은 훈련 데이터와 정답 레이블\r\n",
        "    \"\"\"\r\n",
        "    permutation = np.random.permutation(x.shape[0])\r\n",
        "    x = x[permutation,:] if x.ndim == 2 else x[permutation,:,:,:]\r\n",
        "    t = t[permutation]\r\n",
        "\r\n",
        "    return x, t\r\n",
        "\r\n",
        "def conv_output_size(input_size, filter_size, stride=1, pad=0):\r\n",
        "    return (input_size + 2*pad - filter_size) / stride + 1\r\n",
        "\r\n",
        "\r\n",
        "def im2col(input_data, filter_h, filter_w, stride=1, pad=0):\r\n",
        "    \"\"\"다수의 이미지를 입력받아 2차원 배열로 변환한다(평탄화).\r\n",
        "    \r\n",
        "    Parameters\r\n",
        "    ----------\r\n",
        "    input_data : 4차원 배열 형태의 입력 데이터(이미지 수, 채널 수, 높이, 너비)\r\n",
        "    filter_h : 필터의 높이\r\n",
        "    filter_w : 필터의 너비\r\n",
        "    stride : 스트라이드\r\n",
        "    pad : 패딩\r\n",
        "    \r\n",
        "    Returns\r\n",
        "    -------\r\n",
        "    col : 2차원 배열\r\n",
        "    \"\"\"\r\n",
        "    N, C, H, W = input_data.shape\r\n",
        "    out_h = (H + 2*pad - filter_h)//stride + 1\r\n",
        "    out_w = (W + 2*pad - filter_w)//stride + 1\r\n",
        "\r\n",
        "    img = np.pad(input_data, [(0,0), (0,0), (pad, pad), (pad, pad)], 'constant')\r\n",
        "    col = np.zeros((N, C, filter_h, filter_w, out_h, out_w))\r\n",
        "\r\n",
        "    for y in range(filter_h):\r\n",
        "        y_max = y + stride*out_h\r\n",
        "        for x in range(filter_w):\r\n",
        "            x_max = x + stride*out_w\r\n",
        "            col[:, :, y, x, :, :] = img[:, :, y:y_max:stride, x:x_max:stride]\r\n",
        "\r\n",
        "    col = col.transpose(0, 4, 5, 1, 2, 3).reshape(N*out_h*out_w, -1)\r\n",
        "    return col\r\n",
        "\r\n",
        "\r\n",
        "def col2im(col, input_shape, filter_h, filter_w, stride=1, pad=0):\r\n",
        "    \"\"\"(im2col과 반대) 2차원 배열을 입력받아 다수의 이미지 묶음으로 변환한다.\r\n",
        "    \r\n",
        "    Parameters\r\n",
        "    ----------\r\n",
        "    col : 2차원 배열(입력 데이터)\r\n",
        "    input_shape : 원래 이미지 데이터의 형상（예：(10, 1, 28, 28)）\r\n",
        "    filter_h : 필터의 높이\r\n",
        "    filter_w : 필터의 너비\r\n",
        "    stride : 스트라이드\r\n",
        "    pad : 패딩\r\n",
        "    \r\n",
        "    Returns\r\n",
        "    -------\r\n",
        "    img : 변환된 이미지들\r\n",
        "    \"\"\"\r\n",
        "    N, C, H, W = input_shape\r\n",
        "    out_h = (H + 2*pad - filter_h)//stride + 1\r\n",
        "    out_w = (W + 2*pad - filter_w)//stride + 1\r\n",
        "    col = col.reshape(N, out_h, out_w, C, filter_h, filter_w).transpose(0, 3, 4, 5, 1, 2)\r\n",
        "\r\n",
        "    img = np.zeros((N, C, H + 2*pad + stride - 1, W + 2*pad + stride - 1))\r\n",
        "    for y in range(filter_h):\r\n",
        "        y_max = y + stride*out_h\r\n",
        "        for x in range(filter_w):\r\n",
        "            x_max = x + stride*out_w\r\n",
        "            img[:, :, y:y_max:stride, x:x_max:stride] += col[:, :, y, x, :, :]\r\n",
        "\r\n",
        "    return img[:, :, pad:H + pad, pad:W + pad]\r\n"
      ],
      "execution_count": 4,
      "outputs": []
    },
    {
      "cell_type": "markdown",
      "metadata": {
        "id": "QV9IkdCKflk2"
      },
      "source": [
        "이제 합성곱 계층을 구현하자.\r\n",
        "\r\n",
        "im2col(input_data, filter_h, filter_w, stride=1, pad=0)\r\n",
        "구조로 간다.\r\n",
        "input data는 위에서 본 4차원 배열로 이루어진다."
      ]
    },
    {
      "cell_type": "code",
      "metadata": {
        "colab": {
          "base_uri": "https://localhost:8080/"
        },
        "id": "fInUBfqogcDm",
        "outputId": "34a0431c-f23a-454e-a30a-bd95db5b4663"
      },
      "source": [
        "x1 = np.random.rand(1, 3, 7, 7)  # 7 * 7 형태로 3채널로 이루어진 데이터 셋 1개 추출.\r\n",
        "col1 = im2col(x1, 5, 5, stride=1, pad = 0)\r\n",
        "print(col1.shape)\r\n",
        "\r\n",
        "x2 = np.random.rand(10, 3, 7, 7) # 이번에는 데이터 10개\r\n",
        "col2 = im2col(x2, 5, 5, stride=1, pad = 0)\r\n",
        "print(col2.shape)"
      ],
      "execution_count": 7,
      "outputs": [
        {
          "output_type": "stream",
          "text": [
            "(9, 75)\n",
            "(90, 75)\n"
          ],
          "name": "stdout"
        }
      ]
    },
    {
      "cell_type": "code",
      "metadata": {
        "id": "660OwWNmib_N"
      },
      "source": [
        "class Convolution:\r\n",
        "  def __init__(self, W, b, stride = 1, pad = 0):\r\n",
        "    self.W = W\r\n",
        "    self.b = b\r\n",
        "    self.stride = stride\r\n",
        "    self.pad = pad\r\n",
        "\r\n",
        "  def forward(self, x):\r\n",
        "    FN, C, FH, FW = self.W.shape\r\n",
        "    N, C, H, W = x.shape\r\n",
        "    out_h = int(1 + (H + 2*self.pad - FH) / self.stride)\r\n",
        "    out_w = int(1 + (W + 2*self.pad - FW) / self.stride)\r\n",
        "\r\n",
        "    col = im2col(x, FH, FW, self.stride, self.pad)\r\n",
        "    col_w = self.W.reshape(FN, -1).T\r\n",
        "    # 이렇게 하면 앞의 4차원 배열을 FN * 적당히로 묶어서 동일 원소개수로...\r\n",
        "    out = np.dot(col, col_W) + self.b\r\n",
        "\r\n",
        "    out = out.reshape(N, out_h, out_w, -1).transpose(0, 3, 1, 2)\r\n",
        "    # N, H, W, C를  N, C, H, W 순서로 변경.\r\n",
        "\r\n",
        "    return out"
      ],
      "execution_count": null,
      "outputs": []
    },
    {
      "cell_type": "markdown",
      "metadata": {
        "id": "Xj4aXjGpoOP8"
      },
      "source": [
        "Pooling 또한 가능하다.\r\n",
        "1. 입력 데이터를 전개한다.\r\n",
        "2. 행별 최댓값을 구한다.\r\n",
        "3. 적절한 모양으로 성형한다."
      ]
    },
    {
      "cell_type": "code",
      "metadata": {
        "id": "V-inysX7nPd8"
      },
      "source": [
        "class Pooling:\r\n",
        "  def __init__(self, pool_h, pool_w, stride=1, pad=0):\r\n",
        "    self.pool_h = pool_h\r\n",
        "    self.pool_w = pool_w\r\n",
        "    self.stride = stride\r\n",
        "    self.pad = pad\r\n",
        "\r\n",
        "  def forward(self, x):\r\n",
        "    N, C, H, W = x.shape\r\n",
        "    out_h = int(1 + (H - self.pool_h) / self.stride)\r\n",
        "    out_w = int(1 + (W - self.pool_w) / self.stride)\r\n",
        "\r\n",
        "    col = im2col(x, self.pool_h, self.pool_w, self.stride, self.pad)\r\n",
        "    col = col.reshape(-1, self.pool_h * self.pool_w)\r\n",
        "\r\n",
        "    out = np.max(col, axis = 1)\r\n",
        "\r\n",
        "    out = out.reshae(N, out_h, out_w, C).transpose(0, 3, 1, 2)\r\n",
        "\r\n",
        "    return out_h"
      ],
      "execution_count": null,
      "outputs": []
    },
    {
      "cell_type": "markdown",
      "metadata": {
        "id": "AlD150d_VAA5"
      },
      "source": [
        "## CNN의 구현"
      ]
    },
    {
      "cell_type": "code",
      "metadata": {
        "id": "6W6Px3e4swtq"
      },
      "source": [
        "\r\n",
        "\r\n"
      ],
      "execution_count": null,
      "outputs": []
    }
  ]
}