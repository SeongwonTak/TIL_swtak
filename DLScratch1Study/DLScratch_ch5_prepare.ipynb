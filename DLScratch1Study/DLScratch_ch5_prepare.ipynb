{
  "nbformat": 4,
  "nbformat_minor": 0,
  "metadata": {
    "colab": {
      "name": "DLScratch_ch5_prepare.ipynb",
      "provenance": [],
      "toc_visible": true,
      "authorship_tag": "ABX9TyMGsbfUr0yKVVuLI47NpOXA",
      "include_colab_link": true
    },
    "kernelspec": {
      "name": "python3",
      "display_name": "Python 3"
    }
  },
  "cells": [
    {
      "cell_type": "markdown",
      "metadata": {
        "id": "view-in-github",
        "colab_type": "text"
      },
      "source": [
        "<a href=\"https://colab.research.google.com/github/SeongwonTak/TIL_swtak/blob/master/DLScratch1Study/DLScratch_ch5_prepare.ipynb\" target=\"_parent\"><img src=\"https://colab.research.google.com/assets/colab-badge.svg\" alt=\"Open In Colab\"/></a>"
      ]
    },
    {
      "cell_type": "markdown",
      "metadata": {
        "id": "9U7k4iYWy4XW"
      },
      "source": [
        "# 밑바닥부터 시작하는 딥러닝_5장 스터디 준비\r\n",
        "어느 덧, 스터디 4주차.  5장 스터디를 준비한 내용을 정리한다.\r\n",
        "(내용이 상당히 어렵더라..)"
      ]
    },
    {
      "cell_type": "markdown",
      "metadata": {
        "id": "GSXkrInbzAIG"
      },
      "source": [
        "## 5.1 계산 그래프\r\n",
        "### 계산그래프란?\r\n",
        "- 계산과정을 그래프로 표현\r\n",
        "- 여기서 말하는 그래프는 node와 edge로 표현하는 그림.\r\n",
        "- 계산과정을 왼쪽에서 오른쪽으로 진행하면 (forward propagation)\r\n",
        "- 계산과정을 오른쪽에서 왼쪽으로 역방향 진행하면 (backword propagation)\r\n",
        "  - 역전파는 미분을 계산할때 중요한 역할을 한다.(역전파가 미분을 전달하게된다)\r\n",
        "\r\n",
        "**질문사항, 대체 왜 역함수가 아닌 미분을 역전파로 전달하는거를 생각하는걸까?**\r\n",
        "\r\n",
        "### 계산그래프의 예시\r\n",
        "\r\n"
      ]
    },
    {
      "cell_type": "markdown",
      "metadata": {
        "id": "wCv-Ufhgz0AV"
      },
      "source": [
        "## 5.2 chain rule\r\n",
        "- 계산 그래프의 역전파\r\n",
        "순전파때의 계산의 미분을 구한다.\r\n",
        "\r\n",
        "\r\n",
        "### chain rule(미분 표현)\r\n",
        "$z=f(t)$\r\n",
        "$t=f(x)$\r\n",
        "일 경우,\r\n",
        "$$\\frac{\\partial z}{\\partial x}=\\frac{\\partial z}{\\partial t}\\frac{\\partial t}{\\partial x}$$"
      ]
    },
    {
      "cell_type": "markdown",
      "metadata": {
        "id": "pBX5Wy3k1xrg"
      },
      "source": [
        "## 5.3~5.4 덧셈노드와 곱셈노드의 역전파 \r\n",
        "\r\n",
        "### 덧셈노드\r\n",
        "만일 $z = x+y$라면,\r\n",
        "$$ \\frac{\\partial z}{\\partial x}=1$$\r\n",
        "$$ \\frac{\\partial z}{\\partial y}=1$$\r\n",
        "이므로, 덧셈 노드에 대해서 역전파를 보낼 경우에는 같은 값을 그대로 다음 노드에 전달하게 된다.\r\n"
      ]
    },
    {
      "cell_type": "code",
      "metadata": {
        "id": "HVrajUTW4OZZ"
      },
      "source": [
        "class AddLayer:\r\n",
        "  def __init__(self):\r\n",
        "    pass\r\n",
        "  \r\n",
        "  def forward(self, x, y):\r\n",
        "    out = x + y\r\n",
        "    return out\r\n",
        "\r\n",
        "  def backward(self, dout):\r\n",
        "    dx = dout * 1\r\n",
        "    dy = dout * 1\r\n",
        "    return dx, dy"
      ],
      "execution_count": 2,
      "outputs": []
    },
    {
      "cell_type": "markdown",
      "metadata": {
        "id": "C7NBQKJ7AI_G"
      },
      "source": [
        "## 곱셈노드\r\n",
        "만일 $z = xy$라면,\r\n",
        "$$ \\frac{\\partial z}{\\partial x}=y$$\r\n",
        "$$ \\frac{\\partial z}{\\partial y}=x$$\r\n",
        "이다.즉, 곱셈 노드 역전파는 순전파 때의 입력 신호들을 **서로 바꾼 값을 곱해서** 하류로 보낸다."
      ]
    },
    {
      "cell_type": "code",
      "metadata": {
        "id": "_lFdKKb4d1Cc"
      },
      "source": [
        "class MulLayer:\r\n",
        "  def __init__(self):\r\n",
        "    self.x = None\r\n",
        "    self.y = None\r\n",
        "  \r\n",
        "  def forward(self, x, y):\r\n",
        "    self.x = x\r\n",
        "    self.y = y\r\n",
        "    out = x * y\r\n",
        "  \r\n",
        "  def backward(self, dout):\r\n",
        "    dx = dout * self.y\r\n",
        "    dy = dout * self.x\r\n",
        "\r\n",
        "    return dx, dy"
      ],
      "execution_count": 3,
      "outputs": []
    },
    {
      "cell_type": "markdown",
      "metadata": {
        "id": "S8lA9SBJezXP"
      },
      "source": [
        "### 예시"
      ]
    },
    {
      "cell_type": "markdown",
      "metadata": {
        "id": "UNS6p8vte3Jr"
      },
      "source": [
        "## 5.5 활성화 함수 계층 구현\r\n",
        "\r\n"
      ]
    },
    {
      "cell_type": "markdown",
      "metadata": {
        "id": "w96NvfSgmz_P"
      },
      "source": [
        "\r\n",
        "### ReLU\r\n",
        "ReLU 함수를 미분하면, 0보다 클때는 1, 아닐때는 0으로 나올것이다."
      ]
    },
    {
      "cell_type": "code",
      "metadata": {
        "id": "6L7NhZ55i2EL"
      },
      "source": [
        "class Relu:\r\n",
        "  def __init__(self):\r\n",
        "    self.mask = None\r\n",
        "  \r\n",
        "  def forward(self, x):\r\n",
        "    self.mask = (x <= 0)\r\n",
        "    out = x.copy()\r\n",
        "    out[self.mask] = 0\r\n",
        "\r\n",
        "    return out\r\n",
        "\r\n",
        "  def backward(self, dout):\r\n",
        "    dout[self.mask] = 0\r\n",
        "    dx = dout\r\n",
        "  \r\n",
        "    return dx\r\n"
      ],
      "execution_count": null,
      "outputs": []
    },
    {
      "cell_type": "markdown",
      "metadata": {
        "id": "dw5w5yEDlaQV"
      },
      "source": [
        "### sigmoid\r\n",
        "sigmoid의 경우는 4단계로 나누어서 함수 계산을 한다.\r\n",
        "\r\n",
        "x -> -x -> exp(-x) -> 1+exp(-x) -> sigmoid\r\n",
        "\r\n",
        " 즉 * -1,  exp,  +1,  역수의 과정으로 연산을 한 것이며 각 함수를 미분하여 역으로 돌려주는 과정을 역전파로 구한다.\r\n",
        "\r\n",
        " - 역전파 1단계 : $y=\\frac{1}{x}$의 역전파 구하기\r\n",
        " - 역전파 2단계 : 덧셈의 역전파\r\n",
        " - 역전파 3단계 : $y = exp(x)$의 역전파 구하기\r\n",
        " - 역전파 4단계 : 곱셈의 역전파\r\n",
        "\r\n",
        " 위와 동일한 식으로, 미분을 구하여 곱하는 형태로 역전파를 구한다."
      ]
    },
    {
      "cell_type": "code",
      "metadata": {
        "id": "LCDIrcsfmtLH"
      },
      "source": [
        "class sigmoid:\r\n",
        "  def __init__(self):\r\n",
        "    self.out = None\r\n",
        "  \r\n",
        "  def forward(self, x):\r\n",
        "    out = 1 / (1 + np.exp(-x))\r\n",
        "    self.out = out\r\n",
        "\r\n",
        "    return out\r\n",
        "  \r\n",
        "  def backward(self, dout):\r\n",
        "    dx = dout* (1.0 - self.out) * self.out\r\n",
        "    \r\n",
        "    return dx"
      ],
      "execution_count": null,
      "outputs": []
    }
  ]
}