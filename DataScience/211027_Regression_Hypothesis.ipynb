{
 "cells": [
  {
   "cell_type": "markdown",
   "id": "a7d0aadf",
   "metadata": {},
   "source": [
    "# 회귀분석의 기본 가정 검증"
   ]
  },
  {
   "cell_type": "markdown",
   "id": "0e9f4baf",
   "metadata": {},
   "source": [
    "## 잔차의 정규성 검증 - QQ Plot"
   ]
  },
  {
   "cell_type": "markdown",
   "id": "33377c9d",
   "metadata": {},
   "source": [
    "실습 참고 링크\n",
    "\n",
    "https://zephyrus1111.tistory.com/54"
   ]
  },
  {
   "cell_type": "markdown",
   "id": "cb9e4492",
   "metadata": {},
   "source": [
    "먼저 QQ Plot이란, 가로축에선 이론상의 Quantile을 적어두고 세로축에는 획득된 샘플 값의 Quantile을 찍어둔다.\n",
    "이론과 실제가 얼마나 차이가 나는지를 쉽게 표현하는 plot이다.\n",
    "\n",
    "즉, 이 plot을 통해 잔차의 분포가 정규분포와 어느정도 차이가 나는지를 확인해 볼 수 있다."
   ]
  },
  {
   "cell_type": "markdown",
   "id": "149bdf71",
   "metadata": {},
   "source": [
    "### Example"
   ]
  },
  {
   "cell_type": "code",
   "execution_count": 2,
   "id": "65cf3c5c",
   "metadata": {},
   "outputs": [],
   "source": [
    "import numpy as np\n",
    "import matplotlib.pyplot as plt\n",
    " \n",
    "from scipy.stats import norm\n",
    "from statsmodels.formula.api import ols\n",
    " \n",
    "df = pd.read_csv('C:/Users/USER/Desktop/TIL_swtak/DataScience/Dataset/toluca_company_dataset.csv')"
   ]
  },
  {
   "cell_type": "code",
   "execution_count": 3,
   "id": "f5301fa4",
   "metadata": {},
   "outputs": [
    {
     "data": {
      "text/html": [
       "<div>\n",
       "<style scoped>\n",
       "    .dataframe tbody tr th:only-of-type {\n",
       "        vertical-align: middle;\n",
       "    }\n",
       "\n",
       "    .dataframe tbody tr th {\n",
       "        vertical-align: top;\n",
       "    }\n",
       "\n",
       "    .dataframe thead th {\n",
       "        text-align: right;\n",
       "    }\n",
       "</style>\n",
       "<table border=\"1\" class=\"dataframe\">\n",
       "  <thead>\n",
       "    <tr style=\"text-align: right;\">\n",
       "      <th></th>\n",
       "      <th>Lot_size</th>\n",
       "      <th>Work_hours</th>\n",
       "    </tr>\n",
       "  </thead>\n",
       "  <tbody>\n",
       "    <tr>\n",
       "      <th>0</th>\n",
       "      <td>80</td>\n",
       "      <td>399</td>\n",
       "    </tr>\n",
       "    <tr>\n",
       "      <th>1</th>\n",
       "      <td>30</td>\n",
       "      <td>121</td>\n",
       "    </tr>\n",
       "    <tr>\n",
       "      <th>2</th>\n",
       "      <td>50</td>\n",
       "      <td>221</td>\n",
       "    </tr>\n",
       "    <tr>\n",
       "      <th>3</th>\n",
       "      <td>90</td>\n",
       "      <td>376</td>\n",
       "    </tr>\n",
       "    <tr>\n",
       "      <th>4</th>\n",
       "      <td>70</td>\n",
       "      <td>361</td>\n",
       "    </tr>\n",
       "    <tr>\n",
       "      <th>5</th>\n",
       "      <td>60</td>\n",
       "      <td>224</td>\n",
       "    </tr>\n",
       "    <tr>\n",
       "      <th>6</th>\n",
       "      <td>120</td>\n",
       "      <td>546</td>\n",
       "    </tr>\n",
       "    <tr>\n",
       "      <th>7</th>\n",
       "      <td>80</td>\n",
       "      <td>352</td>\n",
       "    </tr>\n",
       "    <tr>\n",
       "      <th>8</th>\n",
       "      <td>100</td>\n",
       "      <td>353</td>\n",
       "    </tr>\n",
       "    <tr>\n",
       "      <th>9</th>\n",
       "      <td>50</td>\n",
       "      <td>157</td>\n",
       "    </tr>\n",
       "    <tr>\n",
       "      <th>10</th>\n",
       "      <td>40</td>\n",
       "      <td>160</td>\n",
       "    </tr>\n",
       "    <tr>\n",
       "      <th>11</th>\n",
       "      <td>70</td>\n",
       "      <td>252</td>\n",
       "    </tr>\n",
       "    <tr>\n",
       "      <th>12</th>\n",
       "      <td>90</td>\n",
       "      <td>389</td>\n",
       "    </tr>\n",
       "    <tr>\n",
       "      <th>13</th>\n",
       "      <td>20</td>\n",
       "      <td>113</td>\n",
       "    </tr>\n",
       "    <tr>\n",
       "      <th>14</th>\n",
       "      <td>110</td>\n",
       "      <td>435</td>\n",
       "    </tr>\n",
       "    <tr>\n",
       "      <th>15</th>\n",
       "      <td>100</td>\n",
       "      <td>420</td>\n",
       "    </tr>\n",
       "    <tr>\n",
       "      <th>16</th>\n",
       "      <td>30</td>\n",
       "      <td>212</td>\n",
       "    </tr>\n",
       "    <tr>\n",
       "      <th>17</th>\n",
       "      <td>50</td>\n",
       "      <td>268</td>\n",
       "    </tr>\n",
       "    <tr>\n",
       "      <th>18</th>\n",
       "      <td>90</td>\n",
       "      <td>377</td>\n",
       "    </tr>\n",
       "    <tr>\n",
       "      <th>19</th>\n",
       "      <td>110</td>\n",
       "      <td>421</td>\n",
       "    </tr>\n",
       "    <tr>\n",
       "      <th>20</th>\n",
       "      <td>30</td>\n",
       "      <td>273</td>\n",
       "    </tr>\n",
       "    <tr>\n",
       "      <th>21</th>\n",
       "      <td>90</td>\n",
       "      <td>468</td>\n",
       "    </tr>\n",
       "    <tr>\n",
       "      <th>22</th>\n",
       "      <td>40</td>\n",
       "      <td>244</td>\n",
       "    </tr>\n",
       "    <tr>\n",
       "      <th>23</th>\n",
       "      <td>80</td>\n",
       "      <td>342</td>\n",
       "    </tr>\n",
       "    <tr>\n",
       "      <th>24</th>\n",
       "      <td>70</td>\n",
       "      <td>323</td>\n",
       "    </tr>\n",
       "  </tbody>\n",
       "</table>\n",
       "</div>"
      ],
      "text/plain": [
       "    Lot_size  Work_hours\n",
       "0         80         399\n",
       "1         30         121\n",
       "2         50         221\n",
       "3         90         376\n",
       "4         70         361\n",
       "5         60         224\n",
       "6        120         546\n",
       "7         80         352\n",
       "8        100         353\n",
       "9         50         157\n",
       "10        40         160\n",
       "11        70         252\n",
       "12        90         389\n",
       "13        20         113\n",
       "14       110         435\n",
       "15       100         420\n",
       "16        30         212\n",
       "17        50         268\n",
       "18        90         377\n",
       "19       110         421\n",
       "20        30         273\n",
       "21        90         468\n",
       "22        40         244\n",
       "23        80         342\n",
       "24        70         323"
      ]
     },
     "execution_count": 3,
     "metadata": {},
     "output_type": "execute_result"
    }
   ],
   "source": [
    "df"
   ]
  },
  {
   "cell_type": "code",
   "execution_count": 4,
   "id": "45bc5bb6",
   "metadata": {},
   "outputs": [],
   "source": [
    "# sm.ols를 활용하여 다음과 같은 방식으로도 구현 가능하다.\n",
    "# y ~ x변수 같은 방식으로 편하게 지정 가능하다.\n",
    "\n",
    "fit = ols('Work_hours ~ Lot_size',data = df).fit()"
   ]
  },
  {
   "cell_type": "code",
   "execution_count": 6,
   "id": "6ef256c6",
   "metadata": {},
   "outputs": [
    {
     "data": {
      "text/html": [
       "<table class=\"simpletable\">\n",
       "<caption>OLS Regression Results</caption>\n",
       "<tr>\n",
       "  <th>Dep. Variable:</th>       <td>Work_hours</td>    <th>  R-squared:         </th> <td>   0.822</td>\n",
       "</tr>\n",
       "<tr>\n",
       "  <th>Model:</th>                   <td>OLS</td>       <th>  Adj. R-squared:    </th> <td>   0.814</td>\n",
       "</tr>\n",
       "<tr>\n",
       "  <th>Method:</th>             <td>Least Squares</td>  <th>  F-statistic:       </th> <td>   105.9</td>\n",
       "</tr>\n",
       "<tr>\n",
       "  <th>Date:</th>             <td>Wed, 27 Oct 2021</td> <th>  Prob (F-statistic):</th> <td>4.45e-10</td>\n",
       "</tr>\n",
       "<tr>\n",
       "  <th>Time:</th>                 <td>23:43:20</td>     <th>  Log-Likelihood:    </th> <td> -131.64</td>\n",
       "</tr>\n",
       "<tr>\n",
       "  <th>No. Observations:</th>      <td>    25</td>      <th>  AIC:               </th> <td>   267.3</td>\n",
       "</tr>\n",
       "<tr>\n",
       "  <th>Df Residuals:</th>          <td>    23</td>      <th>  BIC:               </th> <td>   269.7</td>\n",
       "</tr>\n",
       "<tr>\n",
       "  <th>Df Model:</th>              <td>     1</td>      <th>                     </th>     <td> </td>   \n",
       "</tr>\n",
       "<tr>\n",
       "  <th>Covariance Type:</th>      <td>nonrobust</td>    <th>                     </th>     <td> </td>   \n",
       "</tr>\n",
       "</table>\n",
       "<table class=\"simpletable\">\n",
       "<tr>\n",
       "      <td></td>         <th>coef</th>     <th>std err</th>      <th>t</th>      <th>P>|t|</th>  <th>[0.025</th>    <th>0.975]</th>  \n",
       "</tr>\n",
       "<tr>\n",
       "  <th>Intercept</th> <td>   62.3659</td> <td>   26.177</td> <td>    2.382</td> <td> 0.026</td> <td>    8.214</td> <td>  116.518</td>\n",
       "</tr>\n",
       "<tr>\n",
       "  <th>Lot_size</th>  <td>    3.5702</td> <td>    0.347</td> <td>   10.290</td> <td> 0.000</td> <td>    2.852</td> <td>    4.288</td>\n",
       "</tr>\n",
       "</table>\n",
       "<table class=\"simpletable\">\n",
       "<tr>\n",
       "  <th>Omnibus:</th>       <td> 0.608</td> <th>  Durbin-Watson:     </th> <td>   1.432</td>\n",
       "</tr>\n",
       "<tr>\n",
       "  <th>Prob(Omnibus):</th> <td> 0.738</td> <th>  Jarque-Bera (JB):  </th> <td>   0.684</td>\n",
       "</tr>\n",
       "<tr>\n",
       "  <th>Skew:</th>          <td> 0.298</td> <th>  Prob(JB):          </th> <td>   0.710</td>\n",
       "</tr>\n",
       "<tr>\n",
       "  <th>Kurtosis:</th>      <td> 2.450</td> <th>  Cond. No.          </th> <td>    202.</td>\n",
       "</tr>\n",
       "</table><br/><br/>Notes:<br/>[1] Standard Errors assume that the covariance matrix of the errors is correctly specified."
      ],
      "text/plain": [
       "<class 'statsmodels.iolib.summary.Summary'>\n",
       "\"\"\"\n",
       "                            OLS Regression Results                            \n",
       "==============================================================================\n",
       "Dep. Variable:             Work_hours   R-squared:                       0.822\n",
       "Model:                            OLS   Adj. R-squared:                  0.814\n",
       "Method:                 Least Squares   F-statistic:                     105.9\n",
       "Date:                Wed, 27 Oct 2021   Prob (F-statistic):           4.45e-10\n",
       "Time:                        23:43:20   Log-Likelihood:                -131.64\n",
       "No. Observations:                  25   AIC:                             267.3\n",
       "Df Residuals:                      23   BIC:                             269.7\n",
       "Df Model:                           1                                         \n",
       "Covariance Type:            nonrobust                                         \n",
       "==============================================================================\n",
       "                 coef    std err          t      P>|t|      [0.025      0.975]\n",
       "------------------------------------------------------------------------------\n",
       "Intercept     62.3659     26.177      2.382      0.026       8.214     116.518\n",
       "Lot_size       3.5702      0.347     10.290      0.000       2.852       4.288\n",
       "==============================================================================\n",
       "Omnibus:                        0.608   Durbin-Watson:                   1.432\n",
       "Prob(Omnibus):                  0.738   Jarque-Bera (JB):                0.684\n",
       "Skew:                           0.298   Prob(JB):                        0.710\n",
       "Kurtosis:                       2.450   Cond. No.                         202.\n",
       "==============================================================================\n",
       "\n",
       "Notes:\n",
       "[1] Standard Errors assume that the covariance matrix of the errors is correctly specified.\n",
       "\"\"\""
      ]
     },
     "execution_count": 6,
     "metadata": {},
     "output_type": "execute_result"
    }
   ],
   "source": [
    "# 다음과 같이 결과표를 출력 가능하다.\n",
    "fit.summary()"
   ]
  },
  {
   "cell_type": "code",
   "execution_count": 7,
   "id": "4882a5c8",
   "metadata": {},
   "outputs": [
    {
     "data": {
      "text/plain": [
       "0      51.017980\n",
       "1     -48.471919\n",
       "2     -19.875960\n",
       "3      -7.684040\n",
       "4      48.720000\n",
       "5     -52.577980\n",
       "6      55.209899\n",
       "7       4.017980\n",
       "8     -66.386061\n",
       "9     -83.875960\n",
       "10    -45.173939\n",
       "11    -60.280000\n",
       "12      5.315960\n",
       "13    -20.769899\n",
       "14    -20.088081\n",
       "15      0.613939\n",
       "16     42.528081\n",
       "17     27.124040\n",
       "18     -6.684040\n",
       "19    -34.088081\n",
       "20    103.528081\n",
       "21     84.315960\n",
       "22     38.826061\n",
       "23     -5.982020\n",
       "24     10.720000\n",
       "dtype: float64"
      ]
     },
     "execution_count": 7,
     "metadata": {},
     "output_type": "execute_result"
    }
   ],
   "source": [
    "# 잔차는 다음을 통해 접근 가능하다.\n",
    "fit.resid"
   ]
  },
  {
   "cell_type": "markdown",
   "id": "a6deedc3",
   "metadata": {},
   "source": [
    "이제 잔차를 시각화하고 이를 분석하고자 한다."
   ]
  },
  {
   "cell_type": "code",
   "execution_count": 8,
   "id": "cd6530a6",
   "metadata": {},
   "outputs": [
    {
     "data": {
      "image/png": "[encoded data removed]",
      "text/plain": [
       "<Figure size 576x576 with 1 Axes>"
      ]
     },
     "metadata": {},
     "output_type": "display_data"
    }
   ],
   "source": [
    "# 쉬운 방법 - probplot\n",
    "from scipy.stats import probplot\n",
    "\n",
    "fig = plt.figure(figsize = (8, 8))\n",
    "fig.set_facecolor('white')\n",
    "\n",
    "ax = fig.add_subplot()\n",
    "probplot(fit.resid, dist = 'norm', plot = ax)\n",
    "plt.show()"
   ]
  },
  {
   "cell_type": "markdown",
   "id": "654471e3",
   "metadata": {},
   "source": [
    "통계적으로 정규성을 검증하는 방법 또한 존재한다."
   ]
  },
  {
   "cell_type": "markdown",
   "id": "148e61ab",
   "metadata": {},
   "source": [
    "## 잔차의 정규성 검증 : Shapiro Test : 샤피로 윌크 검정"
   ]
  },
  {
   "cell_type": "markdown",
   "id": "b3db412b",
   "metadata": {},
   "source": [
    "여기서는 특이하게\n",
    "- 귀무가설 : 데이터는 정규분포를 따른다.\n",
    "- 대립가설 : 데이터는 정규분포를 따르지 않는다.\n",
    "\n",
    "\n",
    "따라서 p-value값이 유의수준 이하로 나올 경우 귀무가설이 기각이 되므로 데이터가 정규분포를 따르지 않게 된다."
   ]
  },
  {
   "cell_type": "code",
   "execution_count": 11,
   "id": "aa9b5e35",
   "metadata": {},
   "outputs": [
    {
     "data": {
      "text/plain": [
       "ShapiroResult(statistic=0.978904128074646, pvalue=0.8625532984733582)"
      ]
     },
     "execution_count": 11,
     "metadata": {},
     "output_type": "execute_result"
    }
   ],
   "source": [
    "from scipy.stats import shapiro\n",
    "shapiro(fit.resid.values)"
   ]
  },
  {
   "cell_type": "markdown",
   "id": "3b94f0e6",
   "metadata": {},
   "source": [
    "귀무가설을 기각할 수 없으므로 잔차가 정규분포를 따른다고 볼 수 있을 것이다."
   ]
  },
  {
   "cell_type": "markdown",
   "id": "1f0eb1a5",
   "metadata": {},
   "source": [
    "## Durbin - Watson 통계량"
   ]
  },
  {
   "cell_type": "markdown",
   "id": "35de6a72",
   "metadata": {},
   "source": [
    "이는 잔차의 독립성 검증에 확인된다."
   ]
  },
  {
   "cell_type": "code",
   "execution_count": null,
   "id": "9f4208b0",
   "metadata": {},
   "outputs": [],
   "source": []
  }
 ],
 "metadata": {
  "kernelspec": {
   "display_name": "Python 3",
   "language": "python",
   "name": "python3"
  },
  "language_info": {
   "codemirror_mode": {
    "name": "ipython",
    "version": 3
   },
   "file_extension": ".py",
   "mimetype": "text/x-python",
   "name": "python",
   "nbconvert_exporter": "python",
   "pygments_lexer": "ipython3",
   "version": "3.8.8"
  }
 },
 "nbformat": 4,
 "nbformat_minor": 5
}
