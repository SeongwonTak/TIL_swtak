{
  "nbformat": 4,
  "nbformat_minor": 0,
  "metadata": {
    "colab": {
      "name": "210131 Ensemble 2.ipynb",
      "provenance": [],
      "authorship_tag": "ABX9TyMnpz1VC8SF6JtfOfSdSp8v",
      "include_colab_link": true
    },
    "kernelspec": {
      "name": "python3",
      "display_name": "Python 3"
    }
  },
  "cells": [
    {
      "cell_type": "markdown",
      "metadata": {
        "id": "view-in-github",
        "colab_type": "text"
      },
      "source": [
        "<a href=\"https://colab.research.google.com/github/SeongwonTak/TIL_swtak/blob/master/DataScience/210131_Ensemble_2.ipynb\" target=\"_parent\"><img src=\"https://colab.research.google.com/assets/colab-badge.svg\" alt=\"Open In Colab\"/></a>"
      ]
    },
    {
      "cell_type": "markdown",
      "metadata": {
        "id": "QYMqZxEdldjn"
      },
      "source": [
        "# 210131 Ensemble 2\r\n",
        "\r\n",
        "어제에 이어 배깅과 부스팅에 대해 조금 더 정리해보려고 한다.\r\n",
        "특히 부스팅을 중심으로 scoring이 무엇인지 정리 후\r\n",
        "**XGBoost 모델에** 대해서 간단히 개요 및 코드 예시를 확인해보고자 한다."
      ]
    },
    {
      "cell_type": "markdown",
      "metadata": {
        "id": "gl6JLgBtmn4K"
      },
      "source": [
        "# 1. 배깅과 부스팅의 차이 정리\r\n",
        "다시 한 번, 배깅과 부스팅의 차이를 정리하려고 한다.\r\n",
        " - 배깅 : 서로 독립적인 N개의 분류기에 전체 표본에서 임의로 추출된 표본을 학습시켜 다수결로 최종 분류를 결정한다.\r\n",
        "\r\n",
        " - 부스팅 : 약한 분류기에서 잘못 분류된 sample에 가중치를 변경하여 재학습시킨다.\r\n",
        "\r\n",
        " 여기서 의문이 드는 점은 대체 '가중치'를 부여하고 변경하는 것이 무엇을 의미하는지에 대해 고려해야 할 것이다.\r\n",
        "\r\n",
        "\r\n",
        " 부스팅의 경우에는 가중치 함수를 새로 부여하기에, 최종 결과값이 0, 1로 나누어지는 것이 아닌 0과 1 (혹은 -1과 1) 사이의 어떤 실수로 반환이 될 것이다.\r\n",
        " "
      ]
    },
    {
      "cell_type": "markdown",
      "metadata": {
        "id": "uofNlJxOsRh_"
      },
      "source": [
        "## 2. 부스팅 알고리즘의 구체적 순서\r\n",
        "부스팅 알고리즘 그 중 어제 확인해본 Adaboost를 통하여 가중치를 적용한다는 것이 대체 무슨 말인지 확인해 보려고 한다.\r\n",
        "\r\n",
        "구체적인 순서는 다음과 같다.\r\n",
        "\r\n",
        "- 1단계 : 가중치 벡터 $w$를 모두 동일한 가중치가 되게 설정한다.\r\n",
        "- 2단계 : 다음 과정을 부스팅 횟수동안 반복한다.\r\n",
        "  * a. 가중치가 부여된 약한 학습기를 훈련한다.\r\n",
        "  $$ C_{j} = train(X, y, w)$$\r\n",
        "  * b. 예측 실시. \r\n",
        "  $$ \\hat{y} = predict(C_{j}(X))$$\r\n",
        "  * c. 에러율 계산\r\n",
        "  $$ \\epsilon = w \\cdot (\\hat{y} \\neq y)$$\r\n",
        "  * d. 학습기 결과 바탕 학습기 가중치 $a_{j}$ 계산\r\n",
        "  * e. 학습기 가중치 바탕으로  최종 가중치 업데이트\r\n",
        "  * f. 정규화 실시. (**가중치의 합은 1이 되어야 한다**)\r\n",
        "- 3단계 : 최종 예측을 계산한다.\r\n"
      ]
    },
    {
      "cell_type": "markdown",
      "metadata": {
        "id": "jrUgdLOdwcfj"
      },
      "source": [
        "## 3. XGBoost의 개요와 사용법.\r\n",
        "\r\n",
        "eXtreme Gradient Boost, **XGBOOST**란, Gradient라는 말이 들어가는 것처럼, 기본적으로는 '**경사하강법**'을 기반으로, 가중치를 최적화 시키는 Boost 방법이다.\r\n",
        "\r\n",
        "XGBoost의 경우는 Regularization이라는 과정을 통해 모델에 제약을 걸어 과적합을 방지한다.\r\n",
        "\r\n",
        "정확하게는 최적화 할려는 목적 함수를 다음과 같이 표기 가능하다.\r\n",
        "$$ obj(\\theta) = L(\\theta) + \\Omega(\\theta)$$\r\n",
        "\r\n",
        "여기서 $L$은 loss,  $\\Omega$는 Regularization term에 해당된다.\r\n",
        "\r\n",
        "구체적인 수학적 배경은 추후 자세한 예시와 함께 정리하려고 한다.\r\n",
        "\r\n",
        "오늘은 일단 코드를 통해 사용법을 알아보자.\r\n",
        "XGBoost의 경우는 별도의 패키지가 존재한다."
      ]
    },
    {
      "cell_type": "code",
      "metadata": {
        "colab": {
          "base_uri": "https://localhost:8080/",
          "height": 195
        },
        "id": "lLIoy5G7XzKy",
        "outputId": "344cc906-f2a2-46c7-eaa4-0010f27b74f1"
      },
      "source": [
        "# Data Loding. Our Friend, Iris.\r\n",
        "import numpy as np\r\n",
        "import pandas as pd\r\n",
        "import seaborn as sns\r\n",
        "\r\n",
        "iris = sns.load_dataset('iris')\r\n",
        "iris.head()"
      ],
      "execution_count": 2,
      "outputs": [
        {
          "output_type": "execute_result",
          "data": {
            "text/html": [
              "<div>\n",
              "<style scoped>\n",
              "    .dataframe tbody tr th:only-of-type {\n",
              "        vertical-align: middle;\n",
              "    }\n",
              "\n",
              "    .dataframe tbody tr th {\n",
              "        vertical-align: top;\n",
              "    }\n",
              "\n",
              "    .dataframe thead th {\n",
              "        text-align: right;\n",
              "    }\n",
              "</style>\n",
              "<table border=\"1\" class=\"dataframe\">\n",
              "  <thead>\n",
              "    <tr style=\"text-align: right;\">\n",
              "      <th></th>\n",
              "      <th>sepal_length</th>\n",
              "      <th>sepal_width</th>\n",
              "      <th>petal_length</th>\n",
              "      <th>petal_width</th>\n",
              "      <th>species</th>\n",
              "    </tr>\n",
              "  </thead>\n",
              "  <tbody>\n",
              "    <tr>\n",
              "      <th>0</th>\n",
              "      <td>5.1</td>\n",
              "      <td>3.5</td>\n",
              "      <td>1.4</td>\n",
              "      <td>0.2</td>\n",
              "      <td>setosa</td>\n",
              "    </tr>\n",
              "    <tr>\n",
              "      <th>1</th>\n",
              "      <td>4.9</td>\n",
              "      <td>3.0</td>\n",
              "      <td>1.4</td>\n",
              "      <td>0.2</td>\n",
              "      <td>setosa</td>\n",
              "    </tr>\n",
              "    <tr>\n",
              "      <th>2</th>\n",
              "      <td>4.7</td>\n",
              "      <td>3.2</td>\n",
              "      <td>1.3</td>\n",
              "      <td>0.2</td>\n",
              "      <td>setosa</td>\n",
              "    </tr>\n",
              "    <tr>\n",
              "      <th>3</th>\n",
              "      <td>4.6</td>\n",
              "      <td>3.1</td>\n",
              "      <td>1.5</td>\n",
              "      <td>0.2</td>\n",
              "      <td>setosa</td>\n",
              "    </tr>\n",
              "    <tr>\n",
              "      <th>4</th>\n",
              "      <td>5.0</td>\n",
              "      <td>3.6</td>\n",
              "      <td>1.4</td>\n",
              "      <td>0.2</td>\n",
              "      <td>setosa</td>\n",
              "    </tr>\n",
              "  </tbody>\n",
              "</table>\n",
              "</div>"
            ],
            "text/plain": [
              "   sepal_length  sepal_width  petal_length  petal_width species\n",
              "0           5.1          3.5           1.4          0.2  setosa\n",
              "1           4.9          3.0           1.4          0.2  setosa\n",
              "2           4.7          3.2           1.3          0.2  setosa\n",
              "3           4.6          3.1           1.5          0.2  setosa\n",
              "4           5.0          3.6           1.4          0.2  setosa"
            ]
          },
          "metadata": {
            "tags": []
          },
          "execution_count": 2
        }
      ]
    },
    {
      "cell_type": "code",
      "metadata": {
        "colab": {
          "base_uri": "https://localhost:8080/"
        },
        "id": "gjzAZi0cbx1X",
        "outputId": "b183b963-680e-4147-fa3c-81a5e05e7d5e"
      },
      "source": [
        "iris.data = iris.drop('species', axis = 1)\r\n",
        "iris.target = iris['species']\r\n",
        "\r\n",
        "# TVT, 예제에서는 validation은 생략하자.\r\n",
        "from sklearn.model_selection import train_test_split\r\n",
        "X_train , X_test , y_train , y_test = train_test_split(iris.data, iris.target,\r\n",
        "                                                       test_size=0.3,  random_state=11)"
      ],
      "execution_count": 4,
      "outputs": [
        {
          "output_type": "stream",
          "text": [
            "/usr/local/lib/python3.6/dist-packages/ipykernel_launcher.py:2: UserWarning: Pandas doesn't allow columns to be created via a new attribute name - see https://pandas.pydata.org/pandas-docs/stable/indexing.html#attribute-access\n",
            "  \n"
          ],
          "name": "stderr"
        }
      ]
    },
    {
      "cell_type": "code",
      "metadata": {
        "id": "-lvkzfW2auAI"
      },
      "source": [
        "#코드를 숫자로 남기기 위해.\r\n",
        "\r\n",
        "import xgboost as xgb\r\n",
        "from xgboost import plot_importance\r\n",
        "\r\n",
        "y_dict = dict(zip(y_train.unique(), range(len(y_train.unique()))))\r\n",
        "labels = y_train.unique()\r\n",
        "y_train_num = []\r\n",
        "for y in y_train:\r\n",
        "  y_train_num.append(y_dict[y])"
      ],
      "execution_count": 7,
      "outputs": []
    },
    {
      "cell_type": "code",
      "metadata": {
        "id": "tOBtXVu4d-lM"
      },
      "source": [
        "dtrain = xgb.DMatrix(data = np.array(X_train), label = y_train_num)\r\n",
        "dtest = xgb.DMatrix(data=np.array(X_test))"
      ],
      "execution_count": 8,
      "outputs": []
    },
    {
      "cell_type": "markdown",
      "metadata": {
        "id": "2bHCTmE0ebUD"
      },
      "source": [
        "random forest랑 다른 점은.. (정확히는 sklearn) 여기서는 Hyper-parameter를 직접 dict로 정의해야 한다.\r\n"
      ]
    },
    {
      "cell_type": "code",
      "metadata": {
        "id": "rIzePEFXe9n2"
      },
      "source": [
        "params = { 'max_depth': 2,                      # 트리 최대 깊이\r\n",
        "           'learning_rate': 0.01,               # 학습률, 경사하강법의 이동정도.\r\n",
        "           'n_estimators': 50,                  # 트리의 갯수\r\n",
        "           'objective':'multi:softmax',         # 목적 함수\r\n",
        "           'num_class': 3}  # 클래스의 개수"
      ],
      "execution_count": 9,
      "outputs": []
    },
    {
      "cell_type": "code",
      "metadata": {
        "id": "L6TQJ3hYgD6c"
      },
      "source": [
        "xgb_model = xgb.train(params = params, dtrain = dtrain)"
      ],
      "execution_count": 10,
      "outputs": []
    },
    {
      "cell_type": "code",
      "metadata": {
        "colab": {
          "base_uri": "https://localhost:8080/"
        },
        "id": "4uUzTsmKgJgO",
        "outputId": "08bae3cb-351f-463f-bb8a-cb5309995a87"
      },
      "source": [
        "y_test_num = []\r\n",
        "for y in  y_test:\r\n",
        "  y_test_num.append(y_dict[y])\r\n",
        "\r\n",
        "# 모델이 예상한 결과 반환\r\n",
        "predict = xgb_model.predict(dtest)\r\n",
        "accuracy = sum(predict == y_test_num)/len(y_test_num)\r\n",
        "# 반환된 예측 데이터와 실제 데이터간의 비교로 정확도 계산\r\n",
        "print(\"정확도: {0:.4f}\".format(accuracy))"
      ],
      "execution_count": 12,
      "outputs": [
        {
          "output_type": "stream",
          "text": [
            "정확도: 0.8444\n"
          ],
          "name": "stdout"
        }
      ]
    },
    {
      "cell_type": "markdown",
      "metadata": {
        "id": "gNCu2uvkgkFt"
      },
      "source": [
        "변수별로 중요도 또한 그래프 출력 가능하다."
      ]
    },
    {
      "cell_type": "code",
      "metadata": {
        "colab": {
          "base_uri": "https://localhost:8080/",
          "height": 295
        },
        "id": "BFjM58C1g04o",
        "outputId": "8d5a67ae-7679-4b5b-8e23-22a765e47cc6"
      },
      "source": [
        "# 위의 그래프 순서대로 f0~f3 배정, f0 = 0이어서 안나옴.\r\n",
        "import matplotlib.pyplot as plt\r\n",
        "\r\n",
        "plot_importance(xgb_model)\r\n",
        "plt.show()"
      ],
      "execution_count": 15,
      "outputs": [
        {
          "output_type": "display_data",
          "data": {
            "image/png": "[encoded data removed]",
            "text/plain": [
              "<Figure size 432x288 with 1 Axes>"
            ]
          },
          "metadata": {
            "tags": [],
            "needs_background": "light"
          }
        }
      ]
    }
  ]
}