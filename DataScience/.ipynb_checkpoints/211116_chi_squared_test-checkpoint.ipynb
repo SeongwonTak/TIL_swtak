{
 "cells": [
  {
   "cell_type": "markdown",
   "id": "47fe151e",
   "metadata": {},
   "source": [
    "# 211116_chi squared test"
   ]
  },
  {
   "cell_type": "markdown",
   "id": "6e746eab",
   "metadata": {},
   "source": [
    "Python을 활용한 카이제곱 검정 실습"
   ]
  },
  {
   "cell_type": "code",
   "execution_count": 2,
   "id": "5238796e",
   "metadata": {},
   "outputs": [],
   "source": [
    "import scipy.stats as stats\n",
    "import pandas as pd"
   ]
  },
  {
   "cell_type": "markdown",
   "id": "fdc69730",
   "metadata": {},
   "source": [
    "## 적합도 검정 "
   ]
  },
  {
   "cell_type": "markdown",
   "id": "7fe76aed",
   "metadata": {},
   "source": [
    "관측된 데이터가 예상되는 데이터 분포와 일치하는가? 하나의 변수에 대한 분석"
   ]
  },
  {
   "cell_type": "markdown",
   "id": "4f13accf",
   "metadata": {},
   "source": [
    "100개의 공이 있는 상자가 있다. 공은 4개의 색으로 빨강, 주황, 노랑, 파랑이다.\n",
    "우리가 기대하는 바는 상자안에 공들의 색의 분포가 동일하다는 것이다.\n",
    "실제로 개수를 세니 각각 25개, 37개, 18개, 20개가 나왔다. 공들의 분포는 동일하다고 할 수 있을까?"
   ]
  },
  {
   "cell_type": "code",
   "execution_count": 2,
   "id": "05a2578b",
   "metadata": {},
   "outputs": [
    {
     "name": "stdout",
     "output_type": "stream",
     "text": [
      "0.033254857387871706\n"
     ]
    }
   ],
   "source": [
    "observed_data = [25, 37, 18, 20]\n",
    "expected_data = [25, 25, 25, 25]\n",
    "chi_squared = stats.chisquare(observed_data, expected_data)\n",
    "chi_val, p_val = chi_squared\n",
    "print(p_val)"
   ]
  },
  {
   "cell_type": "markdown",
   "id": "ddc0b86c",
   "metadata": {},
   "source": [
    "유의수준 5% 하에 귀무가설이 기각된다. 따라서, 관찰빈도와 기대빈도는 같다고 할 수 없다."
   ]
  },
  {
   "cell_type": "code",
   "execution_count": 3,
   "id": "a97e1e98",
   "metadata": {},
   "outputs": [
    {
     "name": "stdout",
     "output_type": "stream",
     "text": [
      "0.9402424948393607\n"
     ]
    }
   ],
   "source": [
    "observed_data = [24, 26, 23, 27]\n",
    "expected_data = [25, 25, 25, 25]\n",
    "chi_squared = stats.chisquare(observed_data, expected_data)\n",
    "chi_val, p_val = chi_squared\n",
    "print(p_val)"
   ]
  },
  {
   "cell_type": "markdown",
   "id": "ca2dface",
   "metadata": {},
   "source": [
    "이렇게 24개, 26개, 23개, 27개의 경우에는 거의 분포가 균일하다는 느낌도받고, 실제 p-val도 귀무가설이 기각되지 않으며 분포가 균등하다고 말할 수 있게 된다."
   ]
  },
  {
   "cell_type": "markdown",
   "id": "e5812328",
   "metadata": {},
   "source": [
    "## 동질성 검정"
   ]
  },
  {
   "cell_type": "markdown",
   "id": "8a8a474c",
   "metadata": {},
   "source": [
    "동질성 검정은 하나의 독립변수의 구분에 대해, 다른 독립변수의 비율이 같게 차지되는지 보는 검정이다."
   ]
  },
  {
   "cell_type": "markdown",
   "id": "b130f85d",
   "metadata": {},
   "source": [
    "남성 100명, 여성 150명을 대상으로 상품 1, 2, 3중 가장 호감있는 상품을 고르라는 투표를 실시했다.\n",
    "상품에 대한 호감의 분포가, 남성/여성 상관없이 동일한지를 확인해보고자 한다."
   ]
  },
  {
   "cell_type": "code",
   "execution_count": 22,
   "id": "4af0082e",
   "metadata": {},
   "outputs": [],
   "source": [
    "item_male = [20, 47, 33]\n",
    "item_female = [30, 79, 41]"
   ]
  },
  {
   "cell_type": "code",
   "execution_count": 23,
   "id": "c08b31f2",
   "metadata": {},
   "outputs": [],
   "source": [
    "item_df = pd.DataFrame([item_male, item_female],\n",
    "                       columns = ['item1', 'item2', 'item3'],\n",
    "                       index = ['M', 'F'])"
   ]
  },
  {
   "cell_type": "code",
   "execution_count": 24,
   "id": "242ce552",
   "metadata": {},
   "outputs": [
    {
     "data": {
      "text/html": [
       "<div>\n",
       "<style scoped>\n",
       "    .dataframe tbody tr th:only-of-type {\n",
       "        vertical-align: middle;\n",
       "    }\n",
       "\n",
       "    .dataframe tbody tr th {\n",
       "        vertical-align: top;\n",
       "    }\n",
       "\n",
       "    .dataframe thead th {\n",
       "        text-align: right;\n",
       "    }\n",
       "</style>\n",
       "<table border=\"1\" class=\"dataframe\">\n",
       "  <thead>\n",
       "    <tr style=\"text-align: right;\">\n",
       "      <th></th>\n",
       "      <th>item1</th>\n",
       "      <th>item2</th>\n",
       "      <th>item3</th>\n",
       "    </tr>\n",
       "  </thead>\n",
       "  <tbody>\n",
       "    <tr>\n",
       "      <th>M</th>\n",
       "      <td>20</td>\n",
       "      <td>47</td>\n",
       "      <td>33</td>\n",
       "    </tr>\n",
       "    <tr>\n",
       "      <th>F</th>\n",
       "      <td>30</td>\n",
       "      <td>79</td>\n",
       "      <td>41</td>\n",
       "    </tr>\n",
       "  </tbody>\n",
       "</table>\n",
       "</div>"
      ],
      "text/plain": [
       "   item1  item2  item3\n",
       "M     20     47     33\n",
       "F     30     79     41"
      ]
     },
     "execution_count": 24,
     "metadata": {},
     "output_type": "execute_result"
    }
   ],
   "source": [
    "item_df"
   ]
  },
  {
   "cell_type": "code",
   "execution_count": 26,
   "id": "a63f624b",
   "metadata": {},
   "outputs": [
    {
     "data": {
      "text/plain": [
       "(1.033176033176033,\n",
       " 0.5965525067515041,\n",
       " 2,\n",
       " array([[20. , 50.4, 29.6],\n",
       "        [30. , 75.6, 44.4]]))"
      ]
     },
     "execution_count": 26,
     "metadata": {},
     "output_type": "execute_result"
    }
   ],
   "source": [
    "stats.chi2_contingency([item_male, item_female])\n",
    "# 순서대로 검정통계량, p-val, 자유도, 기대빈도 로 출력된다."
   ]
  },
  {
   "cell_type": "markdown",
   "id": "9550048d",
   "metadata": {},
   "source": [
    "p-val 값이 0.5965로.. 유의수준 5% 하에서 귀무가설을 기각할 수 없다.\n",
    "즉 남성과 여성의 아이템 선호도는 큰 차이가 없을 것이다."
   ]
  },
  {
   "cell_type": "code",
   "execution_count": 27,
   "id": "dae67f6d",
   "metadata": {},
   "outputs": [
    {
     "data": {
      "text/plain": [
       "(11.212517064444759,\n",
       " 0.003674792787640953,\n",
       " 2,\n",
       " array([[32. , 38.8, 29.2],\n",
       "        [48. , 58.2, 43.8]]))"
      ]
     },
     "execution_count": 27,
     "metadata": {},
     "output_type": "execute_result"
    }
   ],
   "source": [
    "item_male = [20, 47, 33]\n",
    "item_female = [60, 50, 40]\n",
    "\n",
    "item_df = pd.DataFrame([item_male, item_female],\n",
    "                       columns = ['item1', 'item2', 'item3'],\n",
    "                       index = ['M', 'F'])\n",
    "\n",
    "stats.chi2_contingency([item_male, item_female])"
   ]
  },
  {
   "cell_type": "markdown",
   "id": "5dec904e",
   "metadata": {},
   "source": [
    "반면 이 경우는 유의수준 1% 에서, 귀무가설이 기각된다.\n",
    "남성의 선호도와 여성의 선호도에는 차이가 존재한다."
   ]
  },
  {
   "cell_type": "markdown",
   "id": "75c166d9",
   "metadata": {},
   "source": [
    "## 동질성 검정"
   ]
  },
  {
   "cell_type": "markdown",
   "id": "f3275e25",
   "metadata": {},
   "source": [
    "item 변수와 성별 변수가 독립적인지를 확인해보고자 합니다."
   ]
  },
  {
   "cell_type": "code",
   "execution_count": 28,
   "id": "93c648a0",
   "metadata": {},
   "outputs": [
    {
     "data": {
      "text/plain": [
       "(11.212517064444759,\n",
       " 0.003674792787640953,\n",
       " 2,\n",
       " array([[32. , 38.8, 29.2],\n",
       "        [48. , 58.2, 43.8]]))"
      ]
     },
     "execution_count": 28,
     "metadata": {},
     "output_type": "execute_result"
    }
   ],
   "source": [
    "item_male = [20, 47, 33]\n",
    "item_female = [60, 50, 40]\n",
    "\n",
    "item_df = pd.DataFrame([item_male, item_female],\n",
    "                       columns = ['item1', 'item2', 'item3'],\n",
    "                       index = ['M', 'F'])\n",
    "\n",
    "stats.chi2_contingency(item_df)"
   ]
  },
  {
   "cell_type": "markdown",
   "id": "7ff9179d",
   "metadata": {},
   "source": [
    "독립성 검정도 동일한 코드이다. 이 경우의 해석은 성별의 변수와 아이템의 변수간에 관계가 있는지를 확인하는 방향으로 해석한다."
   ]
  }
 ],
 "metadata": {
  "kernelspec": {
   "display_name": "Python 3",
   "language": "python",
   "name": "python3"
  },
  "language_info": {
   "codemirror_mode": {
    "name": "ipython",
    "version": 3
   },
   "file_extension": ".py",
   "mimetype": "text/x-python",
   "name": "python",
   "nbconvert_exporter": "python",
   "pygments_lexer": "ipython3",
   "version": "3.8.8"
  }
 },
 "nbformat": 4,
 "nbformat_minor": 5
}
