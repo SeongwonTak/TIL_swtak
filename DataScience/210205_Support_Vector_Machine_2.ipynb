{
  "nbformat": 4,
  "nbformat_minor": 0,
  "metadata": {
    "colab": {
      "name": "210205 Support Vector Machine 2.ipynb",
      "provenance": [],
      "authorship_tag": "ABX9TyP35IiXDEzYaoYVi5P7Isi2",
      "include_colab_link": true
    },
    "kernelspec": {
      "name": "python3",
      "display_name": "Python 3"
    }
  },
  "cells": [
    {
      "cell_type": "markdown",
      "metadata": {
        "id": "view-in-github",
        "colab_type": "text"
      },
      "source": [
        "<a href=\"https://colab.research.google.com/github/SeongwonTak/TIL_swtak/blob/master/DataScience/210205_Support_Vector_Machine_2.ipynb\" target=\"_parent\"><img src=\"https://colab.research.google.com/assets/colab-badge.svg\" alt=\"Open In Colab\"/></a>"
      ]
    },
    {
      "cell_type": "markdown",
      "metadata": {
        "id": "ouR7u7L2Js_m"
      },
      "source": [
        "#210205 Support Vector Machine 2\r\n",
        "\r\n",
        "지난번에 이어 Support Vector Machine을 다루고자 한다.\r\n",
        "주어진 샘플이 선형으로 나뉘지 않을 경우 다른 방법을 생각해야 했다.\r\n",
        "\r\n",
        "그 방법 중 하나가 Kernel을 사용한 방법인데, Kernel이 무엇인지부터 차근차근 알아보려고 한다.\r\n"
      ]
    },
    {
      "cell_type": "markdown",
      "metadata": {
        "id": "kx1Lko1BSydI"
      },
      "source": [
        "## 1, New Strategy?\r\n",
        "도저히, 선형 모델만으로는 풀 수 없는 상황을 생각해보고자 한다.\r\n",
        "이는 XOR을 활용하여 만들 수 있는데. 입력변수 2개가 0, 1로 주어질때 입력변수가 같으면 0, 다르면 1을 출력하는 함수가 XOR이다.\r\n",
        "\r\n",
        "\r\n"
      ]
    },
    {
      "cell_type": "code",
      "metadata": {
        "colab": {
          "base_uri": "https://localhost:8080/",
          "height": 295
        },
        "id": "gzrLhf-fSx52",
        "outputId": "ce4ca268-2b73-4be7-b84f-f004443069eb"
      },
      "source": [
        "import numpy as np\r\n",
        "import matplotlib.pyplot as plt\r\n",
        "\r\n",
        "np.random.seed(0)\r\n",
        "X_xor = np.random.randn(200, 2)\r\n",
        "y_xor = np.logical_xor(X_xor[:, 0] > 0, X_xor[:, 1] > 0)\r\n",
        "y_xor = np.where(y_xor, 1, 0)\r\n",
        "plt.scatter(X_xor[y_xor == 1, 0], X_xor[y_xor == 1, 1],\r\n",
        "            c='b', marker='o', label='Class +', s=50)\r\n",
        "plt.scatter(X_xor[y_xor == 0, 0], X_xor[y_xor == 0, 1],\r\n",
        "            c='r', marker='s', label='Class -', s=50)\r\n",
        "plt.legend()\r\n",
        "plt.xlabel(\"x1\")\r\n",
        "plt.ylabel(\"x2\")\r\n",
        "plt.title(\"XOR Dataest\")\r\n",
        "plt.show()"
      ],
      "execution_count": 2,
      "outputs": [
        {
          "output_type": "display_data",
          "data": {
            "image/png": "[encoded data removed]",
            "text/plain": [
              "<Figure size 432x288 with 1 Axes>"
            ]
          },
          "metadata": {
            "tags": [],
            "needs_background": "light"
          }
        }
      ]
    },
    {
      "cell_type": "markdown",
      "metadata": {
        "id": "L1qen6ECYP9x"
      },
      "source": [
        "딱봐도 현재 상태로는 기존의 SvM을 사용하는 것은 불가능해 보인다.\r\n",
        "이를 극복하기 위한 방법에는 어떤 것이 있을까?\r\n",
        "\r\n",
        "생각할 수 있는 방법 중에 하나는 **sample set에 적당한 함수를 적용하여** 선형 SVM을 적용할 수 있는 상황으로 변환하는 것이다.\r\n",
        "\r\n",
        "위의 예제는 평면 상에서는 답이 없다.(...) 3차원으로 혹은 더 고차원으로 확장하면 어떻게 될까? 이를 활용하는 방법이 Kernel 트릭이다."
      ]
    },
    {
      "cell_type": "markdown",
      "metadata": {
        "id": "RU7BHbTjh0D7"
      },
      "source": [
        "## 2. Kernel함수와 그 예시\r\n",
        "\r\n",
        "Kernel이 무엇인지에 대해 알아보려 한다.\r\n",
        "커널함수는 내적을 통해 더 고차원으로 보내는 함수라고 생각하면 된다.\r\n",
        "\r\n",
        "잠시만.. 내적? 내적이 왜 나오는지에 대해 고려하고 정확하게 정의하려고 한다.\r\n",
        "\r\n",
        "위의 XOR 문제로 돌아오자.\r\n",
        "\r\n",
        "$$ \\phi(x_{1}, x_{2}) = (x_{1}^{2}, \\sqrt{2}x_{1}x_{2},x_{2}^{2})$$\r\n",
        "를 사용하여 변환한다면, 변환 결과는 다음과 같다.\r\n",
        "\r\n",
        "$$ (0, 0) -> (0, 0, 0)\\\\ \r\n",
        "(0, 1) -> (0, 0, 1)\\\\\r\n",
        "(1, 0) -> (1, 0, 0)\\\\\r\n",
        "(1, 1) -> (1, \\sqrt{2}, 1) $$\r\n",
        "\r\n",
        "이를 3차원에 표현해서 그림을 그려보면, 대각선으로 잘 나누면 (0,0),(1,1)과 (0,1),(1,0) 두 개의 점씩 분류되는 초평면을 찾을 수 있다. 초평면이 존재한다는 것은, 최대 마진을 가진 초평면도 존재할것이라는 것이다."
      ]
    },
    {
      "cell_type": "markdown",
      "metadata": {
        "id": "JbJj8ZRFk3m3"
      },
      "source": [
        "이러한 변환 함수는 \r\n",
        "$$ \\phi(x_{i})^{T}\\phi(x_{j})$$의 형태로 표현 가능하다. (벡터 표현일 경우)\r\n",
        "\r\n",
        "따라서 두 개의 변환된 독립 변수 벡터를 내적한 함수를 kernel이라고 한다.\r\n",
        "\r\n",
        "$$k(x_{i},x_{j}) =  \\phi(x_{i})^{T}\\phi(x_{j})$$\r\n",
        "\r\n",
        "그러면 위의 상황을 kernel로 어떻게 해석해야 할까?\r\n",
        "\r\n",
        "$$(x \\cdot z)^{2} = (x_{1}z_{1} + x_{2}z_{2})^{2} = \\\\\r\n",
        "x_{1}^{2}z_{1}^{2}+2x_{1}x_{2}z_{1}z_{2}+x_{2}^{2}z_{2}^{2} \\\\\r\n",
        "= \\phi(x_{1},x_{2})\\cdot\\phi(z_{1},z_{2})$$ \r\n",
        "\r\n",
        "자주 쓰이는 kernel등을 정리하면 다음과 같다.\r\n",
        "\r\n",
        "- 선형 커널\r\n",
        "$$ k(x_{1},x_{2}) = x_{1}^{T}x_{2}$$\r\n",
        "- 가우시안 커널\r\n",
        "$$ k(x_{1},x_{2}) = exp(-\\frac{||x_{1}-x_{2}||^{2}}{2\\sigma^{2}})$$"
      ]
    }
  ]
}