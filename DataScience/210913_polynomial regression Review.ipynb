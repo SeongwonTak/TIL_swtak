{
 "cells": [
  {
   "cell_type": "markdown",
   "id": "e1880a13",
   "metadata": {},
   "source": [
    "# Polynomial Regression"
   ]
  },
  {
   "cell_type": "markdown",
   "id": "e7b8477b",
   "metadata": {},
   "source": [
    "때로는 일차항으로는 회귀 문제가 해결이 되지 않는 경우가 있다. 다항회귀를 고려하는 법을 알아보자.  \n",
    "아울러, pytorch로 이를 비슷하게 해결하는 법 또한 확인해본다."
   ]
  },
  {
   "cell_type": "markdown",
   "id": "ad0da065",
   "metadata": {},
   "source": [
    "## 선형회귀의 관점 변환\n",
    "일반적으로 선형이다 하면, 일차함수를 떠올릴 수 있을 것이다.  \n",
    "하지만 '변수'가 선형이 아닌 '계수'의 선형으로 해석을 한다면?  \n",
    "다항식에 대해서도 선형회귀를 적용할 수 있을 것이다.  \n",
    "\n",
    "구체적으로는 X를 통해 X^2, X^3... 을 생성한 이후, 다항식을 만들어 계수를 학습한다."
   ]
  },
  {
   "cell_type": "markdown",
   "id": "ad06b7ee",
   "metadata": {},
   "source": [
    "## 간단한 Example_다항식 생성"
   ]
  },
  {
   "cell_type": "code",
   "execution_count": 2,
   "id": "74841290",
   "metadata": {},
   "outputs": [
    {
     "name": "stdout",
     "output_type": "stream",
     "text": [
      "[[0 1]\n",
      " [2 3]\n",
      " [4 5]]\n",
      "[[ 1.  0.  1.  0.  0.  1.]\n",
      " [ 1.  2.  3.  4.  6.  9.]\n",
      " [ 1.  4.  5. 16. 20. 25.]]\n"
     ]
    }
   ],
   "source": [
    "import numpy as np\n",
    "from sklearn.preprocessing import PolynomialFeatures\n",
    "\n",
    "X_train = np.arange(6).reshape(3, 2)\n",
    "print(X_train)\n",
    "\n",
    "poly = PolynomialFeatures(degree = 2, include_bias = True)\n",
    "X_train_poly = poly.fit_transform(X_train)\n",
    "\n",
    "print(X_train_poly)"
   ]
  },
  {
   "cell_type": "markdown",
   "id": "dc146bca",
   "metadata": {},
   "source": [
    "x1 = a,  x2= b 라 두고 다음을 만든 것이다.  \n",
    "상수항, 일차식 모든 조합,  이차식 모든 조합  \n",
    "즉 1, x1, x2, x1^2, x1x2, x2^2을 얻은 것이다.\n"
   ]
  },
  {
   "cell_type": "markdown",
   "id": "50c4a894",
   "metadata": {},
   "source": [
    "이 확장 변수를 바탕으로 선형 모델로 훈련하면 다항식의 계수를 얻게 된다."
   ]
  },
  {
   "cell_type": "code",
   "execution_count": 12,
   "id": "228a9532",
   "metadata": {},
   "outputs": [],
   "source": [
    "m = 200\n",
    "X = 6 * np.random.rand(m, 1) - 3\n",
    "y = 0.5 * X ** 2 + X + 2 + np.random.randn(m, 1)"
   ]
  },
  {
   "cell_type": "code",
   "execution_count": 13,
   "id": "9f1e414d",
   "metadata": {},
   "outputs": [
    {
     "data": {
      "text/plain": [
       "<matplotlib.collections.PathCollection at 0x2a507e9d160>"
      ]
     },
     "execution_count": 13,
     "metadata": {},
     "output_type": "execute_result"
    },
    {
     "data": {
      "image/png": "[encoded data removed]",
      "text/plain": [
       "<Figure size 432x288 with 1 Axes>"
      ]
     },
     "metadata": {
      "needs_background": "light"
     },
     "output_type": "display_data"
    }
   ],
   "source": [
    "import matplotlib.pyplot as plt\n",
    "plt.scatter(X, y)"
   ]
  },
  {
   "cell_type": "code",
   "execution_count": 14,
   "id": "16a99a05",
   "metadata": {},
   "outputs": [],
   "source": [
    "poly = PolynomialFeatures(degree = 2, include_bias = True)\n",
    "X_poly = poly.fit_transform(X)"
   ]
  },
  {
   "cell_type": "code",
   "execution_count": 17,
   "id": "d7ba7dcf",
   "metadata": {},
   "outputs": [
    {
     "data": {
      "text/plain": [
       "array([[0.        , 0.87481669, 0.50609526]])"
      ]
     },
     "execution_count": 17,
     "metadata": {},
     "output_type": "execute_result"
    }
   ],
   "source": [
    "from sklearn.linear_model import LinearRegression\n",
    "reg = LinearRegression()\n",
    "reg.fit(X_poly, y)\n",
    "reg.coef_"
   ]
  }
 ],
 "metadata": {
  "kernelspec": {
   "display_name": "Python 3",
   "language": "python",
   "name": "python3"
  },
  "language_info": {
   "codemirror_mode": {
    "name": "ipython",
    "version": 3
   },
   "file_extension": ".py",
   "mimetype": "text/x-python",
   "name": "python",
   "nbconvert_exporter": "python",
   "pygments_lexer": "ipython3",
   "version": "3.8.8"
  }
 },
 "nbformat": 4,
 "nbformat_minor": 5
}
