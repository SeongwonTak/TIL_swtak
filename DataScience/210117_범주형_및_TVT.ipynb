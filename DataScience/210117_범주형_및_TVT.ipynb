{
  "nbformat": 4,
  "nbformat_minor": 0,
  "metadata": {
    "colab": {
      "name": "210117_범주형 및 TVT.ipynb",
      "provenance": [],
      "authorship_tag": "ABX9TyMgqqONRbUeFEr3KuyrF4Ez",
      "include_colab_link": true
    },
    "kernelspec": {
      "name": "python3",
      "display_name": "Python 3"
    }
  },
  "cells": [
    {
      "cell_type": "markdown",
      "metadata": {
        "id": "view-in-github",
        "colab_type": "text"
      },
      "source": [
        "<a href=\"https://colab.research.google.com/github/SeongwonTak/TIL_swtak/blob/master/210117_%EB%B2%94%EC%A3%BC%ED%98%95_%EB%B0%8F_TVT.ipynb\" target=\"_parent\"><img src=\"https://colab.research.google.com/assets/colab-badge.svg\" alt=\"Open In Colab\"/></a>"
      ]
    },
    {
      "cell_type": "markdown",
      "metadata": {
        "id": "_WTW45Ad0NWK"
      },
      "source": [
        "# 범주형 데이터의 분석과 데이터의 분할\r\n",
        "\r\n",
        "수치형 데이터 이외에 범주형 데이터를 다루는 방법에 대해 확인하려고 한다. 이와 함께 데이터의 전처리 이후 테스트 데이터와 검증용 데이터를 나누는 이유 및 그 방법을 확인하고자 한다."
      ]
    },
    {
      "cell_type": "markdown",
      "metadata": {
        "id": "2bJDE4wN1Kdd"
      },
      "source": [
        "## 1. 범주형 데이터\r\n",
        "\r\n",
        "범주형 데이터는, 수치형 데이터와는 다르게 종류를 표시하는 데이터를 말한다. 대표적인 예시는 다음과 같다.\r\n",
        "\r\n",
        "- 성별 : 남자, 여자\r\n",
        "- 등급 : A, B, C...\r\n",
        "- 혈액형 : A, B, O, AB\r\n",
        "\r\n",
        "이러한 범주형 데이터를 보면 또 두 가지로 나눌 수 있음을 알 수 있다.\r\n",
        "- 순서가 있는 특성 : 정렬을 통해 진행\r\n",
        "- 순서가 없는 특성 : 구분만 한다.\r\n",
        "\r\n",
        "예시 데이터를 통해 이를 구분하고 전처리를 진행하고자 한다."
      ]
    },
    {
      "cell_type": "code",
      "metadata": {
        "colab": {
          "base_uri": "https://localhost:8080/",
          "height": 136
        },
        "id": "Xr0Qck_w1_Xv",
        "outputId": "2b94c42c-0216-4931-81d9-76ecaf5f1807"
      },
      "source": [
        "import pandas as pd\r\n",
        "df = pd.DataFrame([\r\n",
        "                   ['green', 'M', 10.1, 'class1'],\r\n",
        "                   ['red', 'L', 13.5, 'class2'],\r\n",
        "                   ['blue', 'XL', 15.3, 'class1']\r\n",
        "])\r\n",
        "df.columns = ['color', 'size', 'price', 'classlabel']\r\n",
        "df"
      ],
      "execution_count": null,
      "outputs": [
        {
          "output_type": "execute_result",
          "data": {
            "text/html": [
              "<div>\n",
              "<style scoped>\n",
              "    .dataframe tbody tr th:only-of-type {\n",
              "        vertical-align: middle;\n",
              "    }\n",
              "\n",
              "    .dataframe tbody tr th {\n",
              "        vertical-align: top;\n",
              "    }\n",
              "\n",
              "    .dataframe thead th {\n",
              "        text-align: right;\n",
              "    }\n",
              "</style>\n",
              "<table border=\"1\" class=\"dataframe\">\n",
              "  <thead>\n",
              "    <tr style=\"text-align: right;\">\n",
              "      <th></th>\n",
              "      <th>color</th>\n",
              "      <th>size</th>\n",
              "      <th>price</th>\n",
              "      <th>classlabel</th>\n",
              "    </tr>\n",
              "  </thead>\n",
              "  <tbody>\n",
              "    <tr>\n",
              "      <th>0</th>\n",
              "      <td>green</td>\n",
              "      <td>M</td>\n",
              "      <td>10.1</td>\n",
              "      <td>class1</td>\n",
              "    </tr>\n",
              "    <tr>\n",
              "      <th>1</th>\n",
              "      <td>red</td>\n",
              "      <td>L</td>\n",
              "      <td>13.5</td>\n",
              "      <td>class2</td>\n",
              "    </tr>\n",
              "    <tr>\n",
              "      <th>2</th>\n",
              "      <td>blue</td>\n",
              "      <td>XL</td>\n",
              "      <td>15.3</td>\n",
              "      <td>class1</td>\n",
              "    </tr>\n",
              "  </tbody>\n",
              "</table>\n",
              "</div>"
            ],
            "text/plain": [
              "   color size  price classlabel\n",
              "0  green    M   10.1     class1\n",
              "1    red    L   13.5     class2\n",
              "2   blue   XL   15.3     class1"
            ]
          },
          "metadata": {
            "tags": []
          },
          "execution_count": 1
        }
      ]
    },
    {
      "cell_type": "markdown",
      "metadata": {
        "id": "8NqejJPF2an-"
      },
      "source": [
        "보다시피, color의 경우는 순서가 없는 특성이나, size의 경우는 순서를 정할 수 있는 특성이다. 이 두가지에 따라 다른 전처리를 진행하려고 한다."
      ]
    },
    {
      "cell_type": "markdown",
      "metadata": {
        "id": "_hBTAswv6h4c"
      },
      "source": [
        "## 2. 범주형 데이터의 전처리\r\n",
        "\r\n",
        "먼저 순서형 데이터의 전처리를 진행하고자 한다.\r\n",
        "순서 특성을 올바르게 주기 위해서는 범주형 문자열 값을 정수로 바꿔주어야 한다. 이미 정수로서 그 역할을 할 경우는 문제가 없겠으나, 그것이 아닐 경우에는 매핑함수를 직접 만들어야 한다.\r\n",
        "\r\n",
        "위의 예시의 경우에는 M, L, XL 만으로는 산술적 차이를 확인하기 어렵기에 직접 매핑함수를 만들려고 한다."
      ]
    },
    {
      "cell_type": "code",
      "metadata": {
        "colab": {
          "base_uri": "https://localhost:8080/",
          "height": 136
        },
        "id": "HToqBM7X611u",
        "outputId": "46ad857b-c0aa-498b-a5be-9f36fd151efb"
      },
      "source": [
        "size_mapping = {\r\n",
        "    'XL':3,\r\n",
        "    'L':2,\r\n",
        "    'M':1\r\n",
        "}\r\n",
        "df['size'] = df['size'].map(size_mapping)\r\n",
        "df"
      ],
      "execution_count": null,
      "outputs": [
        {
          "output_type": "execute_result",
          "data": {
            "text/html": [
              "<div>\n",
              "<style scoped>\n",
              "    .dataframe tbody tr th:only-of-type {\n",
              "        vertical-align: middle;\n",
              "    }\n",
              "\n",
              "    .dataframe tbody tr th {\n",
              "        vertical-align: top;\n",
              "    }\n",
              "\n",
              "    .dataframe thead th {\n",
              "        text-align: right;\n",
              "    }\n",
              "</style>\n",
              "<table border=\"1\" class=\"dataframe\">\n",
              "  <thead>\n",
              "    <tr style=\"text-align: right;\">\n",
              "      <th></th>\n",
              "      <th>color</th>\n",
              "      <th>size</th>\n",
              "      <th>price</th>\n",
              "      <th>classlabel</th>\n",
              "    </tr>\n",
              "  </thead>\n",
              "  <tbody>\n",
              "    <tr>\n",
              "      <th>0</th>\n",
              "      <td>green</td>\n",
              "      <td>1</td>\n",
              "      <td>10.1</td>\n",
              "      <td>class1</td>\n",
              "    </tr>\n",
              "    <tr>\n",
              "      <th>1</th>\n",
              "      <td>red</td>\n",
              "      <td>2</td>\n",
              "      <td>13.5</td>\n",
              "      <td>class2</td>\n",
              "    </tr>\n",
              "    <tr>\n",
              "      <th>2</th>\n",
              "      <td>blue</td>\n",
              "      <td>3</td>\n",
              "      <td>15.3</td>\n",
              "      <td>class1</td>\n",
              "    </tr>\n",
              "  </tbody>\n",
              "</table>\n",
              "</div>"
            ],
            "text/plain": [
              "   color  size  price classlabel\n",
              "0  green     1   10.1     class1\n",
              "1    red     2   13.5     class2\n",
              "2   blue     3   15.3     class1"
            ]
          },
          "metadata": {
            "tags": []
          },
          "execution_count": 2
        }
      ]
    },
    {
      "cell_type": "markdown",
      "metadata": {
        "id": "lqJtsXY97TWg"
      },
      "source": [
        "한편, class label을 실수가 아닌 정수로 변환하는 것이 좋으므로\r\n",
        "*(정확히는 좋다고 합니다. by 참조도서)*\r\n",
        "\r\n",
        "label값들을 정수로 변환하는 것이 중요하다."
      ]
    },
    {
      "cell_type": "code",
      "metadata": {
        "colab": {
          "base_uri": "https://localhost:8080/"
        },
        "id": "SEQswDugEkK8",
        "outputId": "dbe7048e-1e74-421a-c130-b5a6b5311d42"
      },
      "source": [
        "from sklearn.preprocessing import LabelEncoder\r\n",
        "class_le = LabelEncoder()\r\n",
        "y = class_le.fit_transform(df['classlabel'].values)\r\n",
        "y"
      ],
      "execution_count": 4,
      "outputs": [
        {
          "output_type": "execute_result",
          "data": {
            "text/plain": [
              "array([0, 1, 0])"
            ]
          },
          "metadata": {
            "tags": []
          },
          "execution_count": 4
        }
      ]
    },
    {
      "cell_type": "markdown",
      "metadata": {
        "id": "506wF_b08oZ8"
      },
      "source": [
        "## 2. One-Hot Encoding / Dummy 변수\r\n",
        "\r\n",
        "허나, color를 똑같은 방식대로 하려자니 컬러 값에는 순서가 없으나 같은 방식으로 0, 1, 2를 하자니 모델에서 이 숫자가 의미있는 결과를 만들지도 모른다.\r\n",
        "\r\n",
        "이 문제를 해결하는 방법 중 하나는 **One-Hot Encoding**이라는 방법이다. 순서 없는 특성에 들어있는 고유의 값 마다 새로운 더미 특성을 부여한다.\r\n",
        "\r\n",
        "위의 예에서 blue의 경우는\r\n",
        "- blue = 1, red = 0, green = 0\r\n",
        "\r\n",
        "이렇게 진행한다.\r\n"
      ]
    },
    {
      "cell_type": "code",
      "metadata": {
        "colab": {
          "base_uri": "https://localhost:8080/"
        },
        "id": "052pKOd3EKxj",
        "outputId": "6dfd79db-4b33-458f-f674-81f9568a250b"
      },
      "source": [
        "X = df[['color', 'size', 'price']].values\r\n",
        "color_le = LabelEncoder()\r\n",
        "X[:,0] = color_le.fit_transform(X[:,0])\r\n",
        "X"
      ],
      "execution_count": 8,
      "outputs": [
        {
          "output_type": "execute_result",
          "data": {
            "text/plain": [
              "array([[1, 1, 10.1],\n",
              "       [2, 2, 13.5],\n",
              "       [0, 3, 15.3]], dtype=object)"
            ]
          },
          "metadata": {
            "tags": []
          },
          "execution_count": 8
        }
      ]
    },
    {
      "cell_type": "code",
      "metadata": {
        "colab": {
          "base_uri": "https://localhost:8080/"
        },
        "id": "xC_Hc56nGRyy",
        "outputId": "89fd9e6d-e4fd-4b12-cc47-9862564fe749"
      },
      "source": [
        "import numpy as np\r\n",
        "import pandas as pd\r\n",
        "from sklearn.preprocessing import OneHotEncoder\r\n",
        "from sklearn.compose import ColumnTransformer\r\n",
        "from sklearn.preprocessing import OrdinalEncoder\r\n",
        "\r\n",
        "ord_enc = OrdinalEncoder(dtype=np.int)\r\n",
        "col_trans = ColumnTransformer([('ord_enc', ord_enc, ['color'])])\r\n",
        "oh_enc = OneHotEncoder(categories='auto')\r\n",
        "col_trans = ColumnTransformer([('oh_enc', oh_enc, [0])], remainder='passthrough')\r\n",
        "col_trans.fit_transform(X)"
      ],
      "execution_count": 16,
      "outputs": [
        {
          "output_type": "execute_result",
          "data": {
            "text/plain": [
              "array([[0.0, 1.0, 0.0, 1, 10.1],\n",
              "       [0.0, 0.0, 1.0, 2, 13.5],\n",
              "       [1.0, 0.0, 0.0, 3, 15.3]], dtype=object)"
            ]
          },
          "metadata": {
            "tags": []
          },
          "execution_count": 16
        }
      ]
    },
    {
      "cell_type": "markdown",
      "metadata": {
        "id": "gi9TLBZCGd_Z"
      },
      "source": [
        "혹은 Pandas의 get_dummies를 활용할 수 있다.\r\n",
        "일반적인 dataframe에 적용가능하다.\r\n"
      ]
    },
    {
      "cell_type": "code",
      "metadata": {
        "colab": {
          "base_uri": "https://localhost:8080/",
          "height": 136
        },
        "id": "cIqjPRRRLDRx",
        "outputId": "4544004f-e7f3-4fee-872c-ddc082941d0e"
      },
      "source": [
        "#prefix를 붙여야, 색을 적용한다.\r\n",
        "pd.get_dummies(df.loc[:,'color'], prefix = 'color')"
      ],
      "execution_count": 17,
      "outputs": [
        {
          "output_type": "execute_result",
          "data": {
            "text/html": [
              "<div>\n",
              "<style scoped>\n",
              "    .dataframe tbody tr th:only-of-type {\n",
              "        vertical-align: middle;\n",
              "    }\n",
              "\n",
              "    .dataframe tbody tr th {\n",
              "        vertical-align: top;\n",
              "    }\n",
              "\n",
              "    .dataframe thead th {\n",
              "        text-align: right;\n",
              "    }\n",
              "</style>\n",
              "<table border=\"1\" class=\"dataframe\">\n",
              "  <thead>\n",
              "    <tr style=\"text-align: right;\">\n",
              "      <th></th>\n",
              "      <th>color_blue</th>\n",
              "      <th>color_green</th>\n",
              "      <th>color_red</th>\n",
              "    </tr>\n",
              "  </thead>\n",
              "  <tbody>\n",
              "    <tr>\n",
              "      <th>0</th>\n",
              "      <td>0</td>\n",
              "      <td>1</td>\n",
              "      <td>0</td>\n",
              "    </tr>\n",
              "    <tr>\n",
              "      <th>1</th>\n",
              "      <td>0</td>\n",
              "      <td>0</td>\n",
              "      <td>1</td>\n",
              "    </tr>\n",
              "    <tr>\n",
              "      <th>2</th>\n",
              "      <td>1</td>\n",
              "      <td>0</td>\n",
              "      <td>0</td>\n",
              "    </tr>\n",
              "  </tbody>\n",
              "</table>\n",
              "</div>"
            ],
            "text/plain": [
              "   color_blue  color_green  color_red\n",
              "0           0            1          0\n",
              "1           0            0          1\n",
              "2           1            0          0"
            ]
          },
          "metadata": {
            "tags": []
          },
          "execution_count": 17
        }
      ]
    },
    {
      "cell_type": "markdown",
      "metadata": {
        "id": "xpaDWHvFL5St"
      },
      "source": [
        "## 3. 다중 공산성(multicollinearity) 문제\r\n",
        "\r\n",
        "one-hot encoding된 data-set을 사용할 때에는, 다중 공산성 문제가 발생할 수 있다. 특성 간의 상관 관계가 높으면 역행렬 계산이 어려워 질 수 있다.\r\n",
        "\r\n",
        "좀 더 구체적으로, 다중 공산성(multicollinearity)란 독립 변수의 일부가 다른 독립 변수의 조합으로 표현될 수 있음을 뜻한다. 이는 독립 변수들이 서로 독립이 아니라 상관관계가 강한 경우에 발생한다.\r\n",
        "\r\n",
        "위에서 역행렬의 계산이 어려워 질 수 있다고 언급했는데, 선형종속 관계가 발생하는 경우 **행렬이 full-rank가 아니게 되어 역행렬이 존재하지 않는 현상이 발생하게 된다.**\r\n",
        "\r\n",
        "One-hot Encoding에서는, 이를 막기 위해.특성 열 하나를 삭제한다.\r\n",
        "위의 예시에서는 color_blue를 삭제헤도 크게 문제가 없는데 color_red와 color_green이 모두 0일 경우, blue임을 알 수 있기 때문이다."
      ]
    },
    {
      "cell_type": "code",
      "metadata": {
        "colab": {
          "base_uri": "https://localhost:8080/",
          "height": 136
        },
        "id": "pz_N_vdfZI_5",
        "outputId": "781975ba-fa1a-42d0-ca3a-70037bd18d1b"
      },
      "source": [
        "pd.get_dummies(df[['price', 'color', 'size']],\r\n",
        "               drop_first=True)"
      ],
      "execution_count": 24,
      "outputs": [
        {
          "output_type": "execute_result",
          "data": {
            "text/html": [
              "<div>\n",
              "<style scoped>\n",
              "    .dataframe tbody tr th:only-of-type {\n",
              "        vertical-align: middle;\n",
              "    }\n",
              "\n",
              "    .dataframe tbody tr th {\n",
              "        vertical-align: top;\n",
              "    }\n",
              "\n",
              "    .dataframe thead th {\n",
              "        text-align: right;\n",
              "    }\n",
              "</style>\n",
              "<table border=\"1\" class=\"dataframe\">\n",
              "  <thead>\n",
              "    <tr style=\"text-align: right;\">\n",
              "      <th></th>\n",
              "      <th>color</th>\n",
              "      <th>size</th>\n",
              "      <th>price</th>\n",
              "      <th>classlabel</th>\n",
              "    </tr>\n",
              "  </thead>\n",
              "  <tbody>\n",
              "    <tr>\n",
              "      <th>0</th>\n",
              "      <td>green</td>\n",
              "      <td>1</td>\n",
              "      <td>10.1</td>\n",
              "      <td>class1</td>\n",
              "    </tr>\n",
              "    <tr>\n",
              "      <th>1</th>\n",
              "      <td>red</td>\n",
              "      <td>2</td>\n",
              "      <td>13.5</td>\n",
              "      <td>class2</td>\n",
              "    </tr>\n",
              "    <tr>\n",
              "      <th>2</th>\n",
              "      <td>blue</td>\n",
              "      <td>3</td>\n",
              "      <td>15.3</td>\n",
              "      <td>class1</td>\n",
              "    </tr>\n",
              "  </tbody>\n",
              "</table>\n",
              "</div>"
            ],
            "text/plain": [
              "   color  size  price classlabel\n",
              "0  green     1   10.1     class1\n",
              "1    red     2   13.5     class2\n",
              "2   blue     3   15.3     class1"
            ]
          },
          "metadata": {
            "tags": []
          },
          "execution_count": 24
        }
      ]
    },
    {
      "cell_type": "markdown",
      "metadata": {
        "id": "0ZXq69n3Zv4l"
      },
      "source": [
        "한편으로, 이를 함수화 시켜 한번에 처리할 수도 있다."
      ]
    },
    {
      "cell_type": "code",
      "metadata": {
        "id": "4KWG5Pj1Zud1"
      },
      "source": [
        "def make_dummy(df, col_list):\r\n",
        "\r\n",
        "  return_df = pd.DataFrame(index = df.index)\r\n",
        "\r\n",
        "  for col in col_list:\r\n",
        "    temp_df = pd.get_dummies(df.loc[:,col], prefix = col)\r\n",
        "    final_col = temp_df.columns[-1]\r\n",
        "    temp_df.drop(final_col, axis=1, inplace=True)\r\n",
        "    return_df = pd.concat([return_df, temp_df], axis = 1)\r\n",
        "\r\n",
        "  return return_df"
      ],
      "execution_count": null,
      "outputs": []
    },
    {
      "cell_type": "markdown",
      "metadata": {
        "id": "CGk9dqzWL7x0"
      },
      "source": [
        "## 4. 과적합이란?  데이터 셋의 분류\r\n",
        "\r\n",
        "학습시 가장 중요한 점은 훈련 셋과 테스트 셋을 분류해야 한다는 점이다. \r\n",
        "편항되지 않는 성향 측정을 위해서는 훈련 셋에서 사용하지 않은 데이터로 테스트를 진행해야 한다.\r\n",
        "\r\n",
        "- Train Set : 모델을 학습하는 데에만 쓰인다.\r\n",
        "- Validation Set : 학습된 모델의 성능을 평가, 과적합을 검토하는 데에도 쓰인다.\r\n",
        "- Test Set : 최종 성능을 평가하는데에 쓰인다.\r\n",
        "\r\n",
        "Validation Set과 Test Set이 비슷해 보이는데, 굳이 Validation Set을 쓰는 이유를 보고자 한다.\r\n",
        "\r\n",
        "Training Set만을 사용하여 '과도하게' 학습 시킬 경우, 새로운 데이터가 들어올 경우 설명에 대한 정확도가 떨어지는 현상이 발생하는데, 이를 **'과적합'** 이라고 한다.\r\n",
        "\r\n",
        "\r\n",
        "![다운로드.png](data:image/png;base64,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)\r\n"
      ]
    },
    {
      "cell_type": "markdown",
      "metadata": {
        "id": "71BOkGcFQHaK"
      },
      "source": [
        "\"We should Stop Here\"이라고 표시된 부분, 저 지점을 찾기 위해 Validation set을 활용하면 된다.\r\n",
        "보통은 Train : Validation : Test = 6 : 2 : 2로 나누면 좋다고 하더라(?)\r\n",
        "\r\n",
        "아무튼 실제 데이터를 통해 이것을 나누는 예시를 보려고 한다."
      ]
    },
    {
      "cell_type": "code",
      "metadata": {
        "colab": {
          "base_uri": "https://localhost:8080/",
          "height": 195
        },
        "id": "sknrkJFtS7i7",
        "outputId": "f87baac5-a011-4217-8be3-79a2a2e2608f"
      },
      "source": [
        "import seaborn as sns\r\n",
        "\r\n",
        "tips = sns.load_dataset('tips')\r\n",
        "tips.tail()"
      ],
      "execution_count": 18,
      "outputs": [
        {
          "output_type": "execute_result",
          "data": {
            "text/html": [
              "<div>\n",
              "<style scoped>\n",
              "    .dataframe tbody tr th:only-of-type {\n",
              "        vertical-align: middle;\n",
              "    }\n",
              "\n",
              "    .dataframe tbody tr th {\n",
              "        vertical-align: top;\n",
              "    }\n",
              "\n",
              "    .dataframe thead th {\n",
              "        text-align: right;\n",
              "    }\n",
              "</style>\n",
              "<table border=\"1\" class=\"dataframe\">\n",
              "  <thead>\n",
              "    <tr style=\"text-align: right;\">\n",
              "      <th></th>\n",
              "      <th>total_bill</th>\n",
              "      <th>tip</th>\n",
              "      <th>sex</th>\n",
              "      <th>smoker</th>\n",
              "      <th>day</th>\n",
              "      <th>time</th>\n",
              "      <th>size</th>\n",
              "    </tr>\n",
              "  </thead>\n",
              "  <tbody>\n",
              "    <tr>\n",
              "      <th>239</th>\n",
              "      <td>29.03</td>\n",
              "      <td>5.92</td>\n",
              "      <td>Male</td>\n",
              "      <td>No</td>\n",
              "      <td>Sat</td>\n",
              "      <td>Dinner</td>\n",
              "      <td>3</td>\n",
              "    </tr>\n",
              "    <tr>\n",
              "      <th>240</th>\n",
              "      <td>27.18</td>\n",
              "      <td>2.00</td>\n",
              "      <td>Female</td>\n",
              "      <td>Yes</td>\n",
              "      <td>Sat</td>\n",
              "      <td>Dinner</td>\n",
              "      <td>2</td>\n",
              "    </tr>\n",
              "    <tr>\n",
              "      <th>241</th>\n",
              "      <td>22.67</td>\n",
              "      <td>2.00</td>\n",
              "      <td>Male</td>\n",
              "      <td>Yes</td>\n",
              "      <td>Sat</td>\n",
              "      <td>Dinner</td>\n",
              "      <td>2</td>\n",
              "    </tr>\n",
              "    <tr>\n",
              "      <th>242</th>\n",
              "      <td>17.82</td>\n",
              "      <td>1.75</td>\n",
              "      <td>Male</td>\n",
              "      <td>No</td>\n",
              "      <td>Sat</td>\n",
              "      <td>Dinner</td>\n",
              "      <td>2</td>\n",
              "    </tr>\n",
              "    <tr>\n",
              "      <th>243</th>\n",
              "      <td>18.78</td>\n",
              "      <td>3.00</td>\n",
              "      <td>Female</td>\n",
              "      <td>No</td>\n",
              "      <td>Thur</td>\n",
              "      <td>Dinner</td>\n",
              "      <td>2</td>\n",
              "    </tr>\n",
              "  </tbody>\n",
              "</table>\n",
              "</div>"
            ],
            "text/plain": [
              "     total_bill   tip     sex smoker   day    time  size\n",
              "239       29.03  5.92    Male     No   Sat  Dinner     3\n",
              "240       27.18  2.00  Female    Yes   Sat  Dinner     2\n",
              "241       22.67  2.00    Male    Yes   Sat  Dinner     2\n",
              "242       17.82  1.75    Male     No   Sat  Dinner     2\n",
              "243       18.78  3.00  Female     No  Thur  Dinner     2"
            ]
          },
          "metadata": {
            "tags": []
          },
          "execution_count": 18
        }
      ]
    },
    {
      "cell_type": "code",
      "metadata": {
        "id": "TN17H9LYTFdi"
      },
      "source": [
        "from sklearn.model_selection import train_test_split\r\n",
        "\r\n",
        "# 우선 나눌 input array x 와 output array y 를 정의합니다\r\n",
        "\r\n",
        "x = tips.drop('total_bill',axis=1)\r\n",
        "y = tips['total_bill']\r\n",
        "xTrain, xTest, yTrain, yTest = train_test_split(x, y, train_size = 0.8) \r\n",
        "# 20%만 잘라서 test 로 만듭니다.\r\n",
        "xTrain, xVal, yTrain, yVal = train_test_split(xTrain, yTrain, train_size = 0.75)\r\n",
        "# 그 후 전체의 20%가 또 되게 하려면? 0.75를 Train으로 줍니다."
      ],
      "execution_count": null,
      "outputs": []
    },
    {
      "cell_type": "markdown",
      "metadata": {
        "id": "-SdfMPt0Tkg-"
      },
      "source": [
        "위와 같이 할 경우 전체 데이터 셋의 20%가 테스트 셋에 배당 후,\r\n",
        "남은 80%의 25% 즉 20%가 유효성 검사 셋에 배당된다.\r\n",
        "\r\n",
        "한편, 패키지를 사용하지 않고 이를 직접 코딩할 수도 있다."
      ]
    },
    {
      "cell_type": "code",
      "metadata": {
        "id": "x97UgVINWTof"
      },
      "source": [
        "# index number를 random하게 할당하는 방식.\r\n",
        "def tvt_split(df, y_col, weight = [6, 2, 2]):\r\n",
        "\r\n",
        "  df_x = df.drop(y_col, axis = 1)\r\n",
        "  df_y = df.loc[:,[y_col]]\r\n",
        "\r\n",
        "  data_size = df.shape[0]\r\n",
        "  index = random.sample(range(data_size), data_size)\r\n",
        "\r\n",
        "  train_idx = int(data_size * weight[0] / np.sum(weight))\r\n",
        "  train_idx_list = index[:train_idx]\r\n",
        "\r\n",
        "  val_idx = train_idx + int(data_size * weight[1] / np.sum(weight))\r\n",
        "  val_idx_list = index[train_idx:val_idx]\r\n",
        "\r\n",
        "  test_idx_list = index[val_idx:]\r\n",
        "\r\n",
        "  return_dict = {'train_x': df_x.loc[train_idx_list,:],\r\n",
        "                 'train_y': df_y.loc[train_idx_list,:],\r\n",
        "                 'val_x': df_x.loc[val_idx_list,:],\r\n",
        "                 'val_y': df_y.loc[val_idx_list,:],\r\n",
        "                 'test_x': df_x.loc[test_idx_list,:],\r\n",
        "                 'test_y': df_y.loc[test_idx_list,:]}\r\n",
        "\r\n",
        "  return return_dict"
      ],
      "execution_count": null,
      "outputs": []
    }
  ]
}
