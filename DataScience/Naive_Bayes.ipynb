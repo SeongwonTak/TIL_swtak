{
  "nbformat": 4,
  "nbformat_minor": 0,
  "metadata": {
    "colab": {
      "name": "Naive_Bayes.ipynb",
      "provenance": [],
      "authorship_tag": "ABX9TyPBadDJYOUV9GkeOHY9GkFW",
      "include_colab_link": true
    },
    "kernelspec": {
      "name": "python3",
      "display_name": "Python 3"
    },
    "language_info": {
      "name": "python"
    }
  },
  "cells": [
    {
      "cell_type": "markdown",
      "metadata": {
        "id": "view-in-github",
        "colab_type": "text"
      },
      "source": [
        "<a href=\"https://colab.research.google.com/github/SeongwonTak/TIL_swtak/blob/master/Naive_Bayes.ipynb\" target=\"_parent\"><img src=\"https://colab.research.google.com/assets/colab-badge.svg\" alt=\"Open In Colab\"/></a>"
      ]
    },
    {
      "cell_type": "markdown",
      "metadata": {
        "id": "XTtVUVpVclgg"
      },
      "source": [
        "## Naive_Bayes Basic Example_뉴스 데이터 분류"
      ]
    },
    {
      "cell_type": "code",
      "metadata": {
        "id": "L3zjrYG-emPm"
      },
      "source": [
        "from sklearn.datasets import fetch_20newsgroups"
      ],
      "execution_count": 1,
      "outputs": []
    },
    {
      "cell_type": "code",
      "metadata": {
        "id": "GtGzTMjIaCJR"
      },
      "source": [
        "news = fetch_20newsgroups(subset = 'all')\n",
        "X = news.data\n",
        "y = news.target"
      ],
      "execution_count": 8,
      "outputs": []
    },
    {
      "cell_type": "code",
      "metadata": {
        "id": "qsqAp7ZUaM8Y"
      },
      "source": [
        "from sklearn.feature_extraction.text import TfidfVectorizer\n",
        "from sklearn.naive_bayes import MultinomialNB\n",
        "from sklearn.pipeline import Pipeline\n",
        "\n",
        "model = Pipeline([\n",
        "    ('vect', TfidfVectorizer(stop_words=\"english\")),\n",
        "    ('model', MultinomialNB()),\n",
        "])"
      ],
      "execution_count": 9,
      "outputs": []
    },
    {
      "cell_type": "code",
      "metadata": {
        "colab": {
          "base_uri": "https://localhost:8080/"
        },
        "id": "6LRRnunAbUYL",
        "outputId": "626ffe1f-b8b4-4aa7-c624-eba0a163d8c2"
      },
      "source": [
        "from sklearn.model_selection import cross_val_score\n",
        "scores = cross_val_score(model, X, y, cv=5)\n",
        "# 각 fold별 정확도 출력\n",
        "print(scores)"
      ],
      "execution_count": 10,
      "outputs": [
        {
          "output_type": "stream",
          "text": [
            "[0.87984085 0.89493234 0.88485009 0.88007429 0.87689042]\n"
          ],
          "name": "stdout"
        }
      ]
    },
    {
      "cell_type": "markdown",
      "metadata": {
        "id": "WCAoEqqFeqj7"
      },
      "source": [
        "## Naive_Bayes_From Scratch\n",
        "참조 : 밑바닥부터 시작하는 데이터 과학 2판\n"
      ]
    },
    {
      "cell_type": "markdown",
      "metadata": {
        "id": "picmMF1ufATP"
      },
      "source": [
        "나이브 베이즈의 핵심은, 각 독립변수들이 모두 독립이라는 커다란 가정 하에에에서 출발한다.  \n",
        "어떤 원리로 모델이 만들어졌는지만 간단히 파악하여본다."
      ]
    },
    {
      "cell_type": "code",
      "metadata": {
        "id": "dRwUYnPScF12"
      },
      "source": [
        "# 메세지를 단어 단위로 잘라주기\n",
        "def tokenize(text):\n",
        "  text = text.lower()\n",
        "  all_words = re.findall(\"[a-z0-9']+\", text)\n",
        "  return set(all_words)"
      ],
      "execution_count": 15,
      "outputs": []
    },
    {
      "cell_type": "code",
      "metadata": {
        "id": "M7z79p1PfWTx"
      },
      "source": [
        "class NaiveBayesClassifier:\n",
        "  def __init__(self, k):\n",
        "    self.k = k\n",
        "    self.tokens = set()\n",
        "    self.token_spam_counts = defaultdict(int)\n",
        "    self.token_ham_counts = defalutdict(int)\n",
        "    self.spam_messages = 0\n",
        "    self.ham_messages = 0\n",
        "\n",
        "  def train(self, messages):\n",
        "    for message in messages:\n",
        "      if message.is_spam:\n",
        "        self.spam_messages += 1\n",
        "      else:\n",
        "        self.ham_messages += 1\n",
        "      \n",
        "      # 단어별로 메세지 종류에 따라 spam or ham 증가\n",
        "      for token in tokenize(message.text):\n",
        "        self.tokens.add(token)\n",
        "        if message.is_spam:\n",
        "          self.token_spam_counts[token] += 1\n",
        "        else:\n",
        "          self.token_ham_counts[token] += 1\n",
        "\n",
        "  def prob(self, token):\n",
        "    spam = self.token_spam_counts[token]\n",
        "    ham = self.token_spam_counts[token]\n",
        "    prob_spam = (spam + self.k) / (self.spam_messages + 2*self.k)\n",
        "    prob_ham = (ham + self.k) / (self.ham_messages + 2*self.k)\n",
        "\n",
        "    return prob_spam, prob_ham\n",
        "\n",
        "  def predict(self, text):\n",
        "    text_tokens = tokenize(text)\n",
        "    log_prob_if_spam = 0\n",
        "    log_prob_if_ham = 0\n",
        "\n",
        "    for token in self.tokens:\n",
        "      prob_spam, prob_ham = self.prob(token)\n",
        "\n",
        "      # 메시지가 있으면 로그 확률 값을 더한다.\n",
        "      if token in toext_tokens:\n",
        "        log_prob_if_spam += math.log(prob_spam)\n",
        "        log_prob_if_ham += math.log(prob_ham)\n",
        "      # 아니라면 등장하지 않을 확률을 더한다.\n",
        "      else:\n",
        "        log_prob_if_spam += math.log(1-prob_spam)\n",
        "        log_prob_if_ham += math.log(1-prob_ham)     \n",
        "\n",
        "    prob_if_spam = math.exp(log_prob_if_spam)\n",
        "    prob_if_ham = math.exp(log_prob_if_ham)\n",
        "\n",
        "    return prob_if_spam / (prob_if_spam + prob_if_ham)"
      ],
      "execution_count": null,
      "outputs": []
    },
    {
      "cell_type": "markdown",
      "metadata": {
        "id": "ukMYV9eXiO37"
      },
      "source": [
        "여기서, self.k 는 smoothing에 해당된다.\n",
        "가짜 빈도수를 추가하여, 특정 단어가 하나의 클래스에만 있는 경우에 발생하는 문제를 해결한다."
      ]
    }
  ]
}