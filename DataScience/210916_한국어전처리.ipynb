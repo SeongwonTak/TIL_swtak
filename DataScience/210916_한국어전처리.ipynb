{
 "cells": [
  {
   "cell_type": "markdown",
   "id": "bf099f17",
   "metadata": {},
   "source": [
    "# 한국어를 전처리하기"
   ]
  },
  {
   "cell_type": "markdown",
   "id": "3b7ec333",
   "metadata": {},
   "source": [
    "한국에 사는 이상, 영어만 분석할 수는 없는 노릇일 것이다(...)"
   ]
  },
  {
   "cell_type": "markdown",
   "id": "0df1ed35",
   "metadata": {},
   "source": [
    "## KoNLPy 한국어 처리 패키지"
   ]
  },
  {
   "cell_type": "code",
   "execution_count": 1,
   "id": "51061896",
   "metadata": {},
   "outputs": [
    {
     "data": {
      "text/plain": [
       "'0.5.2'"
      ]
     },
     "execution_count": 1,
     "metadata": {},
     "output_type": "execute_result"
    }
   ],
   "source": [
    "import konlpy\n",
    "konlpy.__version__"
   ]
  },
  {
   "cell_type": "code",
   "execution_count": 2,
   "id": "27e1d473",
   "metadata": {},
   "outputs": [
    {
     "data": {
      "text/plain": [
       "['constitution.txt']"
      ]
     },
     "execution_count": 2,
     "metadata": {},
     "output_type": "execute_result"
    }
   ],
   "source": [
    "from konlpy.corpus import kolaw\n",
    "kolaw.fileids()"
   ]
  },
  {
   "cell_type": "code",
   "execution_count": 3,
   "id": "e827d928",
   "metadata": {},
   "outputs": [
    {
     "data": {
      "text/plain": [
       "'대한민국헌법\\n\\n유구한 역사와 전통에 빛나는 우리 대한국민은 3·1운동으로 건립된 대한민국임시정부의 법통과 불의에 항거한 4·19민주이념을 계승하고, 조국의 민주개혁과 평화적 통일의'"
      ]
     },
     "execution_count": 3,
     "metadata": {},
     "output_type": "execute_result"
    }
   ],
   "source": [
    "kolaw.open('constitution.txt').read()[:100]"
   ]
  },
  {
   "cell_type": "markdown",
   "id": "c245a87f",
   "metadata": {},
   "source": [
    "## 형태소 분석\n",
    "한국어의 형태소 분석 방법, KoNLPY에서는 다양한 형태소 분석을 제공하고 있다.\n",
    "\n",
    "- nouns : 명사를 추출한다.\n",
    "- morphs : 형태소 추출\n",
    "- pos : 품사를 부착한다."
   ]
  },
  {
   "cell_type": "code",
   "execution_count": 4,
   "id": "bbab920f",
   "metadata": {},
   "outputs": [],
   "source": [
    "from konlpy.tag import *"
   ]
  },
  {
   "cell_type": "code",
   "execution_count": 5,
   "id": "aed4275c",
   "metadata": {},
   "outputs": [],
   "source": [
    "text = '아름다운 이 땅에 금수강산에 단군 할아버지가 터 잡으시다'"
   ]
  },
  {
   "cell_type": "markdown",
   "id": "50065775",
   "metadata": {},
   "source": [
    "형태소 분석기에는 여러 종류가 있다.\n",
    "- hannanum\n",
    "- kkma\n",
    "- komoran\n",
    "- mecab -> 이유는 모르겠는데, 안된다... 윈도우즈에서 안되는 것으로 추정\n",
    "- okt"
   ]
  },
  {
   "cell_type": "code",
   "execution_count": 6,
   "id": "486c1f02",
   "metadata": {},
   "outputs": [],
   "source": [
    "hannanum = Hannanum()\n",
    "kkma = Kkma()\n",
    "komoran = Komoran()\n",
    "okt = Okt()"
   ]
  },
  {
   "cell_type": "code",
   "execution_count": 7,
   "id": "4f5091f6",
   "metadata": {},
   "outputs": [],
   "source": [
    "# KoNLPy’s Mecab() class is not supported on Windows machines.\n",
    "# mecab = Mecab()"
   ]
  },
  {
   "cell_type": "markdown",
   "id": "7086b13d",
   "metadata": {},
   "source": [
    "### 명사 추출"
   ]
  },
  {
   "cell_type": "code",
   "execution_count": 8,
   "id": "03ddee23",
   "metadata": {},
   "outputs": [
    {
     "name": "stdout",
     "output_type": "stream",
     "text": [
      "['땅', '금수강산', '단군', '할아버지']\n"
     ]
    }
   ],
   "source": [
    "print(hannanum.nouns(text))"
   ]
  },
  {
   "cell_type": "code",
   "execution_count": 9,
   "id": "837a3540",
   "metadata": {},
   "outputs": [
    {
     "name": "stdout",
     "output_type": "stream",
     "text": [
      "['땅', '금수강산', '단군', '할아버지']\n"
     ]
    }
   ],
   "source": [
    "print(kkma.nouns(text))"
   ]
  },
  {
   "cell_type": "code",
   "execution_count": 10,
   "id": "bea21a5a",
   "metadata": {},
   "outputs": [
    {
     "name": "stdout",
     "output_type": "stream",
     "text": [
      "['땅', '금수강산', '단군', '할아버지', '터']\n"
     ]
    }
   ],
   "source": [
    "print(komoran.nouns(text))"
   ]
  },
  {
   "cell_type": "code",
   "execution_count": 11,
   "id": "86fbf061",
   "metadata": {},
   "outputs": [
    {
     "name": "stdout",
     "output_type": "stream",
     "text": [
      "['이', '땅', '금수강산', '단군', '할아버지', '터']\n"
     ]
    }
   ],
   "source": [
    "print(okt.nouns(text))"
   ]
  },
  {
   "cell_type": "markdown",
   "id": "614f0368",
   "metadata": {},
   "source": [
    "### 형태소 추출"
   ]
  },
  {
   "cell_type": "code",
   "execution_count": 12,
   "id": "e2e533bd",
   "metadata": {},
   "outputs": [
    {
     "name": "stdout",
     "output_type": "stream",
     "text": [
      "['아름답', '은', '이', '땅', '에', '금수강산', '에', '단군', '할아버지', '가', '트', '어', '잡', '으시다']\n"
     ]
    }
   ],
   "source": [
    "print(hannanum.morphs(text))"
   ]
  },
  {
   "cell_type": "code",
   "execution_count": 13,
   "id": "afc5c333",
   "metadata": {},
   "outputs": [
    {
     "name": "stdout",
     "output_type": "stream",
     "text": [
      "['아름답', 'ㄴ', '이', '땅', '에', '금수강산', '에', '단군', '할아버지', '가', '트', '어', '잡', '으시', '다']\n"
     ]
    }
   ],
   "source": [
    "print(kkma.morphs(text))"
   ]
  },
  {
   "cell_type": "code",
   "execution_count": 14,
   "id": "f4601c87",
   "metadata": {},
   "outputs": [
    {
     "name": "stdout",
     "output_type": "stream",
     "text": [
      "['아름답', 'ㄴ', '이', '땅', '에', '금수강산', '에', '단군', '할아버지', '가', '터', '잡', '으시', '다']\n"
     ]
    }
   ],
   "source": [
    "print(komoran.morphs(text))"
   ]
  },
  {
   "cell_type": "code",
   "execution_count": 15,
   "id": "c37e35b9",
   "metadata": {},
   "outputs": [
    {
     "name": "stdout",
     "output_type": "stream",
     "text": [
      "['아름다운', '이', '땅', '에', '금수강산', '에', '단군', '할아버지', '가', '터', '잡으시다']\n",
      "['아름답다', '이', '땅', '에', '금수강산', '에', '단군', '할아버지', '가', '터', '잡다']\n"
     ]
    }
   ],
   "source": [
    "print(okt.morphs(text))\n",
    "print(okt.morphs(text, stem = True)) # 표제어 단위로 추출되는 기능 보유"
   ]
  },
  {
   "cell_type": "markdown",
   "id": "d4cec024",
   "metadata": {},
   "source": [
    "### 품사 부착\n",
    "때론, 품사에 대해 알아야 하는 경우가 있을 것이다. 각 형태소 추출기별로, 별도의 다른 기호를 사용한다..."
   ]
  },
  {
   "cell_type": "code",
   "execution_count": 16,
   "id": "231c74e6",
   "metadata": {},
   "outputs": [
    {
     "name": "stdout",
     "output_type": "stream",
     "text": [
      "[('아름답', 'P'), ('은', 'E'), ('이', 'M'), ('땅', 'N'), ('에', 'J'), ('금수강산', 'N'), ('에', 'J'), ('단군', 'N'), ('할아버지', 'N'), ('가', 'J'), ('트', 'P'), ('어', 'E'), ('잡', 'P'), ('으시다', 'E')]\n"
     ]
    }
   ],
   "source": [
    "print(hannanum.pos(text))"
   ]
  },
  {
   "cell_type": "code",
   "execution_count": 17,
   "id": "fe75355a",
   "metadata": {},
   "outputs": [
    {
     "name": "stdout",
     "output_type": "stream",
     "text": [
      "[('아름답', 'VA'), ('ㄴ', 'ETD'), ('이', 'MDT'), ('땅', 'NNG'), ('에', 'JKM'), ('금수강산', 'NNG'), ('에', 'JKM'), ('단군', 'NNG'), ('할아버지', 'NNG'), ('가', 'JKS'), ('트', 'VV'), ('어', 'ECS'), ('잡', 'VV'), ('으시', 'EPH'), ('다', 'EFN')]\n"
     ]
    }
   ],
   "source": [
    "print(kkma.pos(text))"
   ]
  },
  {
   "cell_type": "code",
   "execution_count": 18,
   "id": "4bc14499",
   "metadata": {},
   "outputs": [
    {
     "name": "stdout",
     "output_type": "stream",
     "text": [
      "['아름답', 'ㄴ', '이', '땅', '에', '금수강산', '에', '단군', '할아버지', '가', '터', '잡', '으시', '다']\n"
     ]
    }
   ],
   "source": [
    "print(komoran.morphs(text))"
   ]
  },
  {
   "cell_type": "code",
   "execution_count": 19,
   "id": "c1f5ef3b",
   "metadata": {},
   "outputs": [
    {
     "name": "stdout",
     "output_type": "stream",
     "text": [
      "['아름다운', '이', '땅', '에', '금수강산', '에', '단군', '할아버지', '가', '터', '잡으시다']\n"
     ]
    }
   ],
   "source": [
    "print(okt.morphs(text))"
   ]
  },
  {
   "cell_type": "markdown",
   "id": "a3733eb2",
   "metadata": {},
   "source": [
    "### 어절 추출"
   ]
  },
  {
   "cell_type": "code",
   "execution_count": 20,
   "id": "53706c0f",
   "metadata": {},
   "outputs": [
    {
     "name": "stdout",
     "output_type": "stream",
     "text": [
      "['아름다운 이', '아름다운 이 땅', '금수강산', '단군', '단군 할아버지', '할아버지']\n"
     ]
    }
   ],
   "source": [
    "# okt에ㄷ만 존재하는 것으로 보인다.\n",
    "print(okt.phrases(text))"
   ]
  },
  {
   "cell_type": "markdown",
   "id": "909248ca",
   "metadata": {},
   "source": [
    "## 정규화 및 불용어 제거"
   ]
  },
  {
   "cell_type": "code",
   "execution_count": 21,
   "id": "dac402fa",
   "metadata": {},
   "outputs": [],
   "source": [
    "import urllib.request\n",
    "import pandas as pd\n",
    "from nltk import FreqDist\n",
    "import numpy as np\n",
    "import matplotlib.pyplot as plt"
   ]
  },
  {
   "cell_type": "code",
   "execution_count": 22,
   "id": "7d129ecf",
   "metadata": {},
   "outputs": [
    {
     "data": {
      "text/html": [
       "<div>\n",
       "<style scoped>\n",
       "    .dataframe tbody tr th:only-of-type {\n",
       "        vertical-align: middle;\n",
       "    }\n",
       "\n",
       "    .dataframe tbody tr th {\n",
       "        vertical-align: top;\n",
       "    }\n",
       "\n",
       "    .dataframe thead th {\n",
       "        text-align: right;\n",
       "    }\n",
       "</style>\n",
       "<table border=\"1\" class=\"dataframe\">\n",
       "  <thead>\n",
       "    <tr style=\"text-align: right;\">\n",
       "      <th></th>\n",
       "      <th>id</th>\n",
       "      <th>document</th>\n",
       "      <th>label</th>\n",
       "    </tr>\n",
       "  </thead>\n",
       "  <tbody>\n",
       "    <tr>\n",
       "      <th>0</th>\n",
       "      <td>8112052</td>\n",
       "      <td>어릴때보고 지금다시봐도 재밌어요ㅋㅋ</td>\n",
       "      <td>1</td>\n",
       "    </tr>\n",
       "    <tr>\n",
       "      <th>1</th>\n",
       "      <td>8132799</td>\n",
       "      <td>디자인을 배우는 학생으로, 외국디자이너와 그들이 일군 전통을 통해 발전해가는 문화산...</td>\n",
       "      <td>1</td>\n",
       "    </tr>\n",
       "    <tr>\n",
       "      <th>2</th>\n",
       "      <td>4655635</td>\n",
       "      <td>폴리스스토리 시리즈는 1부터 뉴까지 버릴께 하나도 없음.. 최고.</td>\n",
       "      <td>1</td>\n",
       "    </tr>\n",
       "    <tr>\n",
       "      <th>3</th>\n",
       "      <td>9251303</td>\n",
       "      <td>와.. 연기가 진짜 개쩔구나.. 지루할거라고 생각했는데 몰입해서 봤다.. 그래 이런...</td>\n",
       "      <td>1</td>\n",
       "    </tr>\n",
       "    <tr>\n",
       "      <th>4</th>\n",
       "      <td>10067386</td>\n",
       "      <td>안개 자욱한 밤하늘에 떠 있는 초승달 같은 영화.</td>\n",
       "      <td>1</td>\n",
       "    </tr>\n",
       "    <tr>\n",
       "      <th>5</th>\n",
       "      <td>2190435</td>\n",
       "      <td>사랑을 해본사람이라면 처음부터 끝까지 웃을수 있는영화</td>\n",
       "      <td>1</td>\n",
       "    </tr>\n",
       "    <tr>\n",
       "      <th>6</th>\n",
       "      <td>9279041</td>\n",
       "      <td>완전 감동입니다 다시봐도 감동</td>\n",
       "      <td>1</td>\n",
       "    </tr>\n",
       "    <tr>\n",
       "      <th>7</th>\n",
       "      <td>7865729</td>\n",
       "      <td>개들의 전쟁2 나오나요? 나오면 1빠로 보고 싶음</td>\n",
       "      <td>1</td>\n",
       "    </tr>\n",
       "    <tr>\n",
       "      <th>8</th>\n",
       "      <td>7477618</td>\n",
       "      <td>굿</td>\n",
       "      <td>1</td>\n",
       "    </tr>\n",
       "    <tr>\n",
       "      <th>9</th>\n",
       "      <td>9250537</td>\n",
       "      <td>바보가 아니라 병 쉰 인듯</td>\n",
       "      <td>1</td>\n",
       "    </tr>\n",
       "  </tbody>\n",
       "</table>\n",
       "</div>"
      ],
      "text/plain": [
       "         id                                           document  label\n",
       "0   8112052                                어릴때보고 지금다시봐도 재밌어요ㅋㅋ      1\n",
       "1   8132799  디자인을 배우는 학생으로, 외국디자이너와 그들이 일군 전통을 통해 발전해가는 문화산...      1\n",
       "2   4655635               폴리스스토리 시리즈는 1부터 뉴까지 버릴께 하나도 없음.. 최고.      1\n",
       "3   9251303  와.. 연기가 진짜 개쩔구나.. 지루할거라고 생각했는데 몰입해서 봤다.. 그래 이런...      1\n",
       "4  10067386                        안개 자욱한 밤하늘에 떠 있는 초승달 같은 영화.      1\n",
       "5   2190435                      사랑을 해본사람이라면 처음부터 끝까지 웃을수 있는영화      1\n",
       "6   9279041                                   완전 감동입니다 다시봐도 감동      1\n",
       "7   7865729                        개들의 전쟁2 나오나요? 나오면 1빠로 보고 싶음      1\n",
       "8   7477618                                                  굿      1\n",
       "9   9250537                                     바보가 아니라 병 쉰 인듯      1"
      ]
     },
     "execution_count": 22,
     "metadata": {},
     "output_type": "execute_result"
    }
   ],
   "source": [
    "urllib.request.urlretrieve(\"https://raw.githubusercontent.com/e9t/nsmc/master/ratings.txt\", filename=\"ratings.txt\")\n",
    "data = pd.read_table('ratings.txt') # 데이터프레임에 저장\n",
    "data[:10]"
   ]
  },
  {
   "cell_type": "markdown",
   "id": "74d5c7e9",
   "metadata": {},
   "source": [
    "### 정규표현식을 통한 데이터 정제"
   ]
  },
  {
   "cell_type": "code",
   "execution_count": 23,
   "id": "d47303ab",
   "metadata": {},
   "outputs": [],
   "source": [
    "data['document'] = data.document.apply(lambda s : str(s))"
   ]
  },
  {
   "cell_type": "code",
   "execution_count": 24,
   "id": "39dcedb1",
   "metadata": {},
   "outputs": [],
   "source": [
    "# 띄어쓰기와 한글로 된 것들을 \"제외하고\" 모두 토큰화를 한다.\n",
    "import re\n",
    "import string\n",
    "def clean_text(text):\n",
    "    text = re.sub(\"[^ㄱ-ㅎㅏ-ㅣ가-힣 ]\",\"\",text)\n",
    "    return text"
   ]
  },
  {
   "cell_type": "code",
   "execution_count": 25,
   "id": "c511a76a",
   "metadata": {},
   "outputs": [],
   "source": [
    "data['document'] = data.document.apply(lambda s : clean_text(s))"
   ]
  },
  {
   "cell_type": "code",
   "execution_count": 26,
   "id": "09e2229a",
   "metadata": {},
   "outputs": [
    {
     "data": {
      "text/html": [
       "<div>\n",
       "<style scoped>\n",
       "    .dataframe tbody tr th:only-of-type {\n",
       "        vertical-align: middle;\n",
       "    }\n",
       "\n",
       "    .dataframe tbody tr th {\n",
       "        vertical-align: top;\n",
       "    }\n",
       "\n",
       "    .dataframe thead th {\n",
       "        text-align: right;\n",
       "    }\n",
       "</style>\n",
       "<table border=\"1\" class=\"dataframe\">\n",
       "  <thead>\n",
       "    <tr style=\"text-align: right;\">\n",
       "      <th></th>\n",
       "      <th>id</th>\n",
       "      <th>document</th>\n",
       "      <th>label</th>\n",
       "    </tr>\n",
       "  </thead>\n",
       "  <tbody>\n",
       "    <tr>\n",
       "      <th>0</th>\n",
       "      <td>8112052</td>\n",
       "      <td>어릴때보고 지금다시봐도 재밌어요ㅋㅋ</td>\n",
       "      <td>1</td>\n",
       "    </tr>\n",
       "    <tr>\n",
       "      <th>1</th>\n",
       "      <td>8132799</td>\n",
       "      <td>디자인을 배우는 학생으로 외국디자이너와 그들이 일군 전통을 통해 발전해가는 문화산업...</td>\n",
       "      <td>1</td>\n",
       "    </tr>\n",
       "    <tr>\n",
       "      <th>2</th>\n",
       "      <td>4655635</td>\n",
       "      <td>폴리스스토리 시리즈는 부터 뉴까지 버릴께 하나도 없음 최고</td>\n",
       "      <td>1</td>\n",
       "    </tr>\n",
       "    <tr>\n",
       "      <th>3</th>\n",
       "      <td>9251303</td>\n",
       "      <td>와 연기가 진짜 개쩔구나 지루할거라고 생각했는데 몰입해서 봤다 그래 이런게 진짜 영화지</td>\n",
       "      <td>1</td>\n",
       "    </tr>\n",
       "    <tr>\n",
       "      <th>4</th>\n",
       "      <td>10067386</td>\n",
       "      <td>안개 자욱한 밤하늘에 떠 있는 초승달 같은 영화</td>\n",
       "      <td>1</td>\n",
       "    </tr>\n",
       "    <tr>\n",
       "      <th>...</th>\n",
       "      <td>...</td>\n",
       "      <td>...</td>\n",
       "      <td>...</td>\n",
       "    </tr>\n",
       "    <tr>\n",
       "      <th>199995</th>\n",
       "      <td>8963373</td>\n",
       "      <td>포켓 몬스터 짜가 ㅡㅡ</td>\n",
       "      <td>0</td>\n",
       "    </tr>\n",
       "    <tr>\n",
       "      <th>199996</th>\n",
       "      <td>3302770</td>\n",
       "      <td>쓰레기</td>\n",
       "      <td>0</td>\n",
       "    </tr>\n",
       "    <tr>\n",
       "      <th>199997</th>\n",
       "      <td>5458175</td>\n",
       "      <td>완전 사이코영화 마지막은 더욱더 이 영화의질을 떨어트린다</td>\n",
       "      <td>0</td>\n",
       "    </tr>\n",
       "    <tr>\n",
       "      <th>199998</th>\n",
       "      <td>6908648</td>\n",
       "      <td>왜난 재미없었지 ㅠㅠ 라따뚜이 보고나서 스머프 봐서 그런가 ㅋㅋ</td>\n",
       "      <td>0</td>\n",
       "    </tr>\n",
       "    <tr>\n",
       "      <th>199999</th>\n",
       "      <td>8548411</td>\n",
       "      <td>포풍저그가나가신다영차영차영차</td>\n",
       "      <td>0</td>\n",
       "    </tr>\n",
       "  </tbody>\n",
       "</table>\n",
       "<p>200000 rows × 3 columns</p>\n",
       "</div>"
      ],
      "text/plain": [
       "              id                                           document  label\n",
       "0        8112052                                어릴때보고 지금다시봐도 재밌어요ㅋㅋ      1\n",
       "1        8132799  디자인을 배우는 학생으로 외국디자이너와 그들이 일군 전통을 통해 발전해가는 문화산업...      1\n",
       "2        4655635                   폴리스스토리 시리즈는 부터 뉴까지 버릴께 하나도 없음 최고      1\n",
       "3        9251303   와 연기가 진짜 개쩔구나 지루할거라고 생각했는데 몰입해서 봤다 그래 이런게 진짜 영화지      1\n",
       "4       10067386                         안개 자욱한 밤하늘에 떠 있는 초승달 같은 영화      1\n",
       "...          ...                                                ...    ...\n",
       "199995   8963373                                       포켓 몬스터 짜가 ㅡㅡ      0\n",
       "199996   3302770                                                쓰레기      0\n",
       "199997   5458175                    완전 사이코영화 마지막은 더욱더 이 영화의질을 떨어트린다      0\n",
       "199998   6908648                왜난 재미없었지 ㅠㅠ 라따뚜이 보고나서 스머프 봐서 그런가 ㅋㅋ      0\n",
       "199999   8548411                                    포풍저그가나가신다영차영차영차      0\n",
       "\n",
       "[200000 rows x 3 columns]"
      ]
     },
     "execution_count": 26,
     "metadata": {},
     "output_type": "execute_result"
    }
   ],
   "source": [
    "data"
   ]
  },
  {
   "cell_type": "markdown",
   "id": "43a17dec",
   "metadata": {},
   "source": [
    "### 토큰화 및 불용어 제거\n",
    "불용어를 제거하는 방법 중 여러가지가 있으나, 여기서는 직접 불용어 집합을 정의한다.  \n",
    "토큰화의 경우 형태소 분석기를 사용하며, 여기서는 okt를 사용한다."
   ]
  },
  {
   "cell_type": "code",
   "execution_count": 27,
   "id": "ec9441a6",
   "metadata": {},
   "outputs": [],
   "source": [
    "tokenizer = Okt()\n",
    "def text_preprocess(text):\n",
    "    stopwords = ['은', '는', '이', '가', '의', '을', '를', \n",
    "                 '도', '한', '하다', '와', '과', '에', '게',\n",
    "                '그', '저', '들', '다']\n",
    "    temp = tokenizer.morphs(text)\n",
    "    temp = [word for word in temp if not word in stopwords]\n",
    "    return temp"
   ]
  },
  {
   "cell_type": "code",
   "execution_count": 28,
   "id": "d389982d",
   "metadata": {},
   "outputs": [],
   "source": [
    "data['document'] = data.document.apply(lambda s : text_preprocess(s))"
   ]
  },
  {
   "cell_type": "code",
   "execution_count": 29,
   "id": "7893adf2",
   "metadata": {},
   "outputs": [
    {
     "data": {
      "text/html": [
       "<div>\n",
       "<style scoped>\n",
       "    .dataframe tbody tr th:only-of-type {\n",
       "        vertical-align: middle;\n",
       "    }\n",
       "\n",
       "    .dataframe tbody tr th {\n",
       "        vertical-align: top;\n",
       "    }\n",
       "\n",
       "    .dataframe thead th {\n",
       "        text-align: right;\n",
       "    }\n",
       "</style>\n",
       "<table border=\"1\" class=\"dataframe\">\n",
       "  <thead>\n",
       "    <tr style=\"text-align: right;\">\n",
       "      <th></th>\n",
       "      <th>id</th>\n",
       "      <th>document</th>\n",
       "      <th>label</th>\n",
       "    </tr>\n",
       "  </thead>\n",
       "  <tbody>\n",
       "    <tr>\n",
       "      <th>0</th>\n",
       "      <td>8112052</td>\n",
       "      <td>[어릴, 때, 보고, 지금, 다시, 봐도, 재밌어요, ㅋㅋ]</td>\n",
       "      <td>1</td>\n",
       "    </tr>\n",
       "    <tr>\n",
       "      <th>1</th>\n",
       "      <td>8132799</td>\n",
       "      <td>[디자인, 배우는, 학생, 으로, 외국, 디자이너, 일군, 전통, 통해, 발전, 해...</td>\n",
       "      <td>1</td>\n",
       "    </tr>\n",
       "    <tr>\n",
       "      <th>2</th>\n",
       "      <td>4655635</td>\n",
       "      <td>[폴리스스토리, 시리즈, 부터, 뉴, 까지, 버릴께, 하나, 없음, 최고]</td>\n",
       "      <td>1</td>\n",
       "    </tr>\n",
       "    <tr>\n",
       "      <th>3</th>\n",
       "      <td>9251303</td>\n",
       "      <td>[연기, 진짜, 개, 쩔구나, 지루할거라고, 생각, 했는데, 몰입, 해서, 봤다, ...</td>\n",
       "      <td>1</td>\n",
       "    </tr>\n",
       "    <tr>\n",
       "      <th>4</th>\n",
       "      <td>10067386</td>\n",
       "      <td>[안개, 자욱한, 밤하늘, 떠, 있는, 초승달, 같은, 영화]</td>\n",
       "      <td>1</td>\n",
       "    </tr>\n",
       "    <tr>\n",
       "      <th>...</th>\n",
       "      <td>...</td>\n",
       "      <td>...</td>\n",
       "      <td>...</td>\n",
       "    </tr>\n",
       "    <tr>\n",
       "      <th>199995</th>\n",
       "      <td>8963373</td>\n",
       "      <td>[포켓, 몬스터, 짜가, ㅡㅡ]</td>\n",
       "      <td>0</td>\n",
       "    </tr>\n",
       "    <tr>\n",
       "      <th>199996</th>\n",
       "      <td>3302770</td>\n",
       "      <td>[쓰레기]</td>\n",
       "      <td>0</td>\n",
       "    </tr>\n",
       "    <tr>\n",
       "      <th>199997</th>\n",
       "      <td>5458175</td>\n",
       "      <td>[완전, 사이코, 영화, 마지막, 더욱더, 영화, 질, 떨어, 트, 린다]</td>\n",
       "      <td>0</td>\n",
       "    </tr>\n",
       "    <tr>\n",
       "      <th>199998</th>\n",
       "      <td>6908648</td>\n",
       "      <td>[왜, 난, 재미없었지, ㅠㅠ, 라따뚜이, 보고나서, 스머프, 봐서, 런가, ㅋㅋ]</td>\n",
       "      <td>0</td>\n",
       "    </tr>\n",
       "    <tr>\n",
       "      <th>199999</th>\n",
       "      <td>8548411</td>\n",
       "      <td>[포, 풍, 저그, 나가신다, 영차, 영차, 영차]</td>\n",
       "      <td>0</td>\n",
       "    </tr>\n",
       "  </tbody>\n",
       "</table>\n",
       "<p>200000 rows × 3 columns</p>\n",
       "</div>"
      ],
      "text/plain": [
       "              id                                           document  label\n",
       "0        8112052                  [어릴, 때, 보고, 지금, 다시, 봐도, 재밌어요, ㅋㅋ]      1\n",
       "1        8132799  [디자인, 배우는, 학생, 으로, 외국, 디자이너, 일군, 전통, 통해, 발전, 해...      1\n",
       "2        4655635          [폴리스스토리, 시리즈, 부터, 뉴, 까지, 버릴께, 하나, 없음, 최고]      1\n",
       "3        9251303  [연기, 진짜, 개, 쩔구나, 지루할거라고, 생각, 했는데, 몰입, 해서, 봤다, ...      1\n",
       "4       10067386                 [안개, 자욱한, 밤하늘, 떠, 있는, 초승달, 같은, 영화]      1\n",
       "...          ...                                                ...    ...\n",
       "199995   8963373                                  [포켓, 몬스터, 짜가, ㅡㅡ]      0\n",
       "199996   3302770                                              [쓰레기]      0\n",
       "199997   5458175          [완전, 사이코, 영화, 마지막, 더욱더, 영화, 질, 떨어, 트, 린다]      0\n",
       "199998   6908648     [왜, 난, 재미없었지, ㅠㅠ, 라따뚜이, 보고나서, 스머프, 봐서, 런가, ㅋㅋ]      0\n",
       "199999   8548411                       [포, 풍, 저그, 나가신다, 영차, 영차, 영차]      0\n",
       "\n",
       "[200000 rows x 3 columns]"
      ]
     },
     "execution_count": 29,
     "metadata": {},
     "output_type": "execute_result"
    }
   ],
   "source": [
    "data"
   ]
  },
  {
   "cell_type": "code",
   "execution_count": 30,
   "id": "d5bfa8b9",
   "metadata": {},
   "outputs": [],
   "source": [
    "vocab = FreqDist(np.hstack(data.document.values))"
   ]
  },
  {
   "cell_type": "code",
   "execution_count": 31,
   "id": "1c620962",
   "metadata": {},
   "outputs": [
    {
     "data": {
      "text/plain": [
       "117276"
      ]
     },
     "execution_count": 31,
     "metadata": {},
     "output_type": "execute_result"
    }
   ],
   "source": [
    "len(vocab)"
   ]
  },
  {
   "cell_type": "markdown",
   "id": "624dcdf6",
   "metadata": {},
   "source": [
    "토큰화 시킨 후, 리뷰 안에 들어있는 단어 개수는 총 117280개이다. 이 중 상위 빈도수에 대해서만 추출하고 싶다."
   ]
  },
  {
   "cell_type": "code",
   "execution_count": 32,
   "id": "a63157c3",
   "metadata": {},
   "outputs": [],
   "source": [
    "vocab_size = 1000\n",
    "vocab = vocab.most_common(vocab_size)"
   ]
  },
  {
   "cell_type": "markdown",
   "id": "8e28ca3a",
   "metadata": {},
   "source": [
    "이렇게 단어집합을 1000개로 압축 가능하다."
   ]
  },
  {
   "cell_type": "markdown",
   "id": "ed626327",
   "metadata": {},
   "source": [
    "## 각 단어에 고유 정수 부여하기(word2index)"
   ]
  },
  {
   "cell_type": "code",
   "execution_count": 33,
   "id": "787f854e",
   "metadata": {},
   "outputs": [],
   "source": [
    "word_to_index = {word[0] : index + 2 for index, word in enumerate(vocab)}\n",
    "word_to_index['pad'] = 1\n",
    "word_to_index['unk'] = 0"
   ]
  },
  {
   "cell_type": "code",
   "execution_count": 36,
   "id": "159ab17a",
   "metadata": {},
   "outputs": [],
   "source": [
    "encoded = []\n",
    "for tokens in data.document.values:\n",
    "    temp = []\n",
    "    for word in tokens:\n",
    "        try:\n",
    "            temp.append(word_to_index[word])\n",
    "        except KeyError:\n",
    "            temp.append(word_to_index['unk']) # 없는 단어\n",
    "    encoded.append(temp)"
   ]
  },
  {
   "cell_type": "code",
   "execution_count": 39,
   "id": "ff545fa5",
   "metadata": {},
   "outputs": [
    {
     "data": {
      "text/plain": [
       "[[436, 36, 30, 88, 63, 92, 318, 37],\n",
       " [0,\n",
       "  0,\n",
       "  0,\n",
       "  8,\n",
       "  0,\n",
       "  0,\n",
       "  0,\n",
       "  0,\n",
       "  989,\n",
       "  0,\n",
       "  0,\n",
       "  0,\n",
       "  0,\n",
       "  0,\n",
       "  372,\n",
       "  355,\n",
       "  726,\n",
       "  0,\n",
       "  547,\n",
       "  97,\n",
       "  48,\n",
       "  0,\n",
       "  0,\n",
       "  0,\n",
       "  70,\n",
       "  0,\n",
       "  698,\n",
       "  70,\n",
       "  29,\n",
       "  583,\n",
       "  0,\n",
       "  0,\n",
       "  0,\n",
       "  55,\n",
       "  0,\n",
       "  14,\n",
       "  0],\n",
       " [0, 218, 123, 0, 48, 0, 65, 254, 15]]"
      ]
     },
     "execution_count": 39,
     "metadata": {},
     "output_type": "execute_result"
    }
   ],
   "source": [
    "encoded[:3]"
   ]
  },
  {
   "cell_type": "markdown",
   "id": "73526691",
   "metadata": {},
   "source": [
    "다음과 같이 길이가 모두 다름을 확인해 볼 수 있다. 이 길이를 동일하게 맞춰주는 작업을 padding이라고 한다."
   ]
  },
  {
   "cell_type": "markdown",
   "id": "ef6676a5",
   "metadata": {},
   "source": [
    "## Padding"
   ]
  },
  {
   "cell_type": "code",
   "execution_count": 40,
   "id": "f8a3bf7c",
   "metadata": {},
   "outputs": [],
   "source": [
    "max_len = max([len(s) for s in encoded])\n",
    "for labeled in encoded:\n",
    "    if len(labeled) < max_len:\n",
    "        labeled += [word_to_index['pad']] * (max_len - len(labeled))"
   ]
  },
  {
   "cell_type": "code",
   "execution_count": 43,
   "id": "c6a2eaf6",
   "metadata": {},
   "outputs": [
    {
     "data": {
      "text/plain": [
       "[[436,\n",
       "  36,\n",
       "  30,\n",
       "  88,\n",
       "  63,\n",
       "  92,\n",
       "  318,\n",
       "  37,\n",
       "  1,\n",
       "  1,\n",
       "  1,\n",
       "  1,\n",
       "  1,\n",
       "  1,\n",
       "  1,\n",
       "  1,\n",
       "  1,\n",
       "  1,\n",
       "  1,\n",
       "  1,\n",
       "  1,\n",
       "  1,\n",
       "  1,\n",
       "  1,\n",
       "  1,\n",
       "  1,\n",
       "  1,\n",
       "  1,\n",
       "  1,\n",
       "  1,\n",
       "  1,\n",
       "  1,\n",
       "  1,\n",
       "  1,\n",
       "  1,\n",
       "  1,\n",
       "  1,\n",
       "  1,\n",
       "  1,\n",
       "  1,\n",
       "  1,\n",
       "  1,\n",
       "  1,\n",
       "  1,\n",
       "  1,\n",
       "  1,\n",
       "  1,\n",
       "  1,\n",
       "  1,\n",
       "  1,\n",
       "  1,\n",
       "  1,\n",
       "  1,\n",
       "  1,\n",
       "  1,\n",
       "  1,\n",
       "  1,\n",
       "  1,\n",
       "  1,\n",
       "  1,\n",
       "  1,\n",
       "  1,\n",
       "  1,\n",
       "  1,\n",
       "  1,\n",
       "  1,\n",
       "  1,\n",
       "  1,\n",
       "  1,\n",
       "  1,\n",
       "  1,\n",
       "  1],\n",
       " [0,\n",
       "  0,\n",
       "  0,\n",
       "  8,\n",
       "  0,\n",
       "  0,\n",
       "  0,\n",
       "  0,\n",
       "  989,\n",
       "  0,\n",
       "  0,\n",
       "  0,\n",
       "  0,\n",
       "  0,\n",
       "  372,\n",
       "  355,\n",
       "  726,\n",
       "  0,\n",
       "  547,\n",
       "  97,\n",
       "  48,\n",
       "  0,\n",
       "  0,\n",
       "  0,\n",
       "  70,\n",
       "  0,\n",
       "  698,\n",
       "  70,\n",
       "  29,\n",
       "  583,\n",
       "  0,\n",
       "  0,\n",
       "  0,\n",
       "  55,\n",
       "  0,\n",
       "  14,\n",
       "  0,\n",
       "  1,\n",
       "  1,\n",
       "  1,\n",
       "  1,\n",
       "  1,\n",
       "  1,\n",
       "  1,\n",
       "  1,\n",
       "  1,\n",
       "  1,\n",
       "  1,\n",
       "  1,\n",
       "  1,\n",
       "  1,\n",
       "  1,\n",
       "  1,\n",
       "  1,\n",
       "  1,\n",
       "  1,\n",
       "  1,\n",
       "  1,\n",
       "  1,\n",
       "  1,\n",
       "  1,\n",
       "  1,\n",
       "  1,\n",
       "  1,\n",
       "  1,\n",
       "  1,\n",
       "  1,\n",
       "  1,\n",
       "  1,\n",
       "  1,\n",
       "  1,\n",
       "  1],\n",
       " [0,\n",
       "  218,\n",
       "  123,\n",
       "  0,\n",
       "  48,\n",
       "  0,\n",
       "  65,\n",
       "  254,\n",
       "  15,\n",
       "  1,\n",
       "  1,\n",
       "  1,\n",
       "  1,\n",
       "  1,\n",
       "  1,\n",
       "  1,\n",
       "  1,\n",
       "  1,\n",
       "  1,\n",
       "  1,\n",
       "  1,\n",
       "  1,\n",
       "  1,\n",
       "  1,\n",
       "  1,\n",
       "  1,\n",
       "  1,\n",
       "  1,\n",
       "  1,\n",
       "  1,\n",
       "  1,\n",
       "  1,\n",
       "  1,\n",
       "  1,\n",
       "  1,\n",
       "  1,\n",
       "  1,\n",
       "  1,\n",
       "  1,\n",
       "  1,\n",
       "  1,\n",
       "  1,\n",
       "  1,\n",
       "  1,\n",
       "  1,\n",
       "  1,\n",
       "  1,\n",
       "  1,\n",
       "  1,\n",
       "  1,\n",
       "  1,\n",
       "  1,\n",
       "  1,\n",
       "  1,\n",
       "  1,\n",
       "  1,\n",
       "  1,\n",
       "  1,\n",
       "  1,\n",
       "  1,\n",
       "  1,\n",
       "  1,\n",
       "  1,\n",
       "  1,\n",
       "  1,\n",
       "  1,\n",
       "  1,\n",
       "  1,\n",
       "  1,\n",
       "  1,\n",
       "  1,\n",
       "  1]]"
      ]
     },
     "execution_count": 43,
     "metadata": {},
     "output_type": "execute_result"
    }
   ],
   "source": [
    "encoded[:3]"
   ]
  },
  {
   "cell_type": "markdown",
   "id": "07697f7a",
   "metadata": {},
   "source": [
    "이러면, 다음과 같이 padding이 되었음을 확인해 볼 수 있다."
   ]
  }
 ],
 "metadata": {
  "kernelspec": {
   "display_name": "Python 3",
   "language": "python",
   "name": "python3"
  },
  "language_info": {
   "codemirror_mode": {
    "name": "ipython",
    "version": 3
   },
   "file_extension": ".py",
   "mimetype": "text/x-python",
   "name": "python",
   "nbconvert_exporter": "python",
   "pygments_lexer": "ipython3",
   "version": "3.8.8"
  }
 },
 "nbformat": 4,
 "nbformat_minor": 5
}
