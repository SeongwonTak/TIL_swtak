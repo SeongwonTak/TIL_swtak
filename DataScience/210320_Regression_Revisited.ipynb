{
  "nbformat": 4,
  "nbformat_minor": 0,
  "metadata": {
    "colab": {
      "name": "210320_Regression Revisited.ipynb",
      "provenance": [],
      "authorship_tag": "ABX9TyNQi2Qt2aFjVPZsm1ikbqgn",
      "include_colab_link": true
    },
    "kernelspec": {
      "name": "python3",
      "display_name": "Python 3"
    },
    "language_info": {
      "name": "python"
    }
  },
  "cells": [
    {
      "cell_type": "markdown",
      "metadata": {
        "id": "view-in-github",
        "colab_type": "text"
      },
      "source": [
        "<a href=\"https://colab.research.google.com/github/SeongwonTak/TIL_swtak/blob/master/DataScience/210320_Regression_Revisited.ipynb\" target=\"_parent\"><img src=\"https://colab.research.google.com/assets/colab-badge.svg\" alt=\"Open In Colab\"/></a>"
      ]
    },
    {
      "cell_type": "markdown",
      "metadata": {
        "id": "dmKvDPaK-baf"
      },
      "source": [
        "# 210320 Regression_Model Revisit 1\n",
        "회귀 관련 내용을 조금 더 찾으면서 비선형 케이스에 대해서 찾아보았다.\n",
        "참조 : 머신러닝 교과서 p372~377.\n",
        "      데이터사이언스 스쿨."
      ]
    },
    {
      "cell_type": "markdown",
      "metadata": {
        "id": "MFXP3iCX_EdP"
      },
      "source": [
        "## Scikit-Learn을 활용한 다항 회귀\n",
        "선형 가정이 어긋날 경우, 다항식 항을 추구하여 회귀를 진행한다.\n",
        "즉, 2차식, 3차식..등등을 활용하여 회귀계수를 추정한다. 다시 말해\n",
        "\n",
        "$$ y = w_{0} + w_{1}x + .. + w_{d}x^{d}$$ \n",
        "형태로 회귀식을 고려한다. 다만, 가중치들이 선형이므로 여전히 다중 선형 회귀 모델로 생각할 수 있다. "
      ]
    },
    {
      "cell_type": "code",
      "metadata": {
        "colab": {
          "base_uri": "https://localhost:8080/",
          "height": 265
        },
        "id": "2Hhv4FAB9ulS",
        "outputId": "3a137af7-deca-4459-8b83-b8af1ff300c8"
      },
      "source": [
        "import numpy as np\n",
        "from sklearn.preprocessing import PolynomialFeatures\n",
        "from sklearn.linear_model import LinearRegression\n",
        "import matplotlib.pyplot as plt\n",
        "\n",
        "X = np.array([258, 270, 294, 320, 342, 368, 396, 446, 480, 586])[:, np.newaxis]\n",
        "y = np.array([236.4, 234.4, 252.8, 298.6, 314.2, 342.2, 360.8, 368, 391.2, 390.8])\n",
        "lr = LinearRegression()\n",
        "pr = LinearRegression()\n",
        "quadratic = PolynomialFeatures(degree = 2)\n",
        "X_quad = quadratic.fit_transform(X)\n",
        "\n",
        "# 일반적인 선형모델\n",
        "lr.fit(X, y)\n",
        "X_fit = np.arange(250, 600, 10)[:, np.newaxis]\n",
        "y_lin_fit = lr.predict(X_fit)\n",
        "\n",
        "# 다항회귀의 적용(2차)\n",
        "pr.fit(X_quad, y)\n",
        "y_quad_fit = pr.predict(quadratic.fit_transform(X_fit))\n",
        "\n",
        "# 그래프\n",
        "plt.scatter(X, y, label = 'training datas')\n",
        "plt.plot(X_fit, y_lin_fit, label='linear', linestyle='--')\n",
        "plt.plot(X_fit, y_quad_fit, label='quadratic')\n",
        "plt.legend(loc='upper left')\n",
        "plt.show()"
      ],
      "execution_count": 1,
      "outputs": [
        {
          "output_type": "display_data",
          "data": {
            "image/png": "[encoded data removed]",
            "text/plain": [
              "<Figure size 432x288 with 1 Axes>"
            ]
          },
          "metadata": {
            "tags": [],
            "needs_background": "light"
          }
        }
      ]
    },
    {
      "cell_type": "markdown",
      "metadata": {
        "id": "c9LKX2XmFAET"
      },
      "source": [
        "주어진 데이터들은 그림으로만 봐도 선형보다는 2차함수인 경우에 데이터를 조금 더 잘 예측해주고 있다. 실제로 성능 비교를 해보면 다음과 같다."
      ]
    },
    {
      "cell_type": "code",
      "metadata": {
        "colab": {
          "base_uri": "https://localhost:8080/"
        },
        "id": "_8dESAm4E_MI",
        "outputId": "81c67923-3cc6-418c-f8a2-4c02197d9201"
      },
      "source": [
        "from sklearn.metrics import mean_squared_error\n",
        "from sklearn.metrics import r2_score\n",
        "\n",
        "y_lin_pred = lr.predict(X)\n",
        "y_quad_pred = pr.predict(X_quad)\n",
        "\n",
        "print('mse-linear : %.3f' % (mean_squared_error(y, y_lin_pred)))\n",
        "print('mse-quad : %.3f' % (mean_squared_error(y, y_quad_pred)))\n",
        "print('r2-linear : %.3f' % (r2_score(y, y_lin_pred)))\n",
        "print('r2-quad : %.3f' % (r2_score(y, y_quad_pred)))"
      ],
      "execution_count": 2,
      "outputs": [
        {
          "output_type": "stream",
          "text": [
            "mse-linear : 569.780\n",
            "mse-quad : 61.330\n",
            "r2-linear : 0.832\n",
            "r2-quad : 0.982\n"
          ],
          "name": "stdout"
        }
      ]
    },
    {
      "cell_type": "markdown",
      "metadata": {
        "id": "IiGVNhTBMY7Z"
      },
      "source": [
        "## 다항함수가 아닌 경우의 예시\n",
        "다항함수가 아니라 로그 등을 활용하여서도 예측이 가능하다. 이때는 scaling이 작업에 들어간다.\n",
        "집값 데이터의 LSTAT, MEDV의 관계 분석을 통한 예시로 확인하자."
      ]
    },
    {
      "cell_type": "code",
      "metadata": {
        "colab": {
          "base_uri": "https://localhost:8080/",
          "height": 195
        },
        "id": "KWGPl-AQOeda",
        "outputId": "6c4167af-7899-4eca-f129-0c82d8abe619"
      },
      "source": [
        "# data_set 준비\n",
        "import pandas as pd\n",
        "from sklearn import datasets\n",
        "boston_dataset = datasets.load_boston()\n",
        "df = pd.DataFrame(boston_dataset.data, columns=boston_dataset.feature_names)\n",
        "df['target'] = boston_dataset.target\n",
        "df.head()"
      ],
      "execution_count": 3,
      "outputs": [
        {
          "output_type": "execute_result",
          "data": {
            "text/html": [
              "<div>\n",
              "<style scoped>\n",
              "    .dataframe tbody tr th:only-of-type {\n",
              "        vertical-align: middle;\n",
              "    }\n",
              "\n",
              "    .dataframe tbody tr th {\n",
              "        vertical-align: top;\n",
              "    }\n",
              "\n",
              "    .dataframe thead th {\n",
              "        text-align: right;\n",
              "    }\n",
              "</style>\n",
              "<table border=\"1\" class=\"dataframe\">\n",
              "  <thead>\n",
              "    <tr style=\"text-align: right;\">\n",
              "      <th></th>\n",
              "      <th>CRIM</th>\n",
              "      <th>ZN</th>\n",
              "      <th>INDUS</th>\n",
              "      <th>CHAS</th>\n",
              "      <th>NOX</th>\n",
              "      <th>RM</th>\n",
              "      <th>AGE</th>\n",
              "      <th>DIS</th>\n",
              "      <th>RAD</th>\n",
              "      <th>TAX</th>\n",
              "      <th>PTRATIO</th>\n",
              "      <th>B</th>\n",
              "      <th>LSTAT</th>\n",
              "      <th>target</th>\n",
              "    </tr>\n",
              "  </thead>\n",
              "  <tbody>\n",
              "    <tr>\n",
              "      <th>0</th>\n",
              "      <td>0.00632</td>\n",
              "      <td>18.0</td>\n",
              "      <td>2.31</td>\n",
              "      <td>0.0</td>\n",
              "      <td>0.538</td>\n",
              "      <td>6.575</td>\n",
              "      <td>65.2</td>\n",
              "      <td>4.0900</td>\n",
              "      <td>1.0</td>\n",
              "      <td>296.0</td>\n",
              "      <td>15.3</td>\n",
              "      <td>396.90</td>\n",
              "      <td>4.98</td>\n",
              "      <td>24.0</td>\n",
              "    </tr>\n",
              "    <tr>\n",
              "      <th>1</th>\n",
              "      <td>0.02731</td>\n",
              "      <td>0.0</td>\n",
              "      <td>7.07</td>\n",
              "      <td>0.0</td>\n",
              "      <td>0.469</td>\n",
              "      <td>6.421</td>\n",
              "      <td>78.9</td>\n",
              "      <td>4.9671</td>\n",
              "      <td>2.0</td>\n",
              "      <td>242.0</td>\n",
              "      <td>17.8</td>\n",
              "      <td>396.90</td>\n",
              "      <td>9.14</td>\n",
              "      <td>21.6</td>\n",
              "    </tr>\n",
              "    <tr>\n",
              "      <th>2</th>\n",
              "      <td>0.02729</td>\n",
              "      <td>0.0</td>\n",
              "      <td>7.07</td>\n",
              "      <td>0.0</td>\n",
              "      <td>0.469</td>\n",
              "      <td>7.185</td>\n",
              "      <td>61.1</td>\n",
              "      <td>4.9671</td>\n",
              "      <td>2.0</td>\n",
              "      <td>242.0</td>\n",
              "      <td>17.8</td>\n",
              "      <td>392.83</td>\n",
              "      <td>4.03</td>\n",
              "      <td>34.7</td>\n",
              "    </tr>\n",
              "    <tr>\n",
              "      <th>3</th>\n",
              "      <td>0.03237</td>\n",
              "      <td>0.0</td>\n",
              "      <td>2.18</td>\n",
              "      <td>0.0</td>\n",
              "      <td>0.458</td>\n",
              "      <td>6.998</td>\n",
              "      <td>45.8</td>\n",
              "      <td>6.0622</td>\n",
              "      <td>3.0</td>\n",
              "      <td>222.0</td>\n",
              "      <td>18.7</td>\n",
              "      <td>394.63</td>\n",
              "      <td>2.94</td>\n",
              "      <td>33.4</td>\n",
              "    </tr>\n",
              "    <tr>\n",
              "      <th>4</th>\n",
              "      <td>0.06905</td>\n",
              "      <td>0.0</td>\n",
              "      <td>2.18</td>\n",
              "      <td>0.0</td>\n",
              "      <td>0.458</td>\n",
              "      <td>7.147</td>\n",
              "      <td>54.2</td>\n",
              "      <td>6.0622</td>\n",
              "      <td>3.0</td>\n",
              "      <td>222.0</td>\n",
              "      <td>18.7</td>\n",
              "      <td>396.90</td>\n",
              "      <td>5.33</td>\n",
              "      <td>36.2</td>\n",
              "    </tr>\n",
              "  </tbody>\n",
              "</table>\n",
              "</div>"
            ],
            "text/plain": [
              "      CRIM    ZN  INDUS  CHAS    NOX  ...    TAX  PTRATIO       B  LSTAT  target\n",
              "0  0.00632  18.0   2.31   0.0  0.538  ...  296.0     15.3  396.90   4.98    24.0\n",
              "1  0.02731   0.0   7.07   0.0  0.469  ...  242.0     17.8  396.90   9.14    21.6\n",
              "2  0.02729   0.0   7.07   0.0  0.469  ...  242.0     17.8  392.83   4.03    34.7\n",
              "3  0.03237   0.0   2.18   0.0  0.458  ...  222.0     18.7  394.63   2.94    33.4\n",
              "4  0.06905   0.0   2.18   0.0  0.458  ...  222.0     18.7  396.90   5.33    36.2\n",
              "\n",
              "[5 rows x 14 columns]"
            ]
          },
          "metadata": {
            "tags": []
          },
          "execution_count": 3
        }
      ]
    },
    {
      "cell_type": "markdown",
      "metadata": {
        "id": "2zIwOawtRe1c"
      },
      "source": [
        "예시는 다음 것들을 비교하고자 한다.\n",
        "- 1차, 2차, 3차 다항식 기준의 회귀 비교\n",
        "- 로그 스케일링 이후의 비교"
      ]
    },
    {
      "cell_type": "code",
      "metadata": {
        "id": "hqQmrArqRpjm"
      },
      "source": [
        "X = df[['LSTAT']].values\n",
        "y = df['target'].values\n",
        "\n",
        "regr = LinearRegression()\n",
        "#이차, 삼차식 생성\n",
        "quadraic = PolynomialFeatures(degree = 2)\n",
        "cubic = PolynomialFeatures(degree = 3)\n",
        "\n",
        "X_quad = quadratic.fit_transform(X)\n",
        "X_cubic = cubic.fit_transform(X)\n",
        "\n",
        "# X값 범위룰 잡는다.\n",
        "X_fit = np.arange(X.min(), X.max(), 1)[:, np.newaxis]\n",
        "\n",
        "# 선형 학습\n",
        "regr = regr.fit(X, y)\n",
        "y_lin_fit = regr.predict(X_fit)\n",
        "linear_r2 = r2_score(y, regr.predict(X))\n",
        "\n",
        "# 2차 학습\n",
        "quad_regr = regr.fit(X_quad, y)\n",
        "y_quad_fit = quad_regr.predict(quadratic.fit_transform(X_fit))\n",
        "quad_r2 = r2_score(y, quad_regr.predict(X_quad))\n",
        "\n",
        "# 3차 학습\n",
        "cubic_regr = regr.fit(X_cubic, y)\n",
        "y_cubic_fit = cubic_regr.predict(cubic.fit_transform(X_fit))\n",
        "cubic_r2 = r2_score(y, cubic_regr.predict(X_cubic))"
      ],
      "execution_count": 5,
      "outputs": []
    },
    {
      "cell_type": "markdown",
      "metadata": {
        "id": "SphXNmhh45sm"
      },
      "source": [
        "1,2,3차의 그래프를 비교해보려고 한다."
      ]
    },
    {
      "cell_type": "code",
      "metadata": {
        "colab": {
          "base_uri": "https://localhost:8080/",
          "height": 265
        },
        "id": "cnuU9wRU48aG",
        "outputId": "6b778b88-9719-4322-db17-1d88882f3b59"
      },
      "source": [
        "plt.scatter(X, y, label = 'training datas',\n",
        "            color='lightgray')\n",
        "plt.plot(X_fit, y_lin_fit,\n",
        "         linestyle=':')\n",
        "plt.plot(X_fit, y_quad_fit,\n",
        "         linestyle='-')\n",
        "plt.plot(X_fit, y_cubic_fit,\n",
        "         linestyle='--')\n",
        "\n",
        "plt.legend(loc='upper left')\n",
        "plt.show()"
      ],
      "execution_count": 7,
      "outputs": [
        {
          "output_type": "display_data",
          "data": {
            "image/png": "[encoded data removed]",
            "text/plain": [
              "<Figure size 432x288 with 1 Axes>"
            ]
          },
          "metadata": {
            "tags": [],
            "needs_background": "light"
          }
        }
      ]
    }
  ]
}