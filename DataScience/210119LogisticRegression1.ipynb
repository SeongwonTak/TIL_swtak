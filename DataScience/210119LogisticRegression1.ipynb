{
  "nbformat": 4,
  "nbformat_minor": 0,
  "metadata": {
    "colab": {
      "name": "210119LogisticRegression1.ipynb",
      "provenance": [],
      "authorship_tag": "ABX9TyOBgkCCk6GY3M3dXF9F648u",
      "include_colab_link": true
    },
    "kernelspec": {
      "name": "python3",
      "display_name": "Python 3"
    }
  },
  "cells": [
    {
      "cell_type": "markdown",
      "metadata": {
        "id": "view-in-github",
        "colab_type": "text"
      },
      "source": [
        "<a href=\"https://colab.research.google.com/github/SeongwonTak/TIL_swtak/blob/master/210119LogisticRegression1.ipynb\" target=\"_parent\"><img src=\"https://colab.research.google.com/assets/colab-badge.svg\" alt=\"Open In Colab\"/></a>"
      ]
    },
    {
      "cell_type": "markdown",
      "metadata": {
        "id": "Z5MoenSczATm"
      },
      "source": [
        "# 210119 로지스틱 회귀 분석 1\r\n",
        "\r\n",
        "로지스틱 회귀 분석은 분명히 모델은 \"회귀\" 모델인데, \"분류\"문제를 푸는 신기한 모델이다. 무엇을 하려는 모델인지 확인 후, 실제 예시와 함께 간단한 수학적 배경을 알아보고자 한다.\r\n",
        "\r\n",
        "## 1. 로지스틱 회귀란?\r\n",
        "로지스틱 회귀는 분명히 회귀 모델인데 그 결과가 범주형일때 사용한다. 기본적으로는 \"이진 분류\"를 위한 선형 모델이지만 다중 분류로도 확장이 가능하다.\r\n",
        "\r\n",
        "\"이진 분류\"를 위해 특정 샘플에 속할 확률을 돌려주고 이를 바탕으로 분류를 하는 모델을 생각할 것이다.\r\n",
        "\r\n",
        "우선 코드 샘플을 통해 어떻게 쓸 것이고, 어떤 결과를 얻는지부터 확인해 보자.\r\n",
        "\r\n",
        "\r\n",
        "##2, 로지스틱 회귀의 예시\r\n",
        "예시의 데이터로, 미국 의대생의 입학 데이터를 받아오고자 한다.\r\n",
        "\r\n"
      ]
    },
    {
      "cell_type": "code",
      "metadata": {
        "colab": {
          "base_uri": "https://localhost:8080/",
          "height": 195
        },
        "id": "OrlmBpoa7iAd",
        "outputId": "da1ad0d5-ea8b-4ed3-c2d4-14706821d89a"
      },
      "source": [
        "import statsmodels.api as sm\r\n",
        "import pandas as pd\r\n",
        "import numpy as np\r\n",
        "\r\n",
        "data_med = sm.datasets.get_rdataset(\"MedGPA\", package=\"Stat2Data\")\r\n",
        "df_med = data_med.data\r\n",
        "df_med.tail()"
      ],
      "execution_count": 2,
      "outputs": [
        {
          "output_type": "execute_result",
          "data": {
            "text/html": [
              "<div>\n",
              "<style scoped>\n",
              "    .dataframe tbody tr th:only-of-type {\n",
              "        vertical-align: middle;\n",
              "    }\n",
              "\n",
              "    .dataframe tbody tr th {\n",
              "        vertical-align: top;\n",
              "    }\n",
              "\n",
              "    .dataframe thead th {\n",
              "        text-align: right;\n",
              "    }\n",
              "</style>\n",
              "<table border=\"1\" class=\"dataframe\">\n",
              "  <thead>\n",
              "    <tr style=\"text-align: right;\">\n",
              "      <th></th>\n",
              "      <th>Accept</th>\n",
              "      <th>Acceptance</th>\n",
              "      <th>Sex</th>\n",
              "      <th>BCPM</th>\n",
              "      <th>GPA</th>\n",
              "      <th>VR</th>\n",
              "      <th>PS</th>\n",
              "      <th>WS</th>\n",
              "      <th>BS</th>\n",
              "      <th>MCAT</th>\n",
              "      <th>Apps</th>\n",
              "    </tr>\n",
              "  </thead>\n",
              "  <tbody>\n",
              "    <tr>\n",
              "      <th>50</th>\n",
              "      <td>D</td>\n",
              "      <td>0</td>\n",
              "      <td>M</td>\n",
              "      <td>2.41</td>\n",
              "      <td>2.72</td>\n",
              "      <td>8</td>\n",
              "      <td>8</td>\n",
              "      <td>8.0</td>\n",
              "      <td>8</td>\n",
              "      <td>32</td>\n",
              "      <td>7</td>\n",
              "    </tr>\n",
              "    <tr>\n",
              "      <th>51</th>\n",
              "      <td>D</td>\n",
              "      <td>0</td>\n",
              "      <td>M</td>\n",
              "      <td>3.51</td>\n",
              "      <td>3.56</td>\n",
              "      <td>11</td>\n",
              "      <td>8</td>\n",
              "      <td>6.0</td>\n",
              "      <td>9</td>\n",
              "      <td>34</td>\n",
              "      <td>6</td>\n",
              "    </tr>\n",
              "    <tr>\n",
              "      <th>52</th>\n",
              "      <td>A</td>\n",
              "      <td>1</td>\n",
              "      <td>F</td>\n",
              "      <td>3.43</td>\n",
              "      <td>3.48</td>\n",
              "      <td>7</td>\n",
              "      <td>10</td>\n",
              "      <td>7.0</td>\n",
              "      <td>10</td>\n",
              "      <td>34</td>\n",
              "      <td>14</td>\n",
              "    </tr>\n",
              "    <tr>\n",
              "      <th>53</th>\n",
              "      <td>D</td>\n",
              "      <td>0</td>\n",
              "      <td>M</td>\n",
              "      <td>2.61</td>\n",
              "      <td>2.80</td>\n",
              "      <td>7</td>\n",
              "      <td>5</td>\n",
              "      <td>NaN</td>\n",
              "      <td>6</td>\n",
              "      <td>18</td>\n",
              "      <td>6</td>\n",
              "    </tr>\n",
              "    <tr>\n",
              "      <th>54</th>\n",
              "      <td>D</td>\n",
              "      <td>0</td>\n",
              "      <td>M</td>\n",
              "      <td>3.36</td>\n",
              "      <td>3.44</td>\n",
              "      <td>11</td>\n",
              "      <td>11</td>\n",
              "      <td>8.0</td>\n",
              "      <td>9</td>\n",
              "      <td>39</td>\n",
              "      <td>1</td>\n",
              "    </tr>\n",
              "  </tbody>\n",
              "</table>\n",
              "</div>"
            ],
            "text/plain": [
              "   Accept  Acceptance Sex  BCPM   GPA  VR  PS   WS  BS  MCAT  Apps\n",
              "50      D           0   M  2.41  2.72   8   8  8.0   8    32     7\n",
              "51      D           0   M  3.51  3.56  11   8  6.0   9    34     6\n",
              "52      A           1   F  3.43  3.48   7  10  7.0  10    34    14\n",
              "53      D           0   M  2.61  2.80   7   5  NaN   6    18     6\n",
              "54      D           0   M  3.36  3.44  11  11  8.0   9    39     1"
            ]
          },
          "metadata": {
            "tags": []
          },
          "execution_count": 2
        }
      ]
    },
    {
      "cell_type": "markdown",
      "metadata": {
        "id": "07CfkqMd8M5K"
      },
      "source": [
        "데이터를 보면, \r\n",
        "- Acceptance : 0은 불합격, 1은 합격\r\n",
        "- BCPM : 이과계열 과목 평균\r\n",
        "- GPA : 학점\r\n",
        "- VR : 영어\r\n",
        "- PS : 물리\r\n",
        "- WS : 쓰기\r\n",
        "- BS : 생물\r\n",
        "- MCAT : 시험점수합계.. 필요 없다,\r\n",
        "- Apps : 지원횟수\r\n",
        "\r\n"
      ]
    },
    {
      "cell_type": "code",
      "metadata": {
        "colab": {
          "base_uri": "https://localhost:8080/"
        },
        "id": "IApMw8FuBpDa",
        "outputId": "e9d5dcb0-fd4c-467a-ca4f-ced47f5d1bfc"
      },
      "source": [
        "# 결측값이 있는거 같다.\r\n",
        "df_med.isna().sum()"
      ],
      "execution_count": 9,
      "outputs": [
        {
          "output_type": "execute_result",
          "data": {
            "text/plain": [
              "Accept        0\n",
              "Acceptance    0\n",
              "Sex           0\n",
              "BCPM          0\n",
              "GPA           0\n",
              "VR            0\n",
              "PS            0\n",
              "WS            1\n",
              "BS            0\n",
              "MCAT          0\n",
              "Apps          0\n",
              "dtype: int64"
            ]
          },
          "metadata": {
            "tags": []
          },
          "execution_count": 9
        }
      ]
    },
    {
      "cell_type": "code",
      "metadata": {
        "colab": {
          "base_uri": "https://localhost:8080/"
        },
        "id": "P0Gml9R2ByUR",
        "outputId": "54a782c8-ff63-403d-b29b-a5b261d4aeca"
      },
      "source": [
        "df_med['WS'].mean()"
      ],
      "execution_count": 10,
      "outputs": [
        {
          "output_type": "execute_result",
          "data": {
            "text/plain": [
              "7.148148148148148"
            ]
          },
          "metadata": {
            "tags": []
          },
          "execution_count": 10
        }
      ]
    },
    {
      "cell_type": "code",
      "metadata": {
        "id": "9oKf4XYLB6sQ"
      },
      "source": [
        "df_med['WS'] = df_med['WS'].fillna(7.1)"
      ],
      "execution_count": 15,
      "outputs": []
    },
    {
      "cell_type": "code",
      "metadata": {
        "colab": {
          "base_uri": "https://localhost:8080/"
        },
        "id": "IIlB9OGbCchM",
        "outputId": "fea94f76-bb23-469b-d35a-2ef48cdf8ff7"
      },
      "source": [
        "import statsmodels.api as sm\r\n",
        "model_med = sm.Logit.from_formula(\"Acceptance ~ Sex + BCPM + GPA + VR + PS + WS + BS + Apps\", df_med)\r\n",
        "result_med = model_med.fit()\r\n",
        "print(result_med.summary())"
      ],
      "execution_count": 23,
      "outputs": [
        {
          "output_type": "stream",
          "text": [
            "Optimization terminated successfully.\n",
            "         Current function value: 0.275631\n",
            "         Iterations 9\n",
            "                           Logit Regression Results                           \n",
            "==============================================================================\n",
            "Dep. Variable:             Acceptance   No. Observations:                   55\n",
            "Model:                          Logit   Df Residuals:                       46\n",
            "Method:                           MLE   Df Model:                            8\n",
            "Date:                Tue, 19 Jan 2021   Pseudo R-squ.:                  0.6000\n",
            "Time:                        14:32:45   Log-Likelihood:                -15.160\n",
            "converged:                       True   LL-Null:                       -37.896\n",
            "Covariance Type:            nonrobust   LLR p-value:                 2.995e-07\n",
            "==============================================================================\n",
            "                 coef    std err          z      P>|z|      [0.025      0.975]\n",
            "------------------------------------------------------------------------------\n",
            "Intercept    -46.6414     15.600     -2.990      0.003     -77.216     -16.067\n",
            "Sex[T.M]      -2.2835      1.429     -1.597      0.110      -5.085       0.518\n",
            "BCPM          -6.1633      6.963     -0.885      0.376     -19.811       7.484\n",
            "GPA           12.3973      8.611      1.440      0.150      -4.479      29.274\n",
            "VR             0.0790      0.311      0.254      0.799      -0.530       0.688\n",
            "PS             1.1673      0.539      2.164      0.030       0.110       2.225\n",
            "WS            -0.7784      0.396     -1.968      0.049      -1.554      -0.003\n",
            "BS             1.9184      0.682      2.814      0.005       0.582       3.255\n",
            "Apps           0.0512      0.147      0.348      0.728      -0.237       0.340\n",
            "==============================================================================\n",
            "\n",
            "Possibly complete quasi-separation: A fraction 0.11 of observations can be\n",
            "perfectly predicted. This might indicate that there is complete\n",
            "quasi-separation. In this case some parameters will not be identified.\n"
          ],
          "name": "stdout"
        }
      ]
    },
    {
      "cell_type": "code",
      "metadata": {
        "id": "NLNqNO_AEQ1V"
      },
      "source": [
        "P>|Z| 부분에서 0.05 이하여야, 유효한 계수이다.\r\n",
        "따라서, 유효한 부분만을 살려서 다시 분석할 것이다."
      ],
      "execution_count": null,
      "outputs": []
    },
    {
      "cell_type": "code",
      "metadata": {
        "colab": {
          "base_uri": "https://localhost:8080/"
        },
        "id": "KH9xaptJEoCF",
        "outputId": "c1a88ab1-f2ee-4520-adfd-a96cfc6a5a4e"
      },
      "source": [
        "model_med = sm.Logit.from_formula(\"Acceptance ~ PS + BS\", df_med)\r\n",
        "result_med = model_med.fit()\r\n",
        "print(result_med.summary())"
      ],
      "execution_count": 24,
      "outputs": [
        {
          "output_type": "stream",
          "text": [
            "Optimization terminated successfully.\n",
            "         Current function value: 0.460609\n",
            "         Iterations 7\n",
            "                           Logit Regression Results                           \n",
            "==============================================================================\n",
            "Dep. Variable:             Acceptance   No. Observations:                   55\n",
            "Model:                          Logit   Df Residuals:                       52\n",
            "Method:                           MLE   Df Model:                            2\n",
            "Date:                Tue, 19 Jan 2021   Pseudo R-squ.:                  0.3315\n",
            "Time:                        14:35:46   Log-Likelihood:                -25.333\n",
            "converged:                       True   LL-Null:                       -37.896\n",
            "Covariance Type:            nonrobust   LLR p-value:                 3.503e-06\n",
            "==============================================================================\n",
            "                 coef    std err          z      P>|z|      [0.025      0.975]\n",
            "------------------------------------------------------------------------------\n",
            "Intercept    -15.5427      4.684     -3.318      0.001     -24.723      -6.362\n",
            "PS             0.4798      0.316      1.518      0.129      -0.140       1.099\n",
            "BS             1.1464      0.387      2.959      0.003       0.387       1.906\n",
            "==============================================================================\n"
          ],
          "name": "stdout"
        }
      ]
    },
    {
      "cell_type": "markdown",
      "metadata": {
        "id": "a0w83BoBEuM-"
      },
      "source": [
        "위의 모델의 의미를 정리하면\r\n",
        "$$ 0.4798PS + 1.1464BS - 15.5427$$\r\n",
        "\r\n",
        "이 값이 0.5보다 클 경우 양성 피드백을 가진다.\r\n",
        "즉, 저 값이 0.5보다 클 경우 합격으로 분류된다.\r\n",
        "아닐 경우, 불합격으로 분류된다."
      ]
    },
    {
      "cell_type": "markdown",
      "metadata": {
        "id": "ZAl7Ah5LFMOR"
      },
      "source": [
        "## 3. 로지스틱 회귀 분석의 이해\r\n",
        "\r\n",
        "위에서 양성 샘플에 대해서 이야기 했는데 이에 대해 조금 더 언급하고자 한다.\r\n",
        "\r\n",
        "로지스틱 회귀 분석의 목표는 어떤 샘플이 특정 클래스에 속할 확률을 예측하는 것이 목표이다.\r\n",
        "\r\n",
        "* Odds ratio (오즈비) = $ \\frac{P}{1-P}$,  $P$는 양성 샘플일 확률\r\n",
        "\r\n",
        "여기의 양변에 로그를 취해 **logit 함수를 정의하게 된다.**\r\n",
        "\r\n",
        "즉, 가중치 벡터 $w$가 주어질 때,\r\n",
        "$$ logit(P(y=1|x))=w^{T}x$$\r\n",
        "즉, 선형결합의 형태로 주어진다.\r\n",
        "\r\n",
        "\r\n",
        "확률을 예측하기 위해, **logistic sigmoid function**을 사용한다. 굳이 이 함수를 사용하는 이유에 대해서는 추후에 언급하고자 한다. (정확히는 활성함수라는 개념에 대해 선행되어야 한다고 하는데, 조금 더 찾아봐야 한다)\r\n",
        "\r\n",
        "\r\n",
        "추후에는 로지스틱 회귀에서 어떤 함수를 최척화 하는지, 시그모이드 함수를 왜 사용하는지에 대해 찾아보고 다른 예제와 다중 class로의 확장에 대해 알아보고자 한다."
      ]
    }
  ]
}
