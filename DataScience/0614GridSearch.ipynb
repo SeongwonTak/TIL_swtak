{
  "nbformat": 4,
  "nbformat_minor": 0,
  "metadata": {
    "colab": {
      "name": "Untitled12.ipynb",
      "provenance": [],
      "authorship_tag": "ABX9TyORKBL+Yl2F7v/xR+/fZa0C",
      "include_colab_link": true
    },
    "kernelspec": {
      "name": "python3",
      "display_name": "Python 3"
    },
    "language_info": {
      "name": "python"
    }
  },
  "cells": [
    {
      "cell_type": "markdown",
      "metadata": {
        "id": "view-in-github",
        "colab_type": "text"
      },
      "source": [
        "<a href=\"https://colab.research.google.com/github/SeongwonTak/TIL_swtak/blob/master/DataScience/0614GridSearch.ipynb\" target=\"_parent\"><img src=\"https://colab.research.google.com/assets/colab-badge.svg\" alt=\"Open In Colab\"/></a>"
      ]
    },
    {
      "cell_type": "markdown",
      "metadata": {
        "id": "Fd1VmBYN9U2N"
      },
      "source": [
        "# Grid Search and Cross Validation\n",
        "\n",
        "모델링의 가장 최적의 하이퍼파라미터 값을 찾기 위해, 일일이 모두 다 해보는 방법인 Grid Search에 대해서 수행 방법을 알아보자.\n",
        "\n",
        "또한 Stratified K-fold 및 위를 한번에 다하는 cross_val_score를 알아보자."
      ]
    },
    {
      "cell_type": "markdown",
      "metadata": {
        "id": "QKeXtS7N_Xo-"
      },
      "source": [
        "# K-fold vs Stratified K-fold\n",
        "\n",
        "그냥 K-fold와 다르게 층화, Stratified K-fold는 train에서의 label 분포와 test에서의 label 분포를 유사하게 한다."
      ]
    },
    {
      "cell_type": "code",
      "metadata": {
        "colab": {
          "base_uri": "https://localhost:8080/"
        },
        "id": "gmf4XaOS6cYA",
        "outputId": "63f1463e-589b-4d31-a4b7-990e1a30c1ce"
      },
      "source": [
        "from sklearn.datasets import load_iris\n",
        "import pandas as pd\n",
        "import numpy as np\n",
        "from sklearn.tree import DecisionTreeClassifier\n",
        "from sklearn.metrics import accuracy_score\n",
        "from sklearn.model_selection import StratifiedKFold\n",
        "skf = StratifiedKFold(n_splits = 5)\n",
        "all_acc = []\n",
        "fold_idx = 0\n",
        "\n",
        "iris = load_iris()\n",
        "features = iris.data\n",
        "labels = iris.target\n",
        "\n",
        "for train_idx, test_idx in skf.split(features, labels):\n",
        "  train_x, train_y = features[train_idx], labels[train_idx]\n",
        "  test_x, test_y = features[test_idx], labels[test_idx]\n",
        "\n",
        "  model = DecisionTreeClassifier()\n",
        "  model.fit(train_x, train_y)\n",
        "  pred_y = model.predict(test_x)\n",
        "  acc = accuracy_score(test_y, pred_y)\n",
        "\n",
        "  fold_idx += 1\n",
        "  all_acc.append(acc)\n",
        "\n",
        "print(np.mean(all_acc))"
      ],
      "execution_count": 3,
      "outputs": [
        {
          "output_type": "stream",
          "text": [
            "0.9600000000000002\n"
          ],
          "name": "stdout"
        }
      ]
    },
    {
      "cell_type": "markdown",
      "metadata": {
        "id": "rJcBe8XCBQ64"
      },
      "source": [
        "그런데, 이를 한번에 해 줄 코드가 존재한다. cross_val_score을 통해 한번에 된다."
      ]
    },
    {
      "cell_type": "code",
      "metadata": {
        "colab": {
          "base_uri": "https://localhost:8080/"
        },
        "id": "Q2Xd3fLdA_qe",
        "outputId": "41375a83-7904-43d2-f295-cd5bf885fa1b"
      },
      "source": [
        "# Stratified K-fold 기반이다.\n",
        "from sklearn.model_selection import cross_val_score, cross_validate\n",
        "\n",
        "iris_data = load_iris()\n",
        "features = iris_data.data\n",
        "labels = iris.target\n",
        "\n",
        "model = DecisionTreeClassifier()\n",
        "\n",
        "scores = cross_val_score(model, features, labels,\n",
        "                        scoring='accuracy', cv=5)\n",
        "print(scores)"
      ],
      "execution_count": 4,
      "outputs": [
        {
          "output_type": "stream",
          "text": [
            "[0.96666667 0.96666667 0.9        0.96666667 1.        ]\n"
          ],
          "name": "stdout"
        }
      ]
    },
    {
      "cell_type": "markdown",
      "metadata": {
        "id": "C_XaH3AhEpBV"
      },
      "source": [
        "## GridSearch\n",
        "그리드서치란, 모델링시 필요한 하이퍼파리미터를 설정할 때, 가장 최적의 파라미터 값을 찾아주는 방법이다.  \n",
        "파라미터 후보값을 사전에 정의해주고 이를 일일이 for문 돌리지 말고, 이걸 대신 해준다. 거기에 교차검증까지 해주니, 그냥 이걸 하면 된다.\n",
        "\n"
      ]
    },
    {
      "cell_type": "code",
      "metadata": {
        "colab": {
          "base_uri": "https://localhost:8080/"
        },
        "id": "T2kuAQzOBcsY",
        "outputId": "e558e784-2648-4c49-b979-784241a77d09"
      },
      "source": [
        "from sklearn.datasets import load_iris\n",
        "from sklearn.tree import DecisionTreeClassifier\n",
        "from sklearn.model_selection import GridSearchCV, train_test_split\n",
        "from sklearn.metrics import accuracy_score\n",
        "import pandas as pd\n",
        "\n",
        "iris_data = load_iris()\n",
        "train_x, test_x, train_y, test_y = train_test_split(iris_data.data, iris_data.target,\n",
        "                                                    test_size = 0.2)\n",
        "model = DecisionTreeClassifier()\n",
        "params = {'max_depth':[3, 4, 5, 6], 'min_samples_split':[2, 3, 4]}\n",
        "\n",
        "grid_dtree = GridSearchCV(model, param_grid = params,\n",
        "                          cv = 5, refit = True, return_train_score = True)\n",
        "grid_dtree.fit(train_x, train_y)\n",
        "\n",
        "# 결과표 출력\n",
        "scores_df = pd.DataFrame(grid_dtree.cv_results_)\n",
        "scores_df[['params', 'mean_test_score', 'rank_test_score', \n",
        "           'split0_test_score', 'split1_test_score', 'split2_test_score']]\n",
        "\n",
        "# best_params_ 할당\n",
        "print(f\"최적의 파라미터 : {grid_dtree.best_params_}\")\n",
        "print(f\"최적의 파라미터로 모델의 정확도 : {grid_dtree.best_score_}\")\n",
        "\n",
        "# 최적의 best_params\n",
        "estimator = grid_dtree.best_estimator_\n",
        "pred_y = estimator.predict(test_x)\n",
        "print(accuracy_score(test_y, pred_y))\n"
      ],
      "execution_count": 7,
      "outputs": [
        {
          "output_type": "stream",
          "text": [
            "최적의 파라미터 : {'max_depth': 3, 'min_samples_split': 2}\n",
            "최적의 파라미터로 모델의 정확도 : 0.975\n",
            "0.9666666666666667\n"
          ],
          "name": "stdout"
        }
      ]
    },
    {
      "cell_type": "code",
      "metadata": {
        "id": "si6yv4T8HPEq"
      },
      "source": [
        ""
      ],
      "execution_count": null,
      "outputs": []
    }
  ]
}