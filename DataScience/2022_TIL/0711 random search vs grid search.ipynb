{
 "cells": [
  {
   "cell_type": "markdown",
   "id": "ae29c427",
   "metadata": {},
   "source": [
    "# grid search, random search"
   ]
  },
  {
   "cell_type": "code",
   "execution_count": 2,
   "id": "3159af21",
   "metadata": {},
   "outputs": [],
   "source": [
    "from sklearn.datasets import load_iris\n",
    "from sklearn.model_selection import train_test_split, GridSearchCV, RandomizedSearchCV\n",
    "from sklearn.tree import DecisionTreeClassifier\n",
    "from sklearn.metrics import accuracy_score"
   ]
  },
  {
   "cell_type": "code",
   "execution_count": 3,
   "id": "8dfc1eec",
   "metadata": {},
   "outputs": [],
   "source": [
    "iris = load_iris()\n",
    "X = iris.data\n",
    "y = iris.target\n",
    "X_train, X_test, y_train, y_test = train_test_split(X, y, stratify = y, random_state = 42)"
   ]
  },
  {
   "cell_type": "code",
   "execution_count": 19,
   "id": "726695ba",
   "metadata": {},
   "outputs": [],
   "source": [
    "# GridSearchCV\n",
    "tree = DecisionTreeClassifier(random_state = 42)\n",
    "\n",
    "param_grid = {'max_depth' : [1, 2, 3, 4, 5, 6],\n",
    "              'max_leaf_nodes' : [3, 5, 7, 9, 11, 13]}\n",
    "\n",
    "grid_search = GridSearchCV(tree, param_grid = param_grid, scoring = 'accuracy', cv = 3, n_jobs = 1)"
   ]
  },
  {
   "cell_type": "code",
   "execution_count": 20,
   "id": "2f083e60",
   "metadata": {},
   "outputs": [
    {
     "data": {
      "text/plain": [
       "0.9210526315789473"
      ]
     },
     "execution_count": 20,
     "metadata": {},
     "output_type": "execute_result"
    }
   ],
   "source": [
    "grid_search.fit(X_train, y_train)\n",
    "\n",
    "best_model = grid_search.best_estimator_\n",
    "accuracy_score(y_test, best_model.predict(X_test))"
   ]
  },
  {
   "cell_type": "code",
   "execution_count": 21,
   "id": "0c23c8c1",
   "metadata": {},
   "outputs": [
    {
     "name": "stdout",
     "output_type": "stream",
     "text": [
      "{'max_depth': 2, 'max_leaf_nodes': 3}\n"
     ]
    }
   ],
   "source": [
    "print(grid_search.best_params_)"
   ]
  },
  {
   "cell_type": "code",
   "execution_count": 22,
   "id": "341a5c0b",
   "metadata": {},
   "outputs": [
    {
     "data": {
      "text/plain": [
       "0.9210526315789473"
      ]
     },
     "execution_count": 22,
     "metadata": {},
     "output_type": "execute_result"
    }
   ],
   "source": [
    "# RandomSearch\n",
    "tree = DecisionTreeClassifier(random_state = 42)\n",
    "\n",
    "param_grid = {\n",
    "    'max_depth': range(1, 11),\n",
    "    'max_leaf_nodes': range(3, 31, 2),    \n",
    "}\n",
    "# n_iter_search 지정 필수! 몇 번 탐색?\n",
    "n_iter_search = 10\n",
    "random_search = RandomizedSearchCV(tree, param_distributions = param_grid, n_iter = n_iter_search,\n",
    "                                  cv = 3, n_jobs = 1)\n",
    "\n",
    "random_search.fit(X_train, y_train)\n",
    "\n",
    "best_model = random_search.best_estimator_\n",
    "accuracy_score(y_test, best_model.predict(X_test))"
   ]
  },
  {
   "cell_type": "code",
   "execution_count": 23,
   "id": "1917de94",
   "metadata": {},
   "outputs": [
    {
     "name": "stdout",
     "output_type": "stream",
     "text": [
      "{'max_leaf_nodes': 3, 'max_depth': 8}\n"
     ]
    }
   ],
   "source": [
    "print(random_search.best_params_)"
   ]
  }
 ],
 "metadata": {
  "kernelspec": {
   "display_name": "Python 3",
   "language": "python",
   "name": "python3"
  },
  "language_info": {
   "codemirror_mode": {
    "name": "ipython",
    "version": 3
   },
   "file_extension": ".py",
   "mimetype": "text/x-python",
   "name": "python",
   "nbconvert_exporter": "python",
   "pygments_lexer": "ipython3",
   "version": "3.8.8"
  }
 },
 "nbformat": 4,
 "nbformat_minor": 5
}
