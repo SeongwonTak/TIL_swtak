{
 "cells": [
  {
   "cell_type": "markdown",
   "id": "c6613e89",
   "metadata": {},
   "source": [
    "# 다중 검정 실습"
   ]
  },
  {
   "cell_type": "code",
   "execution_count": 13,
   "id": "8512092e",
   "metadata": {},
   "outputs": [
    {
     "name": "stdout",
     "output_type": "stream",
     "text": [
      "19.661035470257236\n",
      "4.014543341119651e-06\n"
     ]
    }
   ],
   "source": [
    "data1 = [10, 7, 5, 9, 4, 6, 6, 3, 9, 2, 5]\n",
    "data2 = [21, 14, 15, 16, 12, 18, 17, 19, 21, 33]\n",
    "data3 = [15, 4, 20, 6, 0, 5, 7, 4, 9, 8, -1]\n",
    "\n",
    "fstat, pval = f_oneway(data1, data2, data3)\n",
    "print(fstat)\n",
    "print(pval)"
   ]
  },
  {
   "cell_type": "markdown",
   "id": "596c1cb3",
   "metadata": {},
   "source": [
    "유의수준 5% 하에서, 귀무가설이 기각되며 데이터간 차이가 발생하였다. 어느 데이터가 차이가 있는지 Tukey HSD를 통해 테스트 가능하다."
   ]
  },
  {
   "cell_type": "markdown",
   "id": "b6fae034",
   "metadata": {},
   "source": [
    "## Tukey HSD"
   ]
  },
  {
   "cell_type": "code",
   "execution_count": 2,
   "id": "99ff7ae6",
   "metadata": {},
   "outputs": [],
   "source": [
    "from scipy.stats import f_oneway\n",
    "import numpy as np\n",
    "from statsmodels.stats.multicomp import pairwise_tukeyhsd"
   ]
  },
  {
   "cell_type": "code",
   "execution_count": 14,
   "id": "672b0a68",
   "metadata": {},
   "outputs": [
    {
     "name": "stdout",
     "output_type": "stream",
     "text": [
      " Multiple Comparison of Means - Tukey HSD, FWER=0.05 \n",
      "=====================================================\n",
      "group1 group2 meandiff p-adj   lower    upper  reject\n",
      "-----------------------------------------------------\n",
      " data1  data2     12.6  0.001   7.1267 18.0733   True\n",
      " data1  data3      1.0 0.8855  -4.3414  6.3414  False\n",
      " data2  data3    -11.6  0.001 -17.0733 -6.1267   True\n",
      "-----------------------------------------------------\n"
     ]
    }
   ],
   "source": [
    "v = np.concatenate([data1, data2, data3])\n",
    "labels = ['data1'] * len(data1) + ['data2'] * len(data2) + ['data3'] * len(data3)\n",
    "\n",
    "tukey_results = pairwise_tukeyhsd(v, labels, 0.05)\n",
    "print(tukey_results)"
   ]
  },
  {
   "cell_type": "markdown",
   "id": "d7a28e37",
   "metadata": {},
   "source": [
    "data1과 data2는 평균이 다르고, data2와 3도 평균이 다르다고 말할 수 있다고 해석할 수 있다.  \n",
    "(reject는 귀무가설의 기각여부가 된다.)"
   ]
  },
  {
   "cell_type": "code",
   "execution_count": null,
   "id": "badbd2dc",
   "metadata": {},
   "outputs": [],
   "source": []
  }
 ],
 "metadata": {
  "kernelspec": {
   "display_name": "Python 3",
   "language": "python",
   "name": "python3"
  },
  "language_info": {
   "codemirror_mode": {
    "name": "ipython",
    "version": 3
   },
   "file_extension": ".py",
   "mimetype": "text/x-python",
   "name": "python",
   "nbconvert_exporter": "python",
   "pygments_lexer": "ipython3",
   "version": "3.8.8"
  }
 },
 "nbformat": 4,
 "nbformat_minor": 5
}
