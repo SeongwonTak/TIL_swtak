{
  "nbformat": 4,
  "nbformat_minor": 0,
  "metadata": {
    "colab": {
      "name": "scikitlearn_pipeline.ipynb",
      "provenance": [],
      "authorship_tag": "ABX9TyOas5QFFVpeonh4Mnc38s0l",
      "include_colab_link": true
    },
    "kernelspec": {
      "name": "python3",
      "display_name": "Python 3"
    },
    "language_info": {
      "name": "python"
    }
  },
  "cells": [
    {
      "cell_type": "markdown",
      "metadata": {
        "id": "view-in-github",
        "colab_type": "text"
      },
      "source": [
        "<a href=\"https://colab.research.google.com/github/SeongwonTak/TIL_swtak/blob/master/DataScience/scikitlearn_pipeline.ipynb\" target=\"_parent\"><img src=\"https://colab.research.google.com/assets/colab-badge.svg\" alt=\"Open In Colab\"/></a>"
      ]
    },
    {
      "cell_type": "markdown",
      "metadata": {
        "id": "bhOav-yfb6S9"
      },
      "source": [
        "# Scikit-learn pipeline\n",
        "출처 : 머신러닝 교과서 ch6-1"
      ]
    },
    {
      "cell_type": "markdown",
      "metadata": {
        "id": "7OoqIBT4cD5E"
      },
      "source": [
        "데이터 분석시에서는 범주형이나 스케일링, 정규화 같은 수많은 데이터 변환이 수행되어야 한다. (전처리) 이 과정을 한 번이 아닌 수 번을 해야 할 것인데 그 때마다 이 모든 변환을 직접 할 수는 없을 것이다.\n",
        "\n",
        "다행스럽게도, Scikit-learn에서는 이 과정을 단순화 하는 도구로, 재사용하는 기능을 묶어주는 Pipeline이라는 기능이 존재한다. 이를 통해 연속된 변환을 순차적으로, 반복적으로 사용 가능하다."
      ]
    },
    {
      "cell_type": "markdown",
      "metadata": {
        "id": "_3urhH7jdjZV"
      },
      "source": [
        "## Pipeline 제작의 예시\n",
        "Pipeline의 제작에서는 여러 변환기를 순서대로 나열한 다음에, 마지막에는 추정기가 들어가야 한다."
      ]
    },
    {
      "cell_type": "code",
      "metadata": {
        "id": "uSzMqmaGbzat"
      },
      "source": [
        "import numpy as np\n",
        "import pandas as pd\n",
        "from sklearn.model_selection import train_test_split\n",
        "from sklearn.datasets import load_breast_cancer"
      ],
      "execution_count": 1,
      "outputs": []
    },
    {
      "cell_type": "code",
      "metadata": {
        "id": "uNgNPtP56uLd"
      },
      "source": [
        "data = load_breast_cancer()\n",
        "X_train, X_test, y_train, y_test = train_test_split(data.data, data.target)"
      ],
      "execution_count": 4,
      "outputs": []
    },
    {
      "cell_type": "code",
      "metadata": {
        "colab": {
          "base_uri": "https://localhost:8080/"
        },
        "id": "QpPixvCM6zIB",
        "outputId": "5a29e7ab-0d4c-4c5d-b8ec-f9b985e06126"
      },
      "source": [
        "from sklearn.pipeline import make_pipeline\n",
        "from sklearn.preprocessing import StandardScaler\n",
        "from sklearn.decomposition import PCA\n",
        "from sklearn.linear_model import LogisticRegression\n",
        "pipe_lr = make_pipeline(StandardScaler(),\n",
        "                        PCA(n_components=3),\n",
        "                        LogisticRegression(solver='liblinear', random_state=1))\n",
        "pipe_lr.fit(X_train, y_train)\n",
        "y_pred = pipe_lr.predict(X_test)\n",
        "print('테스트 정확도 : %.3f' % pipe_lr.score(X_test, y_test))"
      ],
      "execution_count": 6,
      "outputs": [
        {
          "output_type": "stream",
          "text": [
            "테스트 정확도 : 0.958\n"
          ],
          "name": "stdout"
        }
      ]
    },
    {
      "cell_type": "markdown",
      "metadata": {
        "id": "g37BhEQk8k9k"
      },
      "source": [
        "## K_fold에 적용하기"
      ]
    },
    {
      "cell_type": "code",
      "metadata": {
        "colab": {
          "base_uri": "https://localhost:8080/"
        },
        "id": "JJGraZ9n7i9Z",
        "outputId": "ae5b2016-6f1c-4521-9712-f9d504156bf2"
      },
      "source": [
        "#k_fold에 적용하기\n",
        "from sklearn.model_selection import StratifiedKFold\n",
        "\n",
        "kfold = StratifiedKFold(n_splits = 5).split(X_train, y_train)\n",
        "scores = []\n",
        "for k, (train, test) in enumerate(kfold):\n",
        "  pipe_lr.fit(X_train[train], y_train[train])\n",
        "  score = pipe_lr.score(X_train[test], y_train[test])\n",
        "  scores.append(score)\n",
        "  print('폴드 : %2d, 정확도 : %.3f' %(k+1, score))\n",
        "\n",
        "print('정확도 : %.3f' %(np.mean(scores)))"
      ],
      "execution_count": 8,
      "outputs": [
        {
          "output_type": "stream",
          "text": [
            "폴드 :  1, 정확도 : 0.919\n",
            "폴드 :  2, 정확도 : 0.941\n",
            "폴드 :  3, 정확도 : 0.988\n",
            "폴드 :  4, 정확도 : 0.941\n",
            "폴드 :  5, 정확도 : 0.941\n",
            "정확도 : 0.946\n"
          ],
          "name": "stdout"
        }
      ]
    },
    {
      "cell_type": "code",
      "metadata": {
        "id": "oOOPy32K9q1h"
      },
      "source": [
        ""
      ],
      "execution_count": null,
      "outputs": []
    }
  ]
}