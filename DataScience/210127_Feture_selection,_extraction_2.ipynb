{
  "nbformat": 4,
  "nbformat_minor": 0,
  "metadata": {
    "colab": {
      "name": "210127 Feture selection, extraction 2.ipynb",
      "provenance": [],
      "authorship_tag": "ABX9TyMoPlRqoEXMI19H+qzfI3B1",
      "include_colab_link": true
    },
    "kernelspec": {
      "name": "python3",
      "display_name": "Python 3"
    }
  },
  "cells": [
    {
      "cell_type": "markdown",
      "metadata": {
        "id": "view-in-github",
        "colab_type": "text"
      },
      "source": [
        "<a href=\"https://colab.research.google.com/github/SeongwonTak/TIL_swtak/blob/master/DataScience/210127_Feture_selection%2C_extraction_2.ipynb\" target=\"_parent\"><img src=\"https://colab.research.google.com/assets/colab-badge.svg\" alt=\"Open In Colab\"/></a>"
      ]
    },
    {
      "cell_type": "markdown",
      "metadata": {
        "id": "Ln27NpxJBCnu"
      },
      "source": [
        "#210126~210127 Feature selection and extraction 2\r\n",
        "\r\n",
        "결국 어제, 풀밭이 여러 일들이 많아 끊기고 말았다... 젠장.\r\n",
        "\r\n",
        "어제에 이어 PCA에 대해 공부한다.\r\n",
        "PCA의 알고리즘과 주요 부분의 밑바닥 코딩 내용에 대해 확인한다.\r\n",
        "오늘 일이 있어..많은 내용은 보지 못했다."
      ]
    },
    {
      "cell_type": "markdown",
      "metadata": {
        "id": "g6QzFMnDBagG"
      },
      "source": [
        "## 1. PCA 알고리즘의 개요.\r\n",
        "\r\n",
        "다음 순서대로 PCA 알고리즘을 진행한다.\r\n",
        "\r\n",
        "- 1. data를 표준화 한다.\r\n",
        "- 2. covariance matrix를 계산한다. (공분산 행렬)\r\n",
        "- 3. covariance matrix의 eigenvector, eigenvalue를 계산한다.\r\n",
        "- 4. eigenvalue들을 내림차순으로 정렬 후, 목표하는 k차원에 맞게, 상위 k개의 eigenvalue에 해당하는 eigenvector들을 선택한다.\r\n",
        "- 5. 해당하는 eigenvector들을 행으로 하여 Projection Matrix $W$를 만든다.\r\n",
        "- 6. $xW$ 를 만들면 Profit!\r\n",
        "\r\n",
        "이 알고리즘 과정에 대해 이해를 해보고 일부 부분을 직접 구현하면서 보고자 한다.\r\n"
      ]
    },
    {
      "cell_type": "markdown",
      "metadata": {
        "id": "m5uBZpUNDzQ5"
      },
      "source": [
        "## 2. PCA의 이해\r\n",
        "\r\n",
        "우선 가장 먼저, 이해해야 하는 것은 covariance matrix가 무엇인가? 이다.\r\n",
        "\r\n",
        "공분산 행렬은 모든 샘플별로 공분산을 계산하여 나열한 것이다.\r\n",
        "$$ \r\n",
        "\\begin{pmatrix}\r\n",
        "\\sigma_{1}^{2} & \\sigma_{12} & \\sigma_{13} ... \\\\\r\n",
        "\\sigma_{21} & \\sigma_{2}^{2} & \\sigma_{23} ...\\\\\r\n",
        "\\sigma_{31} & \\sigma_{32} & \\sigma_{3}^{2} ...\\\\\r\n",
        "... & ... & ...\r\n",
        "\\end{pmatrix}$$\r\n",
        "\r\n",
        "이 행렬의 고유벡터가 주성분의 방향을 표현하며 고윳값이 주성분의 \r\n",
        "크기를 표현한다. 고유벡터가 주축의 위치를 표현한다는 것을 생각해보면 자연스러운 현상이다.\r\n",
        "\r\n"
      ]
    },
    {
      "cell_type": "code",
      "metadata": {
        "colab": {
          "base_uri": "https://localhost:8080/"
        },
        "id": "X7EU6AsdHuId",
        "outputId": "8cc99ed8-d342-44a9-9da6-2c44cccd9767"
      },
      "source": [
        "import pandas as pd\r\n",
        "from sklearn.preprocessing import StandardScaler\r\n",
        "from sklearn.model_selection import train_test_split\r\n",
        "from sklearn.datasets import load_wine\r\n",
        "wine = pd.read_csv('https://archive.ics.uci.edu/ml/machine-learning-databases/wine/wine.data', header=None)\r\n",
        "X = wine.iloc[:, 1:].values\r\n",
        "y = wine.iloc[:, 0].values\r\n",
        "X_train, X_test, y_train, y_test = train_test_split(X, y, test_size=0.3,\r\n",
        "                                                    stratify = y,\r\n",
        "                                                    random_state=0)\r\n",
        "sc = StandardScaler()  # 다시말하지만, PCA는 스케일링이 필수이다.\r\n",
        "X_train_std = sc.fit_transform(X_train)\r\n",
        "X_test_std = sc.transform(X_test)\r\n",
        "\r\n",
        "\r\n",
        "#고윳값의 출력\r\n",
        "import numpy as np\r\n",
        "cov_mat = np.cov(X_train_std.T)\r\n",
        "eigen_vals, eigen_vecs = np.linalg.eig(cov_mat)\r\n",
        "print(eigen_vals)\r\n",
        "\r\n",
        "\r\n",
        "# 고유값, 고유벡터 튜플 정리\r\n",
        "eigen_pairs = [(np.abs(eigen_vals[i]), eigen_vecs[:, i]) for i in range(len(eigen_vals))]\r\n",
        "eigen_pairs.sort(key = lambda k:k[0], reverse = True)\r\n",
        "\r\n",
        "\r\n",
        "# 열로 eigenvector들을 묶어 투영행렬을 만들려고 한다.\r\n",
        "w = np.hstack((eigen_pairs[0][1][:, np.newaxis],\r\n",
        "               eigen_pairs[1][1][:, np.newaxis],\r\n",
        "               eigen_pairs[2][1][:, np.newaxis]))\r\n",
        "print(w)"
      ],
      "execution_count": 12,
      "outputs": [
        {
          "output_type": "stream",
          "text": [
            "[4.84274532 2.41602459 1.54845825 0.96120438 0.84166161 0.6620634\n",
            " 0.51828472 0.34650377 0.3131368  0.10754642 0.21357215 0.15362835\n",
            " 0.1808613 ]\n",
            "[[-0.13724218  0.50303478 -0.13774873]\n",
            " [ 0.24724326  0.16487119  0.09615039]\n",
            " [-0.02545159  0.24456476  0.67777567]\n",
            " [ 0.20694508 -0.11352904  0.62504055]\n",
            " [-0.15436582  0.28974518  0.19613548]\n",
            " [-0.39376952  0.05080104  0.14031057]\n",
            " [-0.41735106 -0.02287338  0.11705386]\n",
            " [ 0.30572896  0.09048885  0.13121778]\n",
            " [-0.30668347  0.00835233  0.0304309 ]\n",
            " [ 0.07554066  0.54977581 -0.07992997]\n",
            " [-0.32613263 -0.20716433  0.05305915]\n",
            " [-0.36861022 -0.24902536  0.13239103]\n",
            " [-0.29669651  0.38022942 -0.07065022]]\n"
          ],
          "name": "stdout"
        }
      ]
    },
    {
      "cell_type": "markdown",
      "metadata": {
        "id": "Pqq0xktK-5OV"
      },
      "source": [
        "## 3. PCA with scikit-learn\r\n",
        "sklearn을 통하여 PCA의 사용법에 대해 학습해보자.\r\n"
      ]
    },
    {
      "cell_type": "code",
      "metadata": {
        "id": "HtwUh6V--4b1"
      },
      "source": [
        "from sklearn.decomposition import PCA\r\n",
        "pca = PCA(n_components = 5)\r\n",
        "principalComponents = pca.fit_transform(X_test_std)\r\n",
        "principalDf = pd.DataFrame(data = principalComponents, columns=['cp1', 'cp2', 'cp3', 'cp4', 'cp5'])\r\n",
        "principalDf"
      ],
      "execution_count": null,
      "outputs": []
    },
    {
      "cell_type": "markdown",
      "metadata": {
        "id": "CXNjTu0dACuZ"
      },
      "source": [
        "PCA에서 대체 몇개의 주성분을 골라야 하는가?\r\n",
        "주성분 각각의 고윳값을, 고윳값들을 모두 더한 값으로 나눠 주고 더해본다."
      ]
    },
    {
      "cell_type": "code",
      "metadata": {
        "colab": {
          "base_uri": "https://localhost:8080/"
        },
        "id": "_0V8EB1qAT7e",
        "outputId": "1a08ecb4-68e7-474a-ecda-d3cc524c196a"
      },
      "source": [
        "sum(pca.explained_variance_ratio_)"
      ],
      "execution_count": 14,
      "outputs": [
        {
          "output_type": "execute_result",
          "data": {
            "text/plain": [
              "0.829615861448753"
            ]
          },
          "metadata": {
            "tags": []
          },
          "execution_count": 14
        }
      ]
    },
    {
      "cell_type": "markdown",
      "metadata": {
        "id": "1RFpnayPAhtr"
      },
      "source": [
        "주성분 5개로 전체 분산의 82%를 설명하게 된다.\r\n",
        "\r\n",
        "이제 2개의 주성분을 기반으로 한 모델을 다시 만들고, 이를 기반으로 시각화를 해볼것이다.\r\n",
        "\r\n",
        "이에는 Iris 데이터를 활용할려고 한다."
      ]
    },
    {
      "cell_type": "code",
      "metadata": {
        "colab": {
          "base_uri": "https://localhost:8080/",
          "height": 402
        },
        "id": "nEy6yXd2FowZ",
        "outputId": "93a2d884-0b49-4953-fe65-329130932aef"
      },
      "source": [
        "from sklearn.datasets import load_iris\r\n",
        "\r\n",
        "iris = load_iris()\r\n",
        "\r\n",
        "data = pd.DataFrame(iris.data, columns=iris.feature_names)\r\n",
        "data"
      ],
      "execution_count": 25,
      "outputs": [
        {
          "output_type": "execute_result",
          "data": {
            "text/html": [
              "<div>\n",
              "<style scoped>\n",
              "    .dataframe tbody tr th:only-of-type {\n",
              "        vertical-align: middle;\n",
              "    }\n",
              "\n",
              "    .dataframe tbody tr th {\n",
              "        vertical-align: top;\n",
              "    }\n",
              "\n",
              "    .dataframe thead th {\n",
              "        text-align: right;\n",
              "    }\n",
              "</style>\n",
              "<table border=\"1\" class=\"dataframe\">\n",
              "  <thead>\n",
              "    <tr style=\"text-align: right;\">\n",
              "      <th></th>\n",
              "      <th>sepal length (cm)</th>\n",
              "      <th>sepal width (cm)</th>\n",
              "      <th>petal length (cm)</th>\n",
              "      <th>petal width (cm)</th>\n",
              "    </tr>\n",
              "  </thead>\n",
              "  <tbody>\n",
              "    <tr>\n",
              "      <th>0</th>\n",
              "      <td>5.1</td>\n",
              "      <td>3.5</td>\n",
              "      <td>1.4</td>\n",
              "      <td>0.2</td>\n",
              "    </tr>\n",
              "    <tr>\n",
              "      <th>1</th>\n",
              "      <td>4.9</td>\n",
              "      <td>3.0</td>\n",
              "      <td>1.4</td>\n",
              "      <td>0.2</td>\n",
              "    </tr>\n",
              "    <tr>\n",
              "      <th>2</th>\n",
              "      <td>4.7</td>\n",
              "      <td>3.2</td>\n",
              "      <td>1.3</td>\n",
              "      <td>0.2</td>\n",
              "    </tr>\n",
              "    <tr>\n",
              "      <th>3</th>\n",
              "      <td>4.6</td>\n",
              "      <td>3.1</td>\n",
              "      <td>1.5</td>\n",
              "      <td>0.2</td>\n",
              "    </tr>\n",
              "    <tr>\n",
              "      <th>4</th>\n",
              "      <td>5.0</td>\n",
              "      <td>3.6</td>\n",
              "      <td>1.4</td>\n",
              "      <td>0.2</td>\n",
              "    </tr>\n",
              "    <tr>\n",
              "      <th>...</th>\n",
              "      <td>...</td>\n",
              "      <td>...</td>\n",
              "      <td>...</td>\n",
              "      <td>...</td>\n",
              "    </tr>\n",
              "    <tr>\n",
              "      <th>145</th>\n",
              "      <td>6.7</td>\n",
              "      <td>3.0</td>\n",
              "      <td>5.2</td>\n",
              "      <td>2.3</td>\n",
              "    </tr>\n",
              "    <tr>\n",
              "      <th>146</th>\n",
              "      <td>6.3</td>\n",
              "      <td>2.5</td>\n",
              "      <td>5.0</td>\n",
              "      <td>1.9</td>\n",
              "    </tr>\n",
              "    <tr>\n",
              "      <th>147</th>\n",
              "      <td>6.5</td>\n",
              "      <td>3.0</td>\n",
              "      <td>5.2</td>\n",
              "      <td>2.0</td>\n",
              "    </tr>\n",
              "    <tr>\n",
              "      <th>148</th>\n",
              "      <td>6.2</td>\n",
              "      <td>3.4</td>\n",
              "      <td>5.4</td>\n",
              "      <td>2.3</td>\n",
              "    </tr>\n",
              "    <tr>\n",
              "      <th>149</th>\n",
              "      <td>5.9</td>\n",
              "      <td>3.0</td>\n",
              "      <td>5.1</td>\n",
              "      <td>1.8</td>\n",
              "    </tr>\n",
              "  </tbody>\n",
              "</table>\n",
              "<p>150 rows × 4 columns</p>\n",
              "</div>"
            ],
            "text/plain": [
              "     sepal length (cm)  sepal width (cm)  petal length (cm)  petal width (cm)\n",
              "0                  5.1               3.5                1.4               0.2\n",
              "1                  4.9               3.0                1.4               0.2\n",
              "2                  4.7               3.2                1.3               0.2\n",
              "3                  4.6               3.1                1.5               0.2\n",
              "4                  5.0               3.6                1.4               0.2\n",
              "..                 ...               ...                ...               ...\n",
              "145                6.7               3.0                5.2               2.3\n",
              "146                6.3               2.5                5.0               1.9\n",
              "147                6.5               3.0                5.2               2.0\n",
              "148                6.2               3.4                5.4               2.3\n",
              "149                5.9               3.0                5.1               1.8\n",
              "\n",
              "[150 rows x 4 columns]"
            ]
          },
          "metadata": {
            "tags": []
          },
          "execution_count": 25
        }
      ]
    },
    {
      "cell_type": "code",
      "metadata": {
        "id": "Qwht7U0MFu59"
      },
      "source": [
        "# 데이터 적용 전 standardSclaer 적용.\r\n",
        "scaler = StandardScaler()\r\n",
        "result = scaler.fit_transform(data)\r\n",
        "scaled_data = pd.DataFrame(result, columns=iris.feature_names)"
      ],
      "execution_count": 26,
      "outputs": []
    },
    {
      "cell_type": "code",
      "metadata": {
        "colab": {
          "base_uri": "https://localhost:8080/",
          "height": 402
        },
        "id": "hNayo40iDgi8",
        "outputId": "1b8b97d9-248f-4a53-a9fa-c272eeeed094"
      },
      "source": [
        "pca = PCA(n_components = 2)\r\n",
        "principalComponents = pca.fit_transform(scaled_data)\r\n",
        "result = pd.DataFrame(data = principalComponents, columns=['cp1', 'cp2'])\r\n",
        "result"
      ],
      "execution_count": 27,
      "outputs": [
        {
          "output_type": "execute_result",
          "data": {
            "text/html": [
              "<div>\n",
              "<style scoped>\n",
              "    .dataframe tbody tr th:only-of-type {\n",
              "        vertical-align: middle;\n",
              "    }\n",
              "\n",
              "    .dataframe tbody tr th {\n",
              "        vertical-align: top;\n",
              "    }\n",
              "\n",
              "    .dataframe thead th {\n",
              "        text-align: right;\n",
              "    }\n",
              "</style>\n",
              "<table border=\"1\" class=\"dataframe\">\n",
              "  <thead>\n",
              "    <tr style=\"text-align: right;\">\n",
              "      <th></th>\n",
              "      <th>cp1</th>\n",
              "      <th>cp2</th>\n",
              "    </tr>\n",
              "  </thead>\n",
              "  <tbody>\n",
              "    <tr>\n",
              "      <th>0</th>\n",
              "      <td>-2.264703</td>\n",
              "      <td>0.480027</td>\n",
              "    </tr>\n",
              "    <tr>\n",
              "      <th>1</th>\n",
              "      <td>-2.080961</td>\n",
              "      <td>-0.674134</td>\n",
              "    </tr>\n",
              "    <tr>\n",
              "      <th>2</th>\n",
              "      <td>-2.364229</td>\n",
              "      <td>-0.341908</td>\n",
              "    </tr>\n",
              "    <tr>\n",
              "      <th>3</th>\n",
              "      <td>-2.299384</td>\n",
              "      <td>-0.597395</td>\n",
              "    </tr>\n",
              "    <tr>\n",
              "      <th>4</th>\n",
              "      <td>-2.389842</td>\n",
              "      <td>0.646835</td>\n",
              "    </tr>\n",
              "    <tr>\n",
              "      <th>...</th>\n",
              "      <td>...</td>\n",
              "      <td>...</td>\n",
              "    </tr>\n",
              "    <tr>\n",
              "      <th>145</th>\n",
              "      <td>1.870503</td>\n",
              "      <td>0.386966</td>\n",
              "    </tr>\n",
              "    <tr>\n",
              "      <th>146</th>\n",
              "      <td>1.564580</td>\n",
              "      <td>-0.896687</td>\n",
              "    </tr>\n",
              "    <tr>\n",
              "      <th>147</th>\n",
              "      <td>1.521170</td>\n",
              "      <td>0.269069</td>\n",
              "    </tr>\n",
              "    <tr>\n",
              "      <th>148</th>\n",
              "      <td>1.372788</td>\n",
              "      <td>1.011254</td>\n",
              "    </tr>\n",
              "    <tr>\n",
              "      <th>149</th>\n",
              "      <td>0.960656</td>\n",
              "      <td>-0.024332</td>\n",
              "    </tr>\n",
              "  </tbody>\n",
              "</table>\n",
              "<p>150 rows × 2 columns</p>\n",
              "</div>"
            ],
            "text/plain": [
              "          cp1       cp2\n",
              "0   -2.264703  0.480027\n",
              "1   -2.080961 -0.674134\n",
              "2   -2.364229 -0.341908\n",
              "3   -2.299384 -0.597395\n",
              "4   -2.389842  0.646835\n",
              "..        ...       ...\n",
              "145  1.870503  0.386966\n",
              "146  1.564580 -0.896687\n",
              "147  1.521170  0.269069\n",
              "148  1.372788  1.011254\n",
              "149  0.960656 -0.024332\n",
              "\n",
              "[150 rows x 2 columns]"
            ]
          },
          "metadata": {
            "tags": []
          },
          "execution_count": 27
        }
      ]
    },
    {
      "cell_type": "code",
      "metadata": {
        "colab": {
          "base_uri": "https://localhost:8080/",
          "height": 402
        },
        "id": "C62gHGuvGK6d",
        "outputId": "b41a2f15-8a22-4176-fe1e-13188eb9e263"
      },
      "source": [
        "# 시각화를 위해서는 결과를 붙여야 한다.\r\n",
        "\r\n",
        "target = pd.DataFrame(iris.target, columns=['type'])\r\n",
        "target['type'] = target['type'].apply(lambda x: iris.target_names[x])\r\n",
        "merged = pd.concat([result, target], axis=1)\r\n",
        "merged"
      ],
      "execution_count": 29,
      "outputs": [
        {
          "output_type": "execute_result",
          "data": {
            "text/html": [
              "<div>\n",
              "<style scoped>\n",
              "    .dataframe tbody tr th:only-of-type {\n",
              "        vertical-align: middle;\n",
              "    }\n",
              "\n",
              "    .dataframe tbody tr th {\n",
              "        vertical-align: top;\n",
              "    }\n",
              "\n",
              "    .dataframe thead th {\n",
              "        text-align: right;\n",
              "    }\n",
              "</style>\n",
              "<table border=\"1\" class=\"dataframe\">\n",
              "  <thead>\n",
              "    <tr style=\"text-align: right;\">\n",
              "      <th></th>\n",
              "      <th>cp1</th>\n",
              "      <th>cp2</th>\n",
              "      <th>type</th>\n",
              "    </tr>\n",
              "  </thead>\n",
              "  <tbody>\n",
              "    <tr>\n",
              "      <th>0</th>\n",
              "      <td>-2.264703</td>\n",
              "      <td>0.480027</td>\n",
              "      <td>setosa</td>\n",
              "    </tr>\n",
              "    <tr>\n",
              "      <th>1</th>\n",
              "      <td>-2.080961</td>\n",
              "      <td>-0.674134</td>\n",
              "      <td>setosa</td>\n",
              "    </tr>\n",
              "    <tr>\n",
              "      <th>2</th>\n",
              "      <td>-2.364229</td>\n",
              "      <td>-0.341908</td>\n",
              "      <td>setosa</td>\n",
              "    </tr>\n",
              "    <tr>\n",
              "      <th>3</th>\n",
              "      <td>-2.299384</td>\n",
              "      <td>-0.597395</td>\n",
              "      <td>setosa</td>\n",
              "    </tr>\n",
              "    <tr>\n",
              "      <th>4</th>\n",
              "      <td>-2.389842</td>\n",
              "      <td>0.646835</td>\n",
              "      <td>setosa</td>\n",
              "    </tr>\n",
              "    <tr>\n",
              "      <th>...</th>\n",
              "      <td>...</td>\n",
              "      <td>...</td>\n",
              "      <td>...</td>\n",
              "    </tr>\n",
              "    <tr>\n",
              "      <th>145</th>\n",
              "      <td>1.870503</td>\n",
              "      <td>0.386966</td>\n",
              "      <td>virginica</td>\n",
              "    </tr>\n",
              "    <tr>\n",
              "      <th>146</th>\n",
              "      <td>1.564580</td>\n",
              "      <td>-0.896687</td>\n",
              "      <td>virginica</td>\n",
              "    </tr>\n",
              "    <tr>\n",
              "      <th>147</th>\n",
              "      <td>1.521170</td>\n",
              "      <td>0.269069</td>\n",
              "      <td>virginica</td>\n",
              "    </tr>\n",
              "    <tr>\n",
              "      <th>148</th>\n",
              "      <td>1.372788</td>\n",
              "      <td>1.011254</td>\n",
              "      <td>virginica</td>\n",
              "    </tr>\n",
              "    <tr>\n",
              "      <th>149</th>\n",
              "      <td>0.960656</td>\n",
              "      <td>-0.024332</td>\n",
              "      <td>virginica</td>\n",
              "    </tr>\n",
              "  </tbody>\n",
              "</table>\n",
              "<p>150 rows × 3 columns</p>\n",
              "</div>"
            ],
            "text/plain": [
              "          cp1       cp2       type\n",
              "0   -2.264703  0.480027     setosa\n",
              "1   -2.080961 -0.674134     setosa\n",
              "2   -2.364229 -0.341908     setosa\n",
              "3   -2.299384 -0.597395     setosa\n",
              "4   -2.389842  0.646835     setosa\n",
              "..        ...       ...        ...\n",
              "145  1.870503  0.386966  virginica\n",
              "146  1.564580 -0.896687  virginica\n",
              "147  1.521170  0.269069  virginica\n",
              "148  1.372788  1.011254  virginica\n",
              "149  0.960656 -0.024332  virginica\n",
              "\n",
              "[150 rows x 3 columns]"
            ]
          },
          "metadata": {
            "tags": []
          },
          "execution_count": 29
        }
      ]
    },
    {
      "cell_type": "code",
      "metadata": {
        "colab": {
          "base_uri": "https://localhost:8080/",
          "height": 820
        },
        "id": "UvDruWVLA0m2",
        "outputId": "cea28ae5-1bf5-4ecf-83b3-6b51a34d014b"
      },
      "source": [
        "import matplotlib.pyplot as plt\r\n",
        "import seaborn as sns\r\n",
        "\r\n",
        "plt.figure(figsize=(18,18))\r\n",
        "\r\n",
        "sns.scatterplot(merged['cp1'], merged['cp2'],\r\n",
        "                hue=merged['type'],\r\n",
        "                s=150)\r\n",
        "plt.title('iris')\r\n",
        "plt.show()"
      ],
      "execution_count": 31,
      "outputs": [
        {
          "output_type": "stream",
          "text": [
            "/usr/local/lib/python3.6/dist-packages/seaborn/_decorators.py:43: FutureWarning: Pass the following variables as keyword args: x, y. From version 0.12, the only valid positional argument will be `data`, and passing other arguments without an explicit keyword will result in an error or misinterpretation.\n",
            "  FutureWarning\n"
          ],
          "name": "stderr"
        },
        {
          "output_type": "display_data",
          "data": {
            "image/png": "[encoded data removed]",
            "text/plain": [
              "<Figure size 1296x1296 with 1 Axes>"
            ]
          },
          "metadata": {
            "tags": [],
            "needs_background": "light"
          }
        }
      ]
    },
    {
      "cell_type": "code",
      "metadata": {
        "id": "Dt2_ozcAG2k5"
      },
      "source": [
        "4개의 변수가 있는 iris임에도 불구하고 2차원 공간으로 잘 축소에 성공했다!"
      ],
      "execution_count": null,
      "outputs": []
    }
  ]
}