{
 "cells": [
  {
   "cell_type": "markdown",
   "id": "b81699a4",
   "metadata": {},
   "source": [
    "# Isolation Forest / One Class SVM  Example"
   ]
  },
  {
   "cell_type": "markdown",
   "id": "ed17554b",
   "metadata": {},
   "source": [
    "## Isolation Forest"
   ]
  },
  {
   "cell_type": "code",
   "execution_count": 4,
   "id": "64402570",
   "metadata": {},
   "outputs": [],
   "source": [
    "# simple_example\n",
    "import numpy as np\n",
    "import pandas as pd\n",
    "from sklearn.ensemble import IsolationForest"
   ]
  },
  {
   "cell_type": "markdown",
   "id": "e0813b10",
   "metadata": {},
   "source": [
    "isolation forest의 가장 중요한 점은 contamination 비율 또한 지정가능하다.  \n",
    "몇몇 대표적인 parameter에 대해 정리해보면 다음과 같다.  \n",
    "- n_estimators = 나무의 개수, 디폴트 100개\n",
    "- max_samples = 나무별로 몇개의 데이터를 샘플링할 것인가? 디폴트는 전체 개수와 256개중 적은 것.\n",
    "- contamination = 이상치의 비율 지정 가능\n",
    "- max_features = 각 나무 훈련시의 feature 개수"
   ]
  },
  {
   "cell_type": "code",
   "execution_count": 7,
   "id": "524cc780",
   "metadata": {},
   "outputs": [
    {
     "data": {
      "text/plain": [
       "array([ 1,  1, -1, -1,  1,  1,  1,  1, -1, -1,  1,  1,  1, -1,  1])"
      ]
     },
     "execution_count": 7,
     "metadata": {},
     "output_type": "execute_result"
    }
   ],
   "source": [
    "# example_1 simple one\n",
    "# 15 numbers,  5 numbers strange.\n",
    "X = [[-1.1], [0.3], [-7.5], [24], [1.6], \n",
    "     [1.3], [0.7], [-2.4], [-9.3], [8.5], \n",
    "     [2.0], [-2.1], [1.5], [6.7], [-0.5]]\n",
    "out_clf = IsolationForest(random_state = 42, \n",
    "                          n_estimators = 10, \n",
    "                          max_samples = 10)\n",
    "out_clf.fit(X)\n",
    "out_clf.predict(X)\n",
    "# -7.5, 24, -9.3, 8.5, 6.7  total five numbers are anormal."
   ]
  },
  {
   "cell_type": "code",
   "execution_count": 10,
   "id": "ea9b455a",
   "metadata": {},
   "outputs": [
    {
     "data": {
      "text/plain": [
       "array([ 1,  1, -1, -1,  1,  1,  1,  1, -1,  1,  1,  1,  1,  1,  1])"
      ]
     },
     "execution_count": 10,
     "metadata": {},
     "output_type": "execute_result"
    }
   ],
   "source": [
    "# example_1-1  simple one_contanimation_limit\n",
    "# 15 numbers,  5 numbers strange.\n",
    "X = [[-1.1], [0.3], [-7.5], [24], [1.6], \n",
    "     [1.3], [0.7], [-2.4], [-9.3], [8.5], \n",
    "     [2.0], [-2.1], [1.5], [6.7], [-0.5]]\n",
    "out_clf = IsolationForest(random_state = 42, \n",
    "                          n_estimators = 10,\n",
    "                          contamination = 1/5,\n",
    "                          max_samples = 10)\n",
    "out_clf.fit(X)\n",
    "out_clf.predict(X)\n",
    "# -7.5, 24, -9.3 is detected."
   ]
  },
  {
   "cell_type": "markdown",
   "id": "af7c8302",
   "metadata": {},
   "source": [
    "## One class SVM"
   ]
  },
  {
   "cell_type": "markdown",
   "id": "43d433cc",
   "metadata": {},
   "source": [
    "SVM의 방법론이 적용되어 normal와 abnormal을 구분하게 된다.\n",
    "OCSVM의 경우는 data를 feature space로 mapping 이후, 분류 경계면을 통해 mapping된 data중 normal data가 원점으로부터 최대한 멀어지게 하는 것이 목적이다."
   ]
  },
  {
   "cell_type": "code",
   "execution_count": 18,
   "id": "a7b222ba",
   "metadata": {},
   "outputs": [
    {
     "data": {
      "text/plain": [
       "array([-1,  1,  1,  1,  1,  1, -1,  1, -1,  1,  1,  1,  1, -1, -1],\n",
       "      dtype=int64)"
      ]
     },
     "execution_count": 18,
     "metadata": {},
     "output_type": "execute_result"
    }
   ],
   "source": [
    "from sklearn.svm import OneClassSVM\n",
    "X = [[-1.1], [0.3], [-7.5], [24], [1.6], \n",
    "     [1.3], [0.7], [-2.4], [-9.3], [8.5], \n",
    "     [2.0], [-2.1], [1.5], [6.7], [-0.5]]\n",
    "out_clf = OneClassSVM(gamma = 'auto')\n",
    "out_clf.fit(X)\n",
    "out_clf.predict(X)"
   ]
  },
  {
   "cell_type": "markdown",
   "id": "0bec956b",
   "metadata": {},
   "source": [
    "앞과 다른 값들을 뱉었음을 알 수 있다.\n",
    "원점과의 거리를 멀어지게 하는 최적의 조합을 찾다보니, 예상과는 다른 data에 속해진다."
   ]
  },
  {
   "cell_type": "code",
   "execution_count": null,
   "id": "2cc3a70a",
   "metadata": {},
   "outputs": [],
   "source": []
  }
 ],
 "metadata": {
  "kernelspec": {
   "display_name": "Python 3",
   "language": "python",
   "name": "python3"
  },
  "language_info": {
   "codemirror_mode": {
    "name": "ipython",
    "version": 3
   },
   "file_extension": ".py",
   "mimetype": "text/x-python",
   "name": "python",
   "nbconvert_exporter": "python",
   "pygments_lexer": "ipython3",
   "version": "3.8.8"
  }
 },
 "nbformat": 4,
 "nbformat_minor": 5
}
